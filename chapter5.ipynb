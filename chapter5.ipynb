{
 "cells": [
  {
   "cell_type": "markdown",
   "metadata": {},
   "source": [
    "# Chapter 5"
   ]
  },
  {
   "cell_type": "markdown",
   "metadata": {},
   "source": [
    "## Counterfactual Quantities\n",
    "\n",
    "## Theorem 5.2.1 -- Structural Basis Expansion of Counterfactuals\n",
    "Consider an SCM $M^*$ and a counterfactual distribution computed from it,\n",
    "$$P[Y_C|E]$$\n",
    "where E is the factual evidence, C is the counterfactual condition, and Y is the outcome variable.\n",
    "\n",
    "We can write the structural basis expansion:\n",
    "$$\\sum_u 1[Y_C (u) = y]P(u|E=e)$$\n",
    "\n",
    "\n",
    "\n",
    "We can understand this through a three-step counterfactual evaluation:\n",
    "\n",
    "1. **Abduction.** Based on the factual evidence E = e, the posterior distribution over th eunits can be computed to better explain the evidence, namely, $P(U|E=e)$.\n",
    "   \n",
    "2. **Intervention.** Based on the counterfactual condition, C = c, the corresponding sub-model, $F_{C=c}$ can be generated.\n",
    "   \n",
    "3. **Evaluation.** With a new probability distribution over the exogenous (from step 1) and a new collection of mechanisms (from step 2), both over the same set of endogenous and exogenous variables, a new SCM is induced, namely:\n",
    "$$M' = (U, V, F_{C=c},P(U|E))$$"
   ]
  },
  {
   "cell_type": "code",
   "execution_count": 1,
   "metadata": {},
   "outputs": [],
   "source": [
    "from scm import SymbolicSCM\n",
    "import sympy as sp"
   ]
  },
  {
   "cell_type": "markdown",
   "metadata": {},
   "source": [
    "## Effect of the Treatment on the Treated (ETT)\n",
    "\n",
    "The ETT mixes the natural and the counterfactual words, or variations in layers 1 and 2, and is written as follows:\n",
    "\n",
    "$$P(Y_{X=x}|X=x')$$\n",
    "\n",
    "We can write the structural basis expansion:\n",
    "\n",
    "$$\\sum_u 1[Y_{X=x}(u)=y]P(U|X=x')$$"
   ]
  },
  {
   "cell_type": "markdown",
   "metadata": {},
   "source": [
    "### Example 5.3 -- Job Re-training Program\n",
    "\n",
    "The government is considering funding a new re-training program to get unemployed citizens back into the workforce by acquiring new skills to build AI systems. The structural model describing this population is given below:"
   ]
  },
  {
   "cell_type": "code",
   "execution_count": 2,
   "metadata": {},
   "outputs": [],
   "source": [
    "x, y, u = sp.symbols('x y u')\n",
    "\n",
    "scm_5_3 = SymbolicSCM(\n",
    "    f = {\n",
    "        x: sp.Piecewise((0, u < 2), (1, True)),\n",
    "        y: sp.Piecewise((x, sp.Eq(u,0) | sp.Eq(u,2)), (1 - x, sp.Eq(u,1) | sp.Eq(u,3)), (1, True))\n",
    "    },\n",
    "    \n",
    "    pu ={\n",
    "        u: [9/40,7/40,1/5,1/5,1/5]\n",
    "    }\n",
    ")"
   ]
  },
  {
   "cell_type": "markdown",
   "metadata": {},
   "source": [
    "The variable X represents whether the person enrolled in the program, and Y whether the person was able to find a new job one year after graduating.\n",
    "\n",
    "Evidence shows that the program is effective:"
   ]
  },
  {
   "cell_type": "code",
   "execution_count": 3,
   "metadata": {},
   "outputs": [],
   "source": [
    "y_x1 = scm_5_3.do({x:1}).v['y']\n",
    "\n",
    "y_x0 = scm_5_3.do({x:0}).v.y"
   ]
  },
  {
   "cell_type": "code",
   "execution_count": 4,
   "metadata": {},
   "outputs": [
    {
     "data": {
      "text/plain": [
       "True"
      ]
     },
     "execution_count": 4,
     "metadata": {},
     "output_type": "execute_result"
    }
   ],
   "source": [
    "scm_5_3.query({y_x1:1}) - scm_5_3.query({y_x0:1}) > 0"
   ]
  },
  {
   "cell_type": "markdown",
   "metadata": {},
   "source": [
    "Hiring rate among the program participants turns out to be even higher than in the original pilot study, formally:"
   ]
  },
  {
   "cell_type": "code",
   "execution_count": 5,
   "metadata": {},
   "outputs": [
    {
     "data": {
      "text/plain": [
       "True"
      ]
     },
     "execution_count": 5,
     "metadata": {},
     "output_type": "execute_result"
    }
   ],
   "source": [
    "scm_5_3.query({y:1},given={x:1}) - scm_5_3.query({y_x1:1}) > 0"
   ]
  },
  {
   "cell_type": "markdown",
   "metadata": {},
   "source": [
    "Yet, those who self-enroll, critics say, are more resourceful, more intelligent, and socially more\n",
    "connected than the eligible who did not enroll and are more likely to have found a job regardless\n",
    "of whether receiving or not the training.\n",
    "\n",
    "Mathematically, the data scientist suggests we need to estimate the program’s differential ben-\n",
    "efit on those who enrolled. To what extent does the hiring rate increase among those who enroll,\n",
    "compared to what it would have been had they not been trained, which is written as the following\n",
    "ETT contrast:"
   ]
  },
  {
   "cell_type": "code",
   "execution_count": 6,
   "metadata": {},
   "outputs": [
    {
     "data": {
      "text/plain": [
       "False"
      ]
     },
     "execution_count": 6,
     "metadata": {},
     "output_type": "execute_result"
    }
   ],
   "source": [
    "scm_5_3.query({y_x1:1},given={x:1}) - scm_5_3.query({y_x0:1},given={x:1}) > 0"
   ]
  },
  {
   "cell_type": "markdown",
   "metadata": {},
   "source": [
    "In other words, this contrast compares two different counterfactual worlds for units that would naturally join the training program, $X = 1$.\n",
    "\n",
    "It relates to the difference in their employability (outcome $Y$) had they enroll ($do(X = 1)$) versus\n",
    "not enroll ($do(X = 0)$) into the program, or $Y_{X=1}$ versus $Y_{X=0}$."
   ]
  },
  {
   "cell_type": "markdown",
   "metadata": {},
   "source": [
    "## Probabilities of Necessity & Sufficiency\n",
    "\n",
    "We now consider a pair of quantities known as the probability of necessity (PN) and the probability\n",
    "of sufficiency (PS), which are written as:\n",
    "\n",
    "$$PS(X;Y) = P(Y_{X=1}=1|X=0,Y=0)$$\n",
    "$$PN(X;Y) = P(Y_{X=0}|X=1,Y=1)$$\n",
    "\n",
    "PS encodes how much the presence of X is sufficient to make Y = 1.\n",
    "\n",
    "PN encodes how much the presence of X was necessary to make Y = 1.\n",
    "\\\n",
    "\\\n",
    "\\\n",
    "We can define this more generally as:\n",
    "$$PN/PS_{(x,y),(x',y')}(X;Y) = P(Y_{X=x} | X=x', Y=y')$$\n",
    "\n",
    "Through structural basis decomposition, we obtain:\n",
    "$$\\sum_u 1[Y_{X=x}(u)=y]P(u|X=x',Y=y')$$"
   ]
  },
  {
   "cell_type": "markdown",
   "metadata": {},
   "source": [
    "### Example 5.5 -- Medical Decisions"
   ]
  },
  {
   "cell_type": "markdown",
   "metadata": {},
   "source": [
    "Consider an example that appears in the context of medical decision-making:"
   ]
  },
  {
   "cell_type": "code",
   "execution_count": 7,
   "metadata": {},
   "outputs": [],
   "source": [
    "x, y, z, ur, ux, uy, uz = sp.symbols('x y z ur ux uy uz')\n",
    "\n",
    "scm_5_5 = SymbolicSCM(\n",
    "    f = {\n",
    "        z: ur & uz,\n",
    "        x: ~(z ^ ux),\n",
    "        y: (x & ur) | (~x & ur & uy) | (~x & ~ur & ~uy)\n",
    "    },\n",
    "    pu = {\n",
    "        ur: .25,\n",
    "        uz: .95,\n",
    "        ux: .9,\n",
    "        uy: .7\n",
    "    }\n",
    ")\n",
    "        "
   ]
  },
  {
   "cell_type": "markdown",
   "metadata": {},
   "source": [
    "where $X$ represents a drug, $Y$ the outcome of survival, and $Z$ the presence or not of a symptom (hypertension). $U_r$ represents whether a person has a specific natural resistance to the disease, and $U_x, U_y, U_z$ are sources of variations outside the model affecting $X, Y, Z$, respectively."
   ]
  },
  {
   "cell_type": "code",
   "execution_count": 8,
   "metadata": {},
   "outputs": [],
   "source": [
    "scm_5_5_do_x0 = scm_5_5.do({x:0})\n",
    "\n",
    "scm_5_5_do_x1 = scm_5_5.do({x:1})"
   ]
  },
  {
   "cell_type": "code",
   "execution_count": 9,
   "metadata": {},
   "outputs": [],
   "source": [
    "df = scm_5_5.get_probability_table(include_u=True)\n",
    "df_x0 = scm_5_5_do_x0.get_probability_table(symbols={y},include_u=True).iloc[:,-2]\n",
    "df_x1 = scm_5_5_do_x1.get_probability_table(symbols={y},include_u=True).iloc[:,-2]\n",
    "df.insert(len(df.columns) - 1,df_x0.name,df_x0)\n",
    "df.insert(len(df.columns) - 1,df_x1.name,df_x1)\n",
    "\n",
    "table_5_5 = df"
   ]
  },
  {
   "cell_type": "code",
   "execution_count": 10,
   "metadata": {},
   "outputs": [
    {
     "data": {
      "text/plain": [
       "True"
      ]
     },
     "execution_count": 10,
     "metadata": {},
     "output_type": "execute_result"
    }
   ],
   "source": [
    "scm_5_5.query({y:1},given={x:1}) - scm_5_5.query({y:1},given={x:0}) > 0"
   ]
  },
  {
   "cell_type": "markdown",
   "metadata": {},
   "source": [
    "One may seem to conclude that because the probability of survival ($Y=1$) given that one took the drug ($X=1$) is higher than without ($X=0$), that the drug has a positive effect. At this point though, our readers know better, so we look at the causal effect of the drug:"
   ]
  },
  {
   "cell_type": "code",
   "execution_count": 11,
   "metadata": {},
   "outputs": [
    {
     "data": {
      "text/plain": [
       "False"
      ]
     },
     "execution_count": 11,
     "metadata": {},
     "output_type": "execute_result"
    }
   ],
   "source": [
    "y_x1 = scm_5_5_do_x1.v.y\n",
    "y_x0 = scm_5_5_do_x0.v.y\n",
    "\n",
    "scm_5_5.query({y_x1:1}) - scm_5_5.query({y_x0:1}) > 0"
   ]
  },
  {
   "cell_type": "markdown",
   "metadata": {},
   "source": [
    "Thus, interventionally speaking, the drug has a negative (average) effect in the population.\n",
    "\n",
    "Since there is a group of patients who did not receive the treatment and died ($X=0, Y=0$), one may wonder whether these patients would have been alive ($Y=1$) had they been given the treatment ($X=1$). This corresponds to the probability of sufficiency:"
   ]
  },
  {
   "cell_type": "code",
   "execution_count": 12,
   "metadata": {},
   "outputs": [
    {
     "data": {
      "text/plain": [
       "0.021739130434782622"
      ]
     },
     "execution_count": 12,
     "metadata": {},
     "output_type": "execute_result"
    }
   ],
   "source": [
    "scm_5_5.query({y_x1:1},given={x:0,y:0})"
   ]
  },
  {
   "cell_type": "markdown",
   "metadata": {},
   "source": [
    "The conclusion from this analysis is clear: even if everyone who did not survive were treated, only\n",
    "around 2% would have survived. In other words, the drug would not have prevented their death.\n",
    "\n",
    "Another aspect of this situation worth examining is whether the treatment would have been\n",
    "harmful to those who did not get it and still survived:"
   ]
  },
  {
   "cell_type": "code",
   "execution_count": 13,
   "metadata": {},
   "outputs": [
    {
     "data": {
      "text/plain": [
       "0.10792951541850222"
      ]
     },
     "execution_count": 13,
     "metadata": {},
     "output_type": "execute_result"
    }
   ],
   "source": [
    "scm_5_5.query({y_x1:1},given={x:0,y:1})"
   ]
  },
  {
   "cell_type": "markdown",
   "metadata": {},
   "source": [
    "Which means about 90% of such people would have died had they been given the treatment."
   ]
  },
  {
   "cell_type": "markdown",
   "metadata": {},
   "source": [
    "## Probabilities of Causation (Probabilities of Neccessity and Sufficiency)\n",
    "\n",
    "Note that the units passed through only one interventional world $F_{X=x}$ when discussing PN and PS individually, while the units go through two interventional worlds in the context of PNS. More specifically, PNS is written as:\n",
    "$$PNS_{(x,x'),(y,y')}(X;Y) = P(Y_{X=x}=y,Y_{X=x'}=y')$$\n",
    "PNS is the probability that Y would response to X in both ways, that is, for Y to get value y under some intervention *do*(X=x) while at the same time taking value y' under another intervention *do*(X=x'). Therefore, it measures botht he necessity and suffiency of X to produce Y.\n",
    "\n",
    "\n",
    "Applying the structural basis decompsition, we obtain:\n",
    "$$\\sum_u 1[Y_{X=x}(u) = y, Y_{X=x'}(u) = y']P(u)"
   ]
  },
  {
   "cell_type": "markdown",
   "metadata": {},
   "source": [
    "### Example 5.6 -- Medical Decision (revisited)"
   ]
  },
  {
   "cell_type": "markdown",
   "metadata": {},
   "source": [
    "Recall the discussion from example 5.5 where we considered the effectiveness of a treatment in preventing death in patients suffering from a certain disease.\n",
    "\n",
    "In this context, the PNS measures how much the treatment can affect the survival of patients by them surviving when administered and them dying when not administered. We find:"
   ]
  },
  {
   "cell_type": "code",
   "execution_count": 14,
   "metadata": {},
   "outputs": [
    {
     "data": {
      "text/plain": [
       "0.075"
      ]
     },
     "execution_count": 14,
     "metadata": {},
     "output_type": "execute_result"
    }
   ],
   "source": [
    "scm_5_5.query({y_x1:1,y_x0:0})"
   ]
  },
  {
   "cell_type": "markdown",
   "metadata": {},
   "source": [
    "This means that only 7.5% of the population will survive because of the treatment. That is, this\n",
    "portion of the population will survive if and only if they receive the treatment. In other words, if a\n",
    "patient is chosen at random, there is a 7.5% chance that such a patient would die if he does not get\n",
    "treatment and survive if treated."
   ]
  },
  {
   "cell_type": "markdown",
   "metadata": {},
   "source": [
    "## Direct and Indirect Effects\n",
    "\n",
    "Distentangling effects into their direct and indirect components allow us to reason about *how* a system works by understanding more specific parts of how Y responds to induced variations on X."
   ]
  },
  {
   "attachments": {
    "image.png": {
     "image/png": "[encoded data removed]"
    }
   },
   "cell_type": "markdown",
   "metadata": {},
   "source": [
    "![image.png](attachment:image.png)\n",
    "\n",
    "Figure 5.8: Causal diagram with treatment X,\n",
    "outcome Y, and mediator W. The direct path\n",
    "is shown in blue, and the\n",
    "indirect one is shown in\n",
    "red."
   ]
  },
  {
   "cell_type": "markdown",
   "metadata": {},
   "source": [
    "We define two counterfactuals, the Natural Direct Effect (NDE) and the Natural Indirect Effect (NIE) that capture the notions of direct and indirect effects. Both quantities represent constrasts and are defined as follows:\n",
    "$$NDE_{x_0,x_1}(y) = P(y_{x_1,W_{x_0}}) - P(Y_{x_0})$$\n",
    "$$NIE{x_0,x_1}(y) = P(y_{x_0,W_{x_1}}) - P(Y_{x_0})$$\n",
    "\n",
    "For the NDE, the counterfactual $P(y_{x_1,W_{x_0}})$ refers to the outcome $Y$ under $X = x_1$ and $W = W_{x_0}$, the value that $W$ would attain had $X$ been $x_0$.\n",
    "\n",
    "For the NIE, the counterfactual $P(y_{x_0,W_{x_1}})$ refers to the outcome $Y$ under $X = x_0$ and $W = W_{x_1}$, the value that $W$ would attain had $X$ been $x_1$.\n",
    "\n",
    "$Y_{x_0}$ represents a baseline where $Y$ perceives $X$ as $x_0$ in all causal paths. It is equivalent to $Y_{x_0,W_{x_0}}$, a situation where $W$ gets the same $X=x_0$.\n",
    "\\\n",
    "\\\n",
    "\\\n",
    "The structural basis expansion can be written as follows:\n",
    "$$NDE_{x_0,x_1}(y) = \\sum_u 1[y_{x_1,W_{x_0}}(u)] - 1[Y_{x_0}(u)] P(u)$$\n",
    "$$NIE_{x_0,x_1}(y) = \\sum_u 1[y_{x_0,W_{x_1}}(u)] - 1[Y_{x_0}(u)] P(u)$$"
   ]
  },
  {
   "cell_type": "markdown",
   "metadata": {},
   "source": [
    "### Example 5.7 -- Exercise and Cholesterol"
   ]
  },
  {
   "cell_type": "markdown",
   "metadata": {},
   "source": [
    "Consider the following diagram:"
   ]
  },
  {
   "attachments": {
    "image.png": {
     "image/png": "[encoded data removed]"
    }
   },
   "cell_type": "markdown",
   "metadata": {},
   "source": [
    "![image.png](attachment:image.png)\n",
    "\n",
    "Suppose $X$ is the level of exercise (sufficient or insufficient), $W$ cholesterol levels (low or high), and $Y$ cardiovascular disease (present or not present).\n",
    "\n",
    "We define the SCM as follows:"
   ]
  },
  {
   "cell_type": "code",
   "execution_count": 15,
   "metadata": {},
   "outputs": [],
   "source": [
    "x, w, y, uwx, ux, uw, uy = sp.symbols('x w y uwx ux uw uy')\n",
    "\n",
    "scm_5_7 = SymbolicSCM(\n",
    "    f = {\n",
    "        x: ux | uwx,\n",
    "        w: (x & uwx) | (~x & uw),\n",
    "        y: (~x & w) | (w & uy) | ~w\n",
    "    },\n",
    "    pu = {\n",
    "        ux: .6,\n",
    "        uwx: .3,\n",
    "        uw: .5,\n",
    "        uy: .1,\n",
    "    }\n",
    ")"
   ]
  },
  {
   "cell_type": "markdown",
   "metadata": {},
   "source": [
    "An interesting question is how much exercise prevents the disease by means other than regulating cholesterol. This can be represented with the NDE. This query is identifiable and given by the expression:\n",
    "$$\\sum_w (P(y|x',w) - P(y|x,w))P(w|do(x))$$\n",
    "\n",
    "We can calculate this expression using this identification expression:"
   ]
  },
  {
   "cell_type": "code",
   "execution_count": 16,
   "metadata": {},
   "outputs": [
    {
     "data": {
      "text/plain": [
       "-0.44999999999999996"
      ]
     },
     "execution_count": 16,
     "metadata": {},
     "output_type": "execute_result"
    }
   ],
   "source": [
    "scm_5_7_do_x0 = scm_5_7.do({x:0})\n",
    "\n",
    "w_x0 = scm_5_7_do_x0.v.w\n",
    "\n",
    "prob = 0\n",
    "\n",
    "for w_val in range(2):\n",
    "    prob += (scm_5_7.query({y:1},given={x:1,w:w_val}) - scm_5_7.query({y:1},given={x:0,w:w_val})) * scm_5_7.query({w_x0:w_val})\n",
    "    \n",
    "prob"
   ]
  },
  {
   "cell_type": "markdown",
   "metadata": {},
   "source": [
    "Or by directly accessing the counterfactual words implied by the NDE:"
   ]
  },
  {
   "cell_type": "code",
   "execution_count": 17,
   "metadata": {},
   "outputs": [
    {
     "data": {
      "text/plain": [
       "-0.44999999999999996"
      ]
     },
     "execution_count": 17,
     "metadata": {},
     "output_type": "execute_result"
    }
   ],
   "source": [
    "y_x1_wx0 = scm_5_7.do({x:1,w:w_x0}).v.y\n",
    "\n",
    "y_x0 = scm_5_7_do_x0.v.y\n",
    "\n",
    "scm_5_7.query({y_x1_wx0:1}) - scm_5_7.query({y_x0:1})"
   ]
  },
  {
   "cell_type": "markdown",
   "metadata": {},
   "source": [
    "This means that the direct effect of exercise ($X=1$) is to lower the probability of cardiovascular disease ($Y=1$) by 45%."
   ]
  },
  {
   "cell_type": "markdown",
   "metadata": {},
   "source": [
    "Analogously, the NIE refers to the question of how much the benefits of exercising on cardiovascular disease are due to the regulation of cholesterol. From the causal graph, this is identifiable as:\n",
    "\n",
    "$$\\sum_w P(y|x,w)(P(w|do(x')) - P(w|do(x)))$$\n",
    "\n",
    "We can calculate this using the identification expression:"
   ]
  },
  {
   "cell_type": "code",
   "execution_count": 18,
   "metadata": {},
   "outputs": [
    {
     "data": {
      "text/plain": [
       "0.0"
      ]
     },
     "execution_count": 18,
     "metadata": {},
     "output_type": "execute_result"
    }
   ],
   "source": [
    "scm_5_7_do_x1 = scm_5_7.do({x:1})\n",
    "\n",
    "w_x1 = scm_5_7_do_x1.v.w\n",
    "\n",
    "prob = 0\n",
    "\n",
    "for w_val in range(2):\n",
    "    prob += scm_5_7.query({y:1},given={x:0,w:w_val}) * (scm_5_7.query({w_x1:w_val}) - scm_5_7.query({w_x0:w_val}))\n",
    "    \n",
    "prob"
   ]
  },
  {
   "cell_type": "markdown",
   "metadata": {},
   "source": [
    "As before, we can also directly access the counterfactual worlds:"
   ]
  },
  {
   "cell_type": "code",
   "execution_count": 19,
   "metadata": {},
   "outputs": [
    {
     "data": {
      "text/plain": [
       "0.0"
      ]
     },
     "execution_count": 19,
     "metadata": {},
     "output_type": "execute_result"
    }
   ],
   "source": [
    "y_x0_wx1 = scm_5_7.do({x:0,w:w_x1}).v.y\n",
    "\n",
    "scm_5_7.query({y_x0_wx1:1}) - scm_5_7.query({y_x0:1})"
   ]
  },
  {
   "cell_type": "markdown",
   "metadata": {},
   "source": [
    "This means that the indirect effect of exercise on cardiovascular disease through the regulation of cholesterol does not alter the probability at all of cardiovascular disease at all."
   ]
  },
  {
   "cell_type": "markdown",
   "metadata": {},
   "source": [
    "## Path-Specific Effects\n",
    "\n",
    "The NDE selects the direct path $X \\rightarrow Y$ while the NIE selects all causal paths between X and Y but the direct one. Generally, counterfactuals can be used to reason about effects carried by a selected subset of edges, called *path-specific* events."
   ]
  },
  {
   "cell_type": "markdown",
   "metadata": {},
   "source": [
    "### Example 5.8 -- Education Cost on Debt"
   ]
  },
  {
   "attachments": {
    "image.png": {
     "image/png": "[encoded data removed]"
    }
   },
   "cell_type": "markdown",
   "metadata": {},
   "source": [
    "Consider the following causal diagram:\n",
    "\n",
    "![image.png](attachment:image.png)\n",
    "\n",
    "where $X$ represents choice of career (positive or negative), $W_1$ represents institution where one receives education (sufficient or insufficient), $W_2$ is the job attained after graduation (sufficient or insufficient), and $Y$ a person's debt (low or high).\n",
    "\n",
    "The SCM is defined as follows:"
   ]
  },
  {
   "cell_type": "code",
   "execution_count": 20,
   "metadata": {},
   "outputs": [],
   "source": [
    "x, w1, w2, y, ux, uw1, uw2, uy = sp.symbols('x w1 w2 y ux uw1 uw2 uy')\n",
    "\n",
    "scm_5_8 = SymbolicSCM(\n",
    "    f = {\n",
    "        x: ux,\n",
    "        w1: uw1,\n",
    "        w2: uw2,\n",
    "        y: (x & ~w1 & ~w2) | (~x & w1 & ~w2) | (~x & ~w1 & w2) | ~x\n",
    "    },\n",
    "    pu = {\n",
    "        ux: .5,\n",
    "        uw1: .3,\n",
    "        uw2: .7,\n",
    "        uy: .1\n",
    "    }\n",
    ")"
   ]
  },
  {
   "cell_type": "markdown",
   "metadata": {},
   "source": [
    "Suppose the government is planning to lower people’s debt by partially paying off student loans. To do so, they want to assess the hypothetical situation where a\n",
    "person chooses their career, institution, and job, but the cost generated by attending the institution\n",
    "is set to the level of a low (or zero) cost program. In graphical terms, this is to assess the effect of\n",
    "the path $X \\rightarrow W_1 \\rightarrow Y$.\n",
    "\n",
    "This path-specific effect can be written as the following counterfactual:\n",
    "\n",
    "$$P(Y_{X,W_2,W_{1[x']}}) = P(Y_{W_{1[x']}})$$"
   ]
  },
  {
   "cell_type": "code",
   "execution_count": 21,
   "metadata": {},
   "outputs": [
    {
     "data": {
      "text/plain": [
       "0.6049999999999999"
      ]
     },
     "execution_count": 21,
     "metadata": {},
     "output_type": "execute_result"
    }
   ],
   "source": [
    "w_x1 = scm_5_8.do({x:1}).v.w1\n",
    "\n",
    "y_wx1 = scm_5_8.do({w1:w_x1}).v.y\n",
    "\n",
    "scm_5_8.query({y_wx1:1})"
   ]
  },
  {
   "cell_type": "markdown",
   "metadata": {},
   "source": [
    "This captures the path-specific event probability of low debt ($Y=1$) as controlled by sufficient education ($W=1$) having been intervened with a positive career choice ($do(X=1)$). Since $X$ and $W_2$ take on their natural values, they are not considered in the evaluation of the counterfactual world."
   ]
  }
 ],
 "metadata": {
  "kernelspec": {
   "display_name": "pyML",
   "language": "python",
   "name": "python3"
  },
  "language_info": {
   "codemirror_mode": {
    "name": "ipython",
    "version": 3
   },
   "file_extension": ".py",
   "mimetype": "text/x-python",
   "name": "python",
   "nbconvert_exporter": "python",
   "pygments_lexer": "ipython3",
   "version": "3.11.8"
  }
 },
 "nbformat": 4,
 "nbformat_minor": 2
}
