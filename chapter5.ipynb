{
 "cells": [
  {
   "cell_type": "markdown",
   "metadata": {},
   "source": [
    "# Sample Causal Model"
   ]
  },
  {
   "cell_type": "code",
   "execution_count": 21,
   "metadata": {},
   "outputs": [],
   "source": [
    "import scm\n",
    "import sympy as sp"
   ]
  },
  {
   "cell_type": "code",
   "execution_count": 36,
   "metadata": {},
   "outputs": [
    {
     "data": {
      "text/latex": [
       "$\\begin{cases}\\mathbf V &= \\{x,a,b,y\\} \\\\\\mathbf U &= \\{ux,ua,ub,uy\\} \\\\F &= \\begin{cases}x &= ux\\\\a &= ua \\veebar x\\\\b &= ub \\wedge x\\\\y &= uy \\vee \\left(x \\veebar \\left(a \\vee b\\right)\\right)\\end{cases} \\\\P(\\mathbf U) &= \\begin{cases}ux &\\sim \\mathrm{Bern}(0.5)\\\\ua &\\sim \\mathrm{Bern}(0.3)\\\\ub &\\sim \\mathrm{Bern}(0.7)\\\\uy &\\sim \\mathrm{Bern}(0.2)\\end{cases}\\end{cases}$"
      ],
      "text/plain": [
       "SCM([x, a, b, y], [ux, ua, ub, uy])"
      ]
     },
     "execution_count": 36,
     "metadata": {},
     "output_type": "execute_result"
    }
   ],
   "source": [
    "x, a, b, y, ux, ua, ub, uy = sp.symbols('x a b y ux ua ub uy')\n",
    "\n",
    "\n",
    "model = scm.SymbolicSCM(\n",
    "    f = {\n",
    "        x: ux,\n",
    "        a: ua ^ x,\n",
    "        b: ub & x,\n",
    "        y: x ^ (a | b) | uy\n",
    "    },\n",
    "    pu={\n",
    "        ux: 0.5,\n",
    "        ua: 0.3,\n",
    "        ub: 0.7,\n",
    "        uy: 0.2\n",
    "    }\n",
    ")\n",
    "\n",
    "model"
   ]
  },
  {
   "cell_type": "markdown",
   "metadata": {},
   "source": [
    "### Net Direct Effect"
   ]
  },
  {
   "cell_type": "code",
   "execution_count": 40,
   "metadata": {},
   "outputs": [
    {
     "data": {
      "text/plain": [
       "0.31999999999999984"
      ]
     },
     "execution_count": 40,
     "metadata": {},
     "output_type": "execute_result"
    }
   ],
   "source": [
    "a_x0, b_x0, y_x0 = model.do({x:0}).v[1:]\n",
    "\n",
    "y_ax0_bx0_x1 = model.do({x:1,a:a_x0,b:b_x0}).v.y\n",
    "\n",
    "model.query({y_ax0_bx0_x1:1}) - model.query({y_x0:1})"
   ]
  },
  {
   "cell_type": "markdown",
   "metadata": {},
   "source": [
    "### Net Indirect Effect"
   ]
  },
  {
   "cell_type": "code",
   "execution_count": 35,
   "metadata": {},
   "outputs": [
    {
     "data": {
      "text/plain": [
       "0.6559999999999999"
      ]
     },
     "execution_count": 35,
     "metadata": {},
     "output_type": "execute_result"
    }
   ],
   "source": [
    "a_x1, b_x1, y_x1 = model.do({x:1}).v[1:]\n",
    "\n",
    "y_ax1_bx1_x0 = model.do({x:0,a:a_x1,b:b_x1}).v.y\n",
    "\n",
    "model.query({y_ax1_bx1_x0:1}) - model.query({y_x1:1})"
   ]
  }
 ],
 "metadata": {
  "kernelspec": {
   "display_name": "pyML",
   "language": "python",
   "name": "python3"
  },
  "language_info": {
   "codemirror_mode": {
    "name": "ipython",
    "version": 3
   },
   "file_extension": ".py",
   "mimetype": "text/x-python",
   "name": "python",
   "nbconvert_exporter": "python",
   "pygments_lexer": "ipython3",
   "version": "3.11.8"
  }
 },
 "nbformat": 4,
 "nbformat_minor": 2
}
