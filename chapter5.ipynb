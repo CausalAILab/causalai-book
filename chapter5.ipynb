{
 "cells": [
  {
   "cell_type": "markdown",
   "metadata": {},
   "source": [
    "# Chapter 5"
   ]
  },
  {
   "cell_type": "code",
   "execution_count": 174,
   "metadata": {},
   "outputs": [],
   "source": [
    "\n",
    "from scm import SymbolicSCM\n",
    "import sympy as sp\n",
    "from query import Pr\n",
    "from IPython.display import Latex"
   ]
  },
  {
   "cell_type": "markdown",
   "metadata": {},
   "source": [
    "## Example 5.1 -- Hinton's Paradox\n",
    "\n",
    "Imagine the case of a patient who needs to decide between two styles of treatment: an AI physician, who is a black box\n",
    "and cannot explain itself, or a human physician, who is a medical doctor (MD) and can articulate\n",
    "clear explanations for their decisions. Let $X$ represent the treatment, where $X = 0$ encodes the\n",
    "MD, and $X = 1$ the AI system. Further, let $Y$ represent the patient’s health, where $Y = 0$ means\n",
    "that the patient has died, and $Y = 1$ means that the patient is still alive after one year of treatment.\n",
    "How should one choose between these two completely different styles of treatment?"
   ]
  },
  {
   "cell_type": "markdown",
   "metadata": {},
   "source": [
    "Unbeknownst to physicians and patients, the following SCM encodes the true causal mechanisms of how patients naturally decide their treatment and further respond to it formally:"
   ]
  },
  {
   "cell_type": "code",
   "execution_count": 175,
   "metadata": {},
   "outputs": [
    {
     "data": {
      "text/latex": [
       "$\\begin{cases}\\mathbf V &= \\{X,Y\\} \\\\\\mathbf U &= \\{U\\} \\\\F &= \\begin{cases}X &= \\begin{cases} 0 & \\text{for}\\: U < 4 \\\\1 & \\text{otherwise} \\end{cases}\\\\Y &= \\begin{cases} 0 & \\text{for}\\: U = 0 \\vee U = 4 \\\\X & \\text{for}\\: U = 1 \\vee U = 5 \\\\1 - X & \\text{for}\\: U = 2 \\vee U = 6 \\\\1 & \\text{otherwise} \\end{cases}\\end{cases} \\\\P(\\mathbf U) &= \\begin{cases}U &\\sim \\mathrm{Categorical}([0.025,0.025,0.0125,0.1875,0.00625,0.00625,0.06875,0.6687])\\end{cases}\\end{cases}$"
      ],
      "text/plain": [
       "SCM([X, Y], [U])"
      ]
     },
     "execution_count": 175,
     "metadata": {},
     "output_type": "execute_result"
    }
   ],
   "source": [
    "x, y, u = sp.symbols('X Y U')\n",
    "\n",
    "\n",
    "scm_5_1 = SymbolicSCM(\n",
    "    f={\n",
    "        x: sp.Piecewise(\n",
    "            (0, u < 4),\n",
    "            (1,True)\n",
    "        ),\n",
    "        y: sp.Piecewise(\n",
    "            (0, sp.Eq(u,0) | sp.Eq(u, 4)),\n",
    "            (x, sp.Eq(u,1) | sp.Eq(u,5)),\n",
    "            (1 - x, sp.Eq(u,2) | sp.Eq(u,6)),\n",
    "            (1, True)\n",
    "        )\n",
    "    },\n",
    "    pu = {\n",
    "        u: [1/40,1/40,1/80,3/16,1/160,1/160,11/160,107/160]\n",
    "    },\n",
    ")\n",
    "\n",
    "scm_5_1"
   ]
  },
  {
   "cell_type": "markdown",
   "metadata": {},
   "source": [
    "where $u = 0,1,...,7$. The endogenous variables $X$ and $Y$ are both binary and the exogenous variable $U$ is 8-dimensional, so as to represent the different types of preferences patients could have over treatments and how they respond to them."
   ]
  },
  {
   "cell_type": "markdown",
   "metadata": {},
   "source": [
    "From the perspective of the data analyst, who does not have access to $M^*$, one natural way of trying to answer the question of which treatment to recommend is to collect data on previous patients in the population who received these treatments and compute the statistics about the recovery rate for each treatment. This could be implemented with standard methods, including some of the most modern neural methods proposed by Hinton and collaborators.\n",
    "\n",
    "In the limit, this is equivalent to computing the observational distribution, as discussed in Section 2.2.1, and as shown in Table 5.1."
   ]
  },
  {
   "cell_type": "code",
   "execution_count": 176,
   "metadata": {},
   "outputs": [
    {
     "data": {
      "text/html": [
       "<div>\n",
       "<style scoped>\n",
       "    .dataframe tbody tr th:only-of-type {\n",
       "        vertical-align: middle;\n",
       "    }\n",
       "\n",
       "    .dataframe tbody tr th {\n",
       "        vertical-align: top;\n",
       "    }\n",
       "\n",
       "    .dataframe thead th {\n",
       "        text-align: right;\n",
       "    }\n",
       "</style>\n",
       "<table border=\"1\" class=\"dataframe\">\n",
       "  <thead>\n",
       "    <tr style=\"text-align: right;\">\n",
       "      <th></th>\n",
       "      <th>U</th>\n",
       "      <th>X</th>\n",
       "      <th>Y</th>\n",
       "      <th>probability</th>\n",
       "    </tr>\n",
       "  </thead>\n",
       "  <tbody>\n",
       "    <tr>\n",
       "      <th>0</th>\n",
       "      <td>0</td>\n",
       "      <td>0</td>\n",
       "      <td>0</td>\n",
       "      <td>0.02500</td>\n",
       "    </tr>\n",
       "    <tr>\n",
       "      <th>1</th>\n",
       "      <td>1</td>\n",
       "      <td>0</td>\n",
       "      <td>0</td>\n",
       "      <td>0.02500</td>\n",
       "    </tr>\n",
       "    <tr>\n",
       "      <th>2</th>\n",
       "      <td>2</td>\n",
       "      <td>0</td>\n",
       "      <td>1</td>\n",
       "      <td>0.01250</td>\n",
       "    </tr>\n",
       "    <tr>\n",
       "      <th>3</th>\n",
       "      <td>3</td>\n",
       "      <td>0</td>\n",
       "      <td>1</td>\n",
       "      <td>0.18750</td>\n",
       "    </tr>\n",
       "    <tr>\n",
       "      <th>4</th>\n",
       "      <td>4</td>\n",
       "      <td>1</td>\n",
       "      <td>0</td>\n",
       "      <td>0.00625</td>\n",
       "    </tr>\n",
       "    <tr>\n",
       "      <th>5</th>\n",
       "      <td>5</td>\n",
       "      <td>1</td>\n",
       "      <td>1</td>\n",
       "      <td>0.00625</td>\n",
       "    </tr>\n",
       "    <tr>\n",
       "      <th>6</th>\n",
       "      <td>6</td>\n",
       "      <td>1</td>\n",
       "      <td>0</td>\n",
       "      <td>0.06875</td>\n",
       "    </tr>\n",
       "    <tr>\n",
       "      <th>7</th>\n",
       "      <td>7</td>\n",
       "      <td>1</td>\n",
       "      <td>1</td>\n",
       "      <td>0.66875</td>\n",
       "    </tr>\n",
       "  </tbody>\n",
       "</table>\n",
       "</div>"
      ],
      "text/plain": [
       "   U  X  Y  probability\n",
       "0  0  0  0      0.02500\n",
       "1  1  0  0      0.02500\n",
       "2  2  0  1      0.01250\n",
       "3  3  0  1      0.18750\n",
       "4  4  1  0      0.00625\n",
       "5  5  1  1      0.00625\n",
       "6  6  1  0      0.06875\n",
       "7  7  1  1      0.66875"
      ]
     },
     "execution_count": 176,
     "metadata": {},
     "output_type": "execute_result"
    }
   ],
   "source": [
    "table_5_1 = scm_5_1.get_probability_table(include_u=True)\n",
    "table_5_1"
   ]
  },
  {
   "cell_type": "markdown",
   "metadata": {},
   "source": [
    "From the SCM, we have the following probabilities:"
   ]
  },
  {
   "cell_type": "code",
   "execution_count": 177,
   "metadata": {},
   "outputs": [
    {
     "data": {
      "text/latex": [
       "$$P\\left(Y = y, X = x\\right) = \\sum_{u} 1(X(u) = x, Y(u) = y)P(u)$$"
      ],
      "text/plain": [
       "<IPython.core.display.Latex object>"
      ]
     },
     "execution_count": 177,
     "metadata": {},
     "output_type": "execute_result"
    }
   ],
   "source": [
    "Latex('$$'+str(Pr({y:'y',x:'x'})) + r\" = \\sum_{u} 1(X(u) = x, Y(u) = y)P(u)\"+'$$')"
   ]
  },
  {
   "cell_type": "code",
   "execution_count": 178,
   "metadata": {},
   "outputs": [
    {
     "data": {
      "text/latex": [
       "$$P\\left(X = x\\right) = \\sum_u 1(X(u) = x)P(u)$$"
      ],
      "text/plain": [
       "<IPython.core.display.Latex object>"
      ]
     },
     "execution_count": 178,
     "metadata": {},
     "output_type": "execute_result"
    }
   ],
   "source": [
    "Latex(f\"$${str(Pr({x:'x'}))} = \\sum_u 1(X(u) = x)P(u)$$\")"
   ]
  },
  {
   "cell_type": "markdown",
   "metadata": {},
   "source": [
    "Let $u_i = P(U=i)$ then based on the table and the expressions above, the following quantities can be computed:"
   ]
  },
  {
   "cell_type": "code",
   "execution_count": 179,
   "metadata": {},
   "outputs": [],
   "source": [
    "pgx1 = Pr({y:1},given={x:1})\n",
    "pgx0 = Pr({y:1},given={x:0})\n",
    "\n",
    "pjx1 = Pr({y:1,x:1})\n",
    "pjx0 = Pr({y:1,x:0})\n",
    "\n",
    "px1 = Pr({x:1})\n",
    "px0 = Pr({x:0})"
   ]
  },
  {
   "cell_type": "code",
   "execution_count": 180,
   "metadata": {},
   "outputs": [
    {
     "data": {
      "text/latex": [
       "$$P\\left(Y = 1 \\mid X = 0\\right)=P\\left(Y = 1, X = 1\\right)/P\\left(X = 1\\right)= u_5 + u_7 / u_4 + u_5 + u_6 + u_7$$"
      ],
      "text/plain": [
       "<IPython.core.display.Latex object>"
      ]
     },
     "execution_count": 180,
     "metadata": {},
     "output_type": "execute_result"
    }
   ],
   "source": [
    "Latex('$$' + str(pgx1) + \"=\" + str(pjx1) + \"/\" + str(px1) + r'= u_5 + u_7 / u_4 + u_5 + u_6 + u_7' + '$$')"
   ]
  },
  {
   "cell_type": "markdown",
   "metadata": {},
   "source": [
    "The following quantities can be computed:"
   ]
  },
  {
   "cell_type": "code",
   "execution_count": 181,
   "metadata": {},
   "outputs": [
    {
     "data": {
      "text/latex": [
       "$P\\left(Y = 1 \\mid X = 0\\right) \\approx 0.8000$"
      ],
      "text/plain": [
       "<IPython.core.display.Latex object>"
      ]
     },
     "execution_count": 181,
     "metadata": {},
     "output_type": "execute_result"
    }
   ],
   "source": [
    "scm_5_1.query_exp(pgx1,latex=True)"
   ]
  },
  {
   "cell_type": "code",
   "execution_count": 182,
   "metadata": {},
   "outputs": [
    {
     "data": {
      "text/latex": [
       "$\\frac{P\\left(Y = 1, X = 1\\right)}{P\\left(X = 1\\right)} \\approx 0.9000$"
      ],
      "text/plain": [
       "<IPython.core.display.Latex object>"
      ]
     },
     "execution_count": 182,
     "metadata": {},
     "output_type": "execute_result"
    }
   ],
   "source": [
    "scm_5_1.query_exp(pjx1/px1,latex=True)"
   ]
  },
  {
   "cell_type": "code",
   "execution_count": 183,
   "metadata": {},
   "outputs": [
    {
     "data": {
      "text/plain": [
       "0.8999999999999999"
      ]
     },
     "execution_count": 183,
     "metadata": {},
     "output_type": "execute_result"
    }
   ],
   "source": [
    "table_5_1['probability'][table_5_1[u].isin([5,7])].sum() / table_5_1['probability'][table_5_1[u].isin([4,5,6,7])].sum()"
   ]
  },
  {
   "cell_type": "code",
   "execution_count": 184,
   "metadata": {},
   "outputs": [
    {
     "data": {
      "text/latex": [
       "$$P\\left(Y = 1 \\mid X = 0\\right)=P\\left(Y = 1, X = 0\\right)/P\\left(X = 0\\right)= u_2 + u_3 / u_0 + u_1 + u_2 + u_3$$"
      ],
      "text/plain": [
       "<IPython.core.display.Latex object>"
      ]
     },
     "execution_count": 184,
     "metadata": {},
     "output_type": "execute_result"
    }
   ],
   "source": [
    "Latex('$$' + str(pgx0) + \"=\" + str(pjx0) + \"/\" + str(px0) + r'= u_2 + u_3 / u_0 + u_1 + u_2 + u_3' + '$$')"
   ]
  },
  {
   "cell_type": "markdown",
   "metadata": {},
   "source": [
    "The following quantities can be computed:"
   ]
  },
  {
   "cell_type": "code",
   "execution_count": 185,
   "metadata": {},
   "outputs": [
    {
     "data": {
      "text/latex": [
       "$P\\left(Y = 1 \\mid X = 0\\right) \\approx 0.8000$"
      ],
      "text/plain": [
       "<IPython.core.display.Latex object>"
      ]
     },
     "execution_count": 185,
     "metadata": {},
     "output_type": "execute_result"
    }
   ],
   "source": [
    "scm_5_1.query_exp(pgx0,latex=True)"
   ]
  },
  {
   "cell_type": "code",
   "execution_count": 186,
   "metadata": {},
   "outputs": [
    {
     "data": {
      "text/latex": [
       "$\\frac{P\\left(Y = 1, X = 0\\right)}{P\\left(X = 0\\right)} \\approx 0.8000$"
      ],
      "text/plain": [
       "<IPython.core.display.Latex object>"
      ]
     },
     "execution_count": 186,
     "metadata": {},
     "output_type": "execute_result"
    }
   ],
   "source": [
    "scm_5_1.query_exp(pjx0/px0,latex=True)"
   ]
  },
  {
   "cell_type": "code",
   "execution_count": 187,
   "metadata": {},
   "outputs": [
    {
     "data": {
      "text/plain": [
       "0.8"
      ]
     },
     "execution_count": 187,
     "metadata": {},
     "output_type": "execute_result"
    }
   ],
   "source": [
    "table_5_1['probability'][table_5_1[u].isin([2,3])].sum() / table_5_1['probability'][table_5_1[u].isin([0,1,2,3])].sum()"
   ]
  },
  {
   "cell_type": "markdown",
   "metadata": {},
   "source": [
    "Based on these results, someone unfamiliar with causal analysis may be tempted to conclude,\n",
    "naturally, that the AI physician is to be preferred to the MD; if we are concerned solely with\n",
    "maximizing the chances of survival, not the availability of explanation.\n",
    "\n",
    "We understand from the discussion in the previous chapter that this is not the case. In particular, any quantity in the form of $P(Y \\mid X = x)$, or more generally, any classifier $P(Y \\mid X = x)$ trained from observational data, is suitable only for guessing survival rates, which includes spurious variations due to unobserved confounding. In fact, maximizing predictive accuracy (or minimizing mean squared error) in a predictive setting is an entirely different task, even though it is the most popular technique currently developed in AI, ML, and statistics. This quantity is valid when the goal is not to make a decision but to try to assess the probability of survival in a passive form.\n",
    "\n",
    "Suppose certain policy-makers are not aware of this technical point and use these numbers to support a new regulation whereby AI physicians are deployed across the country, which means that patients will be uniformly submitted to treatment $do(X = 1)$. One valid question that follows from the discussion in the previous chapter would be – what is the effect of this new policy on the general population?\n",
    "\n",
    "Again, $M^*$ can be used to evaluate this quantity through the standard definition of do-intervention (Def. 2.2.4), generating the sub-model $M_{X=1}$. Based on the potential responses and probabilities shown in Table 5.2, the target effects can be computed as:"
   ]
  },
  {
   "cell_type": "code",
   "execution_count": 188,
   "metadata": {},
   "outputs": [
    {
     "data": {
      "text/latex": [
       "$$P\\left(Y = 1 \\mid do(X = 1)\\right)=\\sum_{u} 1(Y_{X=1}(u)=1)P(u)$$"
      ],
      "text/plain": [
       "<IPython.core.display.Latex object>"
      ]
     },
     "execution_count": 188,
     "metadata": {},
     "output_type": "execute_result"
    }
   ],
   "source": [
    "py1_dx1 = Pr({y:1},do={x:1})\n",
    "\n",
    "Latex('$$' + str(py1_dx1) + \"=\" + r\"\\sum_{u} 1(Y_{X=1}(u)=1)P(u)\" '$$')"
   ]
  },
  {
   "cell_type": "code",
   "execution_count": 189,
   "metadata": {},
   "outputs": [
    {
     "data": {
      "text/html": [
       "<div>\n",
       "<style scoped>\n",
       "    .dataframe tbody tr th:only-of-type {\n",
       "        vertical-align: middle;\n",
       "    }\n",
       "\n",
       "    .dataframe tbody tr th {\n",
       "        vertical-align: top;\n",
       "    }\n",
       "\n",
       "    .dataframe thead th {\n",
       "        text-align: right;\n",
       "    }\n",
       "</style>\n",
       "<table border=\"1\" class=\"dataframe\">\n",
       "  <thead>\n",
       "    <tr style=\"text-align: right;\">\n",
       "      <th></th>\n",
       "      <th>U</th>\n",
       "      <th>{X}_{X=1}</th>\n",
       "      <th>{Y}_{X=1}</th>\n",
       "      <th>probability</th>\n",
       "    </tr>\n",
       "  </thead>\n",
       "  <tbody>\n",
       "    <tr>\n",
       "      <th>0</th>\n",
       "      <td>0</td>\n",
       "      <td>1</td>\n",
       "      <td>0</td>\n",
       "      <td>0.02500</td>\n",
       "    </tr>\n",
       "    <tr>\n",
       "      <th>1</th>\n",
       "      <td>1</td>\n",
       "      <td>1</td>\n",
       "      <td>1</td>\n",
       "      <td>0.02500</td>\n",
       "    </tr>\n",
       "    <tr>\n",
       "      <th>2</th>\n",
       "      <td>2</td>\n",
       "      <td>1</td>\n",
       "      <td>0</td>\n",
       "      <td>0.01250</td>\n",
       "    </tr>\n",
       "    <tr>\n",
       "      <th>3</th>\n",
       "      <td>3</td>\n",
       "      <td>1</td>\n",
       "      <td>1</td>\n",
       "      <td>0.18750</td>\n",
       "    </tr>\n",
       "    <tr>\n",
       "      <th>4</th>\n",
       "      <td>4</td>\n",
       "      <td>1</td>\n",
       "      <td>0</td>\n",
       "      <td>0.00625</td>\n",
       "    </tr>\n",
       "    <tr>\n",
       "      <th>5</th>\n",
       "      <td>5</td>\n",
       "      <td>1</td>\n",
       "      <td>1</td>\n",
       "      <td>0.00625</td>\n",
       "    </tr>\n",
       "    <tr>\n",
       "      <th>6</th>\n",
       "      <td>6</td>\n",
       "      <td>1</td>\n",
       "      <td>0</td>\n",
       "      <td>0.06875</td>\n",
       "    </tr>\n",
       "    <tr>\n",
       "      <th>7</th>\n",
       "      <td>7</td>\n",
       "      <td>1</td>\n",
       "      <td>1</td>\n",
       "      <td>0.66875</td>\n",
       "    </tr>\n",
       "  </tbody>\n",
       "</table>\n",
       "</div>"
      ],
      "text/plain": [
       "   U  {X}_{X=1}  {Y}_{X=1}  probability\n",
       "0  0          1          0      0.02500\n",
       "1  1          1          1      0.02500\n",
       "2  2          1          0      0.01250\n",
       "3  3          1          1      0.18750\n",
       "4  4          1          0      0.00625\n",
       "5  5          1          1      0.00625\n",
       "6  6          1          0      0.06875\n",
       "7  7          1          1      0.66875"
      ]
     },
     "execution_count": 189,
     "metadata": {},
     "output_type": "execute_result"
    }
   ],
   "source": [
    "table_5_2 = scm_5_1.do({x:1}).get_probability_table(include_u=True)\n",
    "table_5_2"
   ]
  },
  {
   "cell_type": "code",
   "execution_count": 190,
   "metadata": {},
   "outputs": [
    {
     "data": {
      "text/plain": [
       "0.8875"
      ]
     },
     "execution_count": 190,
     "metadata": {},
     "output_type": "execute_result"
    }
   ],
   "source": [
    "table_5_2['probability'][table_5_2[u].isin([1,3,5,7])].sum()"
   ]
  },
  {
   "cell_type": "code",
   "execution_count": 191,
   "metadata": {},
   "outputs": [
    {
     "data": {
      "text/latex": [
       "$P\\left(Y = 1 \\mid do(X = 1)\\right) \\approx 0.8875$"
      ],
      "text/plain": [
       "<IPython.core.display.Latex object>"
      ]
     },
     "execution_count": 191,
     "metadata": {},
     "output_type": "execute_result"
    }
   ],
   "source": [
    "scm_5_1.query_exp(py1_dx1,latex=True)"
   ]
  },
  {
   "cell_type": "markdown",
   "metadata": {},
   "source": [
    "Likewise, what would happen in the hypothetical scenario in which human MDs make the decision $(do(X = 0))$, without any AI, which is associated with the following interventional distribution:"
   ]
  },
  {
   "cell_type": "code",
   "execution_count": 192,
   "metadata": {},
   "outputs": [
    {
     "data": {
      "text/latex": [
       "$$P\\left(Y = 1 \\mid do(X = 0)\\right)=\\sum_{u} 1(Y_{X=0}(u)=1)P(u)$$"
      ],
      "text/plain": [
       "<IPython.core.display.Latex object>"
      ]
     },
     "execution_count": 192,
     "metadata": {},
     "output_type": "execute_result"
    }
   ],
   "source": [
    "py1_dx0 = Pr({y:1},do={x:0})\n",
    "\n",
    "Latex('$$' + str(py1_dx0) + \"=\" + r\"\\sum_{u} 1(Y_{X=0}(u)=1)P(u)\" '$$')"
   ]
  },
  {
   "cell_type": "code",
   "execution_count": 193,
   "metadata": {},
   "outputs": [],
   "source": [
    "table_5_2_2 = scm_5_1.do({x:0}).get_probability_table(include_u=True)"
   ]
  },
  {
   "cell_type": "code",
   "execution_count": 194,
   "metadata": {},
   "outputs": [
    {
     "data": {
      "text/plain": [
       "0.9375"
      ]
     },
     "execution_count": 194,
     "metadata": {},
     "output_type": "execute_result"
    }
   ],
   "source": [
    "table_5_2_2['probability'][table_5_2[u].isin([2,3,6,7])].sum()"
   ]
  },
  {
   "cell_type": "code",
   "execution_count": 195,
   "metadata": {},
   "outputs": [
    {
     "data": {
      "text/latex": [
       "$P\\left(Y = 1 \\mid do(X = 0)\\right) \\approx 0.9375$"
      ],
      "text/plain": [
       "<IPython.core.display.Latex object>"
      ]
     },
     "execution_count": 195,
     "metadata": {},
     "output_type": "execute_result"
    }
   ],
   "source": [
    "scm_5_1.query_exp(py1_dx0,latex=True)"
   ]
  },
  {
   "cell_type": "markdown",
   "metadata": {},
   "source": [
    "The equations above reveal that the result of the purported policy would be quite disastrous. Given the true causal mechanism $M$, it is clear that significantly more lives would be saved by relying on human doctors; on average, AI is currently hurting more people than helping."
   ]
  },
  {
   "cell_type": "markdown",
   "metadata": {},
   "source": [
    "This example highlights what we already know: the analysis and the type of claim that can be\n",
    "made about reality are contingent on how the data was collected, evident from the perspective of\n",
    "the PCH’s layers."
   ]
  },
  {
   "cell_type": "markdown",
   "metadata": {},
   "source": [
    "Let us consider now going a bit further up on the PCH, and ask about the probability of survival under a specific treatment, given that the patient is inclined to opt for the other treatment. For concreteness, the patient is tempted to go with the AI system ($X = 1$), given their age group, gender, socioeconomic status, personality, and other factors, and may wonder whether they would survive ($Y = 1$) had they been treated by the human ($X = 0$). This query has special meaning in the language of L3, and is written as the counterfactual statement:"
   ]
  },
  {
   "cell_type": "code",
   "execution_count": 196,
   "metadata": {},
   "outputs": [
    {
     "data": {
      "text/latex": [
       "$P\\left({Y}_{X=0} = 1 \\mid X = 1\\right)$"
      ],
      "text/plain": [
       "P\\left({Y}_{X=0} = 1 \\mid X = 1\\right)"
      ]
     },
     "execution_count": 196,
     "metadata": {},
     "output_type": "execute_result"
    }
   ],
   "source": [
    "y_x0 = scm_5_1.do({x:0}).v['Y']\n",
    "\n",
    "py1_x0_gx1 = Pr({y_x0:1},given={x:1})\n",
    "\n",
    "py1_x0_gx1"
   ]
  },
  {
   "cell_type": "markdown",
   "metadata": {},
   "source": [
    "In other words, what would the potential outcome $Y_{X=0}$ be for those individuals who would naturally choose treatment $X = 1$. This quantity is sometimes called the effect of treatment on the treated (ETT, for short). For convenience, we can re-write the ETT as the following ratio:"
   ]
  },
  {
   "cell_type": "code",
   "execution_count": 197,
   "metadata": {},
   "outputs": [
    {
     "data": {
      "text/latex": [
       "$$P\\left({Y}_{X=0} = 1 \\mid X = 1\\right)=P\\left({Y}_{X=0} = 1, X = 1\\right)/P\\left(X = 1\\right)$$"
      ],
      "text/plain": [
       "<IPython.core.display.Latex object>"
      ]
     },
     "execution_count": 197,
     "metadata": {},
     "output_type": "execute_result"
    }
   ],
   "source": [
    "Latex('$$' + str(py1_x0_gx1) + \"=\" + str(Pr({y_x0:1,x:1})) + \"/\" + str(Pr({x:1})) +'$$')"
   ]
  },
  {
   "cell_type": "markdown",
   "metadata": {},
   "source": [
    "Now we consider the evaluation through the SCM $M$. Note that the denominator is a $L_1$-quantity computed earlier, so we focused on the numerator. The same can be evaluated by $M$, as discussed in Section 2.1 (and following Def. 2.2.6), through the following equation (and Table 5.2):"
   ]
  },
  {
   "cell_type": "code",
   "execution_count": 198,
   "metadata": {},
   "outputs": [
    {
     "data": {
      "text/latex": [
       "$$P\\left({Y}_{X=0} = 1 \\mid X = 1\\right)=\\sum_{u} 1(Y_{X=0}(u)=1, X(u) = 1)P(u)$$"
      ],
      "text/plain": [
       "<IPython.core.display.Latex object>"
      ]
     },
     "execution_count": 198,
     "metadata": {},
     "output_type": "execute_result"
    }
   ],
   "source": [
    "Latex('$$' + str(py1_x0_gx1) + \"=\" + r\"\\sum_{u} 1(Y_{X=0}(u)=1, X(u) = 1)P(u)\" '$$')"
   ]
  },
  {
   "cell_type": "code",
   "execution_count": 199,
   "metadata": {},
   "outputs": [
    {
     "data": {
      "text/plain": [
       "0.7374999999999999"
      ]
     },
     "execution_count": 199,
     "metadata": {},
     "output_type": "execute_result"
    }
   ],
   "source": [
    "table_5_2_2['probability'][table_5_2_2[u].isin([6,7])].sum()"
   ]
  },
  {
   "cell_type": "markdown",
   "metadata": {},
   "source": [
    "The same evaluation process can be performed for the other instantiations, leading to the following\n",
    "counterfactual distributions:"
   ]
  },
  {
   "cell_type": "code",
   "execution_count": 200,
   "metadata": {},
   "outputs": [],
   "source": [
    "y_x1 = scm_5_1.do({x:1}).v.Y"
   ]
  },
  {
   "cell_type": "code",
   "execution_count": 201,
   "metadata": {},
   "outputs": [
    {
     "data": {
      "text/latex": [
       "$P\\left({Y}_{X=1} = 1 \\mid X = 0\\right) \\approx 0.8500$"
      ],
      "text/plain": [
       "<IPython.core.display.Latex object>"
      ]
     },
     "metadata": {},
     "output_type": "display_data"
    },
    {
     "data": {
      "text/latex": [
       "$P\\left({Y}_{X=0} = 1 \\mid X = 0\\right) \\approx 0.8000$"
      ],
      "text/plain": [
       "<IPython.core.display.Latex object>"
      ]
     },
     "metadata": {},
     "output_type": "display_data"
    },
    {
     "data": {
      "text/latex": [
       "$P\\left({Y}_{X=1} = 1 \\mid X = 1\\right) \\approx 0.9000$"
      ],
      "text/plain": [
       "<IPython.core.display.Latex object>"
      ]
     },
     "metadata": {},
     "output_type": "display_data"
    },
    {
     "data": {
      "text/latex": [
       "$P\\left({Y}_{X=0} = 1 \\mid X = 1\\right) \\approx 0.9833$"
      ],
      "text/plain": [
       "<IPython.core.display.Latex object>"
      ]
     },
     "metadata": {},
     "output_type": "display_data"
    }
   ],
   "source": [
    "display(scm_5_1.query_exp(Pr({y_x1:1},given={x:0}),latex=True))\n",
    "display(scm_5_1.query_exp(Pr({y_x0:1},given={x:0}),latex=True))\n",
    "display(scm_5_1.query_exp(Pr({y_x1:1},given={x:1}),latex=True))\n",
    "display(scm_5_1.query_exp(Pr({y_x0:1},given={x:1}),latex=True))"
   ]
  },
  {
   "cell_type": "markdown",
   "metadata": {},
   "source": [
    "In words, among those patients inclined to opt for the MD ($X = 0$ after the conditioning bar), being\n",
    "treated by the AI physician ($X = 1$) would be better since:"
   ]
  },
  {
   "cell_type": "code",
   "execution_count": 202,
   "metadata": {},
   "outputs": [
    {
     "data": {
      "text/latex": [
       "$(P\\left({Y}_{X=1} = 1 \\mid X = 0\\right) > P\\left({Y}_{X=0} = 1 \\mid X = 0\\right)) = \\text{True}$"
      ],
      "text/plain": [
       "<IPython.core.display.Latex object>"
      ]
     },
     "execution_count": 202,
     "metadata": {},
     "output_type": "execute_result"
    }
   ],
   "source": [
    "scm_5_1.query_exp(Pr({y_x1:1},given={x:0}) > Pr({y_x0:1},given={x:0}),latex=True)"
   ]
  },
  {
   "cell_type": "markdown",
   "metadata": {},
   "source": [
    "On the other hand, for patients inclined to prefer the AI physician, going with the MD would lead\n",
    "to better outcomes and possible survival since:"
   ]
  },
  {
   "cell_type": "code",
   "execution_count": 203,
   "metadata": {},
   "outputs": [
    {
     "data": {
      "text/latex": [
       "$(P\\left({Y}_{X=1} = 1 \\mid X = 1\\right) < P\\left({Y}_{X=0} = 1 \\mid X = 1\\right)) = \\text{True}$"
      ],
      "text/plain": [
       "<IPython.core.display.Latex object>"
      ]
     },
     "execution_count": 203,
     "metadata": {},
     "output_type": "execute_result"
    }
   ],
   "source": [
    "scm_5_1.query_exp(Pr({y_x1:1},given={x:1}) < Pr({y_x0:1},given={x:1}), latex=True)"
   ]
  },
  {
   "cell_type": "markdown",
   "metadata": {},
   "source": [
    "Knowing these additional, quintessentially layer 3 facts, the best policy would actually be to give\n",
    "patients whatever treatment they would be inclined not to choose."
   ]
  },
  {
   "cell_type": "markdown",
   "metadata": {},
   "source": [
    "Let us climb up on the PCH a bit more and ask about the probability of survival under a specific treatment, given that the patient opted for the other treatment and observed a certain outcome. For instance, the patient was treated by the AI system ($X = 1$), given their age group, gender, socioeconomic status, personality, etc., and ended up dead ($Y = 0$); we now wonder: would they have survived ($Y = 1$) had they been treated by the human physician ($X = 0$). This is a quintessential L3-quantity and can be written as the counterfactual statement:"
   ]
  },
  {
   "cell_type": "code",
   "execution_count": 204,
   "metadata": {},
   "outputs": [
    {
     "data": {
      "text/latex": [
       "$P\\left({Y}_{X=1} = 1 \\mid X = 0, Y = 0\\right)$"
      ],
      "text/plain": [
       "P\\left({Y}_{X=1} = 1 \\mid X = 0, Y = 0\\right)"
      ]
     },
     "execution_count": 204,
     "metadata": {},
     "output_type": "execute_result"
    }
   ],
   "source": [
    "Pr({y_x1:1},given={x:0,y:0})"
   ]
  },
  {
   "cell_type": "markdown",
   "metadata": {},
   "source": [
    "In words, what would have been the potential outcome $Y_{X=1}$ for individuals who have naturally chosen treatment $X = 0$ and died ($Y = 0$)? This quantity is sometimes called the probability of necessity (PN, for short). For convenience, we can re-write the PN as the following ratio:"
   ]
  },
  {
   "cell_type": "code",
   "execution_count": 205,
   "metadata": {},
   "outputs": [
    {
     "data": {
      "text/latex": [
       "$P\\left({Y}_{X=1} = 1 \\mid X = 0, Y = 0\\right)=P\\left({Y}_{X=1} = 1, X = 0, Y = 0\\right)/P\\left(X = 0, Y = 0\\right)$"
      ],
      "text/plain": [
       "<IPython.core.display.Latex object>"
      ]
     },
     "execution_count": 205,
     "metadata": {},
     "output_type": "execute_result"
    }
   ],
   "source": [
    "Latex(\"$\"+str(Pr({y_x1:1},given={x:0,y:0})) + \"=\" + str(Pr({y_x1:1,x:0,y:0})) + \"/\" + str(Pr({x:0,y:0})) + \"$\")"
   ]
  },
  {
   "cell_type": "markdown",
   "metadata": {},
   "source": [
    "First, we can immediately ignore the denominator again since it is entirely determined as an $L_1$-quantity. More interestingly, note that the numerator contains the event where the variable $Y$ has the subscript that includes the variable $X$, i.e., $Y_{X=1}$, while the second and third variables represent an event in the factual world, ($X = 0, Y = 0$), which actually happened. This constitutes the very essence of counterfactuals since we have variables living in distinct worlds, $Y$ living in the $do(X = 1)$ world, while $X$, $Y$ themselves live in the natural world, without any intervention.\n",
    "\n",
    "Now we consider the evaluation of the numerator of Eq. (5.22) through the SCM $M$, as discussed in Section 2.1 (and following Def. 2.2.6), through the following equation and Table 5.2:"
   ]
  },
  {
   "cell_type": "code",
   "execution_count": 206,
   "metadata": {},
   "outputs": [
    {
     "data": {
      "text/latex": [
       "$$P\\left({Y}_{X=1} = 1, X = 0, Y = 0\\right)=\\sum_{u} 1(Y_{X=1}(u)=1, X(u) = 0, Y(u) = 0)P(u)$$"
      ],
      "text/plain": [
       "<IPython.core.display.Latex object>"
      ]
     },
     "execution_count": 206,
     "metadata": {},
     "output_type": "execute_result"
    }
   ],
   "source": [
    "Latex('$$' + str(Pr({y_x1:1,x:0,y:0})) + \"=\" + r\"\\sum_{u} 1(Y_{X=1}(u)=1, X(u) = 0, Y(u) = 0)P(u)\" '$$')"
   ]
  },
  {
   "cell_type": "markdown",
   "metadata": {},
   "source": [
    "The same evaluation process can be performed for the other instantiations, leading to the following\n",
    "results:"
   ]
  },
  {
   "cell_type": "code",
   "execution_count": 207,
   "metadata": {},
   "outputs": [
    {
     "data": {
      "text/latex": [
       "$P\\left({Y}_{X=1} = 1 \\mid X = 0, Y = 0\\right) \\approx 0.5000$"
      ],
      "text/plain": [
       "<IPython.core.display.Latex object>"
      ]
     },
     "metadata": {},
     "output_type": "display_data"
    },
    {
     "data": {
      "text/latex": [
       "$P\\left({Y}_{X=0} = 1 \\mid X = 0, Y = 0\\right) \\approx 0.0$"
      ],
      "text/plain": [
       "<IPython.core.display.Latex object>"
      ]
     },
     "metadata": {},
     "output_type": "display_data"
    },
    {
     "data": {
      "text/latex": [
       "$P\\left({Y}_{X=1} = 1 \\mid X = 0, Y = 1\\right) \\approx 0.9375$"
      ],
      "text/plain": [
       "<IPython.core.display.Latex object>"
      ]
     },
     "metadata": {},
     "output_type": "display_data"
    },
    {
     "data": {
      "text/latex": [
       "$P\\left({Y}_{X=0} = 1 \\mid X = 0, Y = 1\\right) \\approx 1.000$"
      ],
      "text/plain": [
       "<IPython.core.display.Latex object>"
      ]
     },
     "metadata": {},
     "output_type": "display_data"
    },
    {
     "data": {
      "text/latex": [
       "$P\\left({Y}_{X=1} = 1 \\mid X = 1, Y = 0\\right) \\approx 0.0$"
      ],
      "text/plain": [
       "<IPython.core.display.Latex object>"
      ]
     },
     "metadata": {},
     "output_type": "display_data"
    },
    {
     "data": {
      "text/latex": [
       "$P\\left({Y}_{X=0} = 1 \\mid X = 1, Y = 0\\right) \\approx 0.9167$"
      ],
      "text/plain": [
       "<IPython.core.display.Latex object>"
      ]
     },
     "metadata": {},
     "output_type": "display_data"
    },
    {
     "data": {
      "text/latex": [
       "$P\\left({Y}_{X=1} = 1 \\mid X = 1, Y = 1\\right) \\approx 1.000$"
      ],
      "text/plain": [
       "<IPython.core.display.Latex object>"
      ]
     },
     "metadata": {},
     "output_type": "display_data"
    },
    {
     "data": {
      "text/latex": [
       "$P\\left({Y}_{X=0} = 1 \\mid X = 1, Y = 1\\right) \\approx 0.9907$"
      ],
      "text/plain": [
       "<IPython.core.display.Latex object>"
      ]
     },
     "metadata": {},
     "output_type": "display_data"
    }
   ],
   "source": [
    "q = scm_5_1.query_exp\n",
    "\n",
    "display(\n",
    "q(Pr({y_x1:1},given={x:0,y:0}),latex=True),\n",
    "q(Pr({y_x0:1},given={x:0,y:0}),latex=True),\n",
    "q(Pr({y_x1:1},given={x:0,y:1}),latex=True),\n",
    "q(Pr({y_x0:1},given={x:0,y:1}),latex=True),\n",
    "q(Pr({y_x1:1},given={x:1,y:0}),latex=True),\n",
    "q(Pr({y_x0:1},given={x:1,y:0}),latex=True),\n",
    "q(Pr({y_x1:1},given={x:1,y:1}),latex=True),\n",
    "q(Pr({y_x0:1},given={x:1,y:1}),latex=True)\n",
    ")\n"
   ]
  },
  {
   "cell_type": "markdown",
   "metadata": {},
   "source": [
    "In words, among those patients who naturally opted for the MD and are dead ($X = 0, Y = 0$ after the conditioning bar), treatment by the AI physician ($X = 1$) would be better since:"
   ]
  },
  {
   "cell_type": "code",
   "execution_count": 208,
   "metadata": {},
   "outputs": [
    {
     "data": {
      "text/latex": [
       "$(P\\left({Y}_{X=1} = 1 \\mid X = 0, Y = 0\\right) > P\\left({Y}_{X=0} = 1 \\mid X = 0, Y = 0\\right)) = \\text{True}$"
      ],
      "text/plain": [
       "<IPython.core.display.Latex object>"
      ]
     },
     "execution_count": 208,
     "metadata": {},
     "output_type": "execute_result"
    }
   ],
   "source": [
    "q(Pr({y_x1:1},given={x:0,y:0}) > Pr({y_x0:1},given={x:0,y:0}),latex=True)"
   ]
  },
  {
   "cell_type": "markdown",
   "metadata": {},
   "source": [
    "On the other hand, for patients inclined to prefer the AI physician and who died ($X = 1, Y = 0$), going with the MD would lead to better outcomes and possible survival since:"
   ]
  },
  {
   "cell_type": "code",
   "execution_count": 209,
   "metadata": {},
   "outputs": [
    {
     "data": {
      "text/latex": [
       "$(P\\left({Y}_{X=1} = 1 \\mid X = 0, Y = 1\\right) < P\\left({Y}_{X=0} = 1 \\mid X = 0, Y = 1\\right)) = \\text{True}$"
      ],
      "text/plain": [
       "<IPython.core.display.Latex object>"
      ]
     },
     "execution_count": 209,
     "metadata": {},
     "output_type": "execute_result"
    }
   ],
   "source": [
    "q(Pr({y_x1:1},given={x:0,y:1}) < Pr({y_x0:1},given={x:0,y:1}),latex=True)"
   ]
  },
  {
   "cell_type": "markdown",
   "metadata": {},
   "source": [
    "Interestingly, the counterfactual quantities discussed above are not obtainable through any physical experiment. The reason is that after the person took the drug and died, there is no way we could bring them back from the other side to be submitted to an alternative treatment.\n",
    "\n",
    "Nevertheless, this counterfactual quantity contains significant meaning for attribution of responsibility since it may represent that the drug manufacturer is guilty since, counterfactually, the person would have been alive had they not taken the drug. The lesson is broader and independent of exactly $X$ and $Y$."
   ]
  },
  {
   "cell_type": "markdown",
   "metadata": {},
   "source": [
    "## Example 5.2 -- Counterfactuals and Salary Estimation\n",
    "\n",
    "We now consider the case of understanding the salary of employees in a certain firm. Data is collected for each employee where $EX$ represents their experience in years, $ED$ their education level ('0': high school degree, '1': college degree, '2': graduate degree), and $S$ their salary.\n"
   ]
  },
  {
   "attachments": {
    "image.png": {
     "image/png": "[encoded data removed]"
    }
   },
   "cell_type": "markdown",
   "metadata": {},
   "source": [
    "![image.png](attachment:image.png)"
   ]
  },
  {
   "cell_type": "markdown",
   "metadata": {},
   "source": [
    "Suppose we are interested in Alice’s salary had she attended college, that is, $S_{ED=1}(Alice)$. One naive answer to this question is to use linear regression to estimate Salary as a linear combination of Experience and Education, which leads to the following equation:"
   ]
  },
  {
   "cell_type": "markdown",
   "metadata": {},
   "source": [
    "$$S = 65,000 + 2,500EX + 5,000ED$$"
   ]
  },
  {
   "cell_type": "markdown",
   "metadata": {},
   "source": [
    "To answer the question about Caroline's salary, one may be tempted to say:"
   ]
  },
  {
   "cell_type": "markdown",
   "metadata": {},
   "source": [
    "$$S_{ED=1}(Alice) = 65,000 + 25,00(6) + 5,000(1) = 85,000$$"
   ]
  },
  {
   "cell_type": "markdown",
   "metadata": {},
   "source": [
    "However, this approach is oblivious to the fact that changing the Education level may also\n",
    "affect the Experience gained by the employee. As we have seen before, data-driven strategies\n",
    "cannot assess layer 2 queries, much less layer 3 counterfactuals, because they are oblivious to the\n",
    "underlying causal structure.\n",
    "\n",
    "For the sake of illustration, consider the following structural causal models with linear functions (for simplicity):"
   ]
  },
  {
   "cell_type": "code",
   "execution_count": null,
   "metadata": {},
   "outputs": [],
   "source": []
  },
  {
   "cell_type": "markdown",
   "metadata": {},
   "source": []
  },
  {
   "cell_type": "code",
   "execution_count": null,
   "metadata": {},
   "outputs": [],
   "source": []
  },
  {
   "cell_type": "code",
   "execution_count": null,
   "metadata": {},
   "outputs": [],
   "source": []
  },
  {
   "cell_type": "markdown",
   "metadata": {},
   "source": [
    "## Counterfactual Quantities\n",
    "\n",
    "## Theorem 5.2.1 -- Structural Basis Expansion of Counterfactuals\n",
    "Consider an SCM $M^*$ and a counterfactual distribution computed from it,\n",
    "$$P[Y_C|E]$$\n",
    "where E is the factual evidence, C is the counterfactual condition, and Y is the outcome variable.\n",
    "\n",
    "We can write the structural basis expansion:\n",
    "$$\\sum_u 1[Y_C (u) = y]P(u|E=e)$$\n",
    "\n",
    "\n",
    "\n",
    "We can understand this through a three-step counterfactual evaluation:\n",
    "\n",
    "1. **Abduction.** Based on the factual evidence E = e, the posterior distribution over th eunits can be computed to better explain the evidence, namely, $P(U|E=e)$.\n",
    "   \n",
    "2. **Intervention.** Based on the counterfactual condition, C = c, the corresponding sub-model, $F_{C=c}$ can be generated.\n",
    "   \n",
    "3. **Evaluation.** With a new probability distribution over the exogenous (from step 1) and a new collection of mechanisms (from step 2), both over the same set of endogenous and exogenous variables, a new SCM is induced, namely:\n",
    "$$M' = (U, V, F_{C=c},P(U|E))$$"
   ]
  },
  {
   "cell_type": "markdown",
   "metadata": {},
   "source": [
    "## Effect of the Treatment on the Treated (ETT)\n",
    "\n",
    "The ETT mixes the natural and the counterfactual words, or variations in layers 1 and 2, and is written as follows:\n",
    "\n",
    "$$P(Y_{X=x}|X=x')$$\n",
    "\n",
    "We can write the structural basis expansion:\n",
    "\n",
    "$$\\sum_u 1[Y_{X=x}(u)=y]P(U|X=x')$$"
   ]
  },
  {
   "cell_type": "markdown",
   "metadata": {},
   "source": [
    "### Example 5.3 -- Job Re-training Program\n",
    "\n",
    "The government is considering funding a new re-training program to get unemployed citizens back into the workforce by acquiring new skills to build AI systems. The structural model describing this population is given below:"
   ]
  },
  {
   "cell_type": "code",
   "execution_count": 210,
   "metadata": {},
   "outputs": [],
   "source": [
    "x, y, u = sp.symbols('x y u')\n",
    "\n",
    "scm_5_3 = SymbolicSCM(\n",
    "    f = {\n",
    "        x: sp.Piecewise((0, u < 2), (1, True)),\n",
    "        y: sp.Piecewise((x, sp.Eq(u,0) | sp.Eq(u,2)), (1 - x, sp.Eq(u,1) | sp.Eq(u,3)), (1, True))\n",
    "    },\n",
    "    \n",
    "    pu ={\n",
    "        u: [9/40,7/40,1/5,1/5,1/5]\n",
    "    }\n",
    ")"
   ]
  },
  {
   "cell_type": "markdown",
   "metadata": {},
   "source": [
    "The variable X represents whether the person enrolled in the program, and Y whether the person was able to find a new job one year after graduating.\n",
    "\n",
    "Evidence shows that the program is effective:"
   ]
  },
  {
   "cell_type": "code",
   "execution_count": 211,
   "metadata": {},
   "outputs": [],
   "source": [
    "y_x1 = scm_5_3.do({x:1}).v['y']\n",
    "\n",
    "y_x0 = scm_5_3.do({x:0}).v.y"
   ]
  },
  {
   "cell_type": "code",
   "execution_count": 212,
   "metadata": {},
   "outputs": [
    {
     "data": {
      "text/plain": [
       "True"
      ]
     },
     "execution_count": 212,
     "metadata": {},
     "output_type": "execute_result"
    }
   ],
   "source": [
    "scm_5_3.query({y_x1:1}) - scm_5_3.query({y_x0:1}) > 0"
   ]
  },
  {
   "cell_type": "markdown",
   "metadata": {},
   "source": [
    "Hiring rate among the program participants turns out to be even higher than in the original pilot study, formally:"
   ]
  },
  {
   "cell_type": "code",
   "execution_count": 213,
   "metadata": {},
   "outputs": [
    {
     "data": {
      "text/plain": [
       "True"
      ]
     },
     "execution_count": 213,
     "metadata": {},
     "output_type": "execute_result"
    }
   ],
   "source": [
    "scm_5_3.query({y:1},given={x:1}) - scm_5_3.query({y_x1:1}) > 0"
   ]
  },
  {
   "cell_type": "markdown",
   "metadata": {},
   "source": [
    "Yet, those who self-enroll, critics say, are more resourceful, more intelligent, and socially more\n",
    "connected than the eligible who did not enroll and are more likely to have found a job regardless\n",
    "of whether receiving or not the training.\n",
    "\n",
    "Mathematically, the data scientist suggests we need to estimate the program’s differential ben-\n",
    "efit on those who enrolled. To what extent does the hiring rate increase among those who enroll,\n",
    "compared to what it would have been had they not been trained, which is written as the following\n",
    "ETT contrast:"
   ]
  },
  {
   "cell_type": "code",
   "execution_count": 214,
   "metadata": {},
   "outputs": [
    {
     "data": {
      "text/plain": [
       "False"
      ]
     },
     "execution_count": 214,
     "metadata": {},
     "output_type": "execute_result"
    }
   ],
   "source": [
    "scm_5_3.query({y_x1:1},given={x:1}) - scm_5_3.query({y_x0:1},given={x:1}) > 0"
   ]
  },
  {
   "cell_type": "markdown",
   "metadata": {},
   "source": [
    "In other words, this contrast compares two different counterfactual worlds for units that would naturally join the training program, $X = 1$.\n",
    "\n",
    "It relates to the difference in their employability (outcome $Y$) had they enroll ($do(X = 1)$) versus\n",
    "not enroll ($do(X = 0)$) into the program, or $Y_{X=1}$ versus $Y_{X=0}$."
   ]
  },
  {
   "cell_type": "markdown",
   "metadata": {},
   "source": [
    "## Probabilities of Necessity & Sufficiency\n",
    "\n",
    "We now consider a pair of quantities known as the probability of necessity (PN) and the probability\n",
    "of sufficiency (PS), which are written as:\n",
    "\n",
    "$$PS(X;Y) = P(Y_{X=1}=1|X=0,Y=0)$$\n",
    "$$PN(X;Y) = P(Y_{X=0}|X=1,Y=1)$$\n",
    "\n",
    "PS encodes how much the presence of X is sufficient to make Y = 1.\n",
    "\n",
    "PN encodes how much the presence of X was necessary to make Y = 1.\n",
    "\\\n",
    "\\\n",
    "\\\n",
    "We can define this more generally as:\n",
    "$$PN/PS_{(x,y),(x',y')}(X;Y) = P(Y_{X=x} | X=x', Y=y')$$\n",
    "\n",
    "Through structural basis decomposition, we obtain:\n",
    "$$\\sum_u 1[Y_{X=x}(u)=y]P(u|X=x',Y=y')$$"
   ]
  },
  {
   "cell_type": "markdown",
   "metadata": {},
   "source": [
    "### Example 5.5 -- Medical Decisions"
   ]
  },
  {
   "cell_type": "markdown",
   "metadata": {},
   "source": [
    "Consider an example that appears in the context of medical decision-making:"
   ]
  },
  {
   "cell_type": "code",
   "execution_count": 215,
   "metadata": {},
   "outputs": [],
   "source": [
    "x, y, z, ur, ux, uy, uz = sp.symbols('x y z ur ux uy uz')\n",
    "\n",
    "scm_5_5 = SymbolicSCM(\n",
    "    f = {\n",
    "        z: ur & uz,\n",
    "        x: ~(z ^ ux),\n",
    "        y: (x & ur) | (~x & ur & uy) | (~x & ~ur & ~uy)\n",
    "    },\n",
    "    pu = {\n",
    "        ur: .25,\n",
    "        uz: .95,\n",
    "        ux: .9,\n",
    "        uy: .7\n",
    "    }\n",
    ")\n",
    "        "
   ]
  },
  {
   "cell_type": "markdown",
   "metadata": {},
   "source": [
    "where $X$ represents a drug, $Y$ the outcome of survival, and $Z$ the presence or not of a symptom (hypertension). $U_r$ represents whether a person has a specific natural resistance to the disease, and $U_x, U_y, U_z$ are sources of variations outside the model affecting $X, Y, Z$, respectively."
   ]
  },
  {
   "cell_type": "code",
   "execution_count": 216,
   "metadata": {},
   "outputs": [],
   "source": [
    "scm_5_5_do_x0 = scm_5_5.do({x:0})\n",
    "\n",
    "scm_5_5_do_x1 = scm_5_5.do({x:1})"
   ]
  },
  {
   "cell_type": "code",
   "execution_count": 217,
   "metadata": {},
   "outputs": [],
   "source": [
    "df = scm_5_5.get_probability_table(include_u=True)\n",
    "df_x0 = scm_5_5_do_x0.get_probability_table(symbols={y},include_u=True).iloc[:,-2]\n",
    "df_x1 = scm_5_5_do_x1.get_probability_table(symbols={y},include_u=True).iloc[:,-2]\n",
    "df.insert(len(df.columns) - 1,df_x0.name,df_x0)\n",
    "df.insert(len(df.columns) - 1,df_x1.name,df_x1)\n",
    "\n",
    "table_5_5 = df"
   ]
  },
  {
   "cell_type": "code",
   "execution_count": 218,
   "metadata": {},
   "outputs": [
    {
     "data": {
      "text/plain": [
       "True"
      ]
     },
     "execution_count": 218,
     "metadata": {},
     "output_type": "execute_result"
    }
   ],
   "source": [
    "scm_5_5.query({y:1},given={x:1}) - scm_5_5.query({y:1},given={x:0}) > 0"
   ]
  },
  {
   "cell_type": "markdown",
   "metadata": {},
   "source": [
    "One may seem to conclude that because the probability of survival ($Y=1$) given that one took the drug ($X=1$) is higher than without ($X=0$), that the drug has a positive effect. At this point though, our readers know better, so we look at the causal effect of the drug:"
   ]
  },
  {
   "cell_type": "code",
   "execution_count": 219,
   "metadata": {},
   "outputs": [
    {
     "data": {
      "text/plain": [
       "False"
      ]
     },
     "execution_count": 219,
     "metadata": {},
     "output_type": "execute_result"
    }
   ],
   "source": [
    "y_x1 = scm_5_5_do_x1.v.y\n",
    "y_x0 = scm_5_5_do_x0.v.y\n",
    "\n",
    "scm_5_5.query({y_x1:1}) - scm_5_5.query({y_x0:1}) > 0"
   ]
  },
  {
   "cell_type": "markdown",
   "metadata": {},
   "source": [
    "Thus, interventionally speaking, the drug has a negative (average) effect in the population.\n",
    "\n",
    "Since there is a group of patients who did not receive the treatment and died ($X=0, Y=0$), one may wonder whether these patients would have been alive ($Y=1$) had they been given the treatment ($X=1$). This corresponds to the probability of sufficiency:"
   ]
  },
  {
   "cell_type": "code",
   "execution_count": 220,
   "metadata": {},
   "outputs": [
    {
     "data": {
      "text/plain": [
       "0.021739130434782622"
      ]
     },
     "execution_count": 220,
     "metadata": {},
     "output_type": "execute_result"
    }
   ],
   "source": [
    "scm_5_5.query({y_x1:1},given={x:0,y:0})"
   ]
  },
  {
   "cell_type": "markdown",
   "metadata": {},
   "source": [
    "The conclusion from this analysis is clear: even if everyone who did not survive were treated, only\n",
    "around 2% would have survived. In other words, the drug would not have prevented their death.\n",
    "\n",
    "Another aspect of this situation worth examining is whether the treatment would have been\n",
    "harmful to those who did not get it and still survived:"
   ]
  },
  {
   "cell_type": "code",
   "execution_count": 221,
   "metadata": {},
   "outputs": [
    {
     "data": {
      "text/plain": [
       "0.10792951541850222"
      ]
     },
     "execution_count": 221,
     "metadata": {},
     "output_type": "execute_result"
    }
   ],
   "source": [
    "scm_5_5.query({y_x1:1},given={x:0,y:1})"
   ]
  },
  {
   "cell_type": "markdown",
   "metadata": {},
   "source": [
    "Which means about 90% of such people would have died had they been given the treatment."
   ]
  },
  {
   "cell_type": "markdown",
   "metadata": {},
   "source": [
    "## Probabilities of Causation (Probabilities of Neccessity and Sufficiency)\n",
    "\n",
    "Note that the units passed through only one interventional world $F_{X=x}$ when discussing PN and PS individually, while the units go through two interventional worlds in the context of PNS. More specifically, PNS is written as:\n",
    "$$PNS_{(x,x'),(y,y')}(X;Y) = P(Y_{X=x}=y,Y_{X=x'}=y')$$\n",
    "PNS is the probability that Y would response to X in both ways, that is, for Y to get value y under some intervention *do*(X=x) while at the same time taking value y' under another intervention *do*(X=x'). Therefore, it measures botht he necessity and suffiency of X to produce Y.\n",
    "\n",
    "\n",
    "Applying the structural basis decompsition, we obtain:\n",
    "$$\\sum_u 1[Y_{X=x}(u) = y, Y_{X=x'}(u) = y']P(u)"
   ]
  },
  {
   "cell_type": "markdown",
   "metadata": {},
   "source": [
    "### Example 5.6 -- Medical Decision (revisited)"
   ]
  },
  {
   "cell_type": "markdown",
   "metadata": {},
   "source": [
    "Recall the discussion from example 5.5 where we considered the effectiveness of a treatment in preventing death in patients suffering from a certain disease.\n",
    "\n",
    "In this context, the PNS measures how much the treatment can affect the survival of patients by them surviving when administered and them dying when not administered. We find:"
   ]
  },
  {
   "cell_type": "code",
   "execution_count": 222,
   "metadata": {},
   "outputs": [
    {
     "data": {
      "text/latex": [
       "$P({y}_{x=1} = 1,{y}_{x=0} = 0) \\approx 0.075$"
      ],
      "text/plain": [
       "<IPython.core.display.Latex object>"
      ]
     },
     "execution_count": 222,
     "metadata": {},
     "output_type": "execute_result"
    }
   ],
   "source": [
    "scm_5_5.query({y_x1:1,y_x0:0},latex=True)"
   ]
  },
  {
   "cell_type": "markdown",
   "metadata": {},
   "source": [
    "This means that only 7.5% of the population will survive because of the treatment. That is, this\n",
    "portion of the population will survive if and only if they receive the treatment. In other words, if a\n",
    "patient is chosen at random, there is a 7.5% chance that such a patient would die if he does not get\n",
    "treatment and survive if treated."
   ]
  },
  {
   "cell_type": "markdown",
   "metadata": {},
   "source": [
    "## Direct and Indirect Effects\n",
    "\n",
    "Distentangling effects into their direct and indirect components allow us to reason about *how* a system works by understanding more specific parts of how Y responds to induced variations on X."
   ]
  },
  {
   "attachments": {
    "image.png": {
     "image/png": "[encoded data removed]"
    }
   },
   "cell_type": "markdown",
   "metadata": {},
   "source": [
    "![image.png](attachment:image.png)\n",
    "\n",
    "Figure 5.8: Causal diagram with treatment X,\n",
    "outcome Y, and mediator W. The direct path\n",
    "is shown in blue, and the\n",
    "indirect one is shown in\n",
    "red."
   ]
  },
  {
   "cell_type": "markdown",
   "metadata": {},
   "source": [
    "We define two counterfactuals, the Natural Direct Effect (NDE) and the Natural Indirect Effect (NIE) that capture the notions of direct and indirect effects. Both quantities represent constrasts and are defined as follows:\n",
    "$$NDE_{x_0,x_1}(y) = P(y_{x_1,W_{x_0}}) - P(Y_{x_0})$$\n",
    "$$NIE{x_0,x_1}(y) = P(y_{x_0,W_{x_1}}) - P(Y_{x_0})$$\n",
    "\n",
    "For the NDE, the counterfactual $P(y_{x_1,W_{x_0}})$ refers to the outcome $Y$ under $X = x_1$ and $W = W_{x_0}$, the value that $W$ would attain had $X$ been $x_0$.\n",
    "\n",
    "For the NIE, the counterfactual $P(y_{x_0,W_{x_1}})$ refers to the outcome $Y$ under $X = x_0$ and $W = W_{x_1}$, the value that $W$ would attain had $X$ been $x_1$.\n",
    "\n",
    "$Y_{x_0}$ represents a baseline where $Y$ perceives $X$ as $x_0$ in all causal paths. It is equivalent to $Y_{x_0,W_{x_0}}$, a situation where $W$ gets the same $X=x_0$.\n",
    "\\\n",
    "\\\n",
    "\\\n",
    "The structural basis expansion can be written as follows:\n",
    "$$NDE_{x_0,x_1}(y) = \\sum_u 1[y_{x_1,W_{x_0}}(u)] - 1[Y_{x_0}(u)] P(u)$$\n",
    "$$NIE_{x_0,x_1}(y) = \\sum_u 1[y_{x_0,W_{x_1}}(u)] - 1[Y_{x_0}(u)] P(u)$$"
   ]
  },
  {
   "cell_type": "markdown",
   "metadata": {},
   "source": [
    "### Example 5.7 -- Exercise and Cholesterol"
   ]
  },
  {
   "cell_type": "markdown",
   "metadata": {},
   "source": [
    "Consider the following diagram:"
   ]
  },
  {
   "attachments": {
    "image.png": {
     "image/png": "[encoded data removed]"
    }
   },
   "cell_type": "markdown",
   "metadata": {},
   "source": [
    "![image.png](attachment:image.png)\n",
    "\n",
    "Suppose $X$ is the level of exercise (sufficient or insufficient), $W$ cholesterol levels (low or high), and $Y$ cardiovascular disease (present or not present).\n",
    "\n",
    "We define the SCM as follows:"
   ]
  },
  {
   "cell_type": "code",
   "execution_count": 223,
   "metadata": {},
   "outputs": [],
   "source": [
    "x, w, y, uwx, ux, uw, uy = sp.symbols('x w y uwx ux uw uy')\n",
    "\n",
    "scm_5_7 = SymbolicSCM(\n",
    "    f = {\n",
    "        x: ux | uwx,\n",
    "        w: (x & uwx) | (~x & uw),\n",
    "        y: (~x & w) | (w & uy) | ~w\n",
    "    },\n",
    "    pu = {\n",
    "        ux: .6,\n",
    "        uwx: .3,\n",
    "        uw: .5,\n",
    "        uy: .1,\n",
    "    }\n",
    ")"
   ]
  },
  {
   "cell_type": "markdown",
   "metadata": {},
   "source": [
    "An interesting question is how much exercise prevents the disease by means other than regulating cholesterol. This can be represented with the NDE. This query is identifiable and given by the expression:\n",
    "$$\\sum_w (P(y|x',w) - P(y|x,w))P(w|do(x))$$\n",
    "\n",
    "We can calculate this expression using this identification expression:"
   ]
  },
  {
   "cell_type": "code",
   "execution_count": 224,
   "metadata": {},
   "outputs": [
    {
     "data": {
      "text/latex": [
       "$\\displaystyle 0$"
      ],
      "text/plain": [
       "0"
      ]
     },
     "execution_count": 224,
     "metadata": {},
     "output_type": "execute_result"
    }
   ],
   "source": [
    "scm_5_7_do_x0 = scm_5_7.do({x:0})\n",
    "\n",
    "w_x0 = scm_5_7_do_x0.v.w\n",
    "\n",
    "prob = 0\n",
    "\n",
    "for w_val in range(2):\n",
    "    prob += scm_5_7.query_exp((Pr({y:1},{x:1,w:w_val}) - Pr({y:1},{x:0,w:w_val})) * Pr({w_x0:w_val}))\n",
    "    \n",
    "prob"
   ]
  },
  {
   "cell_type": "markdown",
   "metadata": {},
   "source": [
    "Or by directly accessing the counterfactual words implied by the NDE:"
   ]
  },
  {
   "cell_type": "code",
   "execution_count": 225,
   "metadata": {},
   "outputs": [
    {
     "data": {
      "text/latex": [
       "$P\\left({y}_{x=0} = 1\\right) + P\\left({y}_{x=1,w={w}_{x=0}} = 1\\right) \\approx 1.550$"
      ],
      "text/plain": [
       "<IPython.core.display.Latex object>"
      ]
     },
     "execution_count": 225,
     "metadata": {},
     "output_type": "execute_result"
    }
   ],
   "source": [
    "y_x1_wx0 = scm_5_7.do({x:1,w:w_x0}).v.y\n",
    "\n",
    "y_x0 = scm_5_7_do_x0.v.y\n",
    "\n",
    "scm_5_7.query_exp(Pr({y_x0:1}) + Pr({y_x1_wx0:1}),latex=True)"
   ]
  },
  {
   "cell_type": "markdown",
   "metadata": {},
   "source": [
    "This means that the direct effect of exercise ($X=1$) is to lower the probability of cardiovascular disease ($Y=1$) by 45%."
   ]
  },
  {
   "cell_type": "markdown",
   "metadata": {},
   "source": [
    "Analogously, the NIE refers to the question of how much the benefits of exercising on cardiovascular disease are due to the regulation of cholesterol. From the causal graph, this is identifiable as:\n",
    "\n",
    "$$\\sum_w P(y|x,w)(P(w|do(x')) - P(w|do(x)))$$\n",
    "\n",
    "We can calculate this using the identification expression:"
   ]
  },
  {
   "cell_type": "code",
   "execution_count": 226,
   "metadata": {},
   "outputs": [
    {
     "data": {
      "text/plain": [
       "0.0"
      ]
     },
     "execution_count": 226,
     "metadata": {},
     "output_type": "execute_result"
    }
   ],
   "source": [
    "scm_5_7_do_x1 = scm_5_7.do({x:1})\n",
    "\n",
    "w_x1 = scm_5_7_do_x1.v.w\n",
    "\n",
    "prob = 0\n",
    "\n",
    "for w_val in range(2):\n",
    "    prob += scm_5_7.query({y:1},given={x:0,w:w_val}) * (scm_5_7.query({w_x1:w_val}) - scm_5_7.query({w_x0:w_val}))\n",
    "    \n",
    "prob"
   ]
  },
  {
   "cell_type": "markdown",
   "metadata": {},
   "source": [
    "As before, we can also directly access the counterfactual worlds:"
   ]
  },
  {
   "cell_type": "code",
   "execution_count": 227,
   "metadata": {},
   "outputs": [
    {
     "data": {
      "text/plain": [
       "0.0"
      ]
     },
     "execution_count": 227,
     "metadata": {},
     "output_type": "execute_result"
    }
   ],
   "source": [
    "y_x0_wx1 = scm_5_7.do({x:0,w:w_x1}).v.y\n",
    "\n",
    "scm_5_7.query({y_x0_wx1:1}) - scm_5_7.query({y_x0:1})"
   ]
  },
  {
   "cell_type": "markdown",
   "metadata": {},
   "source": [
    "This means that the indirect effect of exercise on cardiovascular disease through the regulation of cholesterol does not alter the probability at all of cardiovascular disease at all."
   ]
  },
  {
   "cell_type": "markdown",
   "metadata": {},
   "source": [
    "## Path-Specific Effects\n",
    "\n",
    "The NDE selects the direct path $X \\rightarrow Y$ while the NIE selects all causal paths between X and Y but the direct one. Generally, counterfactuals can be used to reason about effects carried by a selected subset of edges, called *path-specific* events."
   ]
  },
  {
   "cell_type": "markdown",
   "metadata": {},
   "source": [
    "### Example 5.8 -- Education Cost on Debt"
   ]
  },
  {
   "attachments": {
    "image.png": {
     "image/png": "[encoded data removed]"
    }
   },
   "cell_type": "markdown",
   "metadata": {},
   "source": [
    "Consider the following causal diagram:\n",
    "\n",
    "![image.png](attachment:image.png)\n",
    "\n",
    "where $X$ represents choice of career (positive or negative), $W_1$ represents institution where one receives education (sufficient or insufficient), $W_2$ is the job attained after graduation (sufficient or insufficient), and $Y$ a person's debt (low or high).\n",
    "\n",
    "The SCM is defined as follows:"
   ]
  },
  {
   "cell_type": "code",
   "execution_count": 228,
   "metadata": {},
   "outputs": [],
   "source": [
    "x, w1, w2, y, ux, uw1, uw2, uy = sp.symbols('x w1 w2 y ux uw1 uw2 uy')\n",
    "\n",
    "scm_5_8 = SymbolicSCM(\n",
    "    f = {\n",
    "        x: ux,\n",
    "        w1: uw1,\n",
    "        w2: uw2,\n",
    "        y: (x & ~w1 & ~w2) | (~x & w1 & ~w2) | (~x & ~w1 & w2) | ~x\n",
    "    },\n",
    "    pu = {\n",
    "        ux: .5,\n",
    "        uw1: .3,\n",
    "        uw2: .7,\n",
    "        uy: .1\n",
    "    }\n",
    ")"
   ]
  },
  {
   "cell_type": "markdown",
   "metadata": {},
   "source": [
    "Suppose the government is planning to lower people’s debt by partially paying off student loans. To do so, they want to assess the hypothetical situation where a\n",
    "person chooses their career, institution, and job, but the cost generated by attending the institution\n",
    "is set to the level of a low (or zero) cost program. In graphical terms, this is to assess the effect of\n",
    "the path $X \\rightarrow W_1 \\rightarrow Y$.\n",
    "\n",
    "This path-specific effect can be written as the following counterfactual:\n",
    "\n",
    "$$P(Y_{X,W_2,W_{1[x']}}) = P(Y_{W_{1[x']}})$$"
   ]
  },
  {
   "cell_type": "code",
   "execution_count": 229,
   "metadata": {},
   "outputs": [
    {
     "data": {
      "text/plain": [
       "0.6049999999999999"
      ]
     },
     "execution_count": 229,
     "metadata": {},
     "output_type": "execute_result"
    }
   ],
   "source": [
    "w_x1 = scm_5_8.do({x:1}).v.w1\n",
    "\n",
    "y_wx1 = scm_5_8.do({w1:w_x1}).v.y\n",
    "\n",
    "scm_5_8.query({y_wx1:1})"
   ]
  },
  {
   "cell_type": "markdown",
   "metadata": {},
   "source": [
    "This captures the path-specific event probability of low debt ($Y=1$) as controlled by sufficient education ($W=1$) having been intervened with a positive career choice ($do(X=1)$). Since $X$ and $W_2$ take on their natural values, they are not considered in the evaluation of the counterfactual world."
   ]
  }
 ],
 "metadata": {
  "kernelspec": {
   "display_name": "pyML",
   "language": "python",
   "name": "python3"
  },
  "language_info": {
   "codemirror_mode": {
    "name": "ipython",
    "version": 3
   },
   "file_extension": ".py",
   "mimetype": "text/x-python",
   "name": "python",
   "nbconvert_exporter": "python",
   "pygments_lexer": "ipython3",
   "version": "3.11.8"
  }
 },
 "nbformat": 4,
 "nbformat_minor": 2
}
