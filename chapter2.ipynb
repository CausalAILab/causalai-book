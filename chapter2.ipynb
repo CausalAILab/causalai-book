{
 "cells": [
  {
   "cell_type": "markdown",
   "metadata": {},
   "source": [
    "# Chapter 2"
   ]
  },
  {
   "cell_type": "code",
   "execution_count": 34,
   "metadata": {},
   "outputs": [
    {
     "name": "stdout",
     "output_type": "stream",
     "text": [
      "--2024-09-19 15:08:21--  https://raw.githubusercontent.com/CausalAILab/causality-book/main/scm.py\n",
      "Resolving raw.githubusercontent.com (raw.githubusercontent.com)... 185.199.110.133, 185.199.108.133, 185.199.111.133, ...\n",
      "Connecting to raw.githubusercontent.com (raw.githubusercontent.com)|185.199.110.133|:443... connected.\n",
      "HTTP request sent, awaiting response... 200 OK\n",
      "Length: 5789 (5.7K) [text/plain]\n",
      "Saving to: ‘scm.py’\n",
      "\n",
      "scm.py              100%[===================>]   5.65K  --.-KB/s    in 0.002s  \n",
      "\n",
      "2024-09-19 15:08:21 (2.43 MB/s) - ‘scm.py’ saved [5789/5789]\n",
      "\n"
     ]
    }
   ],
   "source": [
    "!wget -O scm.py https://raw.githubusercontent.com/CausalAILab/causality-book/main/scm.py"
   ]
  },
  {
   "cell_type": "code",
   "execution_count": 1,
   "metadata": {},
   "outputs": [
    {
     "name": "stdout",
     "output_type": "stream",
     "text": [
      "3.11.2 (main, Mar 27 2023, 18:39:42) [Clang 14.0.6 ]\n"
     ]
    }
   ],
   "source": [
    "import sys\n",
    "\n",
    "import matplotlib.pyplot as plt\n",
    "import pandas as pd\n",
    "import seaborn as sns\n",
    "import torch as T\n",
    "from sympy import symbols\n",
    "\n",
    "from IPython.display import Latex\n",
    "\n",
    "from scm import SymbolicSCM\n",
    "\n",
    "print(sys.version)"
   ]
  },
  {
   "cell_type": "markdown",
   "metadata": {},
   "source": [
    "\n",
    "# Definition 2.1.1 -- Structural Causal Model (SCM).\n",
    "\n",
    "A structural causal model $\\mathcal M$ is a 4-tuple $\\langle \\mathbf U, \\mathbf V, \\mathcal F, P(\\mathbf U)$, where\n",
    "\n",
    "- $\\mathbf U$ is a set of background variables, also called exogenous variables, that are determined by factors outside the model;\n",
    "- $\\mathbf V$ is a set $\\{V_1, \\dots V_n\\}$ of variables, called endogenous, that are determined by other variables in the model — that is, variables in $\\mathbf U \\cup \\mathbf V$.\n",
    "- $\\mathcal F$ is a set of functions $\\{f_1, \\dots f_n\\}$ such that each $f_i$ is a mapping from (the respective domains of) $U_i \\cup \\mathbf{Pa}_i$ to $V_i$, where $U_i \\in \\mathbf U, \\mathbf{Pa}_i \\in \\mathbf V \\setminus V_i$, and the entire set $\\mathcal F$ forms a mapping from $\\mathbf U$ to $\\mathbf V$. That is, for $i = 1, \\dots, n$, each $f_i \\in \\mathcal F$ is such that\n",
    "\n",
    "$$v_i \\gets f_i(\\mathbf{pa}_i, \\mathbf{u}_i)$$\n",
    "\n",
    "i.e., it assigns to a value to $V_i$ that depends on (the values of) a select set of variables in $\\mathbf U \\cup \\mathbf V$; and\n",
    "\n",
    "- $P(\\mathbf U)$ is a probability function defined over the domain of $\\mathbf U$."
   ]
  },
  {
   "cell_type": "markdown",
   "metadata": {},
   "source": [
    "## Example 2.1\n",
    "Consider a game of chance described through the SCM $\\mathcal M^1 = \\langle \\mathbf U = \\{U_1, U_2\\}, \\mathbf V = \\{X, Y\\}, \\mathcal F, P(U_1, U_2)\\rangle$, where\n",
    "\n",
    "$$\\mathcal F = \\begin{cases}\n",
    "X &\\gets U_1 + U_2 \\\\\n",
    "Y &\\gets U_1 - U_2\n",
    "\\end{cases}$$\n",
    "\n",
    "and $P(U_i = k) = 1/6$; $i = 1,2$; $k = 1, \\dots, 6$."
   ]
  },
  {
   "cell_type": "code",
   "execution_count": 2,
   "metadata": {},
   "outputs": [],
   "source": [
    "x, y, u1, u2 = symbols('x y u1 u2')\n",
    "\n",
    "m1 = SymbolicSCM(\n",
    "    f={\n",
    "        x: u1 + u2,\n",
    "        y: u1 - u2,\n",
    "    },\n",
    "    pu={\n",
    "        # each list characterizes a categorical distribution\n",
    "        # the first element is the probability of the value 0\n",
    "        u1: [0, 1/6, 1/6, 1/6, 1/6, 1/6, 1/6],\n",
    "        u2: [0, 1/6, 1/6, 1/6, 1/6, 1/6, 1/6],\n",
    "    }\n",
    ")"
   ]
  },
  {
   "cell_type": "code",
   "execution_count": 3,
   "metadata": {},
   "outputs": [
    {
     "data": {
      "text/latex": [
       "$\\begin{cases}\\mathbf V &= \\{x,y\\} \\\\\\mathbf U &= \\{u1,u2\\} \\\\\\mathbf F &= \\begin{cases}x &= u_{1} + u_{2}\\\\y &= u_{1} - u_{2}\\end{cases} \\\\P(\\mathbf U) &= \\begin{cases}u1 &\\sim \\mathrm{Categorical}([0,0.1667,0.1667,0.1667,0.1667,0.1667,0.1667])\\\\u2 &\\sim \\mathrm{Categorical}([0,0.1667,0.1667,0.1667,0.1667,0.1667,0.1667])\\end{cases}\\end{cases}$"
      ],
      "text/plain": [
       "SCM([x, y], [u1, u2])"
      ]
     },
     "execution_count": 3,
     "metadata": {},
     "output_type": "execute_result"
    }
   ],
   "source": [
    "m1"
   ]
  },
  {
   "cell_type": "code",
   "execution_count": 4,
   "metadata": {},
   "outputs": [
    {
     "data": {
      "text/html": [
       "<div>\n",
       "<style scoped>\n",
       "    .dataframe tbody tr th:only-of-type {\n",
       "        vertical-align: middle;\n",
       "    }\n",
       "\n",
       "    .dataframe tbody tr th {\n",
       "        vertical-align: top;\n",
       "    }\n",
       "\n",
       "    .dataframe thead th {\n",
       "        text-align: right;\n",
       "    }\n",
       "</style>\n",
       "<table border=\"1\" class=\"dataframe\">\n",
       "  <thead>\n",
       "    <tr style=\"text-align: right;\">\n",
       "      <th></th>\n",
       "      <th>u1</th>\n",
       "      <th>u2</th>\n",
       "      <th>x</th>\n",
       "      <th>y</th>\n",
       "      <th>probability</th>\n",
       "    </tr>\n",
       "  </thead>\n",
       "  <tbody>\n",
       "    <tr>\n",
       "      <th>0</th>\n",
       "      <td>1</td>\n",
       "      <td>1</td>\n",
       "      <td>2</td>\n",
       "      <td>0</td>\n",
       "      <td>0.027778</td>\n",
       "    </tr>\n",
       "    <tr>\n",
       "      <th>1</th>\n",
       "      <td>1</td>\n",
       "      <td>2</td>\n",
       "      <td>3</td>\n",
       "      <td>-1</td>\n",
       "      <td>0.027778</td>\n",
       "    </tr>\n",
       "    <tr>\n",
       "      <th>2</th>\n",
       "      <td>1</td>\n",
       "      <td>3</td>\n",
       "      <td>4</td>\n",
       "      <td>-2</td>\n",
       "      <td>0.027778</td>\n",
       "    </tr>\n",
       "    <tr>\n",
       "      <th>3</th>\n",
       "      <td>1</td>\n",
       "      <td>4</td>\n",
       "      <td>5</td>\n",
       "      <td>-3</td>\n",
       "      <td>0.027778</td>\n",
       "    </tr>\n",
       "    <tr>\n",
       "      <th>4</th>\n",
       "      <td>1</td>\n",
       "      <td>5</td>\n",
       "      <td>6</td>\n",
       "      <td>-4</td>\n",
       "      <td>0.027778</td>\n",
       "    </tr>\n",
       "  </tbody>\n",
       "</table>\n",
       "</div>"
      ],
      "text/plain": [
       "   u1  u2  x  y  probability\n",
       "0   1   1  2  0     0.027778\n",
       "1   1   2  3 -1     0.027778\n",
       "2   1   3  4 -2     0.027778\n",
       "3   1   4  5 -3     0.027778\n",
       "4   1   5  6 -4     0.027778"
      ]
     },
     "execution_count": 4,
     "metadata": {},
     "output_type": "execute_result"
    }
   ],
   "source": [
    "m1.get_probability_table(u=True).head()"
   ]
  },
  {
   "cell_type": "code",
   "execution_count": 5,
   "metadata": {},
   "outputs": [
    {
     "data": {
      "text/html": [
       "<div>\n",
       "<style scoped>\n",
       "    .dataframe tbody tr th:only-of-type {\n",
       "        vertical-align: middle;\n",
       "    }\n",
       "\n",
       "    .dataframe tbody tr th {\n",
       "        vertical-align: top;\n",
       "    }\n",
       "\n",
       "    .dataframe thead th {\n",
       "        text-align: right;\n",
       "    }\n",
       "</style>\n",
       "<table border=\"1\" class=\"dataframe\">\n",
       "  <thead>\n",
       "    <tr style=\"text-align: right;\">\n",
       "      <th></th>\n",
       "      <th>x</th>\n",
       "      <th>y</th>\n",
       "      <th>probability</th>\n",
       "    </tr>\n",
       "  </thead>\n",
       "  <tbody>\n",
       "    <tr>\n",
       "      <th>0</th>\n",
       "      <td>2</td>\n",
       "      <td>0</td>\n",
       "      <td>0.027778</td>\n",
       "    </tr>\n",
       "    <tr>\n",
       "      <th>1</th>\n",
       "      <td>3</td>\n",
       "      <td>-1</td>\n",
       "      <td>0.027778</td>\n",
       "    </tr>\n",
       "    <tr>\n",
       "      <th>2</th>\n",
       "      <td>3</td>\n",
       "      <td>1</td>\n",
       "      <td>0.027778</td>\n",
       "    </tr>\n",
       "    <tr>\n",
       "      <th>3</th>\n",
       "      <td>4</td>\n",
       "      <td>-2</td>\n",
       "      <td>0.027778</td>\n",
       "    </tr>\n",
       "    <tr>\n",
       "      <th>4</th>\n",
       "      <td>4</td>\n",
       "      <td>0</td>\n",
       "      <td>0.027778</td>\n",
       "    </tr>\n",
       "  </tbody>\n",
       "</table>\n",
       "</div>"
      ],
      "text/plain": [
       "   x  y  probability\n",
       "0  2  0     0.027778\n",
       "1  3 -1     0.027778\n",
       "2  3  1     0.027778\n",
       "3  4 -2     0.027778\n",
       "4  4  0     0.027778"
      ]
     },
     "execution_count": 5,
     "metadata": {},
     "output_type": "execute_result"
    }
   ],
   "source": [
    "m1.get_probability_table().head()"
   ]
  },
  {
   "cell_type": "markdown",
   "metadata": {},
   "source": [
    "First, we plot an empirical histogram of each variable's using $10^6$ samples drawn from its distribution."
   ]
  },
  {
   "cell_type": "code",
   "execution_count": 6,
   "metadata": {},
   "outputs": [
    {
     "data": {
      "image/png": "[encoded data removed]",
      "text/plain": [
       "<Figure size 1000x500 with 2 Axes>"
      ]
     },
     "metadata": {},
     "output_type": "display_data"
    }
   ],
   "source": [
    "sample = m1.sample(n=10**6)\n",
    "\n",
    "fig, axes = plt.subplots(1, 2, figsize=(10, 5))\n",
    "sns.histplot(sample[x], label='x', ax=axes[0], discrete=True, stat=\"probability\")\n",
    "axes[0].set_title('x')   \n",
    "sns.histplot(sample[y], label='y', ax=axes[1], discrete=True, stat=\"probability\")\n",
    "axes[1].set_title('y')\n",
    "plt.show()"
   ]
  },
  {
   "cell_type": "markdown",
   "metadata": {},
   "source": [
    "Then, we compute the joint distribution of $X, Y$. We are able to do so in closed form, given that all variables are discrete."
   ]
  },
  {
   "cell_type": "code",
   "execution_count": 7,
   "metadata": {},
   "outputs": [
    {
     "data": {
      "text/html": [
       "<div>\n",
       "<style scoped>\n",
       "    .dataframe tbody tr th:only-of-type {\n",
       "        vertical-align: middle;\n",
       "    }\n",
       "\n",
       "    .dataframe tbody tr th {\n",
       "        vertical-align: top;\n",
       "    }\n",
       "\n",
       "    .dataframe thead th {\n",
       "        text-align: right;\n",
       "    }\n",
       "</style>\n",
       "<table border=\"1\" class=\"dataframe\">\n",
       "  <thead>\n",
       "    <tr style=\"text-align: right;\">\n",
       "      <th></th>\n",
       "      <th>x</th>\n",
       "      <th>y</th>\n",
       "      <th>probability</th>\n",
       "    </tr>\n",
       "  </thead>\n",
       "  <tbody>\n",
       "    <tr>\n",
       "      <th>0</th>\n",
       "      <td>2</td>\n",
       "      <td>0</td>\n",
       "      <td>0.027778</td>\n",
       "    </tr>\n",
       "    <tr>\n",
       "      <th>1</th>\n",
       "      <td>3</td>\n",
       "      <td>-1</td>\n",
       "      <td>0.027778</td>\n",
       "    </tr>\n",
       "    <tr>\n",
       "      <th>2</th>\n",
       "      <td>3</td>\n",
       "      <td>1</td>\n",
       "      <td>0.027778</td>\n",
       "    </tr>\n",
       "    <tr>\n",
       "      <th>3</th>\n",
       "      <td>4</td>\n",
       "      <td>-2</td>\n",
       "      <td>0.027778</td>\n",
       "    </tr>\n",
       "    <tr>\n",
       "      <th>4</th>\n",
       "      <td>4</td>\n",
       "      <td>0</td>\n",
       "      <td>0.027778</td>\n",
       "    </tr>\n",
       "  </tbody>\n",
       "</table>\n",
       "</div>"
      ],
      "text/plain": [
       "   x  y  probability\n",
       "0  2  0     0.027778\n",
       "1  3 -1     0.027778\n",
       "2  3  1     0.027778\n",
       "3  4 -2     0.027778\n",
       "4  4  0     0.027778"
      ]
     },
     "execution_count": 7,
     "metadata": {},
     "output_type": "execute_result"
    }
   ],
   "source": [
    "m1.get_probability_table().head()"
   ]
  },
  {
   "cell_type": "code",
   "execution_count": 8,
   "metadata": {},
   "outputs": [
    {
     "data": {
      "text/plain": [
       "Text(0.5, 1.0, 'Joint distribution of x and y')"
      ]
     },
     "execution_count": 8,
     "metadata": {},
     "output_type": "execute_result"
    },
    {
     "data": {
      "image/png": "[encoded data removed]",
      "text/plain": [
       "<Figure size 640x480 with 2 Axes>"
      ]
     },
     "metadata": {},
     "output_type": "display_data"
    }
   ],
   "source": [
    "sns.heatmap(pd.pivot(m1.get_probability_table(), index=y, columns=x, values='probability'))\n",
    "plt.title('Joint distribution of x and y')"
   ]
  },
  {
   "cell_type": "markdown",
   "metadata": {},
   "source": [
    "# Example 2.2"
   ]
  },
  {
   "cell_type": "markdown",
   "metadata": {},
   "source": [
    "Consider the following SCM, where the observed variables represent a specific treatment $X$ (e.g., taking a drug), an outcome $Y$ (e.g., survival), and the presence or absence of a symptom $Z$ (e.g., hypertension). The exogenous variables consist of natural resistance to the disease $U_r$ and other unknown sources of variation $U_x, U_y, U_z$.\n",
    "\n",
    "$$\n",
    "\\mathcal M^2 = \\begin{cases}\n",
    "    \\mathbf V &= \\{X, Y, Z\\}\\\\\n",
    "    \\mathbf U &= \\{U_r, U_x, U_y, U_z\\}\\\\\n",
    "    \\mathcal F &= \\begin{cases}\n",
    "        Z := \\mathbf 1[U_r = 1, U_z = 1]\\\\\n",
    "        X := \\mathbf 1[Z = 1, U_x = 1] + \\mathbf 1[Z = 0, U_x = 0]\\\\\n",
    "        Y := \\mathbf 1[X = 1, U_r = 1] + \\mathbf 1[X = 0, U_r = 1, U_y = 1] + \\mathbf 1[X = 0, U_r = 0, U_y = 0]\\\\\n",
    "    \\end{cases}\\\\\n",
    "    P(\\mathbf U) &= \\begin{cases}\n",
    "       U_r &\\sim \\mathrm{Bern}(0.25) \\\\\n",
    "       U_z &\\sim \\mathrm{Bern}(0.95) \\\\\n",
    "       U_x &\\sim \\mathrm{Bern}(0.9) \\\\\n",
    "       U_y &\\sim \\mathrm{Bern}(0.7) \\\\\n",
    "    \\end{cases}\n",
    "\\end{cases}\n",
    "$$\n",
    "\n",
    "We may implement this SCM as follows:"
   ]
  },
  {
   "cell_type": "code",
   "execution_count": 9,
   "metadata": {},
   "outputs": [
    {
     "data": {
      "text/latex": [
       "$\\begin{cases}\\mathbf V &= \\{z,x,y\\} \\\\\\mathbf U &= \\{ur,uz,ux,uy\\} \\\\\\mathbf F &= \\begin{cases}z &= ur \\wedge uz\\\\x &= \\left(ux \\wedge z\\right) \\vee \\left(\\neg ux \\wedge \\neg z\\right)\\\\y &= \\left(ur \\wedge x\\right) \\vee \\left(ur \\wedge uy \\wedge \\neg x\\right) \\vee \\left(\\neg ur \\wedge \\neg uy \\wedge \\neg x\\right)\\end{cases} \\\\P(\\mathbf U) &= \\begin{cases}ur &\\sim \\mathrm{Bern}(0.25)\\\\uz &\\sim \\mathrm{Bern}(0.95)\\\\ux &\\sim \\mathrm{Bern}(0.9)\\\\uy &\\sim \\mathrm{Bern}(0.7)\\end{cases}\\end{cases}$"
      ],
      "text/plain": [
       "SCM([z, x, y], [ur, uz, ux, uy])"
      ]
     },
     "execution_count": 9,
     "metadata": {},
     "output_type": "execute_result"
    }
   ],
   "source": [
    "z, x, y, ur, uz, ux, uy = symbols('z x y ur uz ux uy')\n",
    "\n",
    "m2 = SymbolicSCM(\n",
    "    f={\n",
    "        z: ur & uz,\n",
    "        x: z & ux | ~z & ~ux,\n",
    "        y: x & ur | ~x & ur & uy | ~x & ~ur & ~uy,\n",
    "    },\n",
    "    pu={\n",
    "        ur: 0.25,\n",
    "        uz: 0.95,\n",
    "        ux: 0.9,\n",
    "        uy: 0.7,\n",
    "    }\n",
    ")\n",
    "m2"
   ]
  },
  {
   "cell_type": "code",
   "execution_count": 10,
   "metadata": {},
   "outputs": [
    {
     "data": {
      "text/html": [
       "<div>\n",
       "<style scoped>\n",
       "    .dataframe tbody tr th:only-of-type {\n",
       "        vertical-align: middle;\n",
       "    }\n",
       "\n",
       "    .dataframe tbody tr th {\n",
       "        vertical-align: top;\n",
       "    }\n",
       "\n",
       "    .dataframe thead th {\n",
       "        text-align: right;\n",
       "    }\n",
       "</style>\n",
       "<table border=\"1\" class=\"dataframe\">\n",
       "  <thead>\n",
       "    <tr style=\"text-align: right;\">\n",
       "      <th></th>\n",
       "      <th>z</th>\n",
       "      <th>x</th>\n",
       "      <th>y</th>\n",
       "      <th>probability</th>\n",
       "    </tr>\n",
       "  </thead>\n",
       "  <tbody>\n",
       "    <tr>\n",
       "      <th>0</th>\n",
       "      <td>0</td>\n",
       "      <td>0</td>\n",
       "      <td>0</td>\n",
       "      <td>0.475875</td>\n",
       "    </tr>\n",
       "    <tr>\n",
       "      <th>1</th>\n",
       "      <td>0</td>\n",
       "      <td>0</td>\n",
       "      <td>1</td>\n",
       "      <td>0.210375</td>\n",
       "    </tr>\n",
       "    <tr>\n",
       "      <th>2</th>\n",
       "      <td>0</td>\n",
       "      <td>1</td>\n",
       "      <td>0</td>\n",
       "      <td>0.075000</td>\n",
       "    </tr>\n",
       "    <tr>\n",
       "      <th>3</th>\n",
       "      <td>0</td>\n",
       "      <td>1</td>\n",
       "      <td>1</td>\n",
       "      <td>0.001250</td>\n",
       "    </tr>\n",
       "    <tr>\n",
       "      <th>4</th>\n",
       "      <td>1</td>\n",
       "      <td>0</td>\n",
       "      <td>0</td>\n",
       "      <td>0.007125</td>\n",
       "    </tr>\n",
       "    <tr>\n",
       "      <th>5</th>\n",
       "      <td>1</td>\n",
       "      <td>0</td>\n",
       "      <td>1</td>\n",
       "      <td>0.016625</td>\n",
       "    </tr>\n",
       "    <tr>\n",
       "      <th>6</th>\n",
       "      <td>1</td>\n",
       "      <td>1</td>\n",
       "      <td>1</td>\n",
       "      <td>0.213750</td>\n",
       "    </tr>\n",
       "  </tbody>\n",
       "</table>\n",
       "</div>"
      ],
      "text/plain": [
       "   z  x  y  probability\n",
       "0  0  0  0     0.475875\n",
       "1  0  0  1     0.210375\n",
       "2  0  1  0     0.075000\n",
       "3  0  1  1     0.001250\n",
       "4  1  0  0     0.007125\n",
       "5  1  0  1     0.016625\n",
       "6  1  1  1     0.213750"
      ]
     },
     "execution_count": 10,
     "metadata": {},
     "output_type": "execute_result"
    }
   ],
   "source": [
    "m2.get_probability_table()"
   ]
  },
  {
   "cell_type": "markdown",
   "metadata": {},
   "source": [
    "## Example 2.3 (2.2 cont.)"
   ]
  },
  {
   "cell_type": "markdown",
   "metadata": {},
   "source": [
    "We can reproduce Table 2.2 in the textbook by setting `u = True` to also display exogenous variables:"
   ]
  },
  {
   "cell_type": "code",
   "execution_count": 11,
   "metadata": {},
   "outputs": [
    {
     "data": {
      "text/html": [
       "<div>\n",
       "<style scoped>\n",
       "    .dataframe tbody tr th:only-of-type {\n",
       "        vertical-align: middle;\n",
       "    }\n",
       "\n",
       "    .dataframe tbody tr th {\n",
       "        vertical-align: top;\n",
       "    }\n",
       "\n",
       "    .dataframe thead th {\n",
       "        text-align: right;\n",
       "    }\n",
       "</style>\n",
       "<table border=\"1\" class=\"dataframe\">\n",
       "  <thead>\n",
       "    <tr style=\"text-align: right;\">\n",
       "      <th></th>\n",
       "      <th>ur</th>\n",
       "      <th>uz</th>\n",
       "      <th>ux</th>\n",
       "      <th>uy</th>\n",
       "      <th>z</th>\n",
       "      <th>x</th>\n",
       "      <th>y</th>\n",
       "      <th>probability</th>\n",
       "    </tr>\n",
       "  </thead>\n",
       "  <tbody>\n",
       "    <tr>\n",
       "      <th>0</th>\n",
       "      <td>0</td>\n",
       "      <td>0</td>\n",
       "      <td>0</td>\n",
       "      <td>0</td>\n",
       "      <td>0</td>\n",
       "      <td>1</td>\n",
       "      <td>0</td>\n",
       "      <td>0.001125</td>\n",
       "    </tr>\n",
       "    <tr>\n",
       "      <th>1</th>\n",
       "      <td>0</td>\n",
       "      <td>0</td>\n",
       "      <td>0</td>\n",
       "      <td>1</td>\n",
       "      <td>0</td>\n",
       "      <td>1</td>\n",
       "      <td>0</td>\n",
       "      <td>0.002625</td>\n",
       "    </tr>\n",
       "    <tr>\n",
       "      <th>2</th>\n",
       "      <td>0</td>\n",
       "      <td>0</td>\n",
       "      <td>1</td>\n",
       "      <td>0</td>\n",
       "      <td>0</td>\n",
       "      <td>0</td>\n",
       "      <td>1</td>\n",
       "      <td>0.010125</td>\n",
       "    </tr>\n",
       "    <tr>\n",
       "      <th>3</th>\n",
       "      <td>0</td>\n",
       "      <td>0</td>\n",
       "      <td>1</td>\n",
       "      <td>1</td>\n",
       "      <td>0</td>\n",
       "      <td>0</td>\n",
       "      <td>0</td>\n",
       "      <td>0.023625</td>\n",
       "    </tr>\n",
       "    <tr>\n",
       "      <th>4</th>\n",
       "      <td>0</td>\n",
       "      <td>1</td>\n",
       "      <td>0</td>\n",
       "      <td>0</td>\n",
       "      <td>0</td>\n",
       "      <td>1</td>\n",
       "      <td>0</td>\n",
       "      <td>0.021375</td>\n",
       "    </tr>\n",
       "    <tr>\n",
       "      <th>5</th>\n",
       "      <td>0</td>\n",
       "      <td>1</td>\n",
       "      <td>0</td>\n",
       "      <td>1</td>\n",
       "      <td>0</td>\n",
       "      <td>1</td>\n",
       "      <td>0</td>\n",
       "      <td>0.049875</td>\n",
       "    </tr>\n",
       "    <tr>\n",
       "      <th>6</th>\n",
       "      <td>0</td>\n",
       "      <td>1</td>\n",
       "      <td>1</td>\n",
       "      <td>0</td>\n",
       "      <td>0</td>\n",
       "      <td>0</td>\n",
       "      <td>1</td>\n",
       "      <td>0.192375</td>\n",
       "    </tr>\n",
       "    <tr>\n",
       "      <th>7</th>\n",
       "      <td>0</td>\n",
       "      <td>1</td>\n",
       "      <td>1</td>\n",
       "      <td>1</td>\n",
       "      <td>0</td>\n",
       "      <td>0</td>\n",
       "      <td>0</td>\n",
       "      <td>0.448875</td>\n",
       "    </tr>\n",
       "    <tr>\n",
       "      <th>8</th>\n",
       "      <td>1</td>\n",
       "      <td>0</td>\n",
       "      <td>0</td>\n",
       "      <td>0</td>\n",
       "      <td>0</td>\n",
       "      <td>1</td>\n",
       "      <td>1</td>\n",
       "      <td>0.000375</td>\n",
       "    </tr>\n",
       "    <tr>\n",
       "      <th>9</th>\n",
       "      <td>1</td>\n",
       "      <td>0</td>\n",
       "      <td>0</td>\n",
       "      <td>1</td>\n",
       "      <td>0</td>\n",
       "      <td>1</td>\n",
       "      <td>1</td>\n",
       "      <td>0.000875</td>\n",
       "    </tr>\n",
       "    <tr>\n",
       "      <th>10</th>\n",
       "      <td>1</td>\n",
       "      <td>0</td>\n",
       "      <td>1</td>\n",
       "      <td>0</td>\n",
       "      <td>0</td>\n",
       "      <td>0</td>\n",
       "      <td>0</td>\n",
       "      <td>0.003375</td>\n",
       "    </tr>\n",
       "    <tr>\n",
       "      <th>11</th>\n",
       "      <td>1</td>\n",
       "      <td>0</td>\n",
       "      <td>1</td>\n",
       "      <td>1</td>\n",
       "      <td>0</td>\n",
       "      <td>0</td>\n",
       "      <td>1</td>\n",
       "      <td>0.007875</td>\n",
       "    </tr>\n",
       "    <tr>\n",
       "      <th>12</th>\n",
       "      <td>1</td>\n",
       "      <td>1</td>\n",
       "      <td>0</td>\n",
       "      <td>0</td>\n",
       "      <td>1</td>\n",
       "      <td>0</td>\n",
       "      <td>0</td>\n",
       "      <td>0.007125</td>\n",
       "    </tr>\n",
       "    <tr>\n",
       "      <th>13</th>\n",
       "      <td>1</td>\n",
       "      <td>1</td>\n",
       "      <td>0</td>\n",
       "      <td>1</td>\n",
       "      <td>1</td>\n",
       "      <td>0</td>\n",
       "      <td>1</td>\n",
       "      <td>0.016625</td>\n",
       "    </tr>\n",
       "    <tr>\n",
       "      <th>14</th>\n",
       "      <td>1</td>\n",
       "      <td>1</td>\n",
       "      <td>1</td>\n",
       "      <td>0</td>\n",
       "      <td>1</td>\n",
       "      <td>1</td>\n",
       "      <td>1</td>\n",
       "      <td>0.064125</td>\n",
       "    </tr>\n",
       "    <tr>\n",
       "      <th>15</th>\n",
       "      <td>1</td>\n",
       "      <td>1</td>\n",
       "      <td>1</td>\n",
       "      <td>1</td>\n",
       "      <td>1</td>\n",
       "      <td>1</td>\n",
       "      <td>1</td>\n",
       "      <td>0.149625</td>\n",
       "    </tr>\n",
       "  </tbody>\n",
       "</table>\n",
       "</div>"
      ],
      "text/plain": [
       "    ur  uz  ux  uy  z  x  y  probability\n",
       "0    0   0   0   0  0  1  0     0.001125\n",
       "1    0   0   0   1  0  1  0     0.002625\n",
       "2    0   0   1   0  0  0  1     0.010125\n",
       "3    0   0   1   1  0  0  0     0.023625\n",
       "4    0   1   0   0  0  1  0     0.021375\n",
       "5    0   1   0   1  0  1  0     0.049875\n",
       "6    0   1   1   0  0  0  1     0.192375\n",
       "7    0   1   1   1  0  0  0     0.448875\n",
       "8    1   0   0   0  0  1  1     0.000375\n",
       "9    1   0   0   1  0  1  1     0.000875\n",
       "10   1   0   1   0  0  0  0     0.003375\n",
       "11   1   0   1   1  0  0  1     0.007875\n",
       "12   1   1   0   0  1  0  0     0.007125\n",
       "13   1   1   0   1  1  0  1     0.016625\n",
       "14   1   1   1   0  1  1  1     0.064125\n",
       "15   1   1   1   1  1  1  1     0.149625"
      ]
     },
     "execution_count": 11,
     "metadata": {},
     "output_type": "execute_result"
    }
   ],
   "source": [
    "m2.get_probability_table(u=True)"
   ]
  },
  {
   "cell_type": "markdown",
   "metadata": {},
   "source": [
    "We may evaluate $P(Y = 1 | X = 1)$ as $P(Y = 1, X = 1) / P(X = 1)$ using Bayes' rule by directly querying the probability table, a pandas DataFrame."
   ]
  },
  {
   "cell_type": "code",
   "execution_count": 12,
   "metadata": {},
   "outputs": [
    {
     "data": {
      "text/plain": [
       "0.7413793103448276"
      ]
     },
     "execution_count": 12,
     "metadata": {},
     "output_type": "execute_result"
    }
   ],
   "source": [
    "pt = m2.get_probability_table()\n",
    "pt.query('x == 1 and y == 1').probability.sum() / pt.query('x == 1').probability.sum()"
   ]
  },
  {
   "cell_type": "markdown",
   "metadata": {},
   "source": [
    "For convenience, we implement the equivalent `SCM.query` to compute queries."
   ]
  },
  {
   "cell_type": "code",
   "execution_count": 13,
   "metadata": {},
   "outputs": [
    {
     "data": {
      "text/plain": [
       "0.7413793103448276"
      ]
     },
     "execution_count": 13,
     "metadata": {},
     "output_type": "execute_result"
    }
   ],
   "source": [
    "m2.query({y: 1}, given={x: 1})"
   ]
  },
  {
   "cell_type": "markdown",
   "metadata": {},
   "source": [
    "The `latex` flag causes the function to output the query and value in LaTeX."
   ]
  },
  {
   "cell_type": "code",
   "execution_count": 14,
   "metadata": {},
   "outputs": [
    {
     "data": {
      "text/latex": [
       "$P(y = 1|x = 1) \\approx 0.7414$"
      ],
      "text/plain": [
       "<IPython.core.display.Latex object>"
      ]
     },
     "execution_count": 14,
     "metadata": {},
     "output_type": "execute_result"
    }
   ],
   "source": [
    "m2.query({y: 1}, given={x: 1}, latex=True)"
   ]
  },
  {
   "cell_type": "code",
   "execution_count": 15,
   "metadata": {},
   "outputs": [
    {
     "data": {
      "text/latex": [
       "$P(y = 1|x = 0) \\approx 0.3197$"
      ],
      "text/plain": [
       "<IPython.core.display.Latex object>"
      ]
     },
     "execution_count": 15,
     "metadata": {},
     "output_type": "execute_result"
    }
   ],
   "source": [
    "m2.query({y: 1}, given={x: 0}, latex=True)"
   ]
  },
  {
   "cell_type": "code",
   "execution_count": 16,
   "metadata": {},
   "outputs": [
    {
     "data": {
      "text/latex": [
       "$P(z = 1) \\approx 0.2375$"
      ],
      "text/plain": [
       "<IPython.core.display.Latex object>"
      ]
     },
     "execution_count": 16,
     "metadata": {},
     "output_type": "execute_result"
    }
   ],
   "source": [
    "m2.query({z: 1}, latex=True)"
   ]
  },
  {
   "cell_type": "markdown",
   "metadata": {},
   "source": [
    "## Example 2.4 (2.1 cont.)"
   ]
  },
  {
   "cell_type": "markdown",
   "metadata": {},
   "source": [
    "Consider the SCM in Example 2.1."
   ]
  },
  {
   "cell_type": "code",
   "execution_count": 17,
   "metadata": {},
   "outputs": [
    {
     "data": {
      "text/latex": [
       "$\\begin{cases}\\mathbf V &= \\{x,y\\} \\\\\\mathbf U &= \\{u1,u2\\} \\\\\\mathbf F &= \\begin{cases}x &= u_{1} + u_{2}\\\\y &= u_{1} - u_{2}\\end{cases} \\\\P(\\mathbf U) &= \\begin{cases}u1 &\\sim \\mathrm{Categorical}([0,0.1667,0.1667,0.1667,0.1667,0.1667,0.1667])\\\\u2 &\\sim \\mathrm{Categorical}([0,0.1667,0.1667,0.1667,0.1667,0.1667,0.1667])\\end{cases}\\end{cases}$"
      ],
      "text/plain": [
       "SCM([x, y], [u1, u2])"
      ]
     },
     "execution_count": 17,
     "metadata": {},
     "output_type": "execute_result"
    }
   ],
   "source": [
    "m1"
   ]
  },
  {
   "cell_type": "code",
   "execution_count": 25,
   "metadata": {},
   "outputs": [
    {
     "data": {
      "text/latex": [
       "$P(y = 0) \\approx 0.1667$"
      ],
      "text/plain": [
       "<IPython.core.display.Latex object>"
      ]
     },
     "execution_count": 25,
     "metadata": {},
     "output_type": "execute_result"
    }
   ],
   "source": [
    "m1.query({y: 0}, latex=True)"
   ]
  },
  {
   "cell_type": "markdown",
   "metadata": {},
   "source": [
    "If we intervene on $Y$, setting $Y = 1$, it is evident $X$ will not change, because it does not depend on $Y$. We can see this when we replace the function for $Y$ with $Y = 1$.\n",
    "\n",
    "Note that all observed variables in the interventional submodel $\\mathcal M_{Y = 1}$ now have a subscript; the unobserved variables are unaffected by the intervention and do not change."
   ]
  },
  {
   "cell_type": "code",
   "execution_count": 24,
   "metadata": {},
   "outputs": [
    {
     "data": {
      "text/latex": [
       "$\\begin{cases}\\mathbf V &= \\{{x}_{y=1},{y}_{y=1}\\} \\\\\\mathbf U &= \\{u1,u2\\} \\\\\\mathbf F &= \\begin{cases}{x}_{y=1} &= u_{1} + u_{2}\\\\{y}_{y=1} &= 1\\end{cases} \\\\P(\\mathbf U) &= \\begin{cases}u1 &\\sim \\mathrm{Categorical}([0,0.1667,0.1667,0.1667,0.1667,0.1667,0.1667])\\\\u2 &\\sim \\mathrm{Categorical}([0,0.1667,0.1667,0.1667,0.1667,0.1667,0.1667])\\end{cases}\\end{cases}$"
      ],
      "text/plain": [
       "SCM([{x}_{y=1}, {y}_{y=1}], [u1, u2])"
      ]
     },
     "execution_count": 24,
     "metadata": {},
     "output_type": "execute_result"
    }
   ],
   "source": [
    "m1.do({y: 1})"
   ]
  },
  {
   "cell_type": "code",
   "execution_count": 29,
   "metadata": {},
   "outputs": [
    {
     "data": {
      "text/latex": [
       "$P(y = 0 | do(x = 2)) = 0.1667$"
      ],
      "text/plain": [
       "<IPython.core.display.Latex object>"
      ]
     },
     "execution_count": 29,
     "metadata": {},
     "output_type": "execute_result"
    }
   ],
   "source": [
    "val = m1.do({x: 2}).query({y: 0})\n",
    "\n",
    "Latex(f'$P(y = 0 | do(x = 2)) = {val:.4f}$')"
   ]
  },
  {
   "cell_type": "markdown",
   "metadata": {},
   "source": [
    "## Example 2.5 (2.2 cont.)"
   ]
  },
  {
   "cell_type": "markdown",
   "metadata": {},
   "source": [
    "Next, we consider **treatment effects**. What is the effect of treatment $X$ on medical outcome $Y$?\n",
    "\n",
    "Can we just look at the observational quantity $P(Y = 1 | X = 1) - P(Y = 1 | X = 0)$ to make a decision on whether or not to apply the treatment?"
   ]
  },
  {
   "cell_type": "code",
   "execution_count": 30,
   "metadata": {},
   "outputs": [
    {
     "data": {
      "text/latex": [
       "$P(y = 1) \\approx 0.25$"
      ],
      "text/plain": [
       "<IPython.core.display.Latex object>"
      ]
     },
     "execution_count": 30,
     "metadata": {},
     "output_type": "execute_result"
    }
   ],
   "source": [
    "m2.do({x: 1}).query({y: 1}, latex=True)"
   ]
  },
  {
   "cell_type": "code",
   "execution_count": 31,
   "metadata": {},
   "outputs": [
    {
     "data": {
      "text/latex": [
       "$P(y=1 | x=1) - P(y=1 | x=0) \\approx 0.4217$"
      ],
      "text/plain": [
       "<IPython.core.display.Latex object>"
      ]
     },
     "execution_count": 31,
     "metadata": {},
     "output_type": "execute_result"
    }
   ],
   "source": [
    "val = m2.query({y: 1}, given={x: 1}) - m2.query({y: 1}, given={x: 0})\n",
    "Latex(f'$P(y=1 | x=1) - P(y=1 | x=0) \\\\approx {val:.4g}$')"
   ]
  },
  {
   "cell_type": "markdown",
   "metadata": {},
   "source": [
    "The total variation of X on Y is positive. So should we enforce the treatment $X = 1$?\n",
    "\n",
    "Let's compare this difference to the **average treatment effect**, $P(Y = 1 | do(X = 1)) - P(Y = 1 | do(X = 0))$. This represents the difference between control and treatment group in a randomized controlled trial, where treatment assignment is randomized."
   ]
  },
  {
   "cell_type": "code",
   "execution_count": 23,
   "metadata": {},
   "outputs": [
    {
     "data": {
      "text/latex": [
       "$P(y=1 | do(x=1)) - P(y=1 | do(x=0)) \\approx -0.15$"
      ],
      "text/plain": [
       "<IPython.core.display.Latex object>"
      ]
     },
     "execution_count": 23,
     "metadata": {},
     "output_type": "execute_result"
    }
   ],
   "source": [
    "val = m2.do({x: 1}).query({y: 1}) - m2.do({x: 0}).query({y: 1})\n",
    "Latex(f'$P(y=1 | do(x=1)) - P(y=1 | do(x=0)) \\\\approx {val:.4g}$')"
   ]
  },
  {
   "cell_type": "markdown",
   "metadata": {},
   "source": [
    "We can see that if we enforce the treatment, $do(X = 1)$, we will actually end up harming the population more than we help it."
   ]
  }
 ],
 "metadata": {
  "kernelspec": {
   "display_name": "Python 3",
   "language": "python",
   "name": "python3"
  },
  "language_info": {
   "codemirror_mode": {
    "name": "ipython",
    "version": 3
   },
   "file_extension": ".py",
   "mimetype": "text/x-python",
   "name": "python",
   "nbconvert_exporter": "python",
   "pygments_lexer": "ipython3",
   "version": "3.11.2"
  }
 },
 "nbformat": 4,
 "nbformat_minor": 2
}
