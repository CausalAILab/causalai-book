{
 "cells": [
  {
   "cell_type": "markdown",
   "metadata": {},
   "source": [
    "# Chapter 2"
   ]
  },
  {
   "cell_type": "markdown",
   "metadata": {},
   "source": [
    "<a target=\"_blank\" href=\"https://colab.research.google.com/github/CausalAILab/causalai-book/blob/main/chapter2.ipynb\">\n",
    "  <img src=\"https://colab.research.google.com/assets/colab-badge.svg\" alt=\"Open In Colab\"/>\n",
    "</a>"
   ]
  },
  {
   "cell_type": "code",
   "execution_count": 1,
   "metadata": {},
   "outputs": [],
   "source": [
    "import os\n",
    "import sys\n",
    "\n",
    "if 'google.colab' in sys.modules:\n",
    "    os.system(\"wget -O scm.py https://raw.githubusercontent.com/CausalAILab/causality-book/main/scm.py\")"
   ]
  },
  {
   "cell_type": "code",
   "execution_count": 2,
   "metadata": {},
   "outputs": [
    {
     "name": "stdout",
     "output_type": "stream",
     "text": [
      "3.11.8 | packaged by conda-forge | (main, Feb 16 2024, 20:49:36) [Clang 16.0.6 ]\n"
     ]
    }
   ],
   "source": [
    "import sys\n",
    "\n",
    "import matplotlib.pyplot as plt\n",
    "import pandas as pd\n",
    "import seaborn as sns\n",
    "from sympy import symbols\n",
    "\n",
    "from IPython.display import Latex\n",
    "\n",
    "from scm import SymbolicSCM\n",
    "\n",
    "print(sys.version)"
   ]
  },
  {
   "cell_type": "markdown",
   "metadata": {},
   "source": [
    "\n",
    "# Definition 2.1.1 - Structural Causal Model (SCM).\n",
    "\n",
    "A structural causal model $M$ is a 4-tuple $\\langle \\mathbf U, \\mathbf V, F, P(\\mathbf U)\\rangle$, where\n",
    "\n",
    "- $\\mathbf U$ is a set of background variables, also called exogenous variables, that are determined by factors outside the model;\n",
    "- $\\mathbf V$ is a set $\\{V_1, \\dots V_n\\}$ of variables, called endogenous, that are determined by other variables in the model — that is, variables in $\\mathbf U \\cup \\mathbf V$.\n",
    "- $F$ is a set of functions $\\{f_1, \\dots f_n\\}$ such that each $f_i$ is a mapping from (the respective domains of) $U_i \\cup \\mathbf{Pa}_i$ to $V_i$, where $U_i \\subseteq \\mathbf U, \\mathbf{Pa}_i \\subseteq \\mathbf V \\setminus V_i$, and the entire set $F$ forms a mapping from $\\mathbf U$ to $\\mathbf V$. That is, for $i = 1, \\dots, n$, each $f_i \\in F$ is such that\n",
    "\n",
    "$$v_i \\gets f_i(\\mathbf{pa}_i, \\mathbf{u}_i)$$\n",
    "\n",
    "i.e., it assigns to a value to $V_i$ that depends on (the values of) a select set of variables in $\\mathbf U \\cup \\mathbf V$; and\n",
    "\n",
    "- $P(\\mathbf U)$ is a probability function defined over the domain of $\\mathbf U$."
   ]
  },
  {
   "cell_type": "markdown",
   "metadata": {},
   "source": [
    "## Example 2.1\n",
    "Consider a game of chance described through the SCM $M^1 = \\langle \\mathbf U = \\{U_1, U_2\\}, \\mathbf V = \\{X, Y\\}, F, P(U_1, U_2)\\rangle$, where\n",
    "\n",
    "$$F = \\begin{cases}\n",
    "X &\\gets U_1 + U_2 \\\\\n",
    "Y &\\gets U_1 - U_2\n",
    "\\end{cases}$$\n",
    "\n",
    "and $P(U_i = k) = 1/6$; $i = 1,2$; $k = 1, \\dots, 6$."
   ]
  },
  {
   "cell_type": "code",
   "execution_count": 3,
   "metadata": {},
   "outputs": [
    {
     "data": {
      "text/latex": [
       "$\\begin{cases}\\mathbf V &= \\{x,y\\} \\\\\\mathbf U &= \\{u1,u2\\} \\\\F &= \\begin{cases}x &= u_{1} + u_{2}\\\\y &= u_{1} - u_{2}\\end{cases} \\\\P(\\mathbf U) &= \\begin{cases}u1 &\\sim \\mathrm{Categorical}([0,0.1667,0.1667,0.1667,0.1667,0.1667,0.1667])\\\\u2 &\\sim \\mathrm{Categorical}([0,0.1667,0.1667,0.1667,0.1667,0.1667,0.1667])\\end{cases}\\end{cases}$"
      ],
      "text/plain": [
       "SCM([x, y], [u1, u2])"
      ]
     },
     "execution_count": 3,
     "metadata": {},
     "output_type": "execute_result"
    }
   ],
   "source": [
    "x, y, u1, u2 = symbols('x y u1 u2')\n",
    "\n",
    "m1 = SymbolicSCM(\n",
    "    f={\n",
    "        x: u1 + u2,\n",
    "        y: u1 - u2,\n",
    "    },\n",
    "    pu={\n",
    "        # each list characterizes a categorical distribution\n",
    "        # the first element is the probability of the value 0\n",
    "        u1: [0, 1/6, 1/6, 1/6, 1/6, 1/6, 1/6],\n",
    "        u2: [0, 1/6, 1/6, 1/6, 1/6, 1/6, 1/6],\n",
    "    }\n",
    ")\n",
    "m1"
   ]
  },
  {
   "cell_type": "code",
   "execution_count": 4,
   "metadata": {},
   "outputs": [
    {
     "data": {
      "text/html": [
       "<div>\n",
       "<style scoped>\n",
       "    .dataframe tbody tr th:only-of-type {\n",
       "        vertical-align: middle;\n",
       "    }\n",
       "\n",
       "    .dataframe tbody tr th {\n",
       "        vertical-align: top;\n",
       "    }\n",
       "\n",
       "    .dataframe thead th {\n",
       "        text-align: right;\n",
       "    }\n",
       "</style>\n",
       "<table border=\"1\" class=\"dataframe\">\n",
       "  <thead>\n",
       "    <tr style=\"text-align: right;\">\n",
       "      <th></th>\n",
       "      <th>u1</th>\n",
       "      <th>u2</th>\n",
       "      <th>x</th>\n",
       "      <th>y</th>\n",
       "      <th>probability</th>\n",
       "    </tr>\n",
       "  </thead>\n",
       "  <tbody>\n",
       "    <tr>\n",
       "      <th>0</th>\n",
       "      <td>1</td>\n",
       "      <td>1</td>\n",
       "      <td>2</td>\n",
       "      <td>0</td>\n",
       "      <td>0.027778</td>\n",
       "    </tr>\n",
       "    <tr>\n",
       "      <th>1</th>\n",
       "      <td>1</td>\n",
       "      <td>2</td>\n",
       "      <td>3</td>\n",
       "      <td>-1</td>\n",
       "      <td>0.027778</td>\n",
       "    </tr>\n",
       "    <tr>\n",
       "      <th>2</th>\n",
       "      <td>1</td>\n",
       "      <td>3</td>\n",
       "      <td>4</td>\n",
       "      <td>-2</td>\n",
       "      <td>0.027778</td>\n",
       "    </tr>\n",
       "    <tr>\n",
       "      <th>3</th>\n",
       "      <td>1</td>\n",
       "      <td>4</td>\n",
       "      <td>5</td>\n",
       "      <td>-3</td>\n",
       "      <td>0.027778</td>\n",
       "    </tr>\n",
       "    <tr>\n",
       "      <th>4</th>\n",
       "      <td>1</td>\n",
       "      <td>5</td>\n",
       "      <td>6</td>\n",
       "      <td>-4</td>\n",
       "      <td>0.027778</td>\n",
       "    </tr>\n",
       "  </tbody>\n",
       "</table>\n",
       "</div>"
      ],
      "text/plain": [
       "   u1  u2  x  y  probability\n",
       "0   1   1  2  0     0.027778\n",
       "1   1   2  3 -1     0.027778\n",
       "2   1   3  4 -2     0.027778\n",
       "3   1   4  5 -3     0.027778\n",
       "4   1   5  6 -4     0.027778"
      ]
     },
     "execution_count": 4,
     "metadata": {},
     "output_type": "execute_result"
    }
   ],
   "source": [
    "m1.get_probability_table(include_u=True).head()"
   ]
  },
  {
   "cell_type": "code",
   "execution_count": 5,
   "metadata": {},
   "outputs": [
    {
     "data": {
      "text/html": [
       "<div>\n",
       "<style scoped>\n",
       "    .dataframe tbody tr th:only-of-type {\n",
       "        vertical-align: middle;\n",
       "    }\n",
       "\n",
       "    .dataframe tbody tr th {\n",
       "        vertical-align: top;\n",
       "    }\n",
       "\n",
       "    .dataframe thead th {\n",
       "        text-align: right;\n",
       "    }\n",
       "</style>\n",
       "<table border=\"1\" class=\"dataframe\">\n",
       "  <thead>\n",
       "    <tr style=\"text-align: right;\">\n",
       "      <th></th>\n",
       "      <th>x</th>\n",
       "      <th>y</th>\n",
       "      <th>probability</th>\n",
       "    </tr>\n",
       "  </thead>\n",
       "  <tbody>\n",
       "    <tr>\n",
       "      <th>0</th>\n",
       "      <td>2</td>\n",
       "      <td>0</td>\n",
       "      <td>0.027778</td>\n",
       "    </tr>\n",
       "    <tr>\n",
       "      <th>1</th>\n",
       "      <td>3</td>\n",
       "      <td>-1</td>\n",
       "      <td>0.027778</td>\n",
       "    </tr>\n",
       "    <tr>\n",
       "      <th>2</th>\n",
       "      <td>3</td>\n",
       "      <td>1</td>\n",
       "      <td>0.027778</td>\n",
       "    </tr>\n",
       "    <tr>\n",
       "      <th>3</th>\n",
       "      <td>4</td>\n",
       "      <td>-2</td>\n",
       "      <td>0.027778</td>\n",
       "    </tr>\n",
       "    <tr>\n",
       "      <th>4</th>\n",
       "      <td>4</td>\n",
       "      <td>0</td>\n",
       "      <td>0.027778</td>\n",
       "    </tr>\n",
       "  </tbody>\n",
       "</table>\n",
       "</div>"
      ],
      "text/plain": [
       "   x  y  probability\n",
       "0  2  0     0.027778\n",
       "1  3 -1     0.027778\n",
       "2  3  1     0.027778\n",
       "3  4 -2     0.027778\n",
       "4  4  0     0.027778"
      ]
     },
     "execution_count": 5,
     "metadata": {},
     "output_type": "execute_result"
    }
   ],
   "source": [
    "m1.get_probability_table().head()"
   ]
  },
  {
   "cell_type": "markdown",
   "metadata": {},
   "source": [
    "First, we plot an empirical histogram of each variable's using $10^6$ samples drawn from its distribution."
   ]
  },
  {
   "cell_type": "code",
   "execution_count": 6,
   "metadata": {},
   "outputs": [
    {
     "data": {
      "image/png": "[encoded data removed]",
      "text/plain": [
       "<Figure size 1000x500 with 2 Axes>"
      ]
     },
     "metadata": {},
     "output_type": "display_data"
    }
   ],
   "source": [
    "sample = m1.sample(n=10**6)\n",
    "\n",
    "fig, axes = plt.subplots(1, 2, figsize=(10, 5))\n",
    "sns.histplot(sample[x], label='x', ax=axes[0], discrete=True, stat=\"probability\")\n",
    "axes[0].set_title('x')   \n",
    "sns.histplot(sample[y], label='y', ax=axes[1], discrete=True, stat=\"probability\")\n",
    "axes[1].set_title('y')\n",
    "plt.show()"
   ]
  },
  {
   "cell_type": "markdown",
   "metadata": {},
   "source": [
    "Then, we compute the joint distribution of $X, Y$. We are able to do so in closed form, given that all variables are discrete."
   ]
  },
  {
   "cell_type": "code",
   "execution_count": 7,
   "metadata": {},
   "outputs": [
    {
     "data": {
      "text/html": [
       "<div>\n",
       "<style scoped>\n",
       "    .dataframe tbody tr th:only-of-type {\n",
       "        vertical-align: middle;\n",
       "    }\n",
       "\n",
       "    .dataframe tbody tr th {\n",
       "        vertical-align: top;\n",
       "    }\n",
       "\n",
       "    .dataframe thead th {\n",
       "        text-align: right;\n",
       "    }\n",
       "</style>\n",
       "<table border=\"1\" class=\"dataframe\">\n",
       "  <thead>\n",
       "    <tr style=\"text-align: right;\">\n",
       "      <th></th>\n",
       "      <th>x</th>\n",
       "      <th>y</th>\n",
       "      <th>probability</th>\n",
       "    </tr>\n",
       "  </thead>\n",
       "  <tbody>\n",
       "    <tr>\n",
       "      <th>0</th>\n",
       "      <td>2</td>\n",
       "      <td>0</td>\n",
       "      <td>0.027778</td>\n",
       "    </tr>\n",
       "    <tr>\n",
       "      <th>1</th>\n",
       "      <td>3</td>\n",
       "      <td>-1</td>\n",
       "      <td>0.027778</td>\n",
       "    </tr>\n",
       "    <tr>\n",
       "      <th>2</th>\n",
       "      <td>3</td>\n",
       "      <td>1</td>\n",
       "      <td>0.027778</td>\n",
       "    </tr>\n",
       "    <tr>\n",
       "      <th>3</th>\n",
       "      <td>4</td>\n",
       "      <td>-2</td>\n",
       "      <td>0.027778</td>\n",
       "    </tr>\n",
       "    <tr>\n",
       "      <th>4</th>\n",
       "      <td>4</td>\n",
       "      <td>0</td>\n",
       "      <td>0.027778</td>\n",
       "    </tr>\n",
       "  </tbody>\n",
       "</table>\n",
       "</div>"
      ],
      "text/plain": [
       "   x  y  probability\n",
       "0  2  0     0.027778\n",
       "1  3 -1     0.027778\n",
       "2  3  1     0.027778\n",
       "3  4 -2     0.027778\n",
       "4  4  0     0.027778"
      ]
     },
     "execution_count": 7,
     "metadata": {},
     "output_type": "execute_result"
    }
   ],
   "source": [
    "m1.get_probability_table().head()"
   ]
  },
  {
   "cell_type": "code",
   "execution_count": 8,
   "metadata": {},
   "outputs": [
    {
     "data": {
      "text/plain": [
       "Text(0.5, 1.0, 'Joint distribution of x and y')"
      ]
     },
     "execution_count": 8,
     "metadata": {},
     "output_type": "execute_result"
    },
    {
     "data": {
      "image/png": "[encoded data removed]",
      "text/plain": [
       "<Figure size 640x480 with 2 Axes>"
      ]
     },
     "metadata": {},
     "output_type": "display_data"
    }
   ],
   "source": [
    "sns.heatmap(pd.pivot(m1.get_probability_table(), index=y, columns=x, values='probability'))\n",
    "plt.title('Joint distribution of x and y')"
   ]
  },
  {
   "cell_type": "markdown",
   "metadata": {},
   "source": [
    "# Definition 2.2.1 - Layer 1 Valuation - \"Observing\"\n",
    "\n",
    "An SCM $M = \\langle \\mathbf U, \\mathbf V, F, P(\\mathbf U)\\rangle$ defines a joint probability distribution $P^M(\\mathbf V)$ such that for each $\\mathbf Y \\subseteq \\mathbf V$:\n",
    "\n",
    "$$P^M(\\mathbf y) = \\sum_\\mathbf u \\mathbf 1[\\mathbf Y(\\mathbf u) = \\mathbf y] P(\\mathbf u)$$\n",
    "\n",
    "where $Y(\\mathbf U)$ is the solution for $\\mathbf Y$ after evaluating $F$ with $\\mathbf U = \\mathbf u$."
   ]
  },
  {
   "cell_type": "markdown",
   "metadata": {},
   "source": [
    "# Example 2.2"
   ]
  },
  {
   "cell_type": "markdown",
   "metadata": {},
   "source": [
    "Consider the following SCM, where the observed variables represent a specific treatment $X$ (e.g., administering a drug), an outcome $Y$ (e.g., survival), and the presence or absence of a symptom $Z$ (e.g., hypertension). The exogenous variables consist of natural resistance to the disease $U_r$ and other unknown sources of variation $U_x, U_y, U_z$.\n",
    "\n",
    "$$\n",
    "M^2 = \\begin{cases}\n",
    "    \\mathbf V &= \\{X, Y, Z\\}\\\\\n",
    "    \\mathbf U &= \\{U_r, U_x, U_y, U_z\\}\\\\\n",
    "    F &= \\begin{cases}\n",
    "        Z := \\mathbf 1[U_r = 1, U_z = 1]\\\\\n",
    "        X := \\mathbf 1[Z = 1, U_x = 1] + \\mathbf 1[Z = 0, U_x = 0]\\\\\n",
    "        Y := \\mathbf 1[X = 1, U_r = 1] + \\mathbf 1[X = 0, U_r = 1, U_y = 1] + \\mathbf 1[X = 0, U_r = 0, U_y = 0]\\\\\n",
    "    \\end{cases}\\\\\n",
    "    P(\\mathbf U) &= \\begin{cases}\n",
    "       U_r &\\sim \\mathrm{Bern}(0.25) \\\\\n",
    "       U_z &\\sim \\mathrm{Bern}(0.95) \\\\\n",
    "       U_x &\\sim \\mathrm{Bern}(0.9) \\\\\n",
    "       U_y &\\sim \\mathrm{Bern}(0.7) \\\\\n",
    "    \\end{cases}\n",
    "\\end{cases}\n",
    "$$\n",
    "\n",
    "We may implement this SCM as follows:"
   ]
  },
  {
   "cell_type": "code",
   "execution_count": 9,
   "metadata": {},
   "outputs": [
    {
     "data": {
      "text/latex": [
       "$\\begin{cases}\\mathbf V &= \\{z,x,y\\} \\\\\\mathbf U &= \\{ur,uz,ux,uy\\} \\\\F &= \\begin{cases}z &= ur \\wedge uz\\\\x &= \\left(ux \\wedge z\\right) \\vee \\left(\\neg ux \\wedge \\neg z\\right)\\\\y &= \\left(ur \\wedge x\\right) \\vee \\left(ur \\wedge uy \\wedge \\neg x\\right) \\vee \\left(\\neg ur \\wedge \\neg uy \\wedge \\neg x\\right)\\end{cases} \\\\P(\\mathbf U) &= \\begin{cases}ur &\\sim \\mathrm{Bern}(0.25)\\\\uz &\\sim \\mathrm{Bern}(0.95)\\\\ux &\\sim \\mathrm{Bern}(0.9)\\\\uy &\\sim \\mathrm{Bern}(0.7)\\end{cases}\\end{cases}$"
      ],
      "text/plain": [
       "SCM([z, x, y], [ur, uz, ux, uy])"
      ]
     },
     "execution_count": 9,
     "metadata": {},
     "output_type": "execute_result"
    }
   ],
   "source": [
    "z, x, y, ur, uz, ux, uy = symbols('z x y ur uz ux uy')\n",
    "\n",
    "m2 = SymbolicSCM(\n",
    "    f={\n",
    "        z: ur & uz,\n",
    "        x: z & ux | ~z & ~ux,\n",
    "        y: x & ur | ~x & ur & uy | ~x & ~ur & ~uy,\n",
    "    },\n",
    "    pu={\n",
    "        ur: 0.25,\n",
    "        uz: 0.95,\n",
    "        ux: 0.9,\n",
    "        uy: 0.7,\n",
    "    }\n",
    ")\n",
    "m2"
   ]
  },
  {
   "cell_type": "code",
   "execution_count": 10,
   "metadata": {},
   "outputs": [
    {
     "data": {
      "text/html": [
       "<div>\n",
       "<style scoped>\n",
       "    .dataframe tbody tr th:only-of-type {\n",
       "        vertical-align: middle;\n",
       "    }\n",
       "\n",
       "    .dataframe tbody tr th {\n",
       "        vertical-align: top;\n",
       "    }\n",
       "\n",
       "    .dataframe thead th {\n",
       "        text-align: right;\n",
       "    }\n",
       "</style>\n",
       "<table border=\"1\" class=\"dataframe\">\n",
       "  <thead>\n",
       "    <tr style=\"text-align: right;\">\n",
       "      <th></th>\n",
       "      <th>z</th>\n",
       "      <th>x</th>\n",
       "      <th>y</th>\n",
       "      <th>probability</th>\n",
       "    </tr>\n",
       "  </thead>\n",
       "  <tbody>\n",
       "    <tr>\n",
       "      <th>0</th>\n",
       "      <td>0</td>\n",
       "      <td>0</td>\n",
       "      <td>0</td>\n",
       "      <td>0.475875</td>\n",
       "    </tr>\n",
       "    <tr>\n",
       "      <th>1</th>\n",
       "      <td>0</td>\n",
       "      <td>0</td>\n",
       "      <td>1</td>\n",
       "      <td>0.210375</td>\n",
       "    </tr>\n",
       "    <tr>\n",
       "      <th>2</th>\n",
       "      <td>0</td>\n",
       "      <td>1</td>\n",
       "      <td>0</td>\n",
       "      <td>0.075000</td>\n",
       "    </tr>\n",
       "    <tr>\n",
       "      <th>3</th>\n",
       "      <td>0</td>\n",
       "      <td>1</td>\n",
       "      <td>1</td>\n",
       "      <td>0.001250</td>\n",
       "    </tr>\n",
       "    <tr>\n",
       "      <th>4</th>\n",
       "      <td>1</td>\n",
       "      <td>0</td>\n",
       "      <td>0</td>\n",
       "      <td>0.007125</td>\n",
       "    </tr>\n",
       "    <tr>\n",
       "      <th>5</th>\n",
       "      <td>1</td>\n",
       "      <td>0</td>\n",
       "      <td>1</td>\n",
       "      <td>0.016625</td>\n",
       "    </tr>\n",
       "    <tr>\n",
       "      <th>6</th>\n",
       "      <td>1</td>\n",
       "      <td>1</td>\n",
       "      <td>1</td>\n",
       "      <td>0.213750</td>\n",
       "    </tr>\n",
       "  </tbody>\n",
       "</table>\n",
       "</div>"
      ],
      "text/plain": [
       "   z  x  y  probability\n",
       "0  0  0  0     0.475875\n",
       "1  0  0  1     0.210375\n",
       "2  0  1  0     0.075000\n",
       "3  0  1  1     0.001250\n",
       "4  1  0  0     0.007125\n",
       "5  1  0  1     0.016625\n",
       "6  1  1  1     0.213750"
      ]
     },
     "execution_count": 10,
     "metadata": {},
     "output_type": "execute_result"
    }
   ],
   "source": [
    "m2.get_probability_table()"
   ]
  },
  {
   "cell_type": "markdown",
   "metadata": {},
   "source": [
    "## Example 2.3 (2.2 cont.)"
   ]
  },
  {
   "cell_type": "markdown",
   "metadata": {},
   "source": [
    "We can reproduce Table 2.2 in the textbook by setting `u = True` to also display exogenous variables:"
   ]
  },
  {
   "cell_type": "code",
   "execution_count": 11,
   "metadata": {},
   "outputs": [
    {
     "data": {
      "text/html": [
       "<div>\n",
       "<style scoped>\n",
       "    .dataframe tbody tr th:only-of-type {\n",
       "        vertical-align: middle;\n",
       "    }\n",
       "\n",
       "    .dataframe tbody tr th {\n",
       "        vertical-align: top;\n",
       "    }\n",
       "\n",
       "    .dataframe thead th {\n",
       "        text-align: right;\n",
       "    }\n",
       "</style>\n",
       "<table border=\"1\" class=\"dataframe\">\n",
       "  <thead>\n",
       "    <tr style=\"text-align: right;\">\n",
       "      <th></th>\n",
       "      <th>ur</th>\n",
       "      <th>uz</th>\n",
       "      <th>ux</th>\n",
       "      <th>uy</th>\n",
       "      <th>z</th>\n",
       "      <th>x</th>\n",
       "      <th>y</th>\n",
       "      <th>probability</th>\n",
       "    </tr>\n",
       "  </thead>\n",
       "  <tbody>\n",
       "    <tr>\n",
       "      <th>0</th>\n",
       "      <td>0</td>\n",
       "      <td>0</td>\n",
       "      <td>0</td>\n",
       "      <td>0</td>\n",
       "      <td>0</td>\n",
       "      <td>1</td>\n",
       "      <td>0</td>\n",
       "      <td>0.001125</td>\n",
       "    </tr>\n",
       "    <tr>\n",
       "      <th>1</th>\n",
       "      <td>0</td>\n",
       "      <td>0</td>\n",
       "      <td>0</td>\n",
       "      <td>1</td>\n",
       "      <td>0</td>\n",
       "      <td>1</td>\n",
       "      <td>0</td>\n",
       "      <td>0.002625</td>\n",
       "    </tr>\n",
       "    <tr>\n",
       "      <th>2</th>\n",
       "      <td>0</td>\n",
       "      <td>0</td>\n",
       "      <td>1</td>\n",
       "      <td>0</td>\n",
       "      <td>0</td>\n",
       "      <td>0</td>\n",
       "      <td>1</td>\n",
       "      <td>0.010125</td>\n",
       "    </tr>\n",
       "    <tr>\n",
       "      <th>3</th>\n",
       "      <td>0</td>\n",
       "      <td>0</td>\n",
       "      <td>1</td>\n",
       "      <td>1</td>\n",
       "      <td>0</td>\n",
       "      <td>0</td>\n",
       "      <td>0</td>\n",
       "      <td>0.023625</td>\n",
       "    </tr>\n",
       "    <tr>\n",
       "      <th>4</th>\n",
       "      <td>0</td>\n",
       "      <td>1</td>\n",
       "      <td>0</td>\n",
       "      <td>0</td>\n",
       "      <td>0</td>\n",
       "      <td>1</td>\n",
       "      <td>0</td>\n",
       "      <td>0.021375</td>\n",
       "    </tr>\n",
       "    <tr>\n",
       "      <th>5</th>\n",
       "      <td>0</td>\n",
       "      <td>1</td>\n",
       "      <td>0</td>\n",
       "      <td>1</td>\n",
       "      <td>0</td>\n",
       "      <td>1</td>\n",
       "      <td>0</td>\n",
       "      <td>0.049875</td>\n",
       "    </tr>\n",
       "    <tr>\n",
       "      <th>6</th>\n",
       "      <td>0</td>\n",
       "      <td>1</td>\n",
       "      <td>1</td>\n",
       "      <td>0</td>\n",
       "      <td>0</td>\n",
       "      <td>0</td>\n",
       "      <td>1</td>\n",
       "      <td>0.192375</td>\n",
       "    </tr>\n",
       "    <tr>\n",
       "      <th>7</th>\n",
       "      <td>0</td>\n",
       "      <td>1</td>\n",
       "      <td>1</td>\n",
       "      <td>1</td>\n",
       "      <td>0</td>\n",
       "      <td>0</td>\n",
       "      <td>0</td>\n",
       "      <td>0.448875</td>\n",
       "    </tr>\n",
       "    <tr>\n",
       "      <th>8</th>\n",
       "      <td>1</td>\n",
       "      <td>0</td>\n",
       "      <td>0</td>\n",
       "      <td>0</td>\n",
       "      <td>0</td>\n",
       "      <td>1</td>\n",
       "      <td>1</td>\n",
       "      <td>0.000375</td>\n",
       "    </tr>\n",
       "    <tr>\n",
       "      <th>9</th>\n",
       "      <td>1</td>\n",
       "      <td>0</td>\n",
       "      <td>0</td>\n",
       "      <td>1</td>\n",
       "      <td>0</td>\n",
       "      <td>1</td>\n",
       "      <td>1</td>\n",
       "      <td>0.000875</td>\n",
       "    </tr>\n",
       "    <tr>\n",
       "      <th>10</th>\n",
       "      <td>1</td>\n",
       "      <td>0</td>\n",
       "      <td>1</td>\n",
       "      <td>0</td>\n",
       "      <td>0</td>\n",
       "      <td>0</td>\n",
       "      <td>0</td>\n",
       "      <td>0.003375</td>\n",
       "    </tr>\n",
       "    <tr>\n",
       "      <th>11</th>\n",
       "      <td>1</td>\n",
       "      <td>0</td>\n",
       "      <td>1</td>\n",
       "      <td>1</td>\n",
       "      <td>0</td>\n",
       "      <td>0</td>\n",
       "      <td>1</td>\n",
       "      <td>0.007875</td>\n",
       "    </tr>\n",
       "    <tr>\n",
       "      <th>12</th>\n",
       "      <td>1</td>\n",
       "      <td>1</td>\n",
       "      <td>0</td>\n",
       "      <td>0</td>\n",
       "      <td>1</td>\n",
       "      <td>0</td>\n",
       "      <td>0</td>\n",
       "      <td>0.007125</td>\n",
       "    </tr>\n",
       "    <tr>\n",
       "      <th>13</th>\n",
       "      <td>1</td>\n",
       "      <td>1</td>\n",
       "      <td>0</td>\n",
       "      <td>1</td>\n",
       "      <td>1</td>\n",
       "      <td>0</td>\n",
       "      <td>1</td>\n",
       "      <td>0.016625</td>\n",
       "    </tr>\n",
       "    <tr>\n",
       "      <th>14</th>\n",
       "      <td>1</td>\n",
       "      <td>1</td>\n",
       "      <td>1</td>\n",
       "      <td>0</td>\n",
       "      <td>1</td>\n",
       "      <td>1</td>\n",
       "      <td>1</td>\n",
       "      <td>0.064125</td>\n",
       "    </tr>\n",
       "    <tr>\n",
       "      <th>15</th>\n",
       "      <td>1</td>\n",
       "      <td>1</td>\n",
       "      <td>1</td>\n",
       "      <td>1</td>\n",
       "      <td>1</td>\n",
       "      <td>1</td>\n",
       "      <td>1</td>\n",
       "      <td>0.149625</td>\n",
       "    </tr>\n",
       "  </tbody>\n",
       "</table>\n",
       "</div>"
      ],
      "text/plain": [
       "    ur  uz  ux  uy  z  x  y  probability\n",
       "0    0   0   0   0  0  1  0     0.001125\n",
       "1    0   0   0   1  0  1  0     0.002625\n",
       "2    0   0   1   0  0  0  1     0.010125\n",
       "3    0   0   1   1  0  0  0     0.023625\n",
       "4    0   1   0   0  0  1  0     0.021375\n",
       "5    0   1   0   1  0  1  0     0.049875\n",
       "6    0   1   1   0  0  0  1     0.192375\n",
       "7    0   1   1   1  0  0  0     0.448875\n",
       "8    1   0   0   0  0  1  1     0.000375\n",
       "9    1   0   0   1  0  1  1     0.000875\n",
       "10   1   0   1   0  0  0  0     0.003375\n",
       "11   1   0   1   1  0  0  1     0.007875\n",
       "12   1   1   0   0  1  0  0     0.007125\n",
       "13   1   1   0   1  1  0  1     0.016625\n",
       "14   1   1   1   0  1  1  1     0.064125\n",
       "15   1   1   1   1  1  1  1     0.149625"
      ]
     },
     "execution_count": 11,
     "metadata": {},
     "output_type": "execute_result"
    }
   ],
   "source": [
    "m2.get_probability_table(include_u=True)"
   ]
  },
  {
   "cell_type": "markdown",
   "metadata": {},
   "source": [
    "We may evaluate $P(Y = 1 | X = 1)$ as $P(Y = 1, X = 1) / P(X = 1)$ using Bayes' rule by directly querying the probability table, a pandas DataFrame."
   ]
  },
  {
   "cell_type": "code",
   "execution_count": 12,
   "metadata": {},
   "outputs": [
    {
     "data": {
      "text/plain": [
       "0.7413793103448276"
      ]
     },
     "execution_count": 12,
     "metadata": {},
     "output_type": "execute_result"
    }
   ],
   "source": [
    "pt = m2.get_probability_table()\n",
    "pt.query('x == 1 and y == 1').probability.sum() / pt.query('x == 1').probability.sum()"
   ]
  },
  {
   "cell_type": "markdown",
   "metadata": {},
   "source": [
    "For convenience, we implement the equivalent `SCM.query` to compute queries."
   ]
  },
  {
   "cell_type": "code",
   "execution_count": 13,
   "metadata": {},
   "outputs": [
    {
     "data": {
      "text/plain": [
       "0.7413793103448275"
      ]
     },
     "execution_count": 13,
     "metadata": {},
     "output_type": "execute_result"
    }
   ],
   "source": [
    "m2.query({y: 1}, given={x: 1})"
   ]
  },
  {
   "cell_type": "markdown",
   "metadata": {},
   "source": [
    "The `latex` flag causes the function to output the query and value in LaTeX."
   ]
  },
  {
   "cell_type": "code",
   "execution_count": 14,
   "metadata": {},
   "outputs": [
    {
     "data": {
      "text/latex": [
       "$P(y = 1|x = 1) \\approx 0.7414$"
      ],
      "text/plain": [
       "<IPython.core.display.Latex object>"
      ]
     },
     "execution_count": 14,
     "metadata": {},
     "output_type": "execute_result"
    }
   ],
   "source": [
    "m2.query({y: 1}, given={x: 1}, latex=True)"
   ]
  },
  {
   "cell_type": "code",
   "execution_count": 15,
   "metadata": {},
   "outputs": [
    {
     "data": {
      "text/latex": [
       "$P(y = 1|x = 0) \\approx 0.3197$"
      ],
      "text/plain": [
       "<IPython.core.display.Latex object>"
      ]
     },
     "execution_count": 15,
     "metadata": {},
     "output_type": "execute_result"
    }
   ],
   "source": [
    "m2.query({y: 1}, given={x: 0}, latex=True)"
   ]
  },
  {
   "cell_type": "code",
   "execution_count": 16,
   "metadata": {},
   "outputs": [
    {
     "data": {
      "text/latex": [
       "$P(z = 1) \\approx 0.2375$"
      ],
      "text/plain": [
       "<IPython.core.display.Latex object>"
      ]
     },
     "execution_count": 16,
     "metadata": {},
     "output_type": "execute_result"
    }
   ],
   "source": [
    "m2.query({z: 1}, latex=True)"
   ]
  },
  {
   "cell_type": "markdown",
   "metadata": {},
   "source": [
    "# Definition 2.2.2 - Submodel - \"Interventional SCM\"\n",
    "\n",
    "Let $M$ be a causal model, $\\mathbf X$ a set of variables in $\\mathbf V$, and $\\mathbf x$ a particular realization of $\\mathbf X$. A submodel $M_\\mathbf x$ of $M$ is the causal model\n",
    "\n",
    "$$M_\\mathbf x = \\langle \\mathbf U, \\mathbf V, F_\\mathbf x, P(\\mathbf U)\\rangle,$$\n",
    "\n",
    "where\n",
    "\n",
    "$$F_\\mathbf x = \\{f_i : V_i \\not\\in \\mathbf X\\} \\cup \\{\\mathbf X \\gets \\mathbf x\\}$$"
   ]
  },
  {
   "cell_type": "markdown",
   "metadata": {},
   "source": [
    "## Definition 2.2.3 - Potential Response, Potential Outcome\n",
    "\n",
    "Let $\\mathbf X$ and $\\mathbf Y$ be two sets of variables in $\\mathbf V$ and $\\mathbf u$ be a unit. The potential response $\\mathbf Y_\\mathbf x (\\mathbf u)$ is defined as the solution for $\\mathbf Y$ of the set of equations $F_\\mathbf x$ with respect to SCM $M$ - for short, $\\mathbf Y_{M_\\mathbf x}(\\mathbf u)$. That is,\n",
    "\n",
    "$$\\mathbf Y_\\mathbf x(\\mathbf u) = \\mathbf Y_{M_\\mathbf x}(\\mathbf u).$$"
   ]
  },
  {
   "cell_type": "markdown",
   "metadata": {},
   "source": [
    "## Definition 2.2.4 - Layer 2 Valuation - \"Intervening\"\n",
    "\n",
    "An SCM $M =  \\langle \\mathbf U, \\mathbf V, F, P(\\mathbf U)\\rangle$ induces a family of joint distributions over $\\mathbf V$, one for each intervention $\\mathbf x$. For each $\\mathbf Y \\subset \\mathbf V$:\n",
    "\n",
    "$$P^M(\\mathbf y _ \\mathbf x) = \\sum_\\mathbf u \\mathbf 1[\\mathbf Y_\\mathbf x (\\mathbf u) = \\mathbf y] P(\\mathbf u)$$"
   ]
  },
  {
   "cell_type": "markdown",
   "metadata": {},
   "source": [
    "## Definition 2.2.5 - Effectiveness\n",
    "\n",
    "A joint interventional distribution $P(\\mathbf v | do(\\mathbf x))$ is said to satisfy *effectiveness* if for every $V_i \\in \\mathbf X$,\n",
    "\n",
    "$$P(v_i | do(\\mathbf x)) = 1 \\text{ if $v_i$ is consistent with $\\mathbf x$ and $0$ otherwise.}$$\n",
    "\n",
    "*Note: every interventional distribution satisfies effectiveness.*"
   ]
  },
  {
   "cell_type": "markdown",
   "metadata": {},
   "source": [
    "## Example 2.4 (2.1 cont.)"
   ]
  },
  {
   "cell_type": "markdown",
   "metadata": {},
   "source": [
    "Consider the SCM in Example 2.1."
   ]
  },
  {
   "cell_type": "code",
   "execution_count": 17,
   "metadata": {},
   "outputs": [
    {
     "data": {
      "text/latex": [
       "$\\begin{cases}\\mathbf V &= \\{x,y\\} \\\\\\mathbf U &= \\{u1,u2\\} \\\\F &= \\begin{cases}x &= u_{1} + u_{2}\\\\y &= u_{1} - u_{2}\\end{cases} \\\\P(\\mathbf U) &= \\begin{cases}u1 &\\sim \\mathrm{Categorical}([0,0.1667,0.1667,0.1667,0.1667,0.1667,0.1667])\\\\u2 &\\sim \\mathrm{Categorical}([0,0.1667,0.1667,0.1667,0.1667,0.1667,0.1667])\\end{cases}\\end{cases}$"
      ],
      "text/plain": [
       "SCM([x, y], [u1, u2])"
      ]
     },
     "execution_count": 17,
     "metadata": {},
     "output_type": "execute_result"
    }
   ],
   "source": [
    "m1"
   ]
  },
  {
   "cell_type": "code",
   "execution_count": 18,
   "metadata": {},
   "outputs": [
    {
     "data": {
      "text/latex": [
       "$P(y = 0) \\approx 0.1667$"
      ],
      "text/plain": [
       "<IPython.core.display.Latex object>"
      ]
     },
     "execution_count": 18,
     "metadata": {},
     "output_type": "execute_result"
    }
   ],
   "source": [
    "m1.query({y: 0}, latex=True)"
   ]
  },
  {
   "cell_type": "markdown",
   "metadata": {},
   "source": [
    "If we intervene on $X$, setting $X = 2$, it is evident $Y$ will not change, because it does not depend on $X$. We can see this when we replace the function for $X$ with $X = 2$.\n",
    "\n",
    "Note that all observed variables in the interventional submodel $M_{X = 2}$ now have a subscript; the unobserved variables are unaffected by the intervention and do not change."
   ]
  },
  {
   "cell_type": "code",
   "execution_count": 19,
   "metadata": {},
   "outputs": [
    {
     "data": {
      "text/latex": [
       "$\\begin{cases}\\mathbf V &= \\{{x}_{x=2},{y}_{x=2}\\} \\\\\\mathbf U &= \\{u1,u2\\} \\\\F &= \\begin{cases}{x}_{x=2} &= 2\\\\{y}_{x=2} &= u_{1} - u_{2}\\end{cases} \\\\P(\\mathbf U) &= \\begin{cases}u1 &\\sim \\mathrm{Categorical}([0,0.1667,0.1667,0.1667,0.1667,0.1667,0.1667])\\\\u2 &\\sim \\mathrm{Categorical}([0,0.1667,0.1667,0.1667,0.1667,0.1667,0.1667])\\end{cases}\\end{cases}$"
      ],
      "text/plain": [
       "SCM([{x}_{x=2}, {y}_{x=2}], [u1, u2])"
      ]
     },
     "execution_count": 19,
     "metadata": {},
     "output_type": "execute_result"
    }
   ],
   "source": [
    "m1.do({x: 2})"
   ]
  },
  {
   "cell_type": "code",
   "execution_count": 20,
   "metadata": {},
   "outputs": [
    {
     "data": {
      "text/latex": [
       "$P(y = 0 | do(x = 2)) \\approx 0.1667$"
      ],
      "text/plain": [
       "<IPython.core.display.Latex object>"
      ]
     },
     "execution_count": 20,
     "metadata": {},
     "output_type": "execute_result"
    }
   ],
   "source": [
    "\n",
    "val = m1.do({x: 2}).query({y: 0})\n",
    "\n",
    "Latex(f'$P(y = 0 | do(x = 2)) \\\\approx {val:.4f}$')"
   ]
  },
  {
   "cell_type": "markdown",
   "metadata": {},
   "source": [
    "We are slightly abusing notation with the above expression. If we wished to be mathematically precise, we would note that we are actually querying the probability of the event $P(Y_{X = 2} = 0)$ rather than $P(Y = 0)$.\n",
    "\n",
    "The Python data structure underlying the interventional SCM $M_{X = 2}$ has an internal mapping from the symbol $Y$ to $Y_{X = 2}$, which allows the above query to work.\n",
    "\n",
    "The slightly more verbose - but precise - formulation of the above expression follows:"
   ]
  },
  {
   "cell_type": "code",
   "execution_count": 21,
   "metadata": {},
   "outputs": [
    {
     "data": {
      "text/latex": [
       "$\\begin{cases}\\mathbf V &= \\{{x}_{x=2},{y}_{x=2}\\} \\\\\\mathbf U &= \\{u1,u2\\} \\\\F &= \\begin{cases}{x}_{x=2} &= 2\\\\{y}_{x=2} &= u_{1} - u_{2}\\end{cases} \\\\P(\\mathbf U) &= \\begin{cases}u1 &\\sim \\mathrm{Categorical}([0,0.1667,0.1667,0.1667,0.1667,0.1667,0.1667])\\\\u2 &\\sim \\mathrm{Categorical}([0,0.1667,0.1667,0.1667,0.1667,0.1667,0.1667])\\end{cases}\\end{cases}$"
      ],
      "text/plain": [
       "SCM([{x}_{x=2}, {y}_{x=2}], [u1, u2])"
      ]
     },
     "execution_count": 21,
     "metadata": {},
     "output_type": "execute_result"
    }
   ],
   "source": [
    "m1_x2 = m1.do({x: 2})\n",
    "x2, y2 = m1_x2.v\n",
    "m1_x2"
   ]
  },
  {
   "cell_type": "code",
   "execution_count": 22,
   "metadata": {},
   "outputs": [
    {
     "data": {
      "text/latex": [
       "$P({y}_{x=2} = 0) \\approx 0.1667$"
      ],
      "text/plain": [
       "<IPython.core.display.Latex object>"
      ]
     },
     "execution_count": 22,
     "metadata": {},
     "output_type": "execute_result"
    }
   ],
   "source": [
    "m1_x2.query({y2: 0}, latex=True)"
   ]
  },
  {
   "cell_type": "markdown",
   "metadata": {},
   "source": [
    "We also implement a convenience mapping in $\\mathcal M^1$ which remembers that $Y_{X=1}$ is derived from an intervention on $\\mathcal M^1$ and allows us to write the following expression:"
   ]
  },
  {
   "cell_type": "code",
   "execution_count": 23,
   "metadata": {},
   "outputs": [
    {
     "data": {
      "text/latex": [
       "$P({y}_{x=2} = 0) \\approx 0.1667$"
      ],
      "text/plain": [
       "<IPython.core.display.Latex object>"
      ]
     },
     "execution_count": 23,
     "metadata": {},
     "output_type": "execute_result"
    }
   ],
   "source": [
    "m1.query({y2: 0}, latex=True)"
   ]
  },
  {
   "cell_type": "markdown",
   "metadata": {},
   "source": [
    "## Example 2.5 (2.2 cont.)"
   ]
  },
  {
   "cell_type": "markdown",
   "metadata": {},
   "source": [
    "Next, we consider **treatment effects**. What is the effect of treatment $X$ on medical outcome $Y$?\n",
    "\n",
    "Can we just look at the observational quantity $P(Y = 1 | X = 1) - P(Y = 1 | X = 0)$ to make a decision on whether or not to apply the treatment?"
   ]
  },
  {
   "cell_type": "code",
   "execution_count": 24,
   "metadata": {},
   "outputs": [
    {
     "data": {
      "text/latex": [
       "$P(y = 1 | do(x = 1)) \\approx 0.25$"
      ],
      "text/plain": [
       "<IPython.core.display.Latex object>"
      ]
     },
     "execution_count": 24,
     "metadata": {},
     "output_type": "execute_result"
    }
   ],
   "source": [
    "val = m2.do({x: 1}).query({y: 1})\n",
    "\n",
    "Latex(f'$P(y = 1 | do(x = 1)) \\\\approx {val:.4g}$')"
   ]
  },
  {
   "cell_type": "code",
   "execution_count": 25,
   "metadata": {},
   "outputs": [
    {
     "data": {
      "text/latex": [
       "$P(y=1 | x=1) - P(y=1 | x=0) \\approx 0.4217$"
      ],
      "text/plain": [
       "<IPython.core.display.Latex object>"
      ]
     },
     "execution_count": 25,
     "metadata": {},
     "output_type": "execute_result"
    }
   ],
   "source": [
    "val = m2.query({y: 1}, given={x: 1}) - m2.query({y: 1}, given={x: 0})\n",
    "Latex(f'$P(y=1 | x=1) - P(y=1 | x=0) \\\\approx {val:.4g}$')"
   ]
  },
  {
   "cell_type": "markdown",
   "metadata": {},
   "source": [
    "The total variation of X on Y is positive. So should we enforce the treatment $X = 1$?\n",
    "\n",
    "Let's compare this difference to the **average treatment effect**, $P(Y = 1 | do(X = 1)) - P(Y = 1 | do(X = 0))$. This represents the difference between control and treatment group in a randomized controlled trial, where treatment assignment is randomized."
   ]
  },
  {
   "cell_type": "code",
   "execution_count": 26,
   "metadata": {},
   "outputs": [
    {
     "data": {
      "text/latex": [
       "$P(y=1 | do(x=1)) - P(y=1 | do(x=0)) \\approx -0.15$"
      ],
      "text/plain": [
       "<IPython.core.display.Latex object>"
      ]
     },
     "execution_count": 26,
     "metadata": {},
     "output_type": "execute_result"
    }
   ],
   "source": [
    "val = m2.do({x: 1}).query({y: 1}) - m2.do({x: 0}).query({y: 1})\n",
    "Latex(f'$P(y=1 | do(x=1)) - P(y=1 | do(x=0)) \\\\approx {val:.4g}$')"
   ]
  },
  {
   "cell_type": "markdown",
   "metadata": {},
   "source": [
    "We can see that if we enforce the treatment, $do(X = 1)$, we will actually end up harming the population more than we help it."
   ]
  },
  {
   "cell_type": "markdown",
   "metadata": {},
   "source": [
    "# Definition 2.2.6 - Layer 3 Valuation\n",
    "\n",
    "An SCM $M = \\langle\\mathbf U, \\mathbf V, F, P(\\mathbf U)\\rangle$ induces a family of joint distributions over counterfactual events $\\mathbf Y_\\mathbf x, \\dots, \\mathbf Z_\\mathbf w$ for any $\\mathbf Y, \\mathbf Z, \\dots, \\mathbf X, \\mathbf W \\subseteq \\mathbf V$:\n",
    "\n",
    "$$P^M(\\mathbf y_\\mathbf x, \\dots, \\mathbf z_\\mathbf w) = \\sum_\\mathbf u \\mathbf 1[\\mathbf Y_\\mathbf x(\\mathbf u) = \\mathbf y, \\dots, \\mathbf Z_\\mathbf w(\\mathbf u) = \\mathbf z] P(\\mathbf u)$$"
   ]
  },
  {
   "cell_type": "markdown",
   "metadata": {},
   "source": [
    "## Example 2.6 (Example 2.2, cont.)"
   ]
  },
  {
   "cell_type": "markdown",
   "metadata": {},
   "source": [
    "We now introduce notation for counterfactual ($L_3$) queries in code.\n",
    "\n",
    "Say we are interested in knowing whether or not the treatment $do(X = 1)$ would have saved patients who died and did not receive the treatment ($Y = 0, X = 0$)."
   ]
  },
  {
   "cell_type": "markdown",
   "metadata": {},
   "source": [
    "The variable of interest is $Y_{X = 1}$ in the SCM $M_{X=1}$, since we are hypothetically forcing the patient to take the treatment."
   ]
  },
  {
   "cell_type": "code",
   "execution_count": 27,
   "metadata": {},
   "outputs": [
    {
     "data": {
      "text/latex": [
       "$\\begin{cases}\\mathbf V &= \\{z,x,y\\} \\\\\\mathbf U &= \\{ur,uz,ux,uy\\} \\\\F &= \\begin{cases}z &= ur \\wedge uz\\\\x &= \\left(ux \\wedge z\\right) \\vee \\left(\\neg ux \\wedge \\neg z\\right)\\\\y &= \\left(ur \\wedge x\\right) \\vee \\left(ur \\wedge uy \\wedge \\neg x\\right) \\vee \\left(\\neg ur \\wedge \\neg uy \\wedge \\neg x\\right)\\end{cases} \\\\P(\\mathbf U) &= \\begin{cases}ur &\\sim \\mathrm{Bern}(0.25)\\\\uz &\\sim \\mathrm{Bern}(0.95)\\\\ux &\\sim \\mathrm{Bern}(0.9)\\\\uy &\\sim \\mathrm{Bern}(0.7)\\end{cases}\\end{cases}$"
      ],
      "text/plain": [
       "SCM([z, x, y], [ur, uz, ux, uy])"
      ]
     },
     "execution_count": 27,
     "metadata": {},
     "output_type": "execute_result"
    }
   ],
   "source": [
    "m2"
   ]
  },
  {
   "cell_type": "code",
   "execution_count": 28,
   "metadata": {},
   "outputs": [
    {
     "data": {
      "text/latex": [
       "$\\displaystyle {y}_{x=1}$"
      ],
      "text/plain": [
       "{y}_{x=1}"
      ]
     },
     "execution_count": 28,
     "metadata": {},
     "output_type": "execute_result"
    }
   ],
   "source": [
    "z1, x1, y1 = m2.do({x: 1}).v\n",
    "y1"
   ]
  },
  {
   "cell_type": "markdown",
   "metadata": {},
   "source": [
    "However, the information we have is from the actual world $M$: $X = 0, Y = 0$. We write our expression as\n",
    "\n",
    "$$P(Y_{X = 1} = 1 | X = 0, Y = 0)$$\n",
    "\n",
    " to describe the question: \"What is the probability that the patient would have survived if they had taken the drug, given that they did not take the drug and died?\"\n",
    "\n",
    " We may represent this query using the `y1` variable defined above from $M_{X=1}$."
   ]
  },
  {
   "cell_type": "code",
   "execution_count": 29,
   "metadata": {},
   "outputs": [
    {
     "data": {
      "text/latex": [
       "$P({y}_{x=1} = 1|x = 0,y = 0) \\approx 0.02174$"
      ],
      "text/plain": [
       "<IPython.core.display.Latex object>"
      ]
     },
     "execution_count": 29,
     "metadata": {},
     "output_type": "execute_result"
    }
   ],
   "source": [
    "m2.query({y1: 1}, given={x: 0, y: 0}, latex=True)"
   ]
  },
  {
   "cell_type": "markdown",
   "metadata": {},
   "source": [
    "# Definition 2.4.1 -- Causal Diagram\n",
    "\n",
    "Consider an SCM $M$ = ($U, V, F, P(U)$). Then $G$ is said to be a **causal diagram** (of M) if constructed as follows:\n",
    "\n",
    "(1) add a vertex for every endogenous variable in the set $V$\n",
    "\n",
    "(2) add a directed edge ($V_j \\rightarrow V_i$) for every $V_i, V_j \\in V$ if $V_j$ appears as an argument of $f_i \\in F$\n",
    "\n",
    "(3) add a bidirected edge ($V_j \\leftarrow \\rightarrow V_i$) for every $V_i, V_j \\in V$ if: the corresponding $U_i, U_j \\in U$ are correlated, or the corresponding functions $f_i, f_j$ share some $U_{ij} \\in U$ as an argument"
   ]
  },
  {
   "cell_type": "code",
   "execution_count": 30,
   "metadata": {},
   "outputs": [],
   "source": [
    "from causal_graph import CausalGraph\n",
    "\n",
    "from IPython.display import display\n",
    "\n",
    "# ! brew install graphviz\n",
    "# Must install to view graphs"
   ]
  },
  {
   "cell_type": "code",
   "execution_count": 31,
   "metadata": {},
   "outputs": [],
   "source": [
    "x, y, z = symbols('x y z')\n",
    "\n",
    "graph = CausalGraph([x,y,z], directed_edges=[(z,x), (x, y)],\n",
    "                    bidirected_edges=[(z,y)])"
   ]
  },
  {
   "cell_type": "code",
   "execution_count": 32,
   "metadata": {},
   "outputs": [
    {
     "data": {
      "image/svg+xml": [
       "<?xml version=\"1.0\" encoding=\"UTF-8\" standalone=\"no\"?>\n",
       "<!DOCTYPE svg PUBLIC \"-//W3C//DTD SVG 1.1//EN\"\n",
       " \"http://www.w3.org/Graphics/SVG/1.1/DTD/svg11.dtd\">\n",
       "<!-- Generated by graphviz version 12.2.1 (20241206.2353)\n",
       " -->\n",
       "<!-- Title: G Pages: 1 -->\n",
       "<svg width=\"206pt\" height=\"188pt\"\n",
       " viewBox=\"0.00 0.00 206.00 188.00\" xmlns=\"http://www.w3.org/2000/svg\" xmlns:xlink=\"http://www.w3.org/1999/xlink\">\n",
       "<g id=\"graph0\" class=\"graph\" transform=\"scale(1 1) rotate(0) translate(4 184)\">\n",
       "<title>G</title>\n",
       "<polygon fill=\"white\" stroke=\"none\" points=\"-4,4 -4,-184 202,-184 202,4 -4,4\"/>\n",
       "<!-- x -->\n",
       "<g id=\"node1\" class=\"node\">\n",
       "<title>x</title>\n",
       "<ellipse fill=\"lightgray\" stroke=\"black\" cx=\"27\" cy=\"-162\" rx=\"27\" ry=\"18\"/>\n",
       "<text text-anchor=\"middle\" x=\"27\" y=\"-156.95\" font-family=\"Times,serif\" font-size=\"14.00\">x</text>\n",
       "</g>\n",
       "<!-- y -->\n",
       "<g id=\"node2\" class=\"node\">\n",
       "<title>y</title>\n",
       "<ellipse fill=\"lightgray\" stroke=\"black\" cx=\"171\" cy=\"-162\" rx=\"27\" ry=\"18\"/>\n",
       "<text text-anchor=\"middle\" x=\"171\" y=\"-156.95\" font-family=\"Times,serif\" font-size=\"14.00\">y</text>\n",
       "</g>\n",
       "<!-- x&#45;&gt;y -->\n",
       "<g id=\"edge1\" class=\"edge\">\n",
       "<title>x&#45;&gt;y</title>\n",
       "<path fill=\"none\" stroke=\"black\" stroke-width=\"2\" d=\"M54.42,-162C76.04,-162 106.5,-162 130.87,-162\"/>\n",
       "<polygon fill=\"black\" stroke=\"black\" stroke-width=\"2\" points=\"130.65,-165.5 140.65,-162 130.65,-158.5 130.65,-165.5\"/>\n",
       "</g>\n",
       "<!-- z -->\n",
       "<g id=\"node3\" class=\"node\">\n",
       "<title>z</title>\n",
       "<ellipse fill=\"lightgray\" stroke=\"black\" cx=\"27\" cy=\"-18\" rx=\"27\" ry=\"18\"/>\n",
       "<text text-anchor=\"middle\" x=\"27\" y=\"-12.95\" font-family=\"Times,serif\" font-size=\"14.00\">z</text>\n",
       "</g>\n",
       "<!-- y&#45;&gt;z -->\n",
       "<g id=\"edge3\" class=\"edge\">\n",
       "<title>y&#45;&gt;z</title>\n",
       "<path fill=\"none\" stroke=\"black\" stroke-width=\"2\" stroke-dasharray=\"5,2\" d=\"M146.91,-137.91C120.25,-111.25 77.55,-68.55 50.95,-41.95\"/>\n",
       "<polygon fill=\"black\" stroke=\"black\" stroke-width=\"2\" points=\"144.18,-140.12 153.72,-144.72 149.12,-135.18 144.18,-140.12\"/>\n",
       "<polygon fill=\"black\" stroke=\"black\" stroke-width=\"2\" points=\"53.62,-39.67 44.08,-35.08 48.67,-44.62 53.62,-39.67\"/>\n",
       "</g>\n",
       "<!-- z&#45;&gt;x -->\n",
       "<g id=\"edge2\" class=\"edge\">\n",
       "<title>z&#45;&gt;x</title>\n",
       "<path fill=\"none\" stroke=\"black\" stroke-width=\"2\" d=\"M27,-36.24C27,-60.04 27,-102.06 27,-130.93\"/>\n",
       "<polygon fill=\"black\" stroke=\"black\" stroke-width=\"2\" points=\"23.5,-130.88 27,-140.88 30.5,-130.88 23.5,-130.88\"/>\n",
       "</g>\n",
       "</g>\n",
       "</svg>\n"
      ],
      "text/plain": [
       "<graphviz.sources.Source at 0x2d2003cd0>"
      ]
     },
     "metadata": {},
     "output_type": "display_data"
    }
   ],
   "source": [
    "graph.draw(node_positions={x: (0, 2), y: (2,2), z: (0, 0)})"
   ]
  },
  {
   "cell_type": "markdown",
   "metadata": {},
   "source": [
    "# Definition 2.4.3 -- d-separation\n",
    "\n",
    "Consider a causal diagram $G$ and disjoint sets of endogenous variables $X,Y,Z$. A path between $x \\in X$ and $y \\in Y$ in $G$ is blocke dby $Z$ if and only if:\n",
    "\n",
    "1. $p$ contains a chain $A \\rightarrow B \\rightarrow C$ or a fork $A \\leftarrow B \\rightarrow C$ such that the middle node is in $Z$, **or**\n",
    "   \n",
    "2. $p$ contains a collider $A \\rightarrow B \\leftarrow C$ such that the collision node $B$ or any of its descendants is not in $Z$\n",
    "\n",
    "\n",
    "if $Z$ blocks every path between $x \\in X$ and $y \\in Y$ in $G$, then the pair $X,Y$ is said to be **d-separated** (or \"closed\") given $Z$.\n"
   ]
  },
  {
   "cell_type": "markdown",
   "metadata": {},
   "source": [
    "Consider the following causal diagram describing the relation between the variables Climate (C), Sprinkler (S), Rain (R), Wet (W), and Slippery (L)."
   ]
  },
  {
   "cell_type": "code",
   "execution_count": 33,
   "metadata": {},
   "outputs": [
    {
     "data": {
      "image/svg+xml": [
       "<?xml version=\"1.0\" encoding=\"UTF-8\" standalone=\"no\"?>\n",
       "<!DOCTYPE svg PUBLIC \"-//W3C//DTD SVG 1.1//EN\"\n",
       " \"http://www.w3.org/Graphics/SVG/1.1/DTD/svg11.dtd\">\n",
       "<!-- Generated by graphviz version 12.2.1 (20241206.2353)\n",
       " -->\n",
       "<!-- Title: G Pages: 1 -->\n",
       "<svg width=\"206pt\" height=\"476pt\"\n",
       " viewBox=\"0.00 0.00 206.00 476.00\" xmlns=\"http://www.w3.org/2000/svg\" xmlns:xlink=\"http://www.w3.org/1999/xlink\">\n",
       "<g id=\"graph0\" class=\"graph\" transform=\"scale(1 1) rotate(0) translate(4 472)\">\n",
       "<title>G</title>\n",
       "<polygon fill=\"white\" stroke=\"none\" points=\"-4,4 -4,-472 202,-472 202,4 -4,4\"/>\n",
       "<!-- C -->\n",
       "<g id=\"node1\" class=\"node\">\n",
       "<title>C</title>\n",
       "<ellipse fill=\"lightgray\" stroke=\"black\" cx=\"99\" cy=\"-450\" rx=\"27\" ry=\"18\"/>\n",
       "<text text-anchor=\"middle\" x=\"99\" y=\"-444.95\" font-family=\"Times,serif\" font-size=\"14.00\">C</text>\n",
       "</g>\n",
       "<!-- S -->\n",
       "<g id=\"node2\" class=\"node\">\n",
       "<title>S</title>\n",
       "<ellipse fill=\"lightgray\" stroke=\"black\" cx=\"171\" cy=\"-306\" rx=\"27\" ry=\"18\"/>\n",
       "<text text-anchor=\"middle\" x=\"171\" y=\"-300.95\" font-family=\"Times,serif\" font-size=\"14.00\">S</text>\n",
       "</g>\n",
       "<!-- C&#45;&gt;S -->\n",
       "<g id=\"edge1\" class=\"edge\">\n",
       "<title>C&#45;&gt;S</title>\n",
       "<path fill=\"none\" stroke=\"black\" stroke-width=\"2\" d=\"M107.68,-432.63C119.79,-408.41 141.9,-364.19 156.53,-334.95\"/>\n",
       "<polygon fill=\"black\" stroke=\"black\" stroke-width=\"2\" points=\"159.59,-336.65 160.93,-326.14 153.33,-333.52 159.59,-336.65\"/>\n",
       "</g>\n",
       "<!-- R -->\n",
       "<g id=\"node3\" class=\"node\">\n",
       "<title>R</title>\n",
       "<ellipse fill=\"lightgray\" stroke=\"black\" cx=\"27\" cy=\"-306\" rx=\"27\" ry=\"18\"/>\n",
       "<text text-anchor=\"middle\" x=\"27\" y=\"-300.95\" font-family=\"Times,serif\" font-size=\"14.00\">R</text>\n",
       "</g>\n",
       "<!-- C&#45;&gt;R -->\n",
       "<g id=\"edge2\" class=\"edge\">\n",
       "<title>C&#45;&gt;R</title>\n",
       "<path fill=\"none\" stroke=\"black\" stroke-width=\"2\" d=\"M90.32,-432.63C78.21,-408.41 56.1,-364.19 41.47,-334.95\"/>\n",
       "<polygon fill=\"black\" stroke=\"black\" stroke-width=\"2\" points=\"44.67,-333.52 37.07,-326.14 38.41,-336.65 44.67,-333.52\"/>\n",
       "</g>\n",
       "<!-- W -->\n",
       "<g id=\"node4\" class=\"node\">\n",
       "<title>W</title>\n",
       "<ellipse fill=\"lightgray\" stroke=\"black\" cx=\"99\" cy=\"-162\" rx=\"27\" ry=\"18\"/>\n",
       "<text text-anchor=\"middle\" x=\"99\" y=\"-156.95\" font-family=\"Times,serif\" font-size=\"14.00\">W</text>\n",
       "</g>\n",
       "<!-- S&#45;&gt;W -->\n",
       "<g id=\"edge3\" class=\"edge\">\n",
       "<title>S&#45;&gt;W</title>\n",
       "<path fill=\"none\" stroke=\"black\" stroke-width=\"2\" d=\"M162.32,-288.63C150.21,-264.41 128.1,-220.19 113.47,-190.95\"/>\n",
       "<polygon fill=\"black\" stroke=\"black\" stroke-width=\"2\" points=\"116.67,-189.52 109.07,-182.14 110.41,-192.65 116.67,-189.52\"/>\n",
       "</g>\n",
       "<!-- R&#45;&gt;W -->\n",
       "<g id=\"edge4\" class=\"edge\">\n",
       "<title>R&#45;&gt;W</title>\n",
       "<path fill=\"none\" stroke=\"black\" stroke-width=\"2\" d=\"M35.68,-288.63C47.79,-264.41 69.9,-220.19 84.53,-190.95\"/>\n",
       "<polygon fill=\"black\" stroke=\"black\" stroke-width=\"2\" points=\"87.59,-192.65 88.93,-182.14 81.33,-189.52 87.59,-192.65\"/>\n",
       "</g>\n",
       "<!-- L -->\n",
       "<g id=\"node5\" class=\"node\">\n",
       "<title>L</title>\n",
       "<ellipse fill=\"lightgray\" stroke=\"black\" cx=\"99\" cy=\"-18\" rx=\"27\" ry=\"18\"/>\n",
       "<text text-anchor=\"middle\" x=\"99\" y=\"-12.95\" font-family=\"Times,serif\" font-size=\"14.00\">L</text>\n",
       "</g>\n",
       "<!-- W&#45;&gt;L -->\n",
       "<g id=\"edge5\" class=\"edge\">\n",
       "<title>W&#45;&gt;L</title>\n",
       "<path fill=\"none\" stroke=\"black\" stroke-width=\"2\" d=\"M99,-143.76C99,-119.96 99,-77.94 99,-49.07\"/>\n",
       "<polygon fill=\"black\" stroke=\"black\" stroke-width=\"2\" points=\"102.5,-49.12 99,-39.12 95.5,-49.12 102.5,-49.12\"/>\n",
       "</g>\n",
       "</g>\n",
       "</svg>\n"
      ],
      "text/plain": [
       "<graphviz.sources.Source at 0x2d4be3e50>"
      ]
     },
     "metadata": {},
     "output_type": "display_data"
    }
   ],
   "source": [
    "C, S, R, W, L = symbols('C S R W L')\n",
    "\n",
    "graph = CausalGraph([C, S, R, W, L], directed_edges=[(C, S), (C, R), (R, W), (S,W), (W, L)])\n",
    "\n",
    "graph.draw(node_positions={C: (0, 0), S: (1,-2), R: (-1,-2), W: (0, -4), L: (0, -6)})"
   ]
  },
  {
   "cell_type": "markdown",
   "metadata": {},
   "source": [
    "## Example 2.15\n",
    "\n",
    "Consider the causal diagram and whether S is d-separated from W. In thise case $X = {S}, Y={W}, Z= \\emptyset$.\n",
    "\n",
    "To evaluate this query, there are two paths to consider, namely, $p_1: S \\rightarrow W, p_2: S \\leftarrow C \\rightarrow R \\rightarrow W$.\n",
    "\n",
    "$p_1$ is unblockable due to the direct connection, and technically this would be sufficient to conclude $S$ and $W$ are not d-separated.\n",
    "\n",
    "We continue with this exercise with the second path $p_2$ to better understand the criterion. The evaluation goes triplet by triplet:\n",
    "\n",
    "The first segment we evaluate is $p_2^1: S \\leftarrow C \\rightarrow R$, which is unblocked since it's a chain and $C \\notin Z$, and the second segment $p_2^2: C \\rightarrow R \\rightarrow W$ is also unblocked for the same reason, $R \\notin Z$.\n",
    "\n",
    "Given that there exists an unblocked path (actually two) between S and W, those variables are not d-separated."
   ]
  },
  {
   "cell_type": "code",
   "execution_count": 34,
   "metadata": {},
   "outputs": [
    {
     "data": {
      "text/plain": [
       "False"
      ]
     },
     "execution_count": 34,
     "metadata": {},
     "output_type": "execute_result"
    }
   ],
   "source": [
    "graph.is_d_separator(x=S, y=W, given={})"
   ]
  },
  {
   "cell_type": "code",
   "execution_count": 35,
   "metadata": {},
   "outputs": [
    {
     "data": {
      "text/plain": [
       "[]"
      ]
     },
     "execution_count": 35,
     "metadata": {},
     "output_type": "execute_result"
    }
   ],
   "source": [
    "graph.find_all_d_separators(x=S, y=W)"
   ]
  },
  {
   "cell_type": "markdown",
   "metadata": {},
   "source": [
    "## Example 2.16\n",
    "\n",
    "Now consider the question of whether R and L are d-separated in the causal diagram given W. In this case, $X = {R}, Y = {L}, Z = {W}$.\n",
    "\n",
    "There are two paths to consider:\n",
    "  \n",
    "$p_1: R \\rightarrow W \\rightarrow L$ and $p_2: R \\leftarrow C \\rightarrow S \\rightarrow W \\rightarrow L$.\n",
    "\n",
    "The first path, which consists of a single triplet (a chain), is closed since $W \\in Z$.\n",
    "\n",
    "The second path is divided into three segments:  \n",
    "$p_1^2: R \\leftarrow C \\rightarrow S$,  \n",
    "$p_2^2: C \\rightarrow S \\rightarrow W$, and  \n",
    "$p_3^2: S \\rightarrow W \\rightarrow L$.\n",
    "\n",
    "The first segment, $p_1^2$, is unblocked because it's a fork and $C \\notin Z$.  \n",
    "The second segment, $p_2^2$, is unblocked since it's a chain and $S \\notin Z$.  \n",
    "However, the third segment, $p_3^2$, is blocked because it's a chain and $W \\in Z$.\n",
    "\n",
    "Thus, the second path, $p_2$, is blocked because at least one of its triplets obstructs the flow of information.  \n",
    "After all, there is no flow of information between $R$ and $L$ when conditioning on $W$, so they are d-separated."
   ]
  },
  {
   "cell_type": "code",
   "execution_count": 36,
   "metadata": {},
   "outputs": [
    {
     "data": {
      "text/plain": [
       "True"
      ]
     },
     "execution_count": 36,
     "metadata": {},
     "output_type": "execute_result"
    }
   ],
   "source": [
    "graph.is_d_separator(x=R, y=L, given={W})"
   ]
  },
  {
   "cell_type": "code",
   "execution_count": 37,
   "metadata": {},
   "outputs": [
    {
     "data": {
      "text/plain": [
       "[{W}, {S, W}, {C, W}, {C, S, W}]"
      ]
     },
     "execution_count": 37,
     "metadata": {},
     "output_type": "execute_result"
    }
   ],
   "source": [
    "graph.find_all_d_separators(x=R,y=L)"
   ]
  },
  {
   "cell_type": "markdown",
   "metadata": {},
   "source": [
    "## Example 2.18 -- d-separation in non-Markovian models\n",
    "\n",
    "Consider the following causal diagram:"
   ]
  },
  {
   "cell_type": "code",
   "execution_count": 38,
   "metadata": {},
   "outputs": [],
   "source": [
    "t, x, w, z, r, y, s = symbols('t x w z r y s')\n",
    "\n",
    "graph = CausalGraph([t, x, w, z, r, y, s], directed_edges=[(t,x), (t,z), (x,w), (w,z), (z,y), (r,y), (y,s)],\n",
    "                    bidirected_edges=[(w,y)])"
   ]
  },
  {
   "cell_type": "code",
   "execution_count": 40,
   "metadata": {},
   "outputs": [
    {
     "data": {
      "image/svg+xml": [
       "<?xml version=\"1.0\" encoding=\"UTF-8\" standalone=\"no\"?>\n",
       "<!DOCTYPE svg PUBLIC \"-//W3C//DTD SVG 1.1//EN\"\n",
       " \"http://www.w3.org/Graphics/SVG/1.1/DTD/svg11.dtd\">\n",
       "<!-- Generated by graphviz version 12.2.1 (20241206.2353)\n",
       " -->\n",
       "<!-- Title: G Pages: 1 -->\n",
       "<svg width=\"278pt\" height=\"260pt\"\n",
       " viewBox=\"0.00 0.00 278.00 260.00\" xmlns=\"http://www.w3.org/2000/svg\" xmlns:xlink=\"http://www.w3.org/1999/xlink\">\n",
       "<g id=\"graph0\" class=\"graph\" transform=\"scale(1 1) rotate(0) translate(4 256)\">\n",
       "<title>G</title>\n",
       "<polygon fill=\"white\" stroke=\"none\" points=\"-4,4 -4,-256 274,-256 274,4 -4,4\"/>\n",
       "<!-- t -->\n",
       "<g id=\"node1\" class=\"node\">\n",
       "<title>t</title>\n",
       "<ellipse fill=\"lightgray\" stroke=\"black\" cx=\"99\" cy=\"-234\" rx=\"27\" ry=\"18\"/>\n",
       "<text text-anchor=\"middle\" x=\"99\" y=\"-228.95\" font-family=\"Times,serif\" font-size=\"14.00\">t</text>\n",
       "</g>\n",
       "<!-- x -->\n",
       "<g id=\"node2\" class=\"node\">\n",
       "<title>x</title>\n",
       "<ellipse fill=\"lightgray\" stroke=\"black\" cx=\"27\" cy=\"-162\" rx=\"27\" ry=\"18\"/>\n",
       "<text text-anchor=\"middle\" x=\"27\" y=\"-156.95\" font-family=\"Times,serif\" font-size=\"14.00\">x</text>\n",
       "</g>\n",
       "<!-- t&#45;&gt;x -->\n",
       "<g id=\"edge1\" class=\"edge\">\n",
       "<title>t&#45;&gt;x</title>\n",
       "<path fill=\"none\" stroke=\"black\" stroke-width=\"2\" d=\"M83.73,-218.73C74.28,-209.28 61.94,-196.94 51.18,-186.18\"/>\n",
       "<polygon fill=\"black\" stroke=\"black\" stroke-width=\"2\" points=\"53.93,-183.98 44.39,-179.39 48.98,-188.93 53.93,-183.98\"/>\n",
       "</g>\n",
       "<!-- z -->\n",
       "<g id=\"node4\" class=\"node\">\n",
       "<title>z</title>\n",
       "<ellipse fill=\"lightgray\" stroke=\"black\" cx=\"171\" cy=\"-162\" rx=\"27\" ry=\"18\"/>\n",
       "<text text-anchor=\"middle\" x=\"171\" y=\"-156.95\" font-family=\"Times,serif\" font-size=\"14.00\">z</text>\n",
       "</g>\n",
       "<!-- t&#45;&gt;z -->\n",
       "<g id=\"edge2\" class=\"edge\">\n",
       "<title>t&#45;&gt;z</title>\n",
       "<path fill=\"none\" stroke=\"black\" stroke-width=\"2\" d=\"M114.27,-218.73C123.72,-209.28 136.06,-196.94 146.82,-186.18\"/>\n",
       "<polygon fill=\"black\" stroke=\"black\" stroke-width=\"2\" points=\"149.02,-188.93 153.61,-179.39 144.07,-183.98 149.02,-188.93\"/>\n",
       "</g>\n",
       "<!-- w -->\n",
       "<g id=\"node3\" class=\"node\">\n",
       "<title>w</title>\n",
       "<ellipse fill=\"lightgray\" stroke=\"black\" cx=\"99\" cy=\"-162\" rx=\"27\" ry=\"18\"/>\n",
       "<text text-anchor=\"middle\" x=\"99\" y=\"-156.95\" font-family=\"Times,serif\" font-size=\"14.00\">w</text>\n",
       "</g>\n",
       "<!-- x&#45;&gt;w -->\n",
       "<g id=\"edge3\" class=\"edge\">\n",
       "<title>x&#45;&gt;w</title>\n",
       "<path fill=\"none\" stroke=\"black\" stroke-width=\"2\" d=\"M54.22,-162C55.74,-162 57.29,-162 58.84,-162\"/>\n",
       "<polygon fill=\"black\" stroke=\"black\" stroke-width=\"2\" points=\"58.71,-165.5 68.71,-162 58.71,-158.5 58.71,-165.5\"/>\n",
       "</g>\n",
       "<!-- w&#45;&gt;z -->\n",
       "<g id=\"edge4\" class=\"edge\">\n",
       "<title>w&#45;&gt;z</title>\n",
       "<path fill=\"none\" stroke=\"black\" stroke-width=\"2\" d=\"M126.22,-162C127.74,-162 129.29,-162 130.84,-162\"/>\n",
       "<polygon fill=\"black\" stroke=\"black\" stroke-width=\"2\" points=\"130.71,-165.5 140.71,-162 130.71,-158.5 130.71,-165.5\"/>\n",
       "</g>\n",
       "<!-- y -->\n",
       "<g id=\"node6\" class=\"node\">\n",
       "<title>y</title>\n",
       "<ellipse fill=\"lightgray\" stroke=\"black\" cx=\"243\" cy=\"-90\" rx=\"27\" ry=\"18\"/>\n",
       "<text text-anchor=\"middle\" x=\"243\" y=\"-84.95\" font-family=\"Times,serif\" font-size=\"14.00\">y</text>\n",
       "</g>\n",
       "<!-- w&#45;&gt;y -->\n",
       "<g id=\"edge8\" class=\"edge\">\n",
       "<title>w&#45;&gt;y</title>\n",
       "<path fill=\"none\" stroke=\"black\" stroke-width=\"2\" stroke-dasharray=\"5,2\" d=\"M132.26,-145.37C155.62,-133.69 186.71,-118.14 210.01,-106.5\"/>\n",
       "<polygon fill=\"black\" stroke=\"black\" stroke-width=\"2\" points=\"130.96,-142.11 123.58,-149.71 134.09,-148.37 130.96,-142.11\"/>\n",
       "<polygon fill=\"black\" stroke=\"black\" stroke-width=\"2\" points=\"211.31,-109.76 218.69,-102.16 208.18,-103.5 211.31,-109.76\"/>\n",
       "</g>\n",
       "<!-- z&#45;&gt;y -->\n",
       "<g id=\"edge5\" class=\"edge\">\n",
       "<title>z&#45;&gt;y</title>\n",
       "<path fill=\"none\" stroke=\"black\" stroke-width=\"2\" d=\"M186.27,-146.73C195.72,-137.28 208.06,-124.94 218.82,-114.18\"/>\n",
       "<polygon fill=\"black\" stroke=\"black\" stroke-width=\"2\" points=\"221.02,-116.93 225.61,-107.39 216.07,-111.98 221.02,-116.93\"/>\n",
       "</g>\n",
       "<!-- r -->\n",
       "<g id=\"node5\" class=\"node\">\n",
       "<title>r</title>\n",
       "<ellipse fill=\"lightgray\" stroke=\"black\" cx=\"243\" cy=\"-234\" rx=\"27\" ry=\"18\"/>\n",
       "<text text-anchor=\"middle\" x=\"243\" y=\"-228.95\" font-family=\"Times,serif\" font-size=\"14.00\">r</text>\n",
       "</g>\n",
       "<!-- r&#45;&gt;y -->\n",
       "<g id=\"edge6\" class=\"edge\">\n",
       "<title>r&#45;&gt;y</title>\n",
       "<path fill=\"none\" stroke=\"black\" stroke-width=\"2\" d=\"M243,-215.76C243,-191.96 243,-149.94 243,-121.07\"/>\n",
       "<polygon fill=\"black\" stroke=\"black\" stroke-width=\"2\" points=\"246.5,-121.12 243,-111.12 239.5,-121.12 246.5,-121.12\"/>\n",
       "</g>\n",
       "<!-- s -->\n",
       "<g id=\"node7\" class=\"node\">\n",
       "<title>s</title>\n",
       "<ellipse fill=\"lightgray\" stroke=\"black\" cx=\"243\" cy=\"-18\" rx=\"27\" ry=\"18\"/>\n",
       "<text text-anchor=\"middle\" x=\"243\" y=\"-12.95\" font-family=\"Times,serif\" font-size=\"14.00\">s</text>\n",
       "</g>\n",
       "<!-- y&#45;&gt;s -->\n",
       "<g id=\"edge7\" class=\"edge\">\n",
       "<title>y&#45;&gt;s</title>\n",
       "<path fill=\"none\" stroke=\"black\" stroke-width=\"2\" d=\"M243,-71.83C243,-64.98 243,-56.97 243,-49.26\"/>\n",
       "<polygon fill=\"black\" stroke=\"black\" stroke-width=\"2\" points=\"246.5,-49.44 243,-39.44 239.5,-49.44 246.5,-49.44\"/>\n",
       "</g>\n",
       "</g>\n",
       "</svg>\n"
      ],
      "text/plain": [
       "<graphviz.sources.Source at 0x2d2024e50>"
      ]
     },
     "metadata": {},
     "output_type": "display_data"
    }
   ],
   "source": [
    "graph.draw(node_positions={t: (1, 1), x: (0, 0), w: (1,0), z: (2,0), r: (3,1), y: (3,-1), s: (3,-2)})"
   ]
  },
  {
   "cell_type": "code",
   "execution_count": null,
   "metadata": {},
   "outputs": [],
   "source": []
  }
 ],
 "metadata": {
  "kernelspec": {
   "display_name": "base",
   "language": "python",
   "name": "python3"
  },
  "language_info": {
   "codemirror_mode": {
    "name": "ipython",
    "version": 3
   },
   "file_extension": ".py",
   "mimetype": "text/x-python",
   "name": "python",
   "nbconvert_exporter": "python",
   "pygments_lexer": "ipython3",
   "version": "3.11.8"
  }
 },
 "nbformat": 4,
 "nbformat_minor": 2
}
