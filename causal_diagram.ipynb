{
 "cells": [
  {
   "cell_type": "markdown",
   "metadata": {},
   "source": [
    "## Causal Diagrams\n",
    "\n",
    "Causal diagrams are a powerful tool to represent and reason about causal relationships between variables. In this notebook, we will explore how to create and analyze causal diagrams using Python."
   ]
  },
  {
   "cell_type": "markdown",
   "metadata": {},
   "source": [
    "<a target=\"_blank\" href=\"https://colab.research.google.com/github/CausalAILab/causalai-book/blob/main/causal_diagram.ipynb\">\n",
    "  <img src=\"https://colab.research.google.com/assets/colab-badge.svg\" alt=\"Open In Colab\"/>\n",
    "</a>"
   ]
  },
  {
   "cell_type": "code",
   "execution_count": 1,
   "metadata": {},
   "outputs": [],
   "source": [
    "import os\n",
    "import sys\n",
    "\n",
    "if 'google.colab' in sys.modules:\n",
    "    os.system(\"git clone https://github.com/CausalAILab/causalai-book.git\")\n",
    "    os.system(\"mv causalai-book/* ./\")\n",
    "    os.system(\"rm -rf causalai-book\")"
   ]
  },
  {
   "cell_type": "code",
   "execution_count": 2,
   "metadata": {},
   "outputs": [],
   "source": [
    "# Install libraries\n",
    "# !pip install toposort\n",
    "# !pip install pydash"
   ]
  },
  {
   "cell_type": "markdown",
   "metadata": {},
   "source": [
    "In this notebook, we will see how to use the Causal Graph and perform some cool functions with it."
   ]
  },
  {
   "cell_type": "code",
   "execution_count": 4,
   "metadata": {},
   "outputs": [
    {
     "ename": "ModuleNotFoundError",
     "evalue": "No module named 'toposort'",
     "output_type": "error",
     "traceback": [
      "\u001b[0;31m---------------------------------------------------------------------------\u001b[0m",
      "\u001b[0;31mModuleNotFoundError\u001b[0m                       Traceback (most recent call last)",
      "Cell \u001b[0;32mIn[4], line 2\u001b[0m\n\u001b[1;32m      1\u001b[0m \u001b[38;5;66;03m# Importing the necessary libraries and modules for causal inference\u001b[39;00m\n\u001b[0;32m----> 2\u001b[0m \u001b[38;5;28;01mfrom\u001b[39;00m \u001b[38;5;21;01msrc\u001b[39;00m\u001b[38;5;21;01m.\u001b[39;00m\u001b[38;5;21;01mfusion\u001b[39;00m \u001b[38;5;28;01mimport\u001b[39;00m \u001b[38;5;241m*\u001b[39m\n",
      "File \u001b[0;32m~/Library/CloudStorage/OneDrive-Personal/Documents/Columbia/Causal Inference/causal-ai-book Git/src/fusion.py:1\u001b[0m\n\u001b[0;32m----> 1\u001b[0m \u001b[38;5;28;01mfrom\u001b[39;00m \u001b[38;5;21;01msrc\u001b[39;00m\u001b[38;5;21;01m.\u001b[39;00m\u001b[38;5;21;01minference\u001b[39;00m\u001b[38;5;21;01m.\u001b[39;00m\u001b[38;5;21;01mutils\u001b[39;00m\u001b[38;5;21;01m.\u001b[39;00m\u001b[38;5;21;01mgraph_utils\u001b[39;00m \u001b[38;5;28;01mimport\u001b[39;00m GraphUtils \u001b[38;5;28;01mas\u001b[39;00m gu\n\u001b[1;32m      3\u001b[0m \u001b[38;5;28;01mfrom\u001b[39;00m \u001b[38;5;21;01msrc\u001b[39;00m\u001b[38;5;21;01m.\u001b[39;00m\u001b[38;5;21;01meditor\u001b[39;00m\u001b[38;5;21;01m.\u001b[39;00m\u001b[38;5;21;01minput_parser\u001b[39;00m \u001b[38;5;28;01mimport\u001b[39;00m InputParser\n\u001b[1;32m      4\u001b[0m \u001b[38;5;28;01mfrom\u001b[39;00m \u001b[38;5;21;01msrc\u001b[39;00m\u001b[38;5;21;01m.\u001b[39;00m\u001b[38;5;21;01meditor\u001b[39;00m\u001b[38;5;21;01m.\u001b[39;00m\u001b[38;5;21;01msections\u001b[39;00m\u001b[38;5;21;01m.\u001b[39;00m\u001b[38;5;21;01mnodes_section\u001b[39;00m \u001b[38;5;28;01mimport\u001b[39;00m NodesSection\n",
      "File \u001b[0;32m~/Library/CloudStorage/OneDrive-Personal/Documents/Columbia/Causal Inference/causal-ai-book Git/src/inference/utils/graph_utils.py:2\u001b[0m\n\u001b[1;32m      1\u001b[0m \u001b[38;5;28;01mfrom\u001b[39;00m \u001b[38;5;21;01menum\u001b[39;00m \u001b[38;5;28;01mimport\u001b[39;00m Enum\n\u001b[0;32m----> 2\u001b[0m \u001b[38;5;28;01mfrom\u001b[39;00m \u001b[38;5;21;01mtoposort\u001b[39;00m \u001b[38;5;28;01mimport\u001b[39;00m toposort_flatten\n\u001b[1;32m      4\u001b[0m \u001b[38;5;28;01mfrom\u001b[39;00m \u001b[38;5;21;01msrc\u001b[39;00m\u001b[38;5;21;01m.\u001b[39;00m\u001b[38;5;21;01mgraph\u001b[39;00m\u001b[38;5;21;01m.\u001b[39;00m\u001b[38;5;21;01mclasses\u001b[39;00m\u001b[38;5;21;01m.\u001b[39;00m\u001b[38;5;21;01mgraph_defs\u001b[39;00m \u001b[38;5;28;01mimport\u001b[39;00m basicNodeType, latentNodeType, directedEdgeType, bidirectedEdgeType, undirectedEdgeType\n\u001b[1;32m      6\u001b[0m \u001b[38;5;28;01mfrom\u001b[39;00m \u001b[38;5;21;01msrc\u001b[39;00m\u001b[38;5;21;01m.\u001b[39;00m\u001b[38;5;21;01minference\u001b[39;00m\u001b[38;5;21;01m.\u001b[39;00m\u001b[38;5;21;01mutils\u001b[39;00m\u001b[38;5;21;01m.\u001b[39;00m\u001b[38;5;21;01mset_utils\u001b[39;00m \u001b[38;5;28;01mimport\u001b[39;00m SetUtils \u001b[38;5;28;01mas\u001b[39;00m su\n",
      "\u001b[0;31mModuleNotFoundError\u001b[0m: No module named 'toposort'"
     ]
    }
   ],
   "source": [
    "# Importing the necessary libraries and modules for causal inference\n",
    "from src.fusion import *"
   ]
  },
  {
   "cell_type": "code",
   "execution_count": 5,
   "metadata": {},
   "outputs": [],
   "source": [
    "# Define the nodes for the causal diagram.\n",
    "# Each node has a name, label, and type.\n",
    "# 'basic' type refers to observable variables, while 'latent' would refer to unobserved variables.\n",
    "# The label is optional and is used for display purposes.\n",
    "# The name is used to refer to the variable in the causal graph.\n",
    "# The order of the nodes in the list does not matter.\n",
    "\n",
    "nodes = [\n",
    "    {\n",
    "        'name': 'Z', # Can be any string\n",
    "        'label': 'Z', # Can be any string (optional)\n",
    "        'type': 'basic' # Can be 'basic' or 'latent'\n",
    "    },\n",
    "    {\n",
    "        'name': 'X',\n",
    "        'label': 'X',\n",
    "        'type': 'basic'\n",
    "    },\n",
    "    {\n",
    "        'name': 'Y',\n",
    "        'label': 'Y',\n",
    "        'type': 'basic'\n",
    "    }\n",
    "]"
   ]
  },
  {
   "cell_type": "code",
   "execution_count": 6,
   "metadata": {},
   "outputs": [],
   "source": [
    "# Define the edges between the nodes. \n",
    "# Each edge represents a causal relationship from one node to another.\n",
    "# The 'type' can be 'directed', 'bidirected', or 'undirected', specifying the nature of the relationship.\n",
    "# The 'label' is optional and is used for display purposes.\n",
    "# The 'from_' and 'to_' keys are used to specify the source and target nodes of the edge.\n",
    "# The order of the edges in the list does not matter.\n",
    "\n",
    "edges = [\n",
    "    {\n",
    "        'from_': 'Z', # one of the node names\n",
    "        'to_': 'X', # one of the node names\n",
    "        # 'label': '', # any string (optional)\n",
    "        'type': 'directed' # Can be 'directed', 'bidirected' or 'undirected'\n",
    "    },\n",
    "    {\n",
    "        'from_': 'Z',\n",
    "        'to_': 'Y',\n",
    "        # 'label': '', # any string (optional)\n",
    "        'type': 'directed' # Can be 'directed', 'bidirected' or 'undirected'\n",
    "    },\n",
    "    {\n",
    "        'from_': 'X',\n",
    "        'to_': 'Y',\n",
    "        # 'label': '',\n",
    "        'type': 'directed' # Can be 'directed', 'bidirected' or 'undirected'\n",
    "    }\n",
    "]"
   ]
  },
  {
   "cell_type": "code",
   "execution_count": 7,
   "metadata": {},
   "outputs": [
    {
     "ename": "ModuleNotFoundError",
     "evalue": "No module named 'toposort'",
     "output_type": "error",
     "traceback": [
      "\u001b[0;31m---------------------------------------------------------------------------\u001b[0m",
      "\u001b[0;31mModuleNotFoundError\u001b[0m                       Traceback (most recent call last)",
      "Cell \u001b[0;32mIn[7], line 2\u001b[0m\n\u001b[1;32m      1\u001b[0m \u001b[38;5;66;03m# Import the Graph class from the graph module\u001b[39;00m\n\u001b[0;32m----> 2\u001b[0m \u001b[38;5;28;01mfrom\u001b[39;00m \u001b[38;5;21;01msrc\u001b[39;00m\u001b[38;5;21;01m.\u001b[39;00m\u001b[38;5;21;01mgraph\u001b[39;00m\u001b[38;5;21;01m.\u001b[39;00m\u001b[38;5;21;01mclasses\u001b[39;00m\u001b[38;5;21;01m.\u001b[39;00m\u001b[38;5;21;01mgraph\u001b[39;00m \u001b[38;5;28;01mimport\u001b[39;00m Graph\n",
      "File \u001b[0;32m~/Library/CloudStorage/OneDrive-Personal/Documents/Columbia/Causal Inference/causal-ai-book Git/src/graph/classes/graph.py:8\u001b[0m\n\u001b[1;32m      5\u001b[0m \u001b[38;5;28;01mfrom\u001b[39;00m \u001b[38;5;21;01msrc\u001b[39;00m\u001b[38;5;21;01m.\u001b[39;00m\u001b[38;5;21;01mtask\u001b[39;00m\u001b[38;5;21;01m.\u001b[39;00m\u001b[38;5;21;01mclasses\u001b[39;00m\u001b[38;5;21;01m.\u001b[39;00m\u001b[38;5;21;01mtask\u001b[39;00m \u001b[38;5;28;01mimport\u001b[39;00m Task\n\u001b[1;32m      6\u001b[0m \u001b[38;5;28;01mfrom\u001b[39;00m \u001b[38;5;21;01msrc\u001b[39;00m\u001b[38;5;21;01m.\u001b[39;00m\u001b[38;5;21;01mtask\u001b[39;00m\u001b[38;5;21;01m.\u001b[39;00m\u001b[38;5;21;01mbasic_task\u001b[39;00m \u001b[38;5;28;01mimport\u001b[39;00m BasicTask\n\u001b[0;32m----> 8\u001b[0m \u001b[38;5;28;01mfrom\u001b[39;00m \u001b[38;5;21;01msrc\u001b[39;00m\u001b[38;5;21;01m.\u001b[39;00m\u001b[38;5;21;01minference\u001b[39;00m\u001b[38;5;21;01m.\u001b[39;00m\u001b[38;5;21;01mutils\u001b[39;00m\u001b[38;5;21;01m.\u001b[39;00m\u001b[38;5;21;01mgraph_utils\u001b[39;00m \u001b[38;5;28;01mimport\u001b[39;00m GraphUtils \u001b[38;5;28;01mas\u001b[39;00m gu\n\u001b[1;32m      9\u001b[0m \u001b[38;5;28;01mfrom\u001b[39;00m \u001b[38;5;21;01msrc\u001b[39;00m\u001b[38;5;21;01m.\u001b[39;00m\u001b[38;5;21;01minference\u001b[39;00m\u001b[38;5;21;01m.\u001b[39;00m\u001b[38;5;21;01mutils\u001b[39;00m\u001b[38;5;21;01m.\u001b[39;00m\u001b[38;5;21;01mset_utils\u001b[39;00m \u001b[38;5;28;01mimport\u001b[39;00m SetUtils \u001b[38;5;28;01mas\u001b[39;00m su\n\u001b[1;32m     10\u001b[0m \u001b[38;5;28;01mfrom\u001b[39;00m \u001b[38;5;21;01msrc\u001b[39;00m\u001b[38;5;21;01m.\u001b[39;00m\u001b[38;5;21;01mcommon\u001b[39;00m\u001b[38;5;21;01m.\u001b[39;00m\u001b[38;5;21;01mobject_utils\u001b[39;00m \u001b[38;5;28;01mimport\u001b[39;00m ObjectUtils \u001b[38;5;28;01mas\u001b[39;00m ou\n",
      "File \u001b[0;32m~/Library/CloudStorage/OneDrive-Personal/Documents/Columbia/Causal Inference/causal-ai-book Git/src/inference/utils/graph_utils.py:2\u001b[0m\n\u001b[1;32m      1\u001b[0m \u001b[38;5;28;01mfrom\u001b[39;00m \u001b[38;5;21;01menum\u001b[39;00m \u001b[38;5;28;01mimport\u001b[39;00m Enum\n\u001b[0;32m----> 2\u001b[0m \u001b[38;5;28;01mfrom\u001b[39;00m \u001b[38;5;21;01mtoposort\u001b[39;00m \u001b[38;5;28;01mimport\u001b[39;00m toposort_flatten\n\u001b[1;32m      4\u001b[0m \u001b[38;5;28;01mfrom\u001b[39;00m \u001b[38;5;21;01msrc\u001b[39;00m\u001b[38;5;21;01m.\u001b[39;00m\u001b[38;5;21;01mgraph\u001b[39;00m\u001b[38;5;21;01m.\u001b[39;00m\u001b[38;5;21;01mclasses\u001b[39;00m\u001b[38;5;21;01m.\u001b[39;00m\u001b[38;5;21;01mgraph_defs\u001b[39;00m \u001b[38;5;28;01mimport\u001b[39;00m basicNodeType, latentNodeType, directedEdgeType, bidirectedEdgeType, undirectedEdgeType\n\u001b[1;32m      6\u001b[0m \u001b[38;5;28;01mfrom\u001b[39;00m \u001b[38;5;21;01msrc\u001b[39;00m\u001b[38;5;21;01m.\u001b[39;00m\u001b[38;5;21;01minference\u001b[39;00m\u001b[38;5;21;01m.\u001b[39;00m\u001b[38;5;21;01mutils\u001b[39;00m\u001b[38;5;21;01m.\u001b[39;00m\u001b[38;5;21;01mset_utils\u001b[39;00m \u001b[38;5;28;01mimport\u001b[39;00m SetUtils \u001b[38;5;28;01mas\u001b[39;00m su\n",
      "\u001b[0;31mModuleNotFoundError\u001b[0m: No module named 'toposort'"
     ]
    }
   ],
   "source": [
    "# Import the Graph class from the graph module\n",
    "from src.graph.classes.graph import Graph"
   ]
  },
  {
   "cell_type": "code",
   "execution_count": 7,
   "metadata": {},
   "outputs": [],
   "source": [
    "# Instantiate a graph object using the previously defined nodes and edges.\n",
    "# This will represent our causal graph.\n",
    "G = Graph(nodes=nodes, edges=edges)"
   ]
  },
  {
   "cell_type": "markdown",
   "metadata": {},
   "source": [
    "The causal graph is now set up with the defined nodes and edges. Next, we'll analyze it to identify causal paths and potential backdoor adjustment sets. As we progress through the course, we’ll dive into more advanced techniques and exciting applications."
   ]
  },
  {
   "cell_type": "markdown",
   "metadata": {},
   "source": [
    "### D-Separation\n",
    "\n",
    "Now, we will try to find paths between two sets of nodes, that are blocked by a third set of variables."
   ]
  },
  {
   "cell_type": "markdown",
   "metadata": {},
   "source": [
    "First we need the nodes."
   ]
  },
  {
   "cell_type": "code",
   "execution_count": 8,
   "metadata": {},
   "outputs": [],
   "source": [
    "from src.inference.utils.graph_utils import GraphUtils as gu"
   ]
  },
  {
   "cell_type": "code",
   "execution_count": 9,
   "metadata": {},
   "outputs": [
    {
     "data": {
      "text/plain": [
       "[{'name': 'X', 'label': 'X', 'type_': 'basic', 'metadata': {}}]"
      ]
     },
     "execution_count": 9,
     "metadata": {},
     "output_type": "execute_result"
    }
   ],
   "source": [
    "X = gu.getNodesByName(['X'], G)\n",
    "X"
   ]
  },
  {
   "cell_type": "code",
   "execution_count": 10,
   "metadata": {},
   "outputs": [],
   "source": [
    "Y = gu.getNodesByName(['Y'], G)\n",
    "Z = gu.getNodesByName(['Z'], G)"
   ]
  },
  {
   "cell_type": "markdown",
   "metadata": {},
   "source": [
    "Now, let's get the paths between $X$ and $Y$ that are blocked by $Z$ and not blocked by $Z$."
   ]
  },
  {
   "cell_type": "code",
   "execution_count": 11,
   "metadata": {},
   "outputs": [],
   "source": [
    "from src.path_analysis.d_separation import DSeparation"
   ]
  },
  {
   "cell_type": "code",
   "execution_count": 12,
   "metadata": {},
   "outputs": [],
   "source": [
    "connectedPaths = DSeparation.findDConnectedPaths(G, X, Y, Z)\n",
    "separatedPaths = DSeparation.findDSeparatedPaths(G, X, Y, Z)"
   ]
  },
  {
   "cell_type": "markdown",
   "metadata": {},
   "source": [
    "An alternate way to get here."
   ]
  },
  {
   "cell_type": "code",
   "execution_count": 13,
   "metadata": {},
   "outputs": [],
   "source": [
    "fileContent = '''\n",
    "<NODES>\n",
    "Z\n",
    "X\n",
    "Y\n",
    "\n",
    "<EDGES>\n",
    "Z -> X\n",
    "Z -> Y\n",
    "X -> Y\n",
    "\n",
    "<TASK>\n",
    "treatment: X\n",
    "outcome: Y\n",
    "adjusted: Z\n",
    "'''"
   ]
  },
  {
   "cell_type": "code",
   "execution_count": 14,
   "metadata": {},
   "outputs": [],
   "source": [
    "result = listDSeparationPaths(fileContent)"
   ]
  },
  {
   "cell_type": "code",
   "execution_count": 15,
   "metadata": {},
   "outputs": [
    {
     "data": {
      "text/plain": [
       "{'G': <src.graph.classes.graph.Graph at 0x1089fa910>,\n",
       " 'connectedPaths': [<src.path_analysis.classes.path.Path at 0x1089fa9d0>],\n",
       " 'separatedPaths': [<src.path_analysis.classes.path.Path at 0x1089faac0>]}"
      ]
     },
     "execution_count": 15,
     "metadata": {},
     "output_type": "execute_result"
    }
   ],
   "source": [
    "result"
   ]
  },
  {
   "cell_type": "code",
   "execution_count": 16,
   "metadata": {},
   "outputs": [
    {
     "name": "stdout",
     "output_type": "stream",
     "text": [
      "{'from_': 'X', 'to_': 'Y', 'label': None, 'type_': 'directed', 'metadata': {}}\n",
      "{'from_': 'X', 'to_': 'Y', 'label': None, 'type_': 'directed', 'metadata': {}}\n"
     ]
    }
   ],
   "source": [
    "print(connectedPaths[0].edges[0].edge)\n",
    "print(result['connectedPaths'][0].edges[0].edge)"
   ]
  },
  {
   "cell_type": "markdown",
   "metadata": {},
   "source": [
    "How to visualize?"
   ]
  },
  {
   "cell_type": "code",
   "execution_count": 17,
   "metadata": {},
   "outputs": [],
   "source": [
    "from src.utils import plot_causal_diagram"
   ]
  },
  {
   "cell_type": "code",
   "execution_count": 18,
   "metadata": {},
   "outputs": [
    {
     "data": {
      "image/svg+xml": [
       "<?xml version=\"1.0\" encoding=\"UTF-8\" standalone=\"no\"?>\n",
       "<!DOCTYPE svg PUBLIC \"-//W3C//DTD SVG 1.1//EN\"\n",
       " \"http://www.w3.org/Graphics/SVG/1.1/DTD/svg11.dtd\">\n",
       "<!-- Generated by graphviz version 12.1.2 (20240928.0832)\n",
       " -->\n",
       "<!-- Title: G Pages: 1 -->\n",
       "<svg width=\"206pt\" height=\"116pt\"\n",
       " viewBox=\"0.00 0.00 206.00 116.00\" xmlns=\"http://www.w3.org/2000/svg\" xmlns:xlink=\"http://www.w3.org/1999/xlink\">\n",
       "<g id=\"graph0\" class=\"graph\" transform=\"scale(1 1) rotate(0) translate(4 112)\">\n",
       "<title>G</title>\n",
       "<polygon fill=\"white\" stroke=\"none\" points=\"-4,4 -4,-112 202,-112 202,4 -4,4\"/>\n",
       "<!-- Z -->\n",
       "<g id=\"node1\" class=\"node\">\n",
       "<title>Z</title>\n",
       "<ellipse fill=\"lightblue\" stroke=\"black\" cx=\"99\" cy=\"-90\" rx=\"27\" ry=\"18\"/>\n",
       "<text text-anchor=\"middle\" x=\"99\" y=\"-84.95\" font-family=\"Times,serif\" font-size=\"14.00\">Z</text>\n",
       "</g>\n",
       "<!-- X -->\n",
       "<g id=\"node2\" class=\"node\">\n",
       "<title>X</title>\n",
       "<ellipse fill=\"none\" stroke=\"black\" cx=\"27\" cy=\"-18\" rx=\"27\" ry=\"18\"/>\n",
       "<text text-anchor=\"middle\" x=\"27\" y=\"-12.95\" font-family=\"Times,serif\" font-size=\"14.00\">X</text>\n",
       "</g>\n",
       "<!-- Z&#45;&gt;X -->\n",
       "<g id=\"edge1\" class=\"edge\">\n",
       "<title>Z&#45;&gt;X</title>\n",
       "<path fill=\"none\" stroke=\"lightgreen\" stroke-width=\"2\" d=\"M83.73,-74.73C74.28,-65.28 61.94,-52.94 51.18,-42.18\"/>\n",
       "<polygon fill=\"lightgreen\" stroke=\"lightgreen\" stroke-width=\"2\" points=\"53.93,-39.98 44.39,-35.39 48.98,-44.93 53.93,-39.98\"/>\n",
       "</g>\n",
       "<!-- Y -->\n",
       "<g id=\"node3\" class=\"node\">\n",
       "<title>Y</title>\n",
       "<ellipse fill=\"none\" stroke=\"black\" cx=\"171\" cy=\"-18\" rx=\"27\" ry=\"18\"/>\n",
       "<text text-anchor=\"middle\" x=\"171\" y=\"-12.95\" font-family=\"Times,serif\" font-size=\"14.00\">Y</text>\n",
       "</g>\n",
       "<!-- Z&#45;&gt;Y -->\n",
       "<g id=\"edge2\" class=\"edge\">\n",
       "<title>Z&#45;&gt;Y</title>\n",
       "<path fill=\"none\" stroke=\"lightgreen\" stroke-width=\"2\" d=\"M114.27,-74.73C123.72,-65.28 136.06,-52.94 146.82,-42.18\"/>\n",
       "<polygon fill=\"lightgreen\" stroke=\"lightgreen\" stroke-width=\"2\" points=\"149.02,-44.93 153.61,-35.39 144.07,-39.98 149.02,-44.93\"/>\n",
       "</g>\n",
       "<!-- X&#45;&gt;Y -->\n",
       "<g id=\"edge3\" class=\"edge\">\n",
       "<title>X&#45;&gt;Y</title>\n",
       "<path fill=\"none\" stroke=\"red\" stroke-width=\"2\" d=\"M54.42,-18C76.04,-18 106.5,-18 130.87,-18\"/>\n",
       "<polygon fill=\"red\" stroke=\"red\" stroke-width=\"2\" points=\"130.65,-21.5 140.65,-18 130.65,-14.5 130.65,-21.5\"/>\n",
       "</g>\n",
       "</g>\n",
       "</svg>\n"
      ],
      "text/plain": [
       "<graphviz.sources.Source at 0x108af36d0>"
      ]
     },
     "execution_count": 18,
     "metadata": {},
     "output_type": "execute_result"
    }
   ],
   "source": [
    "graph = plot_causal_diagram(result['G'], \n",
    "                            result['connectedPaths'],\n",
    "                            result['separatedPaths'],\n",
    "                            nodes=['Z'],\n",
    "                            node_positions = {'Z': (0, 0), 'X': (-1, -1), 'Y': (1, -1)})\n",
    "graph"
   ]
  },
  {
   "cell_type": "markdown",
   "metadata": {},
   "source": [
    "You want to learn more? Let's compute $P(Y \\mid do(x))$. Before that, let's find the backdoor admissible sets."
   ]
  },
  {
   "cell_type": "code",
   "execution_count": 19,
   "metadata": {},
   "outputs": [],
   "source": [
    "from src.inference.classes.causal_query import CausalQuery\n",
    "from src.inference.engines.backdoor_engine import BackdoorEngine"
   ]
  },
  {
   "cell_type": "code",
   "execution_count": 20,
   "metadata": {},
   "outputs": [],
   "source": [
    "from src.adjustment.backdoor_adjustment import BackdoorAdjustment as BD"
   ]
  },
  {
   "cell_type": "code",
   "execution_count": 21,
   "metadata": {},
   "outputs": [],
   "source": [
    "# Get the list of admissible sets for the causal query\n",
    "bd_sets = BD.listAdmissibleSets(G, X, Y)"
   ]
  },
  {
   "cell_type": "code",
   "execution_count": 22,
   "metadata": {},
   "outputs": [
    {
     "data": {
      "text/plain": [
       "[['Z']]"
      ]
     },
     "execution_count": 22,
     "metadata": {},
     "output_type": "execute_result"
    }
   ],
   "source": [
    "bd_sets"
   ]
  },
  {
   "cell_type": "markdown",
   "metadata": {},
   "source": [
    "Now, let's compute $P(Y \\mid do(x))$.\n",
    "\n",
    "We are now ready to calculate the causal effect of $X$ on $Y$ using the backdoor criterion. The backdoor adjustment formula will be applied here."
   ]
  },
  {
   "cell_type": "code",
   "execution_count": 23,
   "metadata": {},
   "outputs": [],
   "source": [
    "# Initiate the engine for causal inference\n",
    "engine = BackdoorEngine()"
   ]
  },
  {
   "cell_type": "code",
   "execution_count": 24,
   "metadata": {},
   "outputs": [],
   "source": [
    "# Define the query for causal inference\n",
    "query = CausalQuery(X, Y)"
   ]
  },
  {
   "cell_type": "code",
   "execution_count": 25,
   "metadata": {},
   "outputs": [],
   "source": [
    "result = engine.compute(query, G)"
   ]
  },
  {
   "cell_type": "code",
   "execution_count": 26,
   "metadata": {},
   "outputs": [],
   "source": [
    "from src.inference.utils.expression_utils import ExpressionUtils as eu"
   ]
  },
  {
   "cell_type": "code",
   "execution_count": 27,
   "metadata": {},
   "outputs": [
    {
     "name": "stdout",
     "output_type": "stream",
     "text": [
      "\\sum_{Z}{P\\left(Y \\middle| X,Z\\right)P\\left(Z\\right)}\n"
     ]
    }
   ],
   "source": [
    "# Format the result into a readable causal expression.\n",
    "# This expression provides the formula for calculating the causal effect using the backdoor adjustment.\n",
    "exp = eu.write(result)\n",
    "print(exp)"
   ]
  },
  {
   "cell_type": "code",
   "execution_count": 28,
   "metadata": {},
   "outputs": [],
   "source": [
    "from IPython.display import display, Latex"
   ]
  },
  {
   "cell_type": "code",
   "execution_count": 29,
   "metadata": {},
   "outputs": [
    {
     "data": {
      "text/latex": [
       "$\\sum_{Z}{P\\left(Y \\middle| X,Z\\right)P\\left(Z\\right)}$"
      ],
      "text/plain": [
       "<IPython.core.display.Latex object>"
      ]
     },
     "metadata": {},
     "output_type": "display_data"
    }
   ],
   "source": [
    "display(Latex(f'${exp}$'))"
   ]
  },
  {
   "cell_type": "markdown",
   "metadata": {},
   "source": [
    "Find $P(Y \\mid do(x))$ using do-calculus."
   ]
  },
  {
   "cell_type": "code",
   "execution_count": 30,
   "metadata": {},
   "outputs": [],
   "source": [
    "from src.inference.engines.do_calculus_engine import DoCalculusEngine"
   ]
  },
  {
   "cell_type": "code",
   "execution_count": 31,
   "metadata": {},
   "outputs": [],
   "source": [
    "engine_do = DoCalculusEngine()"
   ]
  },
  {
   "cell_type": "code",
   "execution_count": 32,
   "metadata": {},
   "outputs": [],
   "source": [
    "result = engine_do.compute(query, G)"
   ]
  },
  {
   "cell_type": "code",
   "execution_count": 33,
   "metadata": {},
   "outputs": [
    {
     "name": "stdout",
     "output_type": "stream",
     "text": [
      "\\sum_{Z}{P\\left(Y \\middle| X,Z\\right)P\\left(Z\\right)}\n"
     ]
    }
   ],
   "source": [
    "exp_do = eu.write(result)\n",
    "print(exp_do)"
   ]
  },
  {
   "cell_type": "code",
   "execution_count": 34,
   "metadata": {},
   "outputs": [
    {
     "data": {
      "text/latex": [
       "$\\sum_{Z}{P\\left(Y \\middle| X,Z\\right)P\\left(Z\\right)}$"
      ],
      "text/plain": [
       "<IPython.core.display.Latex object>"
      ]
     },
     "metadata": {},
     "output_type": "display_data"
    }
   ],
   "source": [
    "display(Latex(f'${exp_do}$'))"
   ]
  },
  {
   "cell_type": "markdown",
   "metadata": {},
   "source": [
    "Test do-calculus Rules"
   ]
  },
  {
   "cell_type": "code",
   "execution_count": 36,
   "metadata": {},
   "outputs": [],
   "source": [
    "from src.graph_analysis.classes.probability_expression import ProbabilityExpression\n",
    "from src.graph_analysis.do_calculus.do_calculus_inspector import DoCalculusInspector\n",
    "from src.graph_analysis.do_calculus.classes.do_calculus_inspection_query import DoCalculusInspectionQuery"
   ]
  },
  {
   "cell_type": "code",
   "execution_count": 37,
   "metadata": {},
   "outputs": [],
   "source": [
    "X = gu.getNodesByName(['X'], G)\n",
    "Y = gu.getNodesByName(['Y'], G)\n",
    "Z = gu.getNodesByName(['Z'], G)\n",
    "P = ProbabilityExpression(X = X, Y = Y, Z = Z)"
   ]
  },
  {
   "cell_type": "code",
   "execution_count": 38,
   "metadata": {},
   "outputs": [],
   "source": [
    "do_calculus_rule = 1"
   ]
  },
  {
   "cell_type": "code",
   "execution_count": 39,
   "metadata": {},
   "outputs": [],
   "source": [
    "query = DoCalculusInspectionQuery()\n",
    "query.rule = do_calculus_rule\n",
    "query.P = P"
   ]
  },
  {
   "cell_type": "code",
   "execution_count": 40,
   "metadata": {},
   "outputs": [],
   "source": [
    "inspector = DoCalculusInspector()\n",
    "result = inspector.test(query, G)"
   ]
  },
  {
   "cell_type": "code",
   "execution_count": 41,
   "metadata": {},
   "outputs": [
    {
     "name": "stdout",
     "output_type": "stream",
     "text": [
      "Applicable: False\n",
      "Expression: P\\left(Y \\middle| do(X), Z\\right)\n",
      "Evaluation: \\left(Y \\perp Z | X\\right)_{G_{\\overline{X}}}\n",
      "Result: P\\left(Y \\middle| do(X), Z\\right) \\neq P\\left(Y \\middle| do(X)\\right)\n"
     ]
    }
   ],
   "source": [
    "inspector.printResult(query, result)"
   ]
  },
  {
   "cell_type": "code",
   "execution_count": 45,
   "metadata": {},
   "outputs": [],
   "source": [
    "from src.utils import display_inspector_result"
   ]
  },
  {
   "cell_type": "code",
   "execution_count": 46,
   "metadata": {},
   "outputs": [
    {
     "data": {
      "text/latex": [
       "$\\text{Applicable: }False$"
      ],
      "text/plain": [
       "<IPython.core.display.Latex object>"
      ]
     },
     "metadata": {},
     "output_type": "display_data"
    },
    {
     "data": {
      "text/latex": [
       "$\\text{Expression: }P\\left(Y \\middle| do(X), Z\\right)$"
      ],
      "text/plain": [
       "<IPython.core.display.Latex object>"
      ]
     },
     "metadata": {},
     "output_type": "display_data"
    },
    {
     "data": {
      "text/latex": [
       "$\\text{Evaluation: }\\left(Y \\perp Z | X\\right)_{G_{\\overline{X}}}$"
      ],
      "text/plain": [
       "<IPython.core.display.Latex object>"
      ]
     },
     "metadata": {},
     "output_type": "display_data"
    },
    {
     "data": {
      "text/latex": [
       "$\\text{Result: }P\\left(Y \\middle| do(X), Z\\right) \\neq P\\left(Y \\middle| do(X)\\right)$"
      ],
      "text/plain": [
       "<IPython.core.display.Latex object>"
      ]
     },
     "metadata": {},
     "output_type": "display_data"
    }
   ],
   "source": [
    "display_inspector_result(result, latex=True)"
   ]
  }
 ],
 "metadata": {
  "kernelspec": {
   "display_name": "ctf-kevin",
   "language": "python",
   "name": "python3"
  },
  "language_info": {
   "codemirror_mode": {
    "name": "ipython",
    "version": 3
   },
   "file_extension": ".py",
   "mimetype": "text/x-python",
   "name": "python",
   "nbconvert_exporter": "python",
   "pygments_lexer": "ipython3",
   "version": "3.11.8"
  }
 },
 "nbformat": 4,
 "nbformat_minor": 2
}
