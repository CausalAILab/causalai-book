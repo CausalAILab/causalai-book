{
 "cells": [
  {
   "cell_type": "markdown",
   "metadata": {},
   "source": [
    "# Chapter 4\n",
    "\n",
    "<a target=\"_blank\" href=\"https://colab.research.google.com/github/CausalAILab/causalai-book/blob/main/chapter4.ipynb\">\n",
    "  <img src=\"https://colab.research.google.com/assets/colab-badge.svg\" alt=\"Open In Colab\"/>\n",
    "</a>"
   ]
  },
  {
   "cell_type": "markdown",
   "metadata": {},
   "source": [
    "## Simpson's Paradox\n",
    "\n",
    "Consider a medical setting with binary variables where:\n",
    "- $X = 1$ indicates the patient took a certain drug for a year\n",
    "- $Y = 1$ indicates that the patient recovered after one year of taking the drug\n",
    "- $Z = 1$ indicates the patient is female"
   ]
  },
  {
   "cell_type": "code",
   "execution_count": 1,
   "metadata": {},
   "outputs": [
    {
     "name": "stdout",
     "output_type": "stream",
     "text": [
      "3.11.8 | packaged by conda-forge | (main, Feb 16 2024, 20:49:36) [Clang 16.0.6 ]\n"
     ]
    }
   ],
   "source": [
    "import os\n",
    "import sys\n",
    "\n",
    "if 'google.colab' in sys.modules:\n",
    "    os.system(\"wget -O scm.py https://raw.githubusercontent.com/CausalAILab/causality-book/main/scm.py\")\n",
    "\n",
    "print(sys.version)"
   ]
  },
  {
   "cell_type": "code",
   "execution_count": 2,
   "metadata": {},
   "outputs": [],
   "source": [
    "from sympy import symbols, Function, Symbol\n",
    "\n",
    "from scm import SymbolicSCM\n",
    "\n",
    "from causal_graph import CausalGraph"
   ]
  },
  {
   "cell_type": "markdown",
   "metadata": {},
   "source": [
    "## Definition 4.1.1. Interventional Distribution\n",
    "\n",
    "Given two disjoint sets of variables, $\\mathbf X$ and $\\mathbf Y$, the causal effect of $\\mathbf X$ on $\\mathbf Y$, denoted, $P(\\mathbf y | do(\\mathbf X = \\mathbf x))$, is a function from $\\mathbf X$ to the space of probability distributions of $\\mathbf Y$. For each realization, $\\mathbf X = \\mathbf x$, $P(\\mathbf y | do(\\mathbf x))$ gives the probability of $\\mathbf Y = \\mathbf y$ induced by deleting from the model all equations corresponding to variables in $\\mathbf X = \\mathbf x$ and substituting $\\mathbf X = \\mathbf x$ in the remaining equations."
   ]
  },
  {
   "cell_type": "markdown",
   "metadata": {},
   "source": [
    "### Example 4.3 - Sprinkler\n",
    "\n",
    "Consider a classic setting where a robot is in charge of maintaining\n",
    "the backyard healthy and nourished throughout the entire year. The robot keeps track of the season\n",
    "($Se$), sprinkler ($Sp$), rain ($Ra$), the wetness of the floor ($We$), and whether it is slippery ($Sl$). The\n",
    "causal diagram $G$ is shown below and represents the following collection of mechanisms:\n",
    "\n",
    "$$\n",
    "\\begin{align}\n",
    "F &= \\begin{cases}\n",
    "    Se &\\gets f_{Se}(U_{Se}) \\\\ \n",
    "    Sp &\\gets f_{Sp}(Se, U_{Sp}) \\\\ \n",
    "    Ra &\\gets f_{Ra}(Se, U_{Ra}) \\\\ \n",
    "    We &\\gets f_{We}(Sp, Ra, U_{We}) \\\\ \n",
    "    Sl &\\gets f_{Sl}(We, U_{Sl}) \\\\ \n",
    "\\end{cases} \\\\\n",
    "\\end{align}\n",
    "$$\n",
    "\n",
    "for some $P(\\mathbf U)$."
   ]
  },
  {
   "cell_type": "markdown",
   "metadata": {},
   "source": [
    "![Figure 4.6](Fig-4-6.png)"
   ]
  },
  {
   "cell_type": "code",
   "execution_count": 3,
   "metadata": {},
   "outputs": [],
   "source": [
    "v = se, sp, ra, we, sl = symbols('Se Sp Ra We Sl')\n",
    "f = f_se, f_sp, f_ra, f_we, f_sl = [Function(f'f_{{{k}}}') for k in v]\n",
    "u = u_se, u_sp, u_ra, u_we, u_sl = [Symbol(f'u_{{{k}}}') for k in v]\n",
    "\n",
    "m = SymbolicSCM(\n",
    "    f={\n",
    "        se: f_se(u_se),\n",
    "        sp: f_sp(se, u_sp),\n",
    "        ra: f_ra(se, u_ra),\n",
    "        we: f_we(sp, ra, u_we),\n",
    "        sl: f_sl(we, u_sl),\n",
    "    },\n",
    "    pu = {\n",
    "        u_se: 0.5,\n",
    "        u_sp: 0.5,\n",
    "        u_ra: 0.5,\n",
    "        u_we: 0.5,\n",
    "        u_sl: 0.5,\n",
    "    }\n",
    ")"
   ]
  },
  {
   "cell_type": "markdown",
   "metadata": {},
   "source": [
    "## Definition 4.2.2 - Back-door Criterion\n",
    "\n",
    "Let $G$ be a causal diagram and $\\mathbf X$ and $\\mathbf Y$ be the sets of treatment and outcome variable, respectively. A set of variables $\\mathbf Z$ is said to satisfy the back-door criterion (BDC) relative to the pair $(\\mathbf X, \\mathbf Y)$ in $G$ if:\n",
    "\n",
    "1. No node in $\\mathbf Z$ is a descendant of $\\mathbf X$, and \n",
    "2. $\\mathbf Z$ blocks every path between $\\mathbf X$ and $\\mathbf Y$ that contains an arrow into $\\mathbf X$."
   ]
  },
  {
   "cell_type": "markdown",
   "metadata": {},
   "source": [
    "### Theorem 4.2.5 - Conditional Back-door Adjustment\n",
    "\n",
    "Let $G$ be a causal diagram and $\\mathbf X, \\mathbf Y, \\mathbf W$ be the sets of treatment, outcomes, and covariates variables, respectively. If a set of variables $\\mathbf Z \\cup \\mathbf W$ satisfies the back-door criterion relative to the pair $(\\mathbf X, \\mathbf Y)$, then the $\\mathbf W$-specific effect of $\\mathbf X$ on $\\mathbf Y$ is identifiable and given by:\n",
    "\n",
    "\\begin{equation}\n",
    "P(\\mathbf y | do(\\mathbf x), \\mathbf w) = \\sum_{\\mathbf z} P(\\mathbf y | \\mathbf x, \\mathbf z, \\mathbf w) P(\\mathbf z | \\mathbf w)\n",
    "\\end{equation}"
   ]
  },
  {
   "cell_type": "code",
   "execution_count": 4,
   "metadata": {},
   "outputs": [],
   "source": [
    "x1, x2, y, z1, z2, z3 = symbols('X1 X2 Y Z1 Z2 Z3')\n",
    "\n",
    "fig_4_14 = CausalGraph(\n",
    "    v=[x1, x2, y, z1, z2, z3],\n",
    "    directed_edges=[\n",
    "        (x1, z1),\n",
    "        (z1, z2),\n",
    "        (z2, z3),\n",
    "        (z3, x2),\n",
    "        (x2, y),\n",
    "        (x1, y)\n",
    "    ],\n",
    "    bidirected_edges=[\n",
    "        (z2,y),\n",
    "        (z3,y)\n",
    "    ]\n",
    ")"
   ]
  },
  {
   "cell_type": "code",
   "execution_count": 11,
   "metadata": {},
   "outputs": [
    {
     "data": {
      "text/plain": [
       "[{Z1, Z3}, {Z1, Z2, Z3}]"
      ]
     },
     "execution_count": 11,
     "metadata": {},
     "output_type": "execute_result"
    }
   ],
   "source": [
    "fig_4_14.find_all_backdoor_adjustments(x={x1, x2}, y=y)"
   ]
  },
  {
   "cell_type": "markdown",
   "metadata": {},
   "source": []
  }
 ],
 "metadata": {
  "kernelspec": {
   "display_name": "pyML",
   "language": "python",
   "name": "python3"
  },
  "language_info": {
   "codemirror_mode": {
    "name": "ipython",
    "version": 3
   },
   "file_extension": ".py",
   "mimetype": "text/x-python",
   "name": "python",
   "nbconvert_exporter": "python",
   "pygments_lexer": "ipython3",
   "version": "3.11.8"
  }
 },
 "nbformat": 4,
 "nbformat_minor": 2
}
