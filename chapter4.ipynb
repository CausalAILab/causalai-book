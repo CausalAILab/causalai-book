{
 "cells": [
  {
   "cell_type": "markdown",
   "metadata": {},
   "source": [
    "# Chapter 4\n",
    "\n",
    "<a target=\"_blank\" href=\"https://colab.research.google.com/github/CausalAILab/causalai-book/blob/main/chapter4.ipynb\">\n",
    "  <img src=\"https://colab.research.google.com/assets/colab-badge.svg\" alt=\"Open In Colab\"/>\n",
    "</a>"
   ]
  },
  {
   "cell_type": "markdown",
   "metadata": {},
   "source": [
    "## Simpson's Paradox\n",
    "\n",
    "Consider a medical setting with binary variables where:\n",
    "- $X = 1$ indicates the patient took a certain drug for a year\n",
    "- $Y = 1$ indicates that the patient recovered after one year of taking the drug\n",
    "- $Z = 1$ indicates the patient is female"
   ]
  },
  {
   "cell_type": "code",
   "execution_count": 1,
   "metadata": {},
   "outputs": [
    {
     "name": "stdout",
     "output_type": "stream",
     "text": [
      "3.11.8 | packaged by conda-forge | (main, Feb 16 2024, 20:49:36) [Clang 16.0.6 ]\n"
     ]
    }
   ],
   "source": [
    "import os\n",
    "import sys\n",
    "\n",
    "if 'google.colab' in sys.modules:\n",
    "    os.system(\"wget -O scm.py https://raw.githubusercontent.com/CausalAILab/causality-book/main/scm.py\")\n",
    "\n",
    "print(sys.version)"
   ]
  },
  {
   "cell_type": "code",
   "execution_count": 2,
   "metadata": {},
   "outputs": [],
   "source": [
    "from sympy import symbols, Function, Symbol\n",
    "\n",
    "from scm import SymbolicSCM\n",
    "\n",
    "from causal_graph import CausalGraph"
   ]
  },
  {
   "cell_type": "markdown",
   "metadata": {},
   "source": [
    "## Definition 4.1.1. Interventional Distribution\n",
    "\n",
    "Given two disjoint sets of variables, $\\mathbf X$ and $\\mathbf Y$, the causal effect of $\\mathbf X$ on $\\mathbf Y$, denoted, $P(\\mathbf y | do(\\mathbf X = \\mathbf x))$, is a function from $\\mathbf X$ to the space of probability distributions of $\\mathbf Y$. For each realization, $\\mathbf X = \\mathbf x$, $P(\\mathbf y | do(\\mathbf x))$ gives the probability of $\\mathbf Y = \\mathbf y$ induced by deleting from the model all equations corresponding to variables in $\\mathbf X = \\mathbf x$ and substituting $\\mathbf X = \\mathbf x$ in the remaining equations."
   ]
  },
  {
   "cell_type": "markdown",
   "metadata": {},
   "source": [
    "### Example 4.3 - Sprinkler\n",
    "\n",
    "Consider a classic setting where a robot is in charge of maintaining\n",
    "the backyard healthy and nourished throughout the entire year. The robot keeps track of the season\n",
    "($Se$), sprinkler ($Sp$), rain ($Ra$), the wetness of the floor ($We$), and whether it is slippery ($Sl$). The\n",
    "causal diagram $G$ is shown below and represents the following collection of mechanisms:\n",
    "\n",
    "$$\n",
    "\\begin{align}\n",
    "F &= \\begin{cases}\n",
    "    Se &\\gets f_{Se}(U_{Se}) \\\\ \n",
    "    Sp &\\gets f_{Sp}(Se, U_{Sp}) \\\\ \n",
    "    Ra &\\gets f_{Ra}(Se, U_{Ra}) \\\\ \n",
    "    We &\\gets f_{We}(Sp, Ra, U_{We}) \\\\ \n",
    "    Sl &\\gets f_{Sl}(We, U_{Sl}) \\\\ \n",
    "\\end{cases} \\\\\n",
    "\\end{align}\n",
    "$$\n",
    "\n",
    "for some $P(\\mathbf U)$."
   ]
  },
  {
   "cell_type": "markdown",
   "metadata": {},
   "source": [
    "![Figure 4.6](Fig-4-6.png)"
   ]
  },
  {
   "cell_type": "code",
   "execution_count": 3,
   "metadata": {},
   "outputs": [],
   "source": [
    "v = se, sp, ra, we, sl = symbols('Se Sp Ra We Sl')\n",
    "f = f_se, f_sp, f_ra, f_we, f_sl = [Function(f'f_{{{k}}}') for k in v]\n",
    "u = u_se, u_sp, u_ra, u_we, u_sl = [Symbol(f'u_{{{k}}}') for k in v]\n",
    "\n",
    "m = SymbolicSCM(\n",
    "    f={\n",
    "        se: f_se(u_se),\n",
    "        sp: f_sp(se, u_sp),\n",
    "        ra: f_ra(se, u_ra),\n",
    "        we: f_we(sp, ra, u_we),\n",
    "        sl: f_sl(we, u_sl),\n",
    "    },\n",
    "    pu = {\n",
    "        u_se: 0.5,\n",
    "        u_sp: 0.5,\n",
    "        u_ra: 0.5,\n",
    "        u_we: 0.5,\n",
    "        u_sl: 0.5,\n",
    "    }\n",
    ")"
   ]
  },
  {
   "cell_type": "markdown",
   "metadata": {},
   "source": [
    "## Definition 4.2.2 - Back-door Criterion\n",
    "\n",
    "Let $G$ be a causal diagram and $\\mathbf X$ and $\\mathbf Y$ be the sets of treatment and outcome variable, respectively. A set of variables $\\mathbf Z$ is said to satisfy the back-door criterion (BDC) relative to the pair $(\\mathbf X, \\mathbf Y)$ in $G$ if:\n",
    "\n",
    "1. No node in $\\mathbf Z$ is a descendant of $\\mathbf X$, and \n",
    "2. $\\mathbf Z$ blocks every path between $\\mathbf X$ and $\\mathbf Y$ that contains an arrow into $\\mathbf X$."
   ]
  },
  {
   "cell_type": "markdown",
   "metadata": {},
   "source": [
    "### Theorem 4.2.5 - Conditional Back-door Adjustment\n",
    "\n",
    "Let $G$ be a causal diagram and $\\mathbf X, \\mathbf Y, \\mathbf W$ be the sets of treatment, outcomes, and covariates variables, respectively. If a set of variables $\\mathbf Z \\cup \\mathbf W$ satisfies the back-door criterion relative to the pair $(\\mathbf X, \\mathbf Y)$, then the $\\mathbf W$-specific effect of $\\mathbf X$ on $\\mathbf Y$ is identifiable and given by:\n",
    "\n",
    "\\begin{equation}\n",
    "P(\\mathbf y | do(\\mathbf x), \\mathbf w) = \\sum_{\\mathbf z} P(\\mathbf y | \\mathbf x, \\mathbf z, \\mathbf w) P(\\mathbf z | \\mathbf w)\n",
    "\\end{equation}"
   ]
  },
  {
   "cell_type": "code",
   "execution_count": 4,
   "metadata": {},
   "outputs": [],
   "source": [
    "x1, x2, y, z1, z2, z3, z4 = symbols('X1 X2 Y Z1 Z2 Z3 Z4')\n",
    "\n",
    "fig_4_14 = CausalGraph(\n",
    "    v=[x1, x2, y, z1, z2, z3, z4],\n",
    "    directed_edges=[\n",
    "        (x1, z1),\n",
    "        (z1, z2),\n",
    "        (z2, z3),\n",
    "        (z3, x2),\n",
    "        (x2, y),\n",
    "        (x1, y),\n",
    "        (x1,z4),\n",
    "        (y,z4)\n",
    "    ],\n",
    "    bidirected_edges=[\n",
    "        (z2,y),\n",
    "        (z3,y)\n",
    "    ]\n",
    ")"
   ]
  },
  {
   "cell_type": "code",
   "execution_count": 5,
   "metadata": {},
   "outputs": [],
   "source": [
    "x1, x2, y, z1, z2, z3 = symbols('X1 X2 Y Z1 Z2 Z3')\n",
    "\n",
    "fig_4_14 = CausalGraph(\n",
    "    v=[x1, x2, y, z1, z2, z3],\n",
    "    directed_edges=[\n",
    "        (x1, z1),\n",
    "        (z1, z2),\n",
    "        (z2, z3),\n",
    "        (z3, x2),\n",
    "        (x2, y),\n",
    "        (x1, y),\n",
    "    ],\n",
    "    bidirected_edges=[\n",
    "        (z2,y),\n",
    "        (z3,y)\n",
    "    ]\n",
    ")"
   ]
  },
  {
   "cell_type": "code",
   "execution_count": 6,
   "metadata": {},
   "outputs": [
    {
     "data": {
      "text/plain": [
       "True"
      ]
     },
     "execution_count": 6,
     "metadata": {},
     "output_type": "execute_result"
    }
   ],
   "source": [
    "fig_4_14.is_backdoor_adjustment(x={x1, x2}, y=y, z={z1, z2, z3})"
   ]
  },
  {
   "cell_type": "code",
   "execution_count": 7,
   "metadata": {},
   "outputs": [
    {
     "data": {
      "text/plain": [
       "[Z1, Z3]"
      ]
     },
     "execution_count": 7,
     "metadata": {},
     "output_type": "execute_result"
    }
   ],
   "source": [
    "fig_4_14.find_backdoor_adjustment(x={x1, x2}, y=y, included={x1,x2})"
   ]
  },
  {
   "cell_type": "code",
   "execution_count": null,
   "metadata": {},
   "outputs": [],
   "source": []
  },
  {
   "cell_type": "code",
   "execution_count": 8,
   "metadata": {},
   "outputs": [
    {
     "data": {
      "image/svg+xml": [
       "<?xml version=\"1.0\" encoding=\"UTF-8\" standalone=\"no\"?>\n",
       "<!DOCTYPE svg PUBLIC \"-//W3C//DTD SVG 1.1//EN\"\n",
       " \"http://www.w3.org/Graphics/SVG/1.1/DTD/svg11.dtd\">\n",
       "<!-- Generated by graphviz version 12.2.1 (20241206.2353)\n",
       " -->\n",
       "<!-- Title: G Pages: 1 -->\n",
       "<svg width=\"203pt\" height=\"187pt\"\n",
       " viewBox=\"0.00 0.00 203.33 186.83\" xmlns=\"http://www.w3.org/2000/svg\" xmlns:xlink=\"http://www.w3.org/1999/xlink\">\n",
       "<g id=\"graph0\" class=\"graph\" transform=\"scale(1 1) rotate(0) translate(4 182.83)\">\n",
       "<title>G</title>\n",
       "<polygon fill=\"white\" stroke=\"none\" points=\"-4,4 -4,-182.83 199.33,-182.83 199.33,4 -4,4\"/>\n",
       "<!-- X1 -->\n",
       "<g id=\"node1\" class=\"node\">\n",
       "<title>X1</title>\n",
       "<ellipse fill=\"lightgray\" stroke=\"black\" cx=\"27\" cy=\"-82.82\" rx=\"27\" ry=\"18\"/>\n",
       "<text text-anchor=\"middle\" x=\"27\" y=\"-77.77\" font-family=\"Times,serif\" font-size=\"14.00\">X1</text>\n",
       "</g>\n",
       "<!-- Y -->\n",
       "<g id=\"node3\" class=\"node\">\n",
       "<title>Y</title>\n",
       "<ellipse fill=\"lightgray\" stroke=\"black\" cx=\"103.14\" cy=\"-65.8\" rx=\"27\" ry=\"18\"/>\n",
       "<text text-anchor=\"middle\" x=\"103.14\" y=\"-60.75\" font-family=\"Times,serif\" font-size=\"14.00\">Y</text>\n",
       "</g>\n",
       "<!-- X1&#45;&gt;Y -->\n",
       "<g id=\"edge2\" class=\"edge\">\n",
       "<title>X1&#45;&gt;Y</title>\n",
       "<path fill=\"none\" stroke=\"black\" stroke-width=\"2\" d=\"M52.78,-77.06C56.58,-76.21 60.57,-75.32 64.56,-74.42\"/>\n",
       "<polygon fill=\"black\" stroke=\"black\" stroke-width=\"2\" points=\"65.18,-77.87 74.18,-72.27 63.65,-71.04 65.18,-77.87\"/>\n",
       "</g>\n",
       "<!-- Z1 -->\n",
       "<g id=\"node4\" class=\"node\">\n",
       "<title>Z1</title>\n",
       "<ellipse fill=\"lightgray\" stroke=\"black\" cx=\"39\" cy=\"-160.83\" rx=\"27\" ry=\"18\"/>\n",
       "<text text-anchor=\"middle\" x=\"39\" y=\"-155.78\" font-family=\"Times,serif\" font-size=\"14.00\">Z1</text>\n",
       "</g>\n",
       "<!-- X1&#45;&gt;Z1 -->\n",
       "<g id=\"edge1\" class=\"edge\">\n",
       "<title>X1&#45;&gt;Z1</title>\n",
       "<path fill=\"none\" stroke=\"black\" stroke-width=\"2\" d=\"M29.78,-100.91C31.11,-109.52 32.73,-120.05 34.24,-129.87\"/>\n",
       "<polygon fill=\"black\" stroke=\"black\" stroke-width=\"2\" points=\"30.75,-130.22 35.73,-139.58 37.67,-129.16 30.75,-130.22\"/>\n",
       "</g>\n",
       "<!-- X2 -->\n",
       "<g id=\"node2\" class=\"node\">\n",
       "<title>X2</title>\n",
       "<ellipse fill=\"lightgray\" stroke=\"black\" cx=\"160.78\" cy=\"-18\" rx=\"27\" ry=\"18\"/>\n",
       "<text text-anchor=\"middle\" x=\"160.78\" y=\"-12.95\" font-family=\"Times,serif\" font-size=\"14.00\">X2</text>\n",
       "</g>\n",
       "<!-- X2&#45;&gt;Y -->\n",
       "<g id=\"edge3\" class=\"edge\">\n",
       "<title>X2&#45;&gt;Y</title>\n",
       "<path fill=\"none\" stroke=\"black\" stroke-width=\"2\" d=\"M143.49,-32.34C139.27,-35.84 134.66,-39.66 130.11,-43.44\"/>\n",
       "<polygon fill=\"black\" stroke=\"black\" stroke-width=\"2\" points=\"128.22,-40.46 122.75,-49.53 132.68,-45.84 128.22,-40.46\"/>\n",
       "</g>\n",
       "<!-- Z2 -->\n",
       "<g id=\"node5\" class=\"node\">\n",
       "<title>Z2</title>\n",
       "<ellipse fill=\"lightgray\" stroke=\"black\" cx=\"116.02\" cy=\"-144.25\" rx=\"27\" ry=\"18\"/>\n",
       "<text text-anchor=\"middle\" x=\"116.02\" y=\"-139.2\" font-family=\"Times,serif\" font-size=\"14.00\">Z2</text>\n",
       "</g>\n",
       "<!-- Y&#45;&gt;Z2 -->\n",
       "<g id=\"edge7\" class=\"edge\">\n",
       "<title>Y&#45;&gt;Z2</title>\n",
       "<path fill=\"none\" stroke=\"black\" stroke-width=\"2\" stroke-dasharray=\"5,2\" d=\"M108.22,-96.74C109.1,-102.14 110.03,-107.75 110.91,-113.15\"/>\n",
       "<polygon fill=\"black\" stroke=\"black\" stroke-width=\"2\" points=\"111.69,-96.28 106.62,-86.98 104.78,-97.42 111.69,-96.28\"/>\n",
       "<polygon fill=\"black\" stroke=\"black\" stroke-width=\"2\" points=\"107.44,-113.59 112.51,-122.89 114.35,-112.46 107.44,-113.59\"/>\n",
       "</g>\n",
       "<!-- Z3 -->\n",
       "<g id=\"node6\" class=\"node\">\n",
       "<title>Z3</title>\n",
       "<ellipse fill=\"lightgray\" stroke=\"black\" cx=\"168.33\" cy=\"-92\" rx=\"27\" ry=\"18\"/>\n",
       "<text text-anchor=\"middle\" x=\"168.33\" y=\"-86.95\" font-family=\"Times,serif\" font-size=\"14.00\">Z3</text>\n",
       "</g>\n",
       "<!-- Y&#45;&gt;Z3 -->\n",
       "<g id=\"edge8\" class=\"edge\">\n",
       "<title>Y&#45;&gt;Z3</title>\n",
       "<path fill=\"none\" stroke=\"black\" stroke-width=\"2\" stroke-dasharray=\"5,2\" d=\"M138.48,-80C138.62,-80.05 138.76,-80.11 138.89,-80.17\"/>\n",
       "<polygon fill=\"black\" stroke=\"black\" stroke-width=\"2\" points=\"140.07,-76.87 129.48,-76.38 137.46,-83.36 140.07,-76.87\"/>\n",
       "<polygon fill=\"black\" stroke=\"black\" stroke-width=\"2\" points=\"131.65,-81.03 142.24,-81.51 134.27,-74.53 131.65,-81.03\"/>\n",
       "</g>\n",
       "<!-- Z1&#45;&gt;Z2 -->\n",
       "<g id=\"edge4\" class=\"edge\">\n",
       "<title>Z1&#45;&gt;Z2</title>\n",
       "<path fill=\"none\" stroke=\"black\" stroke-width=\"2\" d=\"M65.07,-155.22C69.09,-154.35 73.31,-153.45 77.52,-152.54\"/>\n",
       "<polygon fill=\"black\" stroke=\"black\" stroke-width=\"2\" points=\"77.97,-156.02 87.01,-150.5 76.5,-149.18 77.97,-156.02\"/>\n",
       "</g>\n",
       "<!-- Z2&#45;&gt;Z3 -->\n",
       "<g id=\"edge5\" class=\"edge\">\n",
       "<title>Z2&#45;&gt;Z3</title>\n",
       "<path fill=\"none\" stroke=\"black\" stroke-width=\"2\" d=\"M131.15,-129.14C135.12,-125.16 139.52,-120.77 143.85,-116.45\"/>\n",
       "<polygon fill=\"black\" stroke=\"black\" stroke-width=\"2\" points=\"146.31,-118.94 150.91,-109.4 141.36,-113.99 146.31,-118.94\"/>\n",
       "</g>\n",
       "<!-- Z3&#45;&gt;X2 -->\n",
       "<g id=\"edge6\" class=\"edge\">\n",
       "<title>Z3&#45;&gt;X2</title>\n",
       "<path fill=\"none\" stroke=\"black\" stroke-width=\"2\" d=\"M166.46,-73.7C165.71,-66.32 164.82,-57.59 163.97,-49.26\"/>\n",
       "<polygon fill=\"black\" stroke=\"black\" stroke-width=\"2\" points=\"167.45,-48.94 162.96,-39.35 160.49,-49.65 167.45,-48.94\"/>\n",
       "</g>\n",
       "</g>\n",
       "</svg>\n"
      ],
      "text/plain": [
       "<graphviz.sources.Source at 0x129674190>"
      ]
     },
     "metadata": {},
     "output_type": "display_data"
    }
   ],
   "source": [
    "fig_4_14.draw()"
   ]
  },
  {
   "cell_type": "code",
   "execution_count": 9,
   "metadata": {},
   "outputs": [
    {
     "data": {
      "text/plain": [
       "[Z1, Z3]"
      ]
     },
     "execution_count": 9,
     "metadata": {},
     "output_type": "execute_result"
    }
   ],
   "source": [
    "fig_4_14.find_backdoor_adjustment(x={x1, x2}, y=y)"
   ]
  },
  {
   "cell_type": "code",
   "execution_count": 10,
   "metadata": {},
   "outputs": [
    {
     "data": {
      "image/svg+xml": [
       "<?xml version=\"1.0\" encoding=\"UTF-8\" standalone=\"no\"?>\n",
       "<!DOCTYPE svg PUBLIC \"-//W3C//DTD SVG 1.1//EN\"\n",
       " \"http://www.w3.org/Graphics/SVG/1.1/DTD/svg11.dtd\">\n",
       "<!-- Generated by graphviz version 12.2.1 (20241206.2353)\n",
       " -->\n",
       "<!-- Title: G Pages: 1 -->\n",
       "<svg width=\"320pt\" height=\"207pt\"\n",
       " viewBox=\"0.00 0.00 319.83 207.28\" xmlns=\"http://www.w3.org/2000/svg\" xmlns:xlink=\"http://www.w3.org/1999/xlink\">\n",
       "<g id=\"graph0\" class=\"graph\" transform=\"scale(1 1) rotate(0) translate(4 203.28)\">\n",
       "<title>G</title>\n",
       "<polygon fill=\"white\" stroke=\"none\" points=\"-4,4 -4,-203.28 315.83,-203.28 315.83,4 -4,4\"/>\n",
       "<!-- X1 -->\n",
       "<g id=\"node1\" class=\"node\">\n",
       "<title>X1</title>\n",
       "<ellipse fill=\"lightgray\" stroke=\"black\" cx=\"27\" cy=\"-181.28\" rx=\"27\" ry=\"18\"/>\n",
       "<text text-anchor=\"middle\" x=\"27\" y=\"-176.23\" font-family=\"Times,serif\" font-size=\"14.00\">X1</text>\n",
       "</g>\n",
       "<!-- Z1 -->\n",
       "<g id=\"node4\" class=\"node\">\n",
       "<title>Z1</title>\n",
       "<ellipse fill=\"lightgray\" stroke=\"black\" cx=\"86.63\" cy=\"-139.87\" rx=\"27\" ry=\"18\"/>\n",
       "<text text-anchor=\"middle\" x=\"86.63\" y=\"-134.82\" font-family=\"Times,serif\" font-size=\"14.00\">Z1</text>\n",
       "</g>\n",
       "<!-- X1&#45;&gt;Z1 -->\n",
       "<g id=\"edge1\" class=\"edge\">\n",
       "<title>X1&#45;&gt;Z1</title>\n",
       "<path fill=\"none\" stroke=\"black\" stroke-width=\"2\" d=\"M45.87,-168.18C49.45,-165.68 53.29,-163.02 57.12,-160.36\"/>\n",
       "<polygon fill=\"black\" stroke=\"black\" stroke-width=\"2\" points=\"58.98,-163.33 65.19,-154.75 54.98,-157.58 58.98,-163.33\"/>\n",
       "</g>\n",
       "<!-- X2 -->\n",
       "<g id=\"node2\" class=\"node\">\n",
       "<title>X2</title>\n",
       "<ellipse fill=\"lightgray\" stroke=\"black\" cx=\"284.83\" cy=\"-70.58\" rx=\"27\" ry=\"18\"/>\n",
       "<text text-anchor=\"middle\" x=\"284.83\" y=\"-65.53\" font-family=\"Times,serif\" font-size=\"14.00\">X2</text>\n",
       "</g>\n",
       "<!-- Y -->\n",
       "<g id=\"node3\" class=\"node\">\n",
       "<title>Y</title>\n",
       "<ellipse fill=\"lightgray\" stroke=\"black\" cx=\"156.76\" cy=\"-18\" rx=\"27\" ry=\"18\"/>\n",
       "<text text-anchor=\"middle\" x=\"156.76\" y=\"-12.95\" font-family=\"Times,serif\" font-size=\"14.00\">Y</text>\n",
       "</g>\n",
       "<!-- Z2 -->\n",
       "<g id=\"node5\" class=\"node\">\n",
       "<title>Z2</title>\n",
       "<ellipse fill=\"lightgray\" stroke=\"black\" cx=\"141.01\" cy=\"-89.61\" rx=\"27\" ry=\"18\"/>\n",
       "<text text-anchor=\"middle\" x=\"141.01\" y=\"-84.56\" font-family=\"Times,serif\" font-size=\"14.00\">Z2</text>\n",
       "</g>\n",
       "<!-- Y&#45;&gt;Z2 -->\n",
       "<g id=\"edge5\" class=\"edge\">\n",
       "<title>Y&#45;&gt;Z2</title>\n",
       "<path fill=\"none\" stroke=\"black\" stroke-width=\"2\" stroke-dasharray=\"5,2\" d=\"M150,-48.73C149.24,-52.18 148.47,-55.69 147.71,-59.13\"/>\n",
       "<polygon fill=\"black\" stroke=\"black\" stroke-width=\"2\" points=\"153.41,-49.55 152.14,-39.03 146.57,-48.04 153.41,-49.55\"/>\n",
       "<polygon fill=\"black\" stroke=\"black\" stroke-width=\"2\" points=\"144.31,-58.32 145.58,-68.84 151.15,-59.83 144.31,-58.32\"/>\n",
       "</g>\n",
       "<!-- Z3 -->\n",
       "<g id=\"node6\" class=\"node\">\n",
       "<title>Z3</title>\n",
       "<ellipse fill=\"lightgray\" stroke=\"black\" cx=\"210.84\" cy=\"-66.86\" rx=\"27\" ry=\"18\"/>\n",
       "<text text-anchor=\"middle\" x=\"210.84\" y=\"-61.81\" font-family=\"Times,serif\" font-size=\"14.00\">Z3</text>\n",
       "</g>\n",
       "<!-- Y&#45;&gt;Z3 -->\n",
       "<g id=\"edge6\" class=\"edge\">\n",
       "<title>Y&#45;&gt;Z3</title>\n",
       "<path fill=\"none\" stroke=\"black\" stroke-width=\"2\" stroke-dasharray=\"5,2\" d=\"M182.42,-41.18C183.33,-42.01 184.24,-42.83 185.15,-43.65\"/>\n",
       "<polygon fill=\"black\" stroke=\"black\" stroke-width=\"2\" points=\"185,-38.8 175.23,-34.69 180.31,-43.99 185,-38.8\"/>\n",
       "<polygon fill=\"black\" stroke=\"black\" stroke-width=\"2\" points=\"182.61,-46.08 192.38,-50.18 187.31,-40.88 182.61,-46.08\"/>\n",
       "</g>\n",
       "<!-- Z1&#45;&gt;Z2 -->\n",
       "<g id=\"edge2\" class=\"edge\">\n",
       "<title>Z1&#45;&gt;Z2</title>\n",
       "<path fill=\"none\" stroke=\"black\" stroke-width=\"2\" d=\"M102.65,-125.06C106.7,-121.31 111.16,-117.19 115.56,-113.13\"/>\n",
       "<polygon fill=\"black\" stroke=\"black\" stroke-width=\"2\" points=\"117.72,-115.9 122.69,-106.54 112.97,-110.76 117.72,-115.9\"/>\n",
       "</g>\n",
       "<!-- Z2&#45;&gt;Z3 -->\n",
       "<g id=\"edge3\" class=\"edge\">\n",
       "<title>Z2&#45;&gt;Z3</title>\n",
       "<path fill=\"none\" stroke=\"black\" stroke-width=\"2\" d=\"M165.43,-81.66C168.28,-80.73 171.24,-79.76 174.21,-78.79\"/>\n",
       "<polygon fill=\"black\" stroke=\"black\" stroke-width=\"2\" points=\"175.01,-82.22 183.43,-75.79 172.84,-75.56 175.01,-82.22\"/>\n",
       "</g>\n",
       "<!-- Z3&#45;&gt;X2 -->\n",
       "<g id=\"edge4\" class=\"edge\">\n",
       "<title>Z3&#45;&gt;X2</title>\n",
       "<path fill=\"none\" stroke=\"black\" stroke-width=\"2\" d=\"M237.97,-68.23C240.18,-68.34 242.44,-68.45 244.72,-68.56\"/>\n",
       "<polygon fill=\"black\" stroke=\"black\" stroke-width=\"2\" points=\"244.52,-72.06 254.68,-69.07 244.87,-65.07 244.52,-72.06\"/>\n",
       "</g>\n",
       "</g>\n",
       "</svg>\n"
      ],
      "text/plain": [
       "<graphviz.sources.Source at 0x1090d6650>"
      ]
     },
     "metadata": {},
     "output_type": "display_data"
    }
   ],
   "source": [
    "fig_4_14.get_adjustment_backdoor_graph(\n",
    "    x={x1, x2},\n",
    "    y=y\n",
    ").draw()"
   ]
  },
  {
   "cell_type": "code",
   "execution_count": 11,
   "metadata": {},
   "outputs": [],
   "source": [
    "x, z, y, w1, w2, w3 = symbols('X Z Y W1 W2 W3')\n",
    "\n",
    "fig_4_24 = CausalGraph(\n",
    "    v=[x, z, y, w1, w2, w3],\n",
    "    directed_edges=[\n",
    "        (x, z),\n",
    "        (z, y),\n",
    "        (w1, y),\n",
    "        (w1,x),\n",
    "        (w2, x),\n",
    "        (w2, z),\n",
    "        (w3, z),\n",
    "        (w3, y)\n",
    "    ],\n",
    "    bidirected_edges=[\n",
    "        (x,y)\n",
    "    ]\n",
    ")"
   ]
  },
  {
   "cell_type": "code",
   "execution_count": 12,
   "metadata": {},
   "outputs": [
    {
     "data": {
      "image/svg+xml": [
       "<?xml version=\"1.0\" encoding=\"UTF-8\" standalone=\"no\"?>\n",
       "<!DOCTYPE svg PUBLIC \"-//W3C//DTD SVG 1.1//EN\"\n",
       " \"http://www.w3.org/Graphics/SVG/1.1/DTD/svg11.dtd\">\n",
       "<!-- Generated by graphviz version 12.2.1 (20241206.2353)\n",
       " -->\n",
       "<!-- Title: G Pages: 1 -->\n",
       "<svg width=\"231pt\" height=\"132pt\"\n",
       " viewBox=\"0.00 0.00 230.54 132.41\" xmlns=\"http://www.w3.org/2000/svg\" xmlns:xlink=\"http://www.w3.org/1999/xlink\">\n",
       "<g id=\"graph0\" class=\"graph\" transform=\"scale(1 1) rotate(0) translate(4 128.41)\">\n",
       "<title>G</title>\n",
       "<polygon fill=\"white\" stroke=\"none\" points=\"-4,4 -4,-128.41 226.54,-128.41 226.54,4 -4,4\"/>\n",
       "<!-- X -->\n",
       "<g id=\"node1\" class=\"node\">\n",
       "<title>X</title>\n",
       "<ellipse fill=\"lightgray\" stroke=\"black\" cx=\"109.81\" cy=\"-64.34\" rx=\"27\" ry=\"18\"/>\n",
       "<text text-anchor=\"middle\" x=\"109.81\" y=\"-59.29\" font-family=\"Times,serif\" font-size=\"14.00\">X</text>\n",
       "</g>\n",
       "<!-- Z -->\n",
       "<g id=\"node2\" class=\"node\">\n",
       "<title>Z</title>\n",
       "<ellipse fill=\"lightgray\" stroke=\"black\" cx=\"154.42\" cy=\"-27.62\" rx=\"27\" ry=\"18\"/>\n",
       "<text text-anchor=\"middle\" x=\"154.42\" y=\"-22.57\" font-family=\"Times,serif\" font-size=\"14.00\">Z</text>\n",
       "</g>\n",
       "<!-- X&#45;&gt;Z -->\n",
       "<g id=\"edge1\" class=\"edge\">\n",
       "<title>X&#45;&gt;Z</title>\n",
       "<path fill=\"none\" stroke=\"black\" stroke-width=\"2\" d=\"M127.18,-50.04C127.28,-49.95 127.39,-49.87 127.49,-49.79\"/>\n",
       "<polygon fill=\"black\" stroke=\"black\" stroke-width=\"2\" points=\"129.18,-52.92 134.68,-43.87 124.74,-47.52 129.18,-52.92\"/>\n",
       "</g>\n",
       "<!-- Y -->\n",
       "<g id=\"node3\" class=\"node\">\n",
       "<title>Y</title>\n",
       "<ellipse fill=\"lightgray\" stroke=\"black\" cx=\"81.82\" cy=\"-18\" rx=\"27\" ry=\"18\"/>\n",
       "<text text-anchor=\"middle\" x=\"81.82\" y=\"-12.95\" font-family=\"Times,serif\" font-size=\"14.00\">Y</text>\n",
       "</g>\n",
       "<!-- X&#45;&gt;Y -->\n",
       "<g id=\"edge9\" class=\"edge\">\n",
       "<title>X&#45;&gt;Y</title>\n",
       "<path fill=\"none\" stroke=\"black\" stroke-width=\"2\" stroke-dasharray=\"5,2\" d=\"M93,-36.51C92.92,-36.38 92.85,-36.26 92.77,-36.13\"/>\n",
       "<polygon fill=\"black\" stroke=\"black\" stroke-width=\"2\" points=\"89.81,-38.01 97.98,-44.76 95.81,-34.39 89.81,-38.01\"/>\n",
       "<polygon fill=\"black\" stroke=\"black\" stroke-width=\"2\" points=\"101.81,-44.33 93.65,-37.58 95.82,-47.95 101.81,-44.33\"/>\n",
       "</g>\n",
       "<!-- Z&#45;&gt;Y -->\n",
       "<g id=\"edge2\" class=\"edge\">\n",
       "<title>Z&#45;&gt;Y</title>\n",
       "<path fill=\"none\" stroke=\"black\" stroke-width=\"2\" d=\"M127.8,-24.09C125.63,-23.81 123.41,-23.51 121.17,-23.21\"/>\n",
       "<polygon fill=\"black\" stroke=\"black\" stroke-width=\"2\" points=\"121.81,-19.77 111.44,-21.92 120.89,-26.71 121.81,-19.77\"/>\n",
       "</g>\n",
       "<!-- W1 -->\n",
       "<g id=\"node4\" class=\"node\">\n",
       "<title>W1</title>\n",
       "<ellipse fill=\"lightgray\" stroke=\"black\" cx=\"27\" cy=\"-55.58\" rx=\"27\" ry=\"18\"/>\n",
       "<text text-anchor=\"middle\" x=\"27\" y=\"-50.53\" font-family=\"Times,serif\" font-size=\"14.00\">W1</text>\n",
       "</g>\n",
       "<!-- W1&#45;&gt;X -->\n",
       "<g id=\"edge4\" class=\"edge\">\n",
       "<title>W1&#45;&gt;X</title>\n",
       "<path fill=\"none\" stroke=\"black\" stroke-width=\"2\" d=\"M54.11,-58.45C59.32,-59 64.86,-59.59 70.36,-60.17\"/>\n",
       "<polygon fill=\"black\" stroke=\"black\" stroke-width=\"2\" points=\"69.59,-63.61 79.91,-61.18 70.33,-56.64 69.59,-63.61\"/>\n",
       "</g>\n",
       "<!-- W1&#45;&gt;Y -->\n",
       "<g id=\"edge3\" class=\"edge\">\n",
       "<title>W1&#45;&gt;Y</title>\n",
       "<path fill=\"none\" stroke=\"black\" stroke-width=\"2\" d=\"M46.17,-42.44C48.08,-41.13 50.05,-39.78 52.03,-38.42\"/>\n",
       "<polygon fill=\"black\" stroke=\"black\" stroke-width=\"2\" points=\"53.8,-41.45 60.07,-32.91 49.84,-35.68 53.8,-41.45\"/>\n",
       "</g>\n",
       "<!-- W2 -->\n",
       "<g id=\"node5\" class=\"node\">\n",
       "<title>W2</title>\n",
       "<ellipse fill=\"lightgray\" stroke=\"black\" cx=\"195.54\" cy=\"-77.58\" rx=\"27\" ry=\"18\"/>\n",
       "<text text-anchor=\"middle\" x=\"195.54\" y=\"-72.53\" font-family=\"Times,serif\" font-size=\"14.00\">W2</text>\n",
       "</g>\n",
       "<!-- W2&#45;&gt;X -->\n",
       "<g id=\"edge5\" class=\"edge\">\n",
       "<title>W2&#45;&gt;X</title>\n",
       "<path fill=\"none\" stroke=\"black\" stroke-width=\"2\" d=\"M168.89,-73.46C162.68,-72.5 155.93,-71.46 149.3,-70.44\"/>\n",
       "<polygon fill=\"black\" stroke=\"black\" stroke-width=\"2\" points=\"149.86,-66.98 139.44,-68.91 148.79,-73.9 149.86,-66.98\"/>\n",
       "</g>\n",
       "<!-- W2&#45;&gt;Z -->\n",
       "<g id=\"edge6\" class=\"edge\">\n",
       "<title>W2&#45;&gt;Z</title>\n",
       "<path fill=\"none\" stroke=\"black\" stroke-width=\"2\" d=\"M182.3,-61.5C180.25,-59 178.08,-56.37 175.9,-53.72\"/>\n",
       "<polygon fill=\"black\" stroke=\"black\" stroke-width=\"2\" points=\"178.61,-51.51 169.56,-46.01 173.21,-55.96 178.61,-51.51\"/>\n",
       "</g>\n",
       "<!-- W3 -->\n",
       "<g id=\"node6\" class=\"node\">\n",
       "<title>W3</title>\n",
       "<ellipse fill=\"lightgray\" stroke=\"black\" cx=\"111.51\" cy=\"-106.41\" rx=\"27\" ry=\"18\"/>\n",
       "<text text-anchor=\"middle\" x=\"111.51\" y=\"-101.36\" font-family=\"Times,serif\" font-size=\"14.00\">W3</text>\n",
       "</g>\n",
       "<!-- W3&#45;&gt;Z -->\n",
       "<g id=\"edge7\" class=\"edge\">\n",
       "<title>W3&#45;&gt;Z</title>\n",
       "<path fill=\"none\" stroke=\"black\" stroke-width=\"2\" d=\"M120.82,-89.32C126.07,-79.68 132.76,-67.38 138.79,-56.31\"/>\n",
       "<polygon fill=\"black\" stroke=\"black\" stroke-width=\"2\" points=\"141.82,-58.07 143.53,-47.61 135.67,-54.72 141.82,-58.07\"/>\n",
       "</g>\n",
       "<!-- W3&#45;&gt;Y -->\n",
       "<g id=\"edge8\" class=\"edge\">\n",
       "<title>W3&#45;&gt;Y</title>\n",
       "<path fill=\"none\" stroke=\"black\" stroke-width=\"2\" d=\"M105.5,-88.52C101.6,-76.9 96.41,-61.46 91.89,-47.99\"/>\n",
       "<polygon fill=\"black\" stroke=\"black\" stroke-width=\"2\" points=\"95.28,-47.1 88.78,-38.73 88.65,-49.33 95.28,-47.1\"/>\n",
       "</g>\n",
       "</g>\n",
       "</svg>\n"
      ],
      "text/plain": [
       "<graphviz.sources.Source at 0x12968bad0>"
      ]
     },
     "metadata": {},
     "output_type": "display_data"
    }
   ],
   "source": [
    "fig_4_24.draw()"
   ]
  },
  {
   "cell_type": "code",
   "execution_count": 13,
   "metadata": {},
   "outputs": [
    {
     "data": {
      "text/plain": [
       "True"
      ]
     },
     "execution_count": 13,
     "metadata": {},
     "output_type": "execute_result"
    }
   ],
   "source": [
    "fig_4_24.is_frontdoor_adjustment(\n",
    "    x=x,\n",
    "    y=y,\n",
    "    z=z,\n",
    "    xz={w2},\n",
    "    zy={w3}\n",
    ")"
   ]
  },
  {
   "cell_type": "code",
   "execution_count": 14,
   "metadata": {},
   "outputs": [
    {
     "data": {
      "text/plain": [
       "([Z], [W2], [W3])"
      ]
     },
     "execution_count": 14,
     "metadata": {},
     "output_type": "execute_result"
    }
   ],
   "source": [
    "fig_4_24.find_frontdoor_adjustment(x={x}, y=y)"
   ]
  },
  {
   "cell_type": "code",
   "execution_count": 15,
   "metadata": {},
   "outputs": [
    {
     "data": {
      "text/plain": [
       "[([Z], [W2], [W3]), ([Z], [W2], [W3, W1]), ([Z], [W2, W1], [W3])]"
      ]
     },
     "execution_count": 15,
     "metadata": {},
     "output_type": "execute_result"
    }
   ],
   "source": [
    "fig_4_24.find_all_frontdoor_adjustments(x={x}, y=y)"
   ]
  }
 ],
 "metadata": {
  "kernelspec": {
   "display_name": "pyML",
   "language": "python",
   "name": "python3"
  },
  "language_info": {
   "codemirror_mode": {
    "name": "ipython",
    "version": 3
   },
   "file_extension": ".py",
   "mimetype": "text/x-python",
   "name": "python",
   "nbconvert_exporter": "python",
   "pygments_lexer": "ipython3",
   "version": "3.11.8"
  }
 },
 "nbformat": 4,
 "nbformat_minor": 2
}
