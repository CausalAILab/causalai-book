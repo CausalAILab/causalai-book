{
 "cells": [
  {
   "cell_type": "markdown",
   "metadata": {},
   "source": [
    "# Chapter 4"
   ]
  },
  {
   "cell_type": "markdown",
   "metadata": {},
   "source": [
    "## Simpson's Paradox\n",
    "\n",
    "Consider a medical setting with binary variables where:\n",
    "- $X = 1$ indicates the patient took a certain drug for a year\n",
    "- $Y = 1$ indicates that the patient recovered after one year of taking the drug\n",
    "- $Z = 1$ indicates the patient is female"
   ]
  },
  {
   "cell_type": "code",
   "execution_count": 2,
   "metadata": {},
   "outputs": [],
   "source": [
    "from sympy import symbols, Function, Symbol\n",
    "\n",
    "from src import SymbolicSCM, variables, CausalGraph"
   ]
  },
  {
   "cell_type": "markdown",
   "metadata": {},
   "source": [
    "## Definition 4.1.1. Interventional Distribution\n",
    "\n",
    "Given two disjoint sets of variables, $\\mathbf X$ and $\\mathbf Y$, the causal effect of $\\mathbf X$ on $\\mathbf Y$, denoted, $P(\\mathbf y | do(\\mathbf X = \\mathbf x))$, is a function from $\\mathbf X$ to the space of probability distributions of $\\mathbf Y$. For each realization, $\\mathbf X = \\mathbf x$, $P(\\mathbf y | do(\\mathbf x))$ gives the probability of $\\mathbf Y = \\mathbf y$ induced by deleting from the model all equations corresponding to variables in $\\mathbf X = \\mathbf x$ and substituting $\\mathbf X = \\mathbf x$ in the remaining equations."
   ]
  },
  {
   "cell_type": "markdown",
   "metadata": {},
   "source": [
    "### Example 4.3 - Sprinkler\n",
    "\n",
    "Consider a classic setting where a robot is in charge of maintaining\n",
    "the backyard healthy and nourished throughout the entire year. The robot keeps track of the season\n",
    "($Se$), sprinkler ($Sp$), rain ($Ra$), the wetness of the floor ($We$), and whether it is slippery ($Sl$). The\n",
    "causal diagram $G$ is shown below and represents the following collection of mechanisms:\n",
    "\n",
    "$$\n",
    "\\begin{align}\n",
    "F &= \\begin{cases}\n",
    "    Se &\\gets f_{Se}(U_{Se}) \\\\ \n",
    "    Sp &\\gets f_{Sp}(Se, U_{Sp}) \\\\ \n",
    "    Ra &\\gets f_{Ra}(Se, U_{Ra}) \\\\ \n",
    "    We &\\gets f_{We}(Sp, Ra, U_{We}) \\\\ \n",
    "    Sl &\\gets f_{Sl}(We, U_{Sl}) \\\\ \n",
    "\\end{cases} \\\\\n",
    "\\end{align}\n",
    "$$\n",
    "\n",
    "for some $P(\\mathbf U)$."
   ]
  },
  {
   "cell_type": "markdown",
   "metadata": {},
   "source": [
    "![Figure 4.6](Fig-4-6.png)"
   ]
  },
  {
   "cell_type": "code",
   "execution_count": 3,
   "metadata": {},
   "outputs": [],
   "source": [
    "v = se, sp, ra, we, sl = variables('Se Sp Ra We Sl')\n",
    "f = f_se, f_sp, f_ra, f_we, f_sl = [Function(f'f_{{{k}}}') for k in v]\n",
    "u = u_se, u_sp, u_ra, u_we, u_sl = variables('U_{se} U_{sp} U_{ra} U_{we} U_{sl}')\n",
    "\n",
    "m = SymbolicSCM(\n",
    "    f={\n",
    "        se: f_se(u_se),\n",
    "        sp: f_sp(se, u_sp),\n",
    "        ra: f_ra(se, u_ra),\n",
    "        we: f_we(sp, ra, u_we),\n",
    "        sl: f_sl(we, u_sl),\n",
    "    },\n",
    "    pu = {\n",
    "        u_se: 0.5,\n",
    "        u_sp: 0.5,\n",
    "        u_ra: 0.5,\n",
    "        u_we: 0.5,\n",
    "        u_sl: 0.5,\n",
    "    }\n",
    ")"
   ]
  },
  {
   "cell_type": "markdown",
   "metadata": {},
   "source": [
    "## Definition 4.2.2 - Back-door Criterion\n",
    "\n",
    "Let $G$ be a causal diagram and $\\mathbf X$ and $\\mathbf Y$ be the sets of treatment and outcome variable, respectively. A set of variables $\\mathbf Z$ is said to satisfy the back-door criterion (BDC) relative to the pair $(\\mathbf X, \\mathbf Y)$ in $G$ if:\n",
    "\n",
    "1. No node in $\\mathbf Z$ is a descendant of $\\mathbf X$, and \n",
    "2. $\\mathbf Z$ blocks every path between $\\mathbf X$ and $\\mathbf Y$ that contains an arrow into $\\mathbf X$."
   ]
  },
  {
   "cell_type": "markdown",
   "metadata": {},
   "source": [
    "### Theorem 4.2.3 - Back-door Adjustment\n",
    "\n",
    "Let G be a causal diagram and $X$ and $Y$ be the sets of treatment and outcome variables, respectively. If a set of variables $Z$ satisifes the back-door criterion relative to the pair ($X,Y$), the effect of $X$ on $Y$ is identifiable and given by:\n",
    "\n",
    "$$P(y|do(x)) = \\sum_{z}(y|x,z)P(z)$$"
   ]
  },
  {
   "cell_type": "markdown",
   "metadata": {},
   "source": [
    "### Example 4.3 - Continued\n",
    "\n",
    "Note that *Rain* satisfies the back-door criterion relative to *Sprinkler* and *Wet*. In particular:\n",
    "\n",
    "(i) *Rain* is not a descendant of *Sprinkler*, and\n",
    "\n",
    "(ii) *Rain* blocks the only back-door path from *Sprinkler* to *Wet*"
   ]
  },
  {
   "cell_type": "code",
   "execution_count": 4,
   "metadata": {},
   "outputs": [
    {
     "data": {
      "text/latex": [
       "$P\\left(We \\mid do(Sp)\\right) = \\sum_{Ra} P\\left(We \\mid Sp, Ra\\right) P\\left(Ra\\right)$"
      ],
      "text/plain": [
       "<IPython.core.display.Latex object>"
      ]
     },
     "execution_count": 4,
     "metadata": {},
     "output_type": "execute_result"
    }
   ],
   "source": [
    "m.graph.is_backdoor_adjustment(\n",
    "    x=[sp],\n",
    "    y=[we],\n",
    "    z=[ra],\n",
    "    latex=True\n",
    ")"
   ]
  },
  {
   "cell_type": "markdown",
   "metadata": {},
   "source": [
    "We can also search for this adjustment:"
   ]
  },
  {
   "cell_type": "code",
   "execution_count": 5,
   "metadata": {},
   "outputs": [
    {
     "data": {
      "text/latex": [
       "$P\\left(We \\mid do(Sp)\\right) = \\sum_{Ra} P\\left(We \\mid Sp, Ra\\right) P\\left(Ra\\right)$"
      ],
      "text/plain": [
       "<IPython.core.display.Latex object>"
      ]
     },
     "execution_count": 5,
     "metadata": {},
     "output_type": "execute_result"
    }
   ],
   "source": [
    "m.graph.find_backdoor_adjustment(\n",
    "    x=[sp],\n",
    "    y=[we],\n",
    "    included=[ra],\n",
    "    latex=True\n",
    ")"
   ]
  },
  {
   "cell_type": "markdown",
   "metadata": {},
   "source": [
    "### Theorem 4.2.5 - Conditional Back-door Adjustment\n",
    "\n",
    "Let $G$ be a causal diagram and $\\mathbf X, \\mathbf Y, \\mathbf W$ be the sets of treatment, outcomes, and covariates variables, respectively. If a set of variables $\\mathbf Z \\cup \\mathbf W$ satisfies the back-door criterion relative to the pair $(\\mathbf X, \\mathbf Y)$, then the $\\mathbf W$-specific effect of $\\mathbf X$ on $\\mathbf Y$ is identifiable and given by:\n",
    "\n",
    "\\begin{equation}\n",
    "P(\\mathbf y | do(\\mathbf x), \\mathbf w) = \\sum_{\\mathbf z} P(\\mathbf y | \\mathbf x, \\mathbf z, \\mathbf w) P(\\mathbf z | \\mathbf w)\n",
    "\\end{equation}"
   ]
  },
  {
   "cell_type": "markdown",
   "metadata": {},
   "source": [
    "### Example 4.4 - Schools and SATs\n",
    "\n",
    "Consider a study of the results achieved by high school students on their SAT exams. Consider the causal diagram below and suppose $Z_1$ represents the school distict of the student, $Z_2$ the monthly income of her family, and $X$ the type of school they are currently attending, and $Y$ the results obtained by the student in the SAT exam.\n",
    "\n",
    "Suppose the administration of district $z_1$ is considering whether to increase funding for the charter program, and, therefore, aim to evaluate what is the effect of this type of schools in the students SAT results.\n",
    "\n",
    "In formal notation, the query can be written as $P(y|do(x),Z_1=z_1)$. We can verify that ${Z_1,Z_2}$ satisfies the BDC, hence the effect is identifiable as:\n",
    "\n",
    "$$P(y|do(X=charter),Z_1=z_1) = \\sum_{z_2}P(y|X=charter,Z_1=z_1,z_2)P(z_2|Z_1=z_1)"
   ]
  },
  {
   "cell_type": "code",
   "execution_count": 6,
   "metadata": {},
   "outputs": [
    {
     "data": {
      "image/svg+xml": [
       "<?xml version=\"1.0\" encoding=\"UTF-8\" standalone=\"no\"?>\n",
       "<!DOCTYPE svg PUBLIC \"-//W3C//DTD SVG 1.1//EN\"\n",
       " \"http://www.w3.org/Graphics/SVG/1.1/DTD/svg11.dtd\">\n",
       "<!-- Generated by graphviz version 12.2.1 (20241206.2353)\n",
       " -->\n",
       "<!-- Title: G Pages: 1 -->\n",
       "<svg width=\"278pt\" height=\"152pt\"\n",
       " viewBox=\"0.00 0.00 278.00 152.00\" xmlns=\"http://www.w3.org/2000/svg\" xmlns:xlink=\"http://www.w3.org/1999/xlink\">\n",
       "<g id=\"graph0\" class=\"graph\" transform=\"scale(1 1) rotate(0) translate(4 148)\">\n",
       "<title>G</title>\n",
       "<polygon fill=\"white\" stroke=\"none\" points=\"-4,4 -4,-148 274,-148 274,4 -4,4\"/>\n",
       "<!-- X -->\n",
       "<g id=\"node1\" class=\"node\">\n",
       "<title>X</title>\n",
       "<ellipse fill=\"lightgray\" stroke=\"black\" cx=\"27\" cy=\"-18\" rx=\"27\" ry=\"18\"/>\n",
       "<text text-anchor=\"middle\" x=\"27\" y=\"-12.95\" font-family=\"Times,serif\" font-size=\"14.00\">X</text>\n",
       "</g>\n",
       "<!-- Y -->\n",
       "<g id=\"node2\" class=\"node\">\n",
       "<title>Y</title>\n",
       "<ellipse fill=\"lightgray\" stroke=\"black\" cx=\"243\" cy=\"-18\" rx=\"27\" ry=\"18\"/>\n",
       "<text text-anchor=\"middle\" x=\"243\" y=\"-12.95\" font-family=\"Times,serif\" font-size=\"14.00\">Y</text>\n",
       "</g>\n",
       "<!-- X&#45;&gt;Y -->\n",
       "<g id=\"edge1\" class=\"edge\">\n",
       "<title>X&#45;&gt;Y</title>\n",
       "<path fill=\"none\" stroke=\"black\" stroke-width=\"2\" d=\"M54.36,-18C91.83,-18 159.38,-18 202.66,-18\"/>\n",
       "<polygon fill=\"black\" stroke=\"black\" stroke-width=\"2\" points=\"202.5,-21.5 212.5,-18 202.5,-14.5 202.5,-21.5\"/>\n",
       "</g>\n",
       "<!-- Z1 -->\n",
       "<g id=\"node3\" class=\"node\">\n",
       "<title>Z1</title>\n",
       "<ellipse fill=\"lightgray\" stroke=\"black\" cx=\"99\" cy=\"-126\" rx=\"27\" ry=\"18\"/>\n",
       "<text text-anchor=\"middle\" x=\"99\" y=\"-120.95\" font-family=\"Times,serif\" font-size=\"14.00\">Z1</text>\n",
       "</g>\n",
       "<!-- X&#45;&gt;Z1 -->\n",
       "<g id=\"edge5\" class=\"edge\">\n",
       "<title>X&#45;&gt;Z1</title>\n",
       "<path fill=\"none\" stroke=\"black\" stroke-width=\"2\" stroke-dasharray=\"5,2\" d=\"M39.32,-47.04C49.16,-63.83 63.02,-84.73 74.97,-100.83\"/>\n",
       "<polygon fill=\"black\" stroke=\"black\" stroke-width=\"2\" points=\"42.4,-45.36 34.46,-38.35 36.29,-48.78 42.4,-45.36\"/>\n",
       "<polygon fill=\"black\" stroke=\"black\" stroke-width=\"2\" points=\"72.15,-102.91 81.02,-108.7 77.7,-98.64 72.15,-102.91\"/>\n",
       "</g>\n",
       "<!-- Z1&#45;&gt;X -->\n",
       "<g id=\"edge2\" class=\"edge\">\n",
       "<title>Z1&#45;&gt;X</title>\n",
       "<path fill=\"none\" stroke=\"black\" stroke-width=\"2\" d=\"M93.02,-108.3C83.64,-90.53 65.85,-63.13 51,-43.13\"/>\n",
       "<polygon fill=\"black\" stroke=\"black\" stroke-width=\"2\" points=\"53.85,-41.09 44.98,-35.3 48.3,-45.36 53.85,-41.09\"/>\n",
       "</g>\n",
       "<!-- Z2 -->\n",
       "<g id=\"node4\" class=\"node\">\n",
       "<title>Z2</title>\n",
       "<ellipse fill=\"lightgray\" stroke=\"black\" cx=\"207\" cy=\"-126\" rx=\"27\" ry=\"18\"/>\n",
       "<text text-anchor=\"middle\" x=\"207\" y=\"-120.95\" font-family=\"Times,serif\" font-size=\"14.00\">Z2</text>\n",
       "</g>\n",
       "<!-- Z1&#45;&gt;Z2 -->\n",
       "<g id=\"edge6\" class=\"edge\">\n",
       "<title>Z1&#45;&gt;Z2</title>\n",
       "<path fill=\"none\" stroke=\"black\" stroke-width=\"2\" stroke-dasharray=\"5,2\" d=\"M137.52,-132.5C147.43,-132.83 158.09,-132.83 168.02,-132.51\"/>\n",
       "<polygon fill=\"black\" stroke=\"black\" stroke-width=\"2\" points=\"138.06,-129.02 127.89,-132.01 137.7,-136.01 138.06,-129.02\"/>\n",
       "<polygon fill=\"black\" stroke=\"black\" stroke-width=\"2\" points=\"168.13,-136.01 177.94,-132.02 167.78,-129.02 168.13,-136.01\"/>\n",
       "</g>\n",
       "<!-- Z2&#45;&gt;Y -->\n",
       "<g id=\"edge3\" class=\"edge\">\n",
       "<title>Z2&#45;&gt;Y</title>\n",
       "<path fill=\"none\" stroke=\"black\" stroke-width=\"2\" d=\"M212.94,-108.17C218.39,-91.83 226.56,-67.32 233.01,-47.98\"/>\n",
       "<polygon fill=\"black\" stroke=\"black\" stroke-width=\"2\" points=\"236.25,-49.33 236.09,-38.73 229.61,-47.11 236.25,-49.33\"/>\n",
       "</g>\n",
       "<!-- Z2&#45;&gt;Z1 -->\n",
       "<g id=\"edge4\" class=\"edge\">\n",
       "<title>Z2&#45;&gt;Z1</title>\n",
       "<path fill=\"none\" stroke=\"black\" stroke-width=\"2\" d=\"M181.13,-120.14C168.14,-119.23 152.12,-119.02 137.7,-119.5\"/>\n",
       "<polygon fill=\"black\" stroke=\"black\" stroke-width=\"2\" points=\"137.87,-115.98 128.06,-119.98 138.22,-122.98 137.87,-115.98\"/>\n",
       "</g>\n",
       "</g>\n",
       "</svg>\n"
      ],
      "text/plain": [
       "<graphviz.sources.Source at 0x1573d3850>"
      ]
     },
     "metadata": {},
     "output_type": "display_data"
    }
   ],
   "source": [
    "x, y, z1, z2 = variables('X Y Z1 Z2')\n",
    "\n",
    "ex4_4 = CausalGraph(\n",
    "    v=[x, y, z1, z2],\n",
    "    directed_edges=[\n",
    "        (x, y),\n",
    "        (z1, x),\n",
    "        (z2, y),\n",
    "        (z2, z1),\n",
    "    ],\n",
    "    bidirected_edges=[\n",
    "        (x, z1),\n",
    "        (z2, z1),\n",
    "    ],\n",
    ")\n",
    "\n",
    "\n",
    "ex4_4.draw(node_positions={\n",
    "    x: (0, 0),\n",
    "    y: (3,0),\n",
    "    z1: (1, 1.5),\n",
    "    z2: (2.5, 1.5),\n",
    "})"
   ]
  },
  {
   "cell_type": "code",
   "execution_count": 7,
   "metadata": {},
   "outputs": [
    {
     "data": {
      "text/plain": [
       "True"
      ]
     },
     "execution_count": 7,
     "metadata": {},
     "output_type": "execute_result"
    }
   ],
   "source": [
    "ex4_4.is_backdoor_adjustment(\n",
    "    x=[x],\n",
    "    y=[y],\n",
    "    z=[z1,z2]\n",
    ")"
   ]
  },
  {
   "cell_type": "markdown",
   "metadata": {},
   "source": [
    "We can know separate $Z_1$ from the z-set and condition on it instead:"
   ]
  },
  {
   "cell_type": "code",
   "execution_count": 8,
   "metadata": {},
   "outputs": [
    {
     "data": {
      "text/latex": [
       "$P\\left(Y \\mid do(X), Z1\\right) = \\sum_{Z2} P\\left(Y \\mid X, Z2, Z1\\right) P\\left(Z2 \\mid Z1\\right)$"
      ],
      "text/plain": [
       "<IPython.core.display.Latex object>"
      ]
     },
     "execution_count": 8,
     "metadata": {},
     "output_type": "execute_result"
    }
   ],
   "source": [
    "ex4_4.get_backdoor_adjustment_formula(\n",
    "    x=[x],\n",
    "    y=[y],\n",
    "    z=[z2],\n",
    "    given=[z1],\n",
    ")"
   ]
  },
  {
   "cell_type": "markdown",
   "metadata": {},
   "source": [
    "## Definition 4.2.3 - Proper Causal Path\n",
    "\n",
    "Let $X$ and $Y$ be sets of nodes. A causal path from node $X$ to a node in $Y$ is called proper if it does not intersect $X$, except at the endpoint."
   ]
  },
  {
   "cell_type": "markdown",
   "metadata": {},
   "source": [
    "Consider the following causal graph:"
   ]
  },
  {
   "cell_type": "code",
   "execution_count": 9,
   "metadata": {},
   "outputs": [
    {
     "data": {
      "image/svg+xml": [
       "<?xml version=\"1.0\" encoding=\"UTF-8\" standalone=\"no\"?>\n",
       "<!DOCTYPE svg PUBLIC \"-//W3C//DTD SVG 1.1//EN\"\n",
       " \"http://www.w3.org/Graphics/SVG/1.1/DTD/svg11.dtd\">\n",
       "<!-- Generated by graphviz version 12.2.1 (20241206.2353)\n",
       " -->\n",
       "<!-- Title: G Pages: 1 -->\n",
       "<svg width=\"350pt\" height=\"188pt\"\n",
       " viewBox=\"0.00 0.00 350.00 188.00\" xmlns=\"http://www.w3.org/2000/svg\" xmlns:xlink=\"http://www.w3.org/1999/xlink\">\n",
       "<g id=\"graph0\" class=\"graph\" transform=\"scale(1 1) rotate(0) translate(4 184)\">\n",
       "<title>G</title>\n",
       "<polygon fill=\"white\" stroke=\"none\" points=\"-4,4 -4,-184 346,-184 346,4 -4,4\"/>\n",
       "<!-- X1 -->\n",
       "<g id=\"node1\" class=\"node\">\n",
       "<title>X1</title>\n",
       "<ellipse fill=\"lightgray\" stroke=\"black\" cx=\"27\" cy=\"-162\" rx=\"27\" ry=\"18\"/>\n",
       "<text text-anchor=\"middle\" x=\"27\" y=\"-156.95\" font-family=\"Times,serif\" font-size=\"14.00\">X1</text>\n",
       "</g>\n",
       "<!-- W1 -->\n",
       "<g id=\"node3\" class=\"node\">\n",
       "<title>W1</title>\n",
       "<ellipse fill=\"lightgray\" stroke=\"black\" cx=\"99\" cy=\"-90\" rx=\"27\" ry=\"18\"/>\n",
       "<text text-anchor=\"middle\" x=\"99\" y=\"-84.95\" font-family=\"Times,serif\" font-size=\"14.00\">W1</text>\n",
       "</g>\n",
       "<!-- X1&#45;&gt;W1 -->\n",
       "<g id=\"edge1\" class=\"edge\">\n",
       "<title>X1&#45;&gt;W1</title>\n",
       "<path fill=\"none\" stroke=\"black\" stroke-width=\"2\" d=\"M42.27,-146.73C51.72,-137.28 64.06,-124.94 74.82,-114.18\"/>\n",
       "<polygon fill=\"black\" stroke=\"black\" stroke-width=\"2\" points=\"77.02,-116.93 81.61,-107.39 72.07,-111.98 77.02,-116.93\"/>\n",
       "</g>\n",
       "<!-- W3 -->\n",
       "<g id=\"node5\" class=\"node\">\n",
       "<title>W3</title>\n",
       "<ellipse fill=\"lightgray\" stroke=\"black\" cx=\"171\" cy=\"-162\" rx=\"27\" ry=\"18\"/>\n",
       "<text text-anchor=\"middle\" x=\"171\" y=\"-156.95\" font-family=\"Times,serif\" font-size=\"14.00\">W3</text>\n",
       "</g>\n",
       "<!-- X1&#45;&gt;W3 -->\n",
       "<g id=\"edge2\" class=\"edge\">\n",
       "<title>X1&#45;&gt;W3</title>\n",
       "<path fill=\"none\" stroke=\"black\" stroke-width=\"2\" d=\"M54.42,-162C76.04,-162 106.5,-162 130.87,-162\"/>\n",
       "<polygon fill=\"black\" stroke=\"black\" stroke-width=\"2\" points=\"130.65,-165.5 140.65,-162 130.65,-158.5 130.65,-165.5\"/>\n",
       "</g>\n",
       "<!-- Y -->\n",
       "<g id=\"node6\" class=\"node\">\n",
       "<title>Y</title>\n",
       "<ellipse fill=\"lightgray\" stroke=\"black\" cx=\"315\" cy=\"-18\" rx=\"27\" ry=\"18\"/>\n",
       "<text text-anchor=\"middle\" x=\"315\" y=\"-12.95\" font-family=\"Times,serif\" font-size=\"14.00\">Y</text>\n",
       "</g>\n",
       "<!-- X1&#45;&gt;Y -->\n",
       "<g id=\"edge7\" class=\"edge\">\n",
       "<title>X1&#45;&gt;Y</title>\n",
       "<path fill=\"none\" stroke=\"black\" stroke-width=\"2\" stroke-dasharray=\"5,2\" d=\"M59.97,-145.52C115.21,-117.89 225.87,-62.57 281.48,-34.76\"/>\n",
       "<polygon fill=\"black\" stroke=\"black\" stroke-width=\"2\" points=\"58.73,-142.22 51.35,-149.82 61.86,-148.48 58.73,-142.22\"/>\n",
       "<polygon fill=\"black\" stroke=\"black\" stroke-width=\"2\" points=\"283.02,-37.91 290.39,-30.3 279.88,-31.64 283.02,-37.91\"/>\n",
       "</g>\n",
       "<!-- X2 -->\n",
       "<g id=\"node2\" class=\"node\">\n",
       "<title>X2</title>\n",
       "<ellipse fill=\"lightgray\" stroke=\"black\" cx=\"171\" cy=\"-18\" rx=\"27\" ry=\"18\"/>\n",
       "<text text-anchor=\"middle\" x=\"171\" y=\"-12.95\" font-family=\"Times,serif\" font-size=\"14.00\">X2</text>\n",
       "</g>\n",
       "<!-- W2 -->\n",
       "<g id=\"node4\" class=\"node\">\n",
       "<title>W2</title>\n",
       "<ellipse fill=\"lightgray\" stroke=\"black\" cx=\"243\" cy=\"-18\" rx=\"27\" ry=\"18\"/>\n",
       "<text text-anchor=\"middle\" x=\"243\" y=\"-12.95\" font-family=\"Times,serif\" font-size=\"14.00\">W2</text>\n",
       "</g>\n",
       "<!-- X2&#45;&gt;W2 -->\n",
       "<g id=\"edge3\" class=\"edge\">\n",
       "<title>X2&#45;&gt;W2</title>\n",
       "<path fill=\"none\" stroke=\"black\" stroke-width=\"2\" d=\"M198.22,-18C199.74,-18 201.29,-18 202.84,-18\"/>\n",
       "<polygon fill=\"black\" stroke=\"black\" stroke-width=\"2\" points=\"202.71,-21.5 212.71,-18 202.71,-14.5 202.71,-21.5\"/>\n",
       "</g>\n",
       "<!-- W1&#45;&gt;X2 -->\n",
       "<g id=\"edge4\" class=\"edge\">\n",
       "<title>W1&#45;&gt;X2</title>\n",
       "<path fill=\"none\" stroke=\"black\" stroke-width=\"2\" d=\"M114.27,-74.73C123.72,-65.28 136.06,-52.94 146.82,-42.18\"/>\n",
       "<polygon fill=\"black\" stroke=\"black\" stroke-width=\"2\" points=\"149.02,-44.93 153.61,-35.39 144.07,-39.98 149.02,-44.93\"/>\n",
       "</g>\n",
       "<!-- W2&#45;&gt;Y -->\n",
       "<g id=\"edge5\" class=\"edge\">\n",
       "<title>W2&#45;&gt;Y</title>\n",
       "<path fill=\"none\" stroke=\"black\" stroke-width=\"2\" d=\"M270.22,-18C271.74,-18 273.29,-18 274.84,-18\"/>\n",
       "<polygon fill=\"black\" stroke=\"black\" stroke-width=\"2\" points=\"274.71,-21.5 284.71,-18 274.71,-14.5 274.71,-21.5\"/>\n",
       "</g>\n",
       "<!-- W3&#45;&gt;Y -->\n",
       "<g id=\"edge6\" class=\"edge\">\n",
       "<title>W3&#45;&gt;Y</title>\n",
       "<path fill=\"none\" stroke=\"black\" stroke-width=\"2\" d=\"M186.14,-146.86C211.16,-121.84 261.33,-71.67 291.15,-41.85\"/>\n",
       "<polygon fill=\"black\" stroke=\"black\" stroke-width=\"2\" points=\"293.33,-44.62 297.92,-35.08 288.38,-39.67 293.33,-44.62\"/>\n",
       "</g>\n",
       "</g>\n",
       "</svg>\n"
      ],
      "text/plain": [
       "<graphviz.sources.Source at 0x1573df790>"
      ]
     },
     "metadata": {},
     "output_type": "display_data"
    }
   ],
   "source": [
    "x1, x2, w1, w2, w3, y = variables('X1 X2 W1 W2 W3 Y')\n",
    "\n",
    "fig4_13 = CausalGraph(\n",
    "    v=[x1, x2, w1, w2, w3, y],\n",
    "    directed_edges=[\n",
    "        (x1, w1),\n",
    "        (x2, w2),\n",
    "        (w1, x2),\n",
    "        (w2, y),\n",
    "        (x1,w3),\n",
    "        (w3, y),\n",
    "    ],\n",
    "    bidirected_edges=[\n",
    "        (x1, y),\n",
    "    ],\n",
    ")\n",
    "fig4_13.draw(node_positions={\n",
    "    x1: (0, 0),\n",
    "    x2: (2,-2),\n",
    "    w1: (1, -1),\n",
    "    w2: (3, -2),\n",
    "    w3: (2, 0),\n",
    "    y: (4, -2),\n",
    "})"
   ]
  },
  {
   "cell_type": "markdown",
   "metadata": {},
   "source": [
    "We can find the proper causal paths as follows:"
   ]
  },
  {
   "cell_type": "code",
   "execution_count": 10,
   "metadata": {},
   "outputs": [
    {
     "data": {
      "text/plain": [
       "[[X1, W3, Y], [X2, W2, Y]]"
      ]
     },
     "execution_count": 10,
     "metadata": {},
     "output_type": "execute_result"
    }
   ],
   "source": [
    "fig4_13.find_all_proper_causal_paths(\n",
    "    x=[x1,x2],\n",
    "    y=[y],\n",
    "    full_path=True,\n",
    ")"
   ]
  },
  {
   "cell_type": "markdown",
   "metadata": {},
   "source": [
    "## Definition 4.2.4 - Adjustment Back-door Criterion (A-BDC)\n",
    "\n",
    "$Z$ satisifies the A-BDC relative to $X,Y$ in the causal diagram $G$:\n",
    "\n",
    "(i) No element in $Z$ is a descendant in $G_{do(x)}$ of any $W \\notin X$ which lies on a proper causal path from $X$ to $Y$\n",
    "\n",
    "(ii) All non-causal paths in the $G$ from $X$ to $Y$ are blocked by $Z$"
   ]
  },
  {
   "cell_type": "markdown",
   "metadata": {},
   "source": [
    "Consider the following causal graph:"
   ]
  },
  {
   "cell_type": "code",
   "execution_count": 11,
   "metadata": {},
   "outputs": [
    {
     "data": {
      "image/svg+xml": [
       "<?xml version=\"1.0\" encoding=\"UTF-8\" standalone=\"no\"?>\n",
       "<!DOCTYPE svg PUBLIC \"-//W3C//DTD SVG 1.1//EN\"\n",
       " \"http://www.w3.org/Graphics/SVG/1.1/DTD/svg11.dtd\">\n",
       "<!-- Generated by graphviz version 12.2.1 (20241206.2353)\n",
       " -->\n",
       "<!-- Title: G Pages: 1 -->\n",
       "<svg width=\"494pt\" height=\"188pt\"\n",
       " viewBox=\"0.00 0.00 494.00 188.00\" xmlns=\"http://www.w3.org/2000/svg\" xmlns:xlink=\"http://www.w3.org/1999/xlink\">\n",
       "<g id=\"graph0\" class=\"graph\" transform=\"scale(1 1) rotate(0) translate(4 184)\">\n",
       "<title>G</title>\n",
       "<polygon fill=\"white\" stroke=\"none\" points=\"-4,4 -4,-184 490,-184 490,4 -4,4\"/>\n",
       "<!-- X1 -->\n",
       "<g id=\"node1\" class=\"node\">\n",
       "<title>X1</title>\n",
       "<ellipse fill=\"lightgray\" stroke=\"black\" cx=\"27\" cy=\"-54\" rx=\"27\" ry=\"18\"/>\n",
       "<text text-anchor=\"middle\" x=\"27\" y=\"-48.95\" font-family=\"Times,serif\" font-size=\"14.00\">X1</text>\n",
       "</g>\n",
       "<!-- Y -->\n",
       "<g id=\"node3\" class=\"node\">\n",
       "<title>Y</title>\n",
       "<ellipse fill=\"lightgray\" stroke=\"black\" cx=\"387\" cy=\"-18\" rx=\"27\" ry=\"18\"/>\n",
       "<text text-anchor=\"middle\" x=\"387\" y=\"-12.95\" font-family=\"Times,serif\" font-size=\"14.00\">Y</text>\n",
       "</g>\n",
       "<!-- X1&#45;&gt;Y -->\n",
       "<g id=\"edge2\" class=\"edge\">\n",
       "<title>X1&#45;&gt;Y</title>\n",
       "<path fill=\"none\" stroke=\"black\" stroke-width=\"2\" d=\"M54.06,-51.29C117.02,-45 273.58,-29.34 347.35,-21.97\"/>\n",
       "<polygon fill=\"black\" stroke=\"black\" stroke-width=\"2\" points=\"347.5,-25.47 357.11,-20.99 346.81,-18.5 347.5,-25.47\"/>\n",
       "</g>\n",
       "<!-- Z1 -->\n",
       "<g id=\"node4\" class=\"node\">\n",
       "<title>Z1</title>\n",
       "<ellipse fill=\"lightgray\" stroke=\"black\" cx=\"99\" cy=\"-162\" rx=\"27\" ry=\"18\"/>\n",
       "<text text-anchor=\"middle\" x=\"99\" y=\"-156.95\" font-family=\"Times,serif\" font-size=\"14.00\">Z1</text>\n",
       "</g>\n",
       "<!-- X1&#45;&gt;Z1 -->\n",
       "<g id=\"edge1\" class=\"edge\">\n",
       "<title>X1&#45;&gt;Z1</title>\n",
       "<path fill=\"none\" stroke=\"black\" stroke-width=\"2\" d=\"M38.25,-70.88C49.61,-87.92 67.34,-114.51 80.72,-134.59\"/>\n",
       "<polygon fill=\"black\" stroke=\"black\" stroke-width=\"2\" points=\"77.69,-136.35 86.15,-142.72 83.52,-132.46 77.69,-136.35\"/>\n",
       "</g>\n",
       "<!-- X2 -->\n",
       "<g id=\"node2\" class=\"node\">\n",
       "<title>X2</title>\n",
       "<ellipse fill=\"lightgray\" stroke=\"black\" cx=\"459\" cy=\"-126\" rx=\"27\" ry=\"18\"/>\n",
       "<text text-anchor=\"middle\" x=\"459\" y=\"-120.95\" font-family=\"Times,serif\" font-size=\"14.00\">X2</text>\n",
       "</g>\n",
       "<!-- X2&#45;&gt;Y -->\n",
       "<g id=\"edge3\" class=\"edge\">\n",
       "<title>X2&#45;&gt;Y</title>\n",
       "<path fill=\"none\" stroke=\"black\" stroke-width=\"2\" d=\"M447.75,-109.13C436.39,-92.08 418.66,-65.49 405.28,-45.41\"/>\n",
       "<polygon fill=\"black\" stroke=\"black\" stroke-width=\"2\" points=\"408.31,-43.65 399.85,-37.28 402.48,-47.54 408.31,-43.65\"/>\n",
       "</g>\n",
       "<!-- Z2 -->\n",
       "<g id=\"node5\" class=\"node\">\n",
       "<title>Z2</title>\n",
       "<ellipse fill=\"lightgray\" stroke=\"black\" cx=\"207\" cy=\"-162\" rx=\"27\" ry=\"18\"/>\n",
       "<text text-anchor=\"middle\" x=\"207\" y=\"-156.95\" font-family=\"Times,serif\" font-size=\"14.00\">Z2</text>\n",
       "</g>\n",
       "<!-- Y&#45;&gt;Z2 -->\n",
       "<g id=\"edge7\" class=\"edge\">\n",
       "<title>Y&#45;&gt;Z2</title>\n",
       "<path fill=\"none\" stroke=\"black\" stroke-width=\"2\" stroke-dasharray=\"5,2\" d=\"M359.68,-39.86C325.92,-66.86 268.8,-112.56 234.82,-139.74\"/>\n",
       "<polygon fill=\"black\" stroke=\"black\" stroke-width=\"2\" points=\"361.43,-42.94 367.05,-33.96 357.05,-37.47 361.43,-42.94\"/>\n",
       "<polygon fill=\"black\" stroke=\"black\" stroke-width=\"2\" points=\"232.64,-137 227.02,-145.98 237.02,-142.47 232.64,-137\"/>\n",
       "</g>\n",
       "<!-- Z3 -->\n",
       "<g id=\"node6\" class=\"node\">\n",
       "<title>Z3</title>\n",
       "<ellipse fill=\"lightgray\" stroke=\"black\" cx=\"315\" cy=\"-162\" rx=\"27\" ry=\"18\"/>\n",
       "<text text-anchor=\"middle\" x=\"315\" y=\"-156.95\" font-family=\"Times,serif\" font-size=\"14.00\">Z3</text>\n",
       "</g>\n",
       "<!-- Y&#45;&gt;Z3 -->\n",
       "<g id=\"edge8\" class=\"edge\">\n",
       "<title>Y&#45;&gt;Z3</title>\n",
       "<path fill=\"none\" stroke=\"black\" stroke-width=\"2\" stroke-dasharray=\"5,2\" d=\"M372.56,-46.87C360.01,-71.98 341.91,-108.18 329.38,-133.25\"/>\n",
       "<polygon fill=\"black\" stroke=\"black\" stroke-width=\"2\" points=\"375.62,-48.59 376.96,-38.08 369.36,-45.46 375.62,-48.59\"/>\n",
       "<polygon fill=\"black\" stroke=\"black\" stroke-width=\"2\" points=\"326.41,-131.35 325.07,-141.86 332.67,-134.48 326.41,-131.35\"/>\n",
       "</g>\n",
       "<!-- Z1&#45;&gt;Z2 -->\n",
       "<g id=\"edge4\" class=\"edge\">\n",
       "<title>Z1&#45;&gt;Z2</title>\n",
       "<path fill=\"none\" stroke=\"black\" stroke-width=\"2\" d=\"M126.25,-162C138.53,-162 153.28,-162 166.79,-162\"/>\n",
       "<polygon fill=\"black\" stroke=\"black\" stroke-width=\"2\" points=\"166.73,-165.5 176.73,-162 166.73,-158.5 166.73,-165.5\"/>\n",
       "</g>\n",
       "<!-- Z2&#45;&gt;Z3 -->\n",
       "<g id=\"edge5\" class=\"edge\">\n",
       "<title>Z2&#45;&gt;Z3</title>\n",
       "<path fill=\"none\" stroke=\"black\" stroke-width=\"2\" d=\"M234.25,-162C246.53,-162 261.28,-162 274.79,-162\"/>\n",
       "<polygon fill=\"black\" stroke=\"black\" stroke-width=\"2\" points=\"274.73,-165.5 284.73,-162 274.73,-158.5 274.73,-165.5\"/>\n",
       "</g>\n",
       "<!-- Z3&#45;&gt;X2 -->\n",
       "<g id=\"edge6\" class=\"edge\">\n",
       "<title>Z3&#45;&gt;X2</title>\n",
       "<path fill=\"none\" stroke=\"black\" stroke-width=\"2\" d=\"M340.74,-155.56C363.06,-149.98 395.67,-141.83 420.99,-135.5\"/>\n",
       "<polygon fill=\"black\" stroke=\"black\" stroke-width=\"2\" points=\"421.69,-138.94 430.54,-133.11 419.99,-132.14 421.69,-138.94\"/>\n",
       "</g>\n",
       "</g>\n",
       "</svg>\n"
      ],
      "text/plain": [
       "<graphviz.sources.Source at 0x125385710>"
      ]
     },
     "metadata": {},
     "output_type": "display_data"
    }
   ],
   "source": [
    "x1, x2, y, z1, z2, z3= variables('X1 X2 Y Z1 Z2 Z3')\n",
    "\n",
    "fig4_14 = CausalGraph(\n",
    "    v=[x1, x2, y, z1, z2, z3],\n",
    "    directed_edges=[\n",
    "        (x1, z1),\n",
    "        (z1, z2),\n",
    "        (z2, z3),\n",
    "        (z3, x2),\n",
    "        (x2, y),\n",
    "        (x1, y),\n",
    "    ],\n",
    "    bidirected_edges=[\n",
    "        (z2,y),\n",
    "        (z3,y)\n",
    "    ]\n",
    ")\n",
    "\n",
    "fig4_14.draw(node_positions={\n",
    "    x1: (0, -2),\n",
    "    x2: (6, -1),\n",
    "    y: (5, -2.5),\n",
    "    z1: (1, -.5),\n",
    "    z2: (2.5, -.5),\n",
    "    z3: (4, -.5),\n",
    "})"
   ]
  },
  {
   "cell_type": "markdown",
   "metadata": {},
   "source": [
    "If we attempt to apply the rules of Def 4.2.2, we find that there is no backdoor admissible set. However, when applying the rules of Def 4.2.4 we find that there is an acceptable backdoor set:"
   ]
  },
  {
   "cell_type": "code",
   "execution_count": 12,
   "metadata": {},
   "outputs": [
    {
     "data": {
      "text/plain": [
       "[{Z1, Z3}, {Z1, Z2, Z3}]"
      ]
     },
     "execution_count": 12,
     "metadata": {},
     "output_type": "execute_result"
    }
   ],
   "source": [
    "fig4_14.find_all_backdoor_adjustments(x={x1, x2}, y=y)"
   ]
  },
  {
   "cell_type": "code",
   "execution_count": 13,
   "metadata": {},
   "outputs": [
    {
     "data": {
      "text/latex": [
       "$P\\left(Y \\mid do(X2, X1)\\right) = \\sum_{Z1, Z3} P\\left(Y \\mid X2, X1, Z1, Z3\\right) P\\left(Z1, Z3\\right)$"
      ],
      "text/plain": [
       "<IPython.core.display.Latex object>"
      ]
     },
     "execution_count": 13,
     "metadata": {},
     "output_type": "execute_result"
    }
   ],
   "source": [
    "fig4_14.get_backdoor_adjustment_formula(\n",
    "    x=[x1, x2],\n",
    "    y=y,\n",
    "    z=[z1, z3]\n",
    ")"
   ]
  },
  {
   "cell_type": "markdown",
   "metadata": {},
   "source": [
    "## Definition 4.2.5 - Front-door Criterion\n",
    "\n",
    "Let $G$ be a causal diagram and $X$ and $Y$ be the sets of treatment and outcome variables, respectively. A set of variables $Z$ is said to satisfy the front-door criterion (FDC, for short) relative to the pair ($X,Y$) in $G$ if the following conditions hold:\n",
    "\n",
    "(i) $Z$ intercepts all directed paths from $X$ to $Y$\n",
    "\n",
    "(ii) There is no unblocked back-door path from $X$ to $X$; and\n",
    "\n",
    "(iii) All back-door paths from $Z$ to $Y$ are blocked by $X$"
   ]
  },
  {
   "cell_type": "markdown",
   "metadata": {},
   "source": [
    "### Theorem 4.2.14 - Front-door Adjustment\n",
    "\n",
    "Let $G$ be a causal diagram and $X$ and $Y$ be the sets of treatment and outcome variables, respectively. If a set of variables $Z$ satisfies the FDC relative to the pair ($X,Y$), the effect of $X$ on $Y$ is identifiable and given by:\n",
    "\n",
    "$$P(y|do(x)) = \\sum_{z}P(z|x)\\sum_{x'}P(y|x',z)P(x')$$"
   ]
  },
  {
   "cell_type": "markdown",
   "metadata": {},
   "source": [
    "## Definition 4.2.6 - Generalized Front-door Criterion\n",
    "\n",
    "Let $G$ be a causal diagram and $X$ and $Y$ be the sets of treatment and outcomes variables, respectively. A tuple of sets of variables ($Z,Z_1,Z_2$) is said to satisfy the generalized front-door criterion (g-FDC) relative to the pair ($X,Y$) in $G$ if the following conditions hold:\n",
    "\n",
    "(i) $Z$ intercepts all directed paths from $X$ to $Y$;\n",
    "\n",
    "(ii) $Z_1$ is back-door admissible relative to ($X,Z$); and\n",
    "\n",
    "(iii) $Z_2$ is back-door admissible relative to ($Z,Y$)"
   ]
  },
  {
   "cell_type": "markdown",
   "metadata": {},
   "source": [
    "### Theorem 4.2.15 - Generalized Front-door Adjustment\n",
    "\n",
    "Let $G$ be a causal diagram and $X$ and\n",
    "$Y$ be the sets of treatment and outcomes variables, respectively. If\n",
    "a tuple of sets of variables ($Z,Z_1,Z_2$) satisfies the generalized front-door criterion relative to the pair ($X,Y$), the effect of $X$ on $Y$ is identifiable and given by:\n",
    "\n",
    "$$P(y|do(x)) = \\sum_z \\sum_{z_1} P(z|x,z_1)P(z_1)\\sum_{x',z_2}P(y|x',z,z_2)P(x',z_2)$$"
   ]
  },
  {
   "cell_type": "markdown",
   "metadata": {},
   "source": [
    "Consider the causal diagram below:"
   ]
  },
  {
   "cell_type": "code",
   "execution_count": 14,
   "metadata": {},
   "outputs": [
    {
     "data": {
      "image/svg+xml": [
       "<?xml version=\"1.0\" encoding=\"UTF-8\" standalone=\"no\"?>\n",
       "<!DOCTYPE svg PUBLIC \"-//W3C//DTD SVG 1.1//EN\"\n",
       " \"http://www.w3.org/Graphics/SVG/1.1/DTD/svg11.dtd\">\n",
       "<!-- Generated by graphviz version 12.2.1 (20241206.2353)\n",
       " -->\n",
       "<!-- Title: G Pages: 1 -->\n",
       "<svg width=\"350pt\" height=\"188pt\"\n",
       " viewBox=\"0.00 0.00 350.00 188.00\" xmlns=\"http://www.w3.org/2000/svg\" xmlns:xlink=\"http://www.w3.org/1999/xlink\">\n",
       "<g id=\"graph0\" class=\"graph\" transform=\"scale(1 1) rotate(0) translate(4 184)\">\n",
       "<title>G</title>\n",
       "<polygon fill=\"white\" stroke=\"none\" points=\"-4,4 -4,-184 346,-184 346,4 -4,4\"/>\n",
       "<!-- X -->\n",
       "<g id=\"node1\" class=\"node\">\n",
       "<title>X</title>\n",
       "<ellipse fill=\"lightgray\" stroke=\"black\" cx=\"27\" cy=\"-54\" rx=\"27\" ry=\"18\"/>\n",
       "<text text-anchor=\"middle\" x=\"27\" y=\"-48.95\" font-family=\"Times,serif\" font-size=\"14.00\">X</text>\n",
       "</g>\n",
       "<!-- Z -->\n",
       "<g id=\"node2\" class=\"node\">\n",
       "<title>Z</title>\n",
       "<ellipse fill=\"lightgray\" stroke=\"black\" cx=\"171\" cy=\"-90\" rx=\"27\" ry=\"18\"/>\n",
       "<text text-anchor=\"middle\" x=\"171\" y=\"-84.95\" font-family=\"Times,serif\" font-size=\"14.00\">Z</text>\n",
       "</g>\n",
       "<!-- X&#45;&gt;Z -->\n",
       "<g id=\"edge1\" class=\"edge\">\n",
       "<title>X&#45;&gt;Z</title>\n",
       "<path fill=\"none\" stroke=\"black\" stroke-width=\"2\" d=\"M52.74,-60.44C75.06,-66.02 107.67,-74.17 132.99,-80.5\"/>\n",
       "<polygon fill=\"black\" stroke=\"black\" stroke-width=\"2\" points=\"131.99,-83.86 142.54,-82.89 133.69,-77.06 131.99,-83.86\"/>\n",
       "</g>\n",
       "<!-- Y -->\n",
       "<g id=\"node3\" class=\"node\">\n",
       "<title>Y</title>\n",
       "<ellipse fill=\"lightgray\" stroke=\"black\" cx=\"315\" cy=\"-54\" rx=\"27\" ry=\"18\"/>\n",
       "<text text-anchor=\"middle\" x=\"315\" y=\"-48.95\" font-family=\"Times,serif\" font-size=\"14.00\">Y</text>\n",
       "</g>\n",
       "<!-- X&#45;&gt;Y -->\n",
       "<g id=\"edge9\" class=\"edge\">\n",
       "<title>X&#45;&gt;Y</title>\n",
       "<path fill=\"none\" stroke=\"black\" stroke-width=\"2\" stroke-dasharray=\"5,2\" d=\"M67.31,-54C122.24,-54 220.02,-54 274.86,-54\"/>\n",
       "<polygon fill=\"black\" stroke=\"black\" stroke-width=\"2\" points=\"67.38,-50.5 57.38,-54 67.38,-57.5 67.38,-50.5\"/>\n",
       "<polygon fill=\"black\" stroke=\"black\" stroke-width=\"2\" points=\"274.8,-57.5 284.8,-54 274.8,-50.5 274.8,-57.5\"/>\n",
       "</g>\n",
       "<!-- Z&#45;&gt;Y -->\n",
       "<g id=\"edge2\" class=\"edge\">\n",
       "<title>Z&#45;&gt;Y</title>\n",
       "<path fill=\"none\" stroke=\"black\" stroke-width=\"2\" d=\"M196.74,-83.56C219.06,-77.98 251.67,-69.83 276.99,-63.5\"/>\n",
       "<polygon fill=\"black\" stroke=\"black\" stroke-width=\"2\" points=\"277.69,-66.94 286.54,-61.11 275.99,-60.14 277.69,-66.94\"/>\n",
       "</g>\n",
       "<!-- W1 -->\n",
       "<g id=\"node4\" class=\"node\">\n",
       "<title>W1</title>\n",
       "<ellipse fill=\"lightgray\" stroke=\"black\" cx=\"171\" cy=\"-18\" rx=\"27\" ry=\"18\"/>\n",
       "<text text-anchor=\"middle\" x=\"171\" y=\"-12.95\" font-family=\"Times,serif\" font-size=\"14.00\">W1</text>\n",
       "</g>\n",
       "<!-- W1&#45;&gt;X -->\n",
       "<g id=\"edge4\" class=\"edge\">\n",
       "<title>W1&#45;&gt;X</title>\n",
       "<path fill=\"none\" stroke=\"black\" stroke-width=\"2\" d=\"M145.26,-24.44C122.94,-30.02 90.33,-38.17 65.01,-44.5\"/>\n",
       "<polygon fill=\"black\" stroke=\"black\" stroke-width=\"2\" points=\"64.31,-41.06 55.46,-46.89 66.01,-47.86 64.31,-41.06\"/>\n",
       "</g>\n",
       "<!-- W1&#45;&gt;Y -->\n",
       "<g id=\"edge3\" class=\"edge\">\n",
       "<title>W1&#45;&gt;Y</title>\n",
       "<path fill=\"none\" stroke=\"black\" stroke-width=\"2\" d=\"M196.74,-24.44C219.06,-30.02 251.67,-38.17 276.99,-44.5\"/>\n",
       "<polygon fill=\"black\" stroke=\"black\" stroke-width=\"2\" points=\"275.99,-47.86 286.54,-46.89 277.69,-41.06 275.99,-47.86\"/>\n",
       "</g>\n",
       "<!-- W2 -->\n",
       "<g id=\"node5\" class=\"node\">\n",
       "<title>W2</title>\n",
       "<ellipse fill=\"lightgray\" stroke=\"black\" cx=\"99\" cy=\"-162\" rx=\"27\" ry=\"18\"/>\n",
       "<text text-anchor=\"middle\" x=\"99\" y=\"-156.95\" font-family=\"Times,serif\" font-size=\"14.00\">W2</text>\n",
       "</g>\n",
       "<!-- W2&#45;&gt;X -->\n",
       "<g id=\"edge5\" class=\"edge\">\n",
       "<title>W2&#45;&gt;X</title>\n",
       "<path fill=\"none\" stroke=\"black\" stroke-width=\"2\" d=\"M87.75,-145.12C76.39,-128.08 58.66,-101.49 45.28,-81.41\"/>\n",
       "<polygon fill=\"black\" stroke=\"black\" stroke-width=\"2\" points=\"48.31,-79.65 39.85,-73.28 42.48,-83.54 48.31,-79.65\"/>\n",
       "</g>\n",
       "<!-- W2&#45;&gt;Z -->\n",
       "<g id=\"edge6\" class=\"edge\">\n",
       "<title>W2&#45;&gt;Z</title>\n",
       "<path fill=\"none\" stroke=\"black\" stroke-width=\"2\" d=\"M114.27,-146.73C123.72,-137.28 136.06,-124.94 146.82,-114.18\"/>\n",
       "<polygon fill=\"black\" stroke=\"black\" stroke-width=\"2\" points=\"149.02,-116.93 153.61,-107.39 144.07,-111.98 149.02,-116.93\"/>\n",
       "</g>\n",
       "<!-- W3 -->\n",
       "<g id=\"node6\" class=\"node\">\n",
       "<title>W3</title>\n",
       "<ellipse fill=\"lightgray\" stroke=\"black\" cx=\"243\" cy=\"-162\" rx=\"27\" ry=\"18\"/>\n",
       "<text text-anchor=\"middle\" x=\"243\" y=\"-156.95\" font-family=\"Times,serif\" font-size=\"14.00\">W3</text>\n",
       "</g>\n",
       "<!-- W3&#45;&gt;Z -->\n",
       "<g id=\"edge7\" class=\"edge\">\n",
       "<title>W3&#45;&gt;Z</title>\n",
       "<path fill=\"none\" stroke=\"black\" stroke-width=\"2\" d=\"M227.73,-146.73C218.28,-137.28 205.94,-124.94 195.18,-114.18\"/>\n",
       "<polygon fill=\"black\" stroke=\"black\" stroke-width=\"2\" points=\"197.93,-111.98 188.39,-107.39 192.98,-116.93 197.93,-111.98\"/>\n",
       "</g>\n",
       "<!-- W3&#45;&gt;Y -->\n",
       "<g id=\"edge8\" class=\"edge\">\n",
       "<title>W3&#45;&gt;Y</title>\n",
       "<path fill=\"none\" stroke=\"black\" stroke-width=\"2\" d=\"M254.25,-145.12C265.61,-128.08 283.34,-101.49 296.72,-81.41\"/>\n",
       "<polygon fill=\"black\" stroke=\"black\" stroke-width=\"2\" points=\"299.52,-83.54 302.15,-73.28 293.69,-79.65 299.52,-83.54\"/>\n",
       "</g>\n",
       "</g>\n",
       "</svg>\n"
      ],
      "text/plain": [
       "<graphviz.sources.Source at 0x157406b10>"
      ]
     },
     "metadata": {},
     "output_type": "display_data"
    }
   ],
   "source": [
    "x, z, y, w1, w2, w3 = variables('X Z Y W1 W2 W3')\n",
    "\n",
    "fig4_24 = CausalGraph(\n",
    "    v=[x, z, y, w1, w2, w3],\n",
    "    directed_edges=[\n",
    "        (x, z),\n",
    "        (z, y),\n",
    "        (w1, y),\n",
    "        (w1,x),\n",
    "        (w2, x),\n",
    "        (w2, z),\n",
    "        (w3, z),\n",
    "        (w3, y)\n",
    "    ],\n",
    "    bidirected_edges=[\n",
    "        (x,y)\n",
    "    ]\n",
    ")\n",
    "\n",
    "fig4_24.draw(\n",
    "    node_positions={\n",
    "        x: (0, -.5),\n",
    "        z: (2, 0),\n",
    "        y: (4, -.5),\n",
    "        w1: (2, -1),\n",
    "        w2: (1, 1),\n",
    "        w3: (3, 1)\n",
    "    }\n",
    ")"
   ]
  },
  {
   "cell_type": "code",
   "execution_count": 15,
   "metadata": {},
   "outputs": [
    {
     "data": {
      "text/plain": [
       "True"
      ]
     },
     "execution_count": 15,
     "metadata": {},
     "output_type": "execute_result"
    }
   ],
   "source": [
    "fig4_24.find_all_backdoor_adjustments(x={x}, y=y) is None"
   ]
  },
  {
   "cell_type": "code",
   "execution_count": 16,
   "metadata": {},
   "outputs": [
    {
     "data": {
      "text/plain": [
       "[([Z], [W2], [W3]), ([Z], [W2], [W3, W1]), ([Z], [W1, W2], [W3])]"
      ]
     },
     "execution_count": 16,
     "metadata": {},
     "output_type": "execute_result"
    }
   ],
   "source": [
    "fig4_24.find_all_frontdoor_adjustments(\n",
    "    x={x},\n",
    "    y=y,\n",
    ")"
   ]
  },
  {
   "cell_type": "code",
   "execution_count": 17,
   "metadata": {},
   "outputs": [
    {
     "data": {
      "text/latex": [
       "$P\\left(Y \\mid do(X)\\right) = \\sum_{Z} \\sum_{W2} P\\left(Y \\mid X, W2\\right)P\\left(W2\\right)\\sum_{x\\',W3} P\\left(Y \\mid x', Z, W3\\right)P\\left(x' \\mid W3\\right)$"
      ],
      "text/plain": [
       "<IPython.core.display.Latex object>"
      ]
     },
     "execution_count": 17,
     "metadata": {},
     "output_type": "execute_result"
    }
   ],
   "source": [
    "fig4_24.get_frontdoor_adjustment_formula(\n",
    "    x={x},\n",
    "    y=y,\n",
    "    z=[z],\n",
    "    xz=[w2],\n",
    "    zy=[w3],\n",
    ")"
   ]
  }
 ],
 "metadata": {
  "kernelspec": {
   "display_name": "pyML",
   "language": "python",
   "name": "python3"
  },
  "language_info": {
   "codemirror_mode": {
    "name": "ipython",
    "version": 3
   },
   "file_extension": ".py",
   "mimetype": "text/x-python",
   "name": "python",
   "nbconvert_exporter": "python",
   "pygments_lexer": "ipython3",
   "version": "3.11.8"
  }
 },
 "nbformat": 4,
 "nbformat_minor": 2
}
