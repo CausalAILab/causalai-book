{
 "cells": [
  {
   "cell_type": "markdown",
   "metadata": {},
   "source": [
    "## Chapter 2 - Causal Diagram and Conditional Independence"
   ]
  },
  {
   "cell_type": "markdown",
   "metadata": {},
   "source": [
    "<a target=\"_blank\" href=\"https://colab.research.google.com/github/CausalAILab/causalai-book/blob/main/ch2_causal-diagram.ipynb\">\n",
    "  <img src=\"https://colab.research.google.com/assets/colab-badge.svg\" alt=\"Open In Colab\"/>\n",
    "</a>"
   ]
  },
  {
   "cell_type": "code",
   "execution_count": 1,
   "metadata": {},
   "outputs": [],
   "source": [
    "import os\n",
    "import sys\n",
    "\n",
    "if 'google.colab' in sys.modules:\n",
    "    os.system(\"wget -O scm.py https://raw.githubusercontent.com/CausalAILab/causality-book/main/causal_diagram.py\")"
   ]
  },
  {
   "cell_type": "markdown",
   "metadata": {},
   "source": [
    "Recall the definition of Causal Diagram from Section 2.4.1.\n",
    "\n",
    "### Definition 2.4.1 — Causal Diagram\n",
    "Consider an SCM $\\mathbf{M} = \\langle \\mathbf{U}, \\mathbf{V}, \\mathcal{F}, P(\\mathbf{U}) \\rangle$. Then, $\\mathbf{G}$ is said to be a **causal diagram** (of $\\mathbf{M}$) if constructed as follows:\n",
    "\n",
    "1. Add a vertex for every endogenous variable in the set $\\mathbf{V}$.\n",
    "2. Add a directed edge $(V_j \\to V_i)$ for every $V_i, V_j \\in \\mathbf{V}$ if $V_j$ appears as an argument of $f_i \\in \\mathcal{F}$.\n",
    "3. Add a bidirected edge $(V_j \\leftrightarrow V_i)$ for every $V_i, V_j \\in \\mathbf{V}$ if the corresponding $U_i, U_j \\subseteq \\mathbf{U}$ are correlated or the corresponding functions $f_i, f_j$ share some $U \\in \\mathbf{U}$ as an argument."
   ]
  },
  {
   "cell_type": "code",
   "execution_count": 2,
   "metadata": {},
   "outputs": [],
   "source": [
    "from sympy import symbols\n",
    "\n",
    "from scm import SymbolicSCM\n",
    "from causal_diagram import *"
   ]
  },
  {
   "cell_type": "markdown",
   "metadata": {},
   "source": [
    "#### Theorem 2.4.1 — Bayesian Factorization (Markov-Observational case)\n",
    "\n",
    "Every Markovian structural causal model $\\mathbf{M}$ (recursive, with independent disturbances) induces an observational distribution over the endogenous variables $\\mathbf{V}$ that can be factorized as:\n",
    "\n",
    "$$\n",
    "P(\\mathbf{v}) = \\prod_i P(v_i \\mid \\text{pa}_i),\n",
    "\\tag{2.45}\n",
    "$$\n",
    "\n",
    "where $\\text{pa}_i$ are the values of the endogenous parents of $v_i$ in the causal diagram \\( \\mathcal{G} \\)."
   ]
  },
  {
   "cell_type": "code",
   "execution_count": 3,
   "metadata": {},
   "outputs": [
    {
     "data": {
      "text/plain": [
       "'P(V) = P(X) P(Y | X) P(Z | X)'"
      ]
     },
     "execution_count": 3,
     "metadata": {},
     "output_type": "execute_result"
    }
   ],
   "source": [
    "m1 = CausalDiagram(V = ['X', 'Y', 'Z'], directed_edges = [('X', 'Y'), ('X', 'Z')])\n",
    "m1.bayesian_factorization()"
   ]
  },
  {
   "cell_type": "markdown",
   "metadata": {},
   "source": [
    "#### Definition 2.4.2 — Conditional independence relation\n",
    "\n",
    "A set of variables $\\mathbf{Y}$ is said to be *conditionally independent* of another set of variables $\\mathbf{X}$, given a third set $\\mathbf{Z}$, if knowing the values of $\\mathbf{X}$ does not change the likelihood of $\\mathbf{Y}$ given $\\mathbf{Z}$. Formally, this statement is written as:\n",
    "\n",
    "$$\n",
    "P(\\mathbf{Y} = \\mathbf{y} \\mid \\mathbf{X} = \\mathbf{x}, \\mathbf{Z} = \\mathbf{z}) = P(\\mathbf{Y} = \\mathbf{y} \\mid \\mathbf{Z} = \\mathbf{z}),\n",
    "\\tag{2.53}\n",
    "$$\n",
    "\n",
    "for all $\\mathbf{x}, \\mathbf{y}, \\mathbf{z}$. For simplicity, the equation above is also written as $\\mathbf{Y} \\perp\\!\\!\\!\\perp \\mathbf{X} \\mid \\mathbf{Z}$."
   ]
  },
  {
   "cell_type": "markdown",
   "metadata": {},
   "source": [
    "#### Example 2.10 - Causal Chain\n",
    "\n",
    "Consider the following SCM from Example 2.10\n",
    "\n",
    "$$\n",
    "M^1 = \\begin{cases}\n",
    "    \\mathbf V &= \\{X, Y, Z\\}\\\\\n",
    "    \\mathbf U &= \\{U_x, U_y, U_z\\}\\\\\n",
    "    F &= \\begin{cases}\n",
    "        X := U_x \\\\\n",
    "        Y := X \\lor \\lnot U_z \\\\\n",
    "        Z := Z \\land U_y \\\\\n",
    "    \\end{cases}\\\\\n",
    "    P(\\mathbf U) &= \\begin{cases}\n",
    "       U_z &\\sim \\mathrm{Bern}(0.5) \\\\\n",
    "       U_x &\\sim \\mathrm{Bern}(0.5) \\\\\n",
    "       U_y &\\sim \\mathrm{Bern}(0.5) \\\\\n",
    "    \\end{cases}\n",
    "\\end{cases}\n",
    "$$\n",
    "\n",
    "We may implement this SCM as follows:"
   ]
  },
  {
   "cell_type": "code",
   "execution_count": 4,
   "metadata": {},
   "outputs": [
    {
     "data": {
      "text/latex": [
       "$\\begin{cases}\\mathbf V &= \\{x,z,y\\} \\\\\\mathbf U &= \\{uz,ux,uy\\} \\\\F &= \\begin{cases}x &= ux\\\\z &= x \\wedge \\neg uz\\\\y &= uy \\wedge z\\end{cases} \\\\P(\\mathbf U) &= \\begin{cases}uz &\\sim \\mathrm{Bern}(0.5)\\\\ux &\\sim \\mathrm{Bern}(0.5)\\\\uy &\\sim \\mathrm{Bern}(0.5)\\end{cases}\\end{cases}$"
      ],
      "text/plain": [
       "SCM([x, z, y], [uz, ux, uy])"
      ]
     },
     "execution_count": 4,
     "metadata": {},
     "output_type": "execute_result"
    }
   ],
   "source": [
    "z, x, y, uz, ux, uy = symbols('z x y uz ux uy')\n",
    "\n",
    "m1 = SymbolicSCM(\n",
    "    f={\n",
    "        x : ux,\n",
    "        z : x & ~uz,\n",
    "        y : z & uy\n",
    "    },\n",
    "    pu={\n",
    "        uz: 0.5,\n",
    "        ux: 0.5,\n",
    "        uy: 0.5,\n",
    "    }\n",
    ")\n",
    "\n",
    "m1"
   ]
  },
  {
   "cell_type": "code",
   "execution_count": 5,
   "metadata": {},
   "outputs": [
    {
     "data": {
      "text/latex": [
       "$P(x = 1,y = 1) \\approx 0.125$"
      ],
      "text/plain": [
       "<IPython.core.display.Latex object>"
      ]
     },
     "execution_count": 5,
     "metadata": {},
     "output_type": "execute_result"
    }
   ],
   "source": [
    "m1.query({x:1, y:1}, latex=True)"
   ]
  },
  {
   "cell_type": "code",
   "execution_count": 6,
   "metadata": {},
   "outputs": [
    {
     "data": {
      "text/latex": [
       "$P(x = 1) \\approx 0.5$"
      ],
      "text/plain": [
       "<IPython.core.display.Latex object>"
      ]
     },
     "execution_count": 6,
     "metadata": {},
     "output_type": "execute_result"
    }
   ],
   "source": [
    "m1.query({x:1}, latex=True)"
   ]
  },
  {
   "cell_type": "code",
   "execution_count": 7,
   "metadata": {},
   "outputs": [
    {
     "data": {
      "text/latex": [
       "$P(y = 1) \\approx 0.125$"
      ],
      "text/plain": [
       "<IPython.core.display.Latex object>"
      ]
     },
     "execution_count": 7,
     "metadata": {},
     "output_type": "execute_result"
    }
   ],
   "source": [
    "m1.query({y:1}, latex=True)"
   ]
  },
  {
   "cell_type": "markdown",
   "metadata": {},
   "source": [
    "Hence, we see that $P(X = 1, Y = 1) \\neq P(X = 1) P(Y = 1)$. Feel free to play around with the values of $P(U_x), P(U_y), P(U_z)$ and the variables to see what happens."
   ]
  },
  {
   "cell_type": "markdown",
   "metadata": {},
   "source": [
    "#### Example 2.11 - Common Cause\n",
    "\n",
    "Consider the following SCM from Example 2.10\n",
    "\n",
    "$$\n",
    "M^2 = \\begin{cases}\n",
    "    \\mathbf V &= \\{X, Y, Z\\}\\\\\n",
    "    \\mathbf U &= \\{U_x, U_y, U_z\\}\\\\\n",
    "    F &= \\begin{cases}\n",
    "        Z := U_z \\\\\n",
    "        X := Z \\lor \\lnot U_x \\\\\n",
    "        Y := Z \\lor U_y \\\\\n",
    "    \\end{cases}\\\\\n",
    "    P(\\mathbf U) &= \\begin{cases}\n",
    "       U_z &\\sim \\mathrm{Bern}(0.5) \\\\\n",
    "       U_x &\\sim \\mathrm{Bern}(0.5) \\\\\n",
    "       U_y &\\sim \\mathrm{Bern}(0.5) \\\\\n",
    "    \\end{cases}\n",
    "\\end{cases}\n",
    "$$\n",
    "\n",
    "We may implement this SCM as follows:"
   ]
  },
  {
   "cell_type": "code",
   "execution_count": 8,
   "metadata": {},
   "outputs": [
    {
     "data": {
      "text/latex": [
       "$\\begin{cases}\\mathbf V &= \\{z,x,y\\} \\\\\\mathbf U &= \\{uz,ux,uy\\} \\\\F &= \\begin{cases}z &= uz\\\\x &= z \\wedge \\neg ux\\\\y &= uy \\wedge z\\end{cases} \\\\P(\\mathbf U) &= \\begin{cases}uz &\\sim \\mathrm{Bern}(0.5)\\\\ux &\\sim \\mathrm{Bern}(0.5)\\\\uy &\\sim \\mathrm{Bern}(0.5)\\end{cases}\\end{cases}$"
      ],
      "text/plain": [
       "SCM([z, x, y], [uz, ux, uy])"
      ]
     },
     "execution_count": 8,
     "metadata": {},
     "output_type": "execute_result"
    }
   ],
   "source": [
    "z, x, y, uz, ux, uy = symbols('z x y uz ux uy')\n",
    "\n",
    "m2 = SymbolicSCM(\n",
    "    f={\n",
    "        z : uz,\n",
    "        x : z & ~ux,\n",
    "        y : z & uy\n",
    "    },\n",
    "    pu={\n",
    "        uz: 0.5,\n",
    "        ux: 0.5,\n",
    "        uy: 0.5,\n",
    "    }\n",
    ")\n",
    "\n",
    "m2"
   ]
  },
  {
   "cell_type": "code",
   "execution_count": 9,
   "metadata": {},
   "outputs": [
    {
     "data": {
      "text/latex": [
       "$P(x = 1,y = 1|z = 1) \\approx 0.25$"
      ],
      "text/plain": [
       "<IPython.core.display.Latex object>"
      ]
     },
     "execution_count": 9,
     "metadata": {},
     "output_type": "execute_result"
    }
   ],
   "source": [
    "m2.query({x:1, y:1}, given={z:1}, latex=True)"
   ]
  },
  {
   "cell_type": "code",
   "execution_count": 10,
   "metadata": {},
   "outputs": [
    {
     "data": {
      "text/latex": [
       "$P(x = 1|z = 1) \\approx 0.5$"
      ],
      "text/plain": [
       "<IPython.core.display.Latex object>"
      ]
     },
     "execution_count": 10,
     "metadata": {},
     "output_type": "execute_result"
    }
   ],
   "source": [
    "m2.query({x:1}, given={z:1}, latex=True)"
   ]
  },
  {
   "cell_type": "code",
   "execution_count": 11,
   "metadata": {},
   "outputs": [
    {
     "data": {
      "text/latex": [
       "$P(y = 1|z = 1) \\approx 0.5$"
      ],
      "text/plain": [
       "<IPython.core.display.Latex object>"
      ]
     },
     "execution_count": 11,
     "metadata": {},
     "output_type": "execute_result"
    }
   ],
   "source": [
    "m2.query({y:1}, given={z:1}, latex=True)"
   ]
  },
  {
   "cell_type": "markdown",
   "metadata": {},
   "source": [
    "Note that $P(X = 1, Y = 1 \\mid Z = 1) = P(X = 1 \\mid Z = 1) P(Y = 1 \\mid Z = 1)$. Feel free to play around with the values of $P(U_x), P(U_y), P(U_z)$ and the the variables to see what happens."
   ]
  },
  {
   "cell_type": "markdown",
   "metadata": {},
   "source": [
    "#### Example 2.12 - Common Effect\n",
    "\n",
    "Consider the following SCM from Example 2.10\n",
    "\n",
    "$$\n",
    "M^3 = \\begin{cases}\n",
    "    \\mathbf V &= \\{X, Y, Z\\}\\\\\n",
    "    \\mathbf U &= \\{U_x, U_y, U_z\\}\\\\\n",
    "    F &= \\begin{cases}\n",
    "        X := U_x, \\\\\n",
    "        Y := U_y, \\\\\n",
    "        Z := \\lnot Y \\land (\\lnot X \\lor U_z) \\\\\n",
    "    \\end{cases}\\\\\n",
    "    P(\\mathbf U) &= \\begin{cases}\n",
    "       U_z &\\sim \\mathrm{Bern}(0.5) \\\\\n",
    "       U_x &\\sim \\mathrm{Bern}(0.5) \\\\\n",
    "       U_y &\\sim \\mathrm{Bern}(0.5) \\\\\n",
    "    \\end{cases}\n",
    "\\end{cases}\n",
    "$$\n",
    "\n",
    "We may implement this SCM as follows:"
   ]
  },
  {
   "cell_type": "code",
   "execution_count": 12,
   "metadata": {},
   "outputs": [
    {
     "data": {
      "text/latex": [
       "$\\begin{cases}\\mathbf V &= \\{x,y,z\\} \\\\\\mathbf U &= \\{uz,ux,uy\\} \\\\F &= \\begin{cases}x &= ux\\\\y &= uy\\\\z &= \\neg y \\wedge \\left(uz \\vee \\neg x\\right)\\end{cases} \\\\P(\\mathbf U) &= \\begin{cases}uz &\\sim \\mathrm{Bern}(0.5)\\\\ux &\\sim \\mathrm{Bern}(0.5)\\\\uy &\\sim \\mathrm{Bern}(0.5)\\end{cases}\\end{cases}$"
      ],
      "text/plain": [
       "SCM([x, y, z], [uz, ux, uy])"
      ]
     },
     "execution_count": 12,
     "metadata": {},
     "output_type": "execute_result"
    }
   ],
   "source": [
    "z, x, y, uz, ux, uy = symbols('z x y uz ux uy')\n",
    "\n",
    "m3 = SymbolicSCM(\n",
    "    f={\n",
    "        x : ux,\n",
    "        y : uy,\n",
    "        z : ~y & (~x | uz)\n",
    "    },\n",
    "    pu={\n",
    "        uz: 0.5,\n",
    "        ux: 0.5,\n",
    "        uy: 0.5,\n",
    "    }\n",
    ")\n",
    "\n",
    "m3"
   ]
  },
  {
   "cell_type": "code",
   "execution_count": 13,
   "metadata": {},
   "outputs": [
    {
     "data": {
      "text/latex": [
       "$P(x = 1,y = 1) \\approx 0.25$"
      ],
      "text/plain": [
       "<IPython.core.display.Latex object>"
      ]
     },
     "execution_count": 13,
     "metadata": {},
     "output_type": "execute_result"
    }
   ],
   "source": [
    "m3.query({x:1, y:1}, latex=True)"
   ]
  },
  {
   "cell_type": "code",
   "execution_count": 14,
   "metadata": {},
   "outputs": [
    {
     "data": {
      "text/latex": [
       "$P(x = 1) \\approx 0.5$"
      ],
      "text/plain": [
       "<IPython.core.display.Latex object>"
      ]
     },
     "execution_count": 14,
     "metadata": {},
     "output_type": "execute_result"
    }
   ],
   "source": [
    "m3.query({x:1}, latex=True)"
   ]
  },
  {
   "cell_type": "code",
   "execution_count": 15,
   "metadata": {},
   "outputs": [
    {
     "data": {
      "text/latex": [
       "$P(y = 1) \\approx 0.5$"
      ],
      "text/plain": [
       "<IPython.core.display.Latex object>"
      ]
     },
     "execution_count": 15,
     "metadata": {},
     "output_type": "execute_result"
    }
   ],
   "source": [
    "m3.query({y:1}, latex=True)"
   ]
  },
  {
   "cell_type": "markdown",
   "metadata": {},
   "source": [
    "We see that $P(X = 1, Y = 1) = P(X = 1) P(Y = 1)$. Let's condition on $Z$ and see what happens. "
   ]
  },
  {
   "cell_type": "code",
   "execution_count": 16,
   "metadata": {},
   "outputs": [
    {
     "data": {
      "text/latex": [
       "$P(x = 1,y = 1|z = 0) \\approx 0.4$"
      ],
      "text/plain": [
       "<IPython.core.display.Latex object>"
      ]
     },
     "execution_count": 16,
     "metadata": {},
     "output_type": "execute_result"
    }
   ],
   "source": [
    "m3.query({x:1, y:1}, given={z:0}, latex=True)"
   ]
  },
  {
   "cell_type": "code",
   "execution_count": 17,
   "metadata": {},
   "outputs": [
    {
     "data": {
      "text/latex": [
       "$P(x = 1|z = 0) \\approx 0.6$"
      ],
      "text/plain": [
       "<IPython.core.display.Latex object>"
      ]
     },
     "execution_count": 17,
     "metadata": {},
     "output_type": "execute_result"
    }
   ],
   "source": [
    "m3.query({x:1}, given={z:0}, latex=True)"
   ]
  },
  {
   "cell_type": "code",
   "execution_count": 18,
   "metadata": {},
   "outputs": [
    {
     "data": {
      "text/latex": [
       "$P(y = 1|z = 0) \\approx 0.8$"
      ],
      "text/plain": [
       "<IPython.core.display.Latex object>"
      ]
     },
     "execution_count": 18,
     "metadata": {},
     "output_type": "execute_result"
    }
   ],
   "source": [
    "m3.query({y:1}, given={z:0}, latex=True)"
   ]
  },
  {
   "cell_type": "markdown",
   "metadata": {},
   "source": [
    "Note that, $P(X = 1, Y = 1 \\mid Z = 0) \\neq P(X = 1 \\mid Z = 1) P(Y = 1 \\mid Z = 0)$. Feel free to play around with the values of $P(U_x), P(U_y), P(U_z)$ and the the variables to see what happens."
   ]
  },
  {
   "cell_type": "markdown",
   "metadata": {},
   "source": [
    "#### Example 2.13 - Common Effect (Extended)\n",
    "\n",
    "Consider the following SCM from Example 2.10\n",
    "\n",
    "$$\n",
    "M^4 = \\begin{cases}\n",
    "    \\mathbf V &= \\{X, Y, Z, W\\}\\\\\n",
    "    \\mathbf U &= \\{U_x, U_y, U_z, U_w\\}\\\\\n",
    "    F &= \\begin{cases}\n",
    "        X := U_x, \\\\\n",
    "        Y := U_y, \\\\\n",
    "        Z := \\lnot Y \\land (\\lnot X \\lor U_z) \\\\\n",
    "        W := Z \\oplus U_w\n",
    "    \\end{cases}\\\\\n",
    "    P(\\mathbf U) &= \\begin{cases}\n",
    "       U_z &\\sim \\mathrm{Bern}(0.5) \\\\\n",
    "       U_x &\\sim \\mathrm{Bern}(0.5) \\\\\n",
    "       U_y &\\sim \\mathrm{Bern}(0.5) \\\\\n",
    "       U_w &\\sim \\mathrm{Bern}(0.1) \n",
    "    \\end{cases}\n",
    "\\end{cases}\n",
    "$$\n",
    "\n",
    "We may implement this SCM as follows:"
   ]
  },
  {
   "cell_type": "code",
   "execution_count": 19,
   "metadata": {},
   "outputs": [
    {
     "data": {
      "text/latex": [
       "$\\begin{cases}\\mathbf V &= \\{x,y,z,w\\} \\\\\\mathbf U &= \\{uz,ux,uy,uw\\} \\\\F &= \\begin{cases}x &= ux\\\\y &= uy\\\\z &= \\neg y \\wedge \\left(uz \\vee \\neg x\\right)\\\\w &= \\left(uw \\wedge \\neg z\\right) \\vee \\left(z \\wedge \\neg uw\\right)\\end{cases} \\\\P(\\mathbf U) &= \\begin{cases}uz &\\sim \\mathrm{Bern}(0.5)\\\\ux &\\sim \\mathrm{Bern}(0.5)\\\\uy &\\sim \\mathrm{Bern}(0.5)\\\\uw &\\sim \\mathrm{Bern}(0.1)\\end{cases}\\end{cases}$"
      ],
      "text/plain": [
       "SCM([x, y, z, w], [uz, ux, uy, uw])"
      ]
     },
     "execution_count": 19,
     "metadata": {},
     "output_type": "execute_result"
    }
   ],
   "source": [
    "z, x, y, w, uz, ux, uy, uw = symbols('z x y w uz ux uy uw')\n",
    "\n",
    "m4 = SymbolicSCM(\n",
    "    f={\n",
    "        x : ux,\n",
    "        y : uy,\n",
    "        z : ~y & (~x | uz),\n",
    "        w : (uw & ~z) | (~uw & z)\n",
    "    },\n",
    "    pu={\n",
    "        uz: 0.5,\n",
    "        ux: 0.5,\n",
    "        uy: 0.5,\n",
    "        uw: 0.1\n",
    "    }\n",
    ")\n",
    "\n",
    "m4"
   ]
  },
  {
   "cell_type": "code",
   "execution_count": 20,
   "metadata": {},
   "outputs": [
    {
     "data": {
      "text/latex": [
       "$P(x = 1,y = 1|w = 1) \\approx 0.0625$"
      ],
      "text/plain": [
       "<IPython.core.display.Latex object>"
      ]
     },
     "execution_count": 20,
     "metadata": {},
     "output_type": "execute_result"
    }
   ],
   "source": [
    "m4.query({x:1, y:1}, given={w:1}, latex=True)"
   ]
  },
  {
   "cell_type": "code",
   "execution_count": 21,
   "metadata": {},
   "outputs": [
    {
     "data": {
      "text/latex": [
       "$P(x = 1|w = 1) \\approx 0.375$"
      ],
      "text/plain": [
       "<IPython.core.display.Latex object>"
      ]
     },
     "execution_count": 21,
     "metadata": {},
     "output_type": "execute_result"
    }
   ],
   "source": [
    "m4.query({x:1}, given={w:1}, latex=True)"
   ]
  },
  {
   "cell_type": "code",
   "execution_count": 22,
   "metadata": {},
   "outputs": [
    {
     "data": {
      "text/latex": [
       "$P(y = 1|w = 1) \\approx 0.125$"
      ],
      "text/plain": [
       "<IPython.core.display.Latex object>"
      ]
     },
     "execution_count": 22,
     "metadata": {},
     "output_type": "execute_result"
    }
   ],
   "source": [
    "m4.query({y:1}, given={w:1}, latex=True)"
   ]
  },
  {
   "cell_type": "markdown",
   "metadata": {},
   "source": [
    "Note that, $P(X = 1, Y = 1 \\mid Z = 0) \\neq P(X = 1 \\mid Z = 1) P(Y = 1 \\mid Z = 0)$. Feel free to play around with the values of $P(U_x), P(U_y), P(U_z)$ and the the variables to see what happens."
   ]
  },
  {
   "cell_type": "markdown",
   "metadata": {},
   "source": [
    "#### Example 2.13 - Common Effect (Extended)\n",
    "\n",
    "Consider the following SCM from Example 2.10\n",
    "\n",
    "$$\n",
    "M^5 = \\begin{cases}\n",
    "    \\mathbf V &= \\{X, Y, Z\\}\\\\\n",
    "    \\mathbf U &= \\{U_x, U_y, U_z, U_w\\}\\\\\n",
    "    F &= \\begin{cases}\n",
    "        X := U_x, \\\\\n",
    "        Y := U_y, \\\\\n",
    "        Z := \\lnot (X \\oplus Y)\n",
    "    \\end{cases}\\\\\n",
    "    P(\\mathbf U) &= \\begin{cases}\n",
    "       U_x &\\sim \\mathrm{Bern}(0.5) \\\\\n",
    "       U_y &\\sim \\mathrm{Bern}(0.5) \\\\\n",
    "    \\end{cases}\n",
    "\\end{cases}\n",
    "$$\n",
    "\n",
    "We may implement this SCM as follows:"
   ]
  },
  {
   "cell_type": "code",
   "execution_count": 23,
   "metadata": {},
   "outputs": [
    {
     "data": {
      "text/latex": [
       "$\\begin{cases}\\mathbf V &= \\{x,y,z\\} \\\\\\mathbf U &= \\{ux,uy\\} \\\\F &= \\begin{cases}x &= ux\\\\y &= uy\\\\z &= \\neg \\left(\\left(x \\wedge \\neg y\\right) \\vee \\left(y \\wedge \\neg x\\right)\\right)\\end{cases} \\\\P(\\mathbf U) &= \\begin{cases}ux &\\sim \\mathrm{Bern}(0.5)\\\\uy &\\sim \\mathrm{Bern}(0.5)\\end{cases}\\end{cases}$"
      ],
      "text/plain": [
       "SCM([x, y, z], [ux, uy])"
      ]
     },
     "execution_count": 23,
     "metadata": {},
     "output_type": "execute_result"
    }
   ],
   "source": [
    "z, x, y, ux, uy = symbols('z x y ux uy')\n",
    "\n",
    "m5 = SymbolicSCM(\n",
    "    f={\n",
    "        x : ux,\n",
    "        y : uy,\n",
    "        z : ~((x & ~y) | (~x & y))\n",
    "    },\n",
    "    pu={\n",
    "        ux: 0.5,\n",
    "        uy: 0.5\n",
    "    }\n",
    ")\n",
    "\n",
    "m5"
   ]
  },
  {
   "cell_type": "code",
   "execution_count": 24,
   "metadata": {},
   "outputs": [
    {
     "data": {
      "text/latex": [
       "$P(y = 1|x = 1,z = 1) \\approx 1$"
      ],
      "text/plain": [
       "<IPython.core.display.Latex object>"
      ]
     },
     "execution_count": 24,
     "metadata": {},
     "output_type": "execute_result"
    }
   ],
   "source": [
    "m5.query({y:1}, given={x:1, z:1}, latex=True)"
   ]
  },
  {
   "cell_type": "code",
   "execution_count": 25,
   "metadata": {},
   "outputs": [
    {
     "data": {
      "text/latex": [
       "$P(y = 1|z = 1) \\approx 0.5$"
      ],
      "text/plain": [
       "<IPython.core.display.Latex object>"
      ]
     },
     "execution_count": 25,
     "metadata": {},
     "output_type": "execute_result"
    }
   ],
   "source": [
    "m5.query({y:1}, given={z:1}, latex=True)"
   ]
  },
  {
   "cell_type": "markdown",
   "metadata": {},
   "source": [
    "We see that $P(Y = 1 \\mid X = 1, Z = 1) \\neq P(Y = 1 \\mid Z = 1)$. "
   ]
  },
  {
   "cell_type": "markdown",
   "metadata": {},
   "source": [
    "#### Definition 2.4.3 — d-separation\n",
    "\n",
    "Consider a causal diagram $ \\mathcal{G} $ and disjoint sets of endogenous variables $ \\mathbf{X}, \\mathbf{Y}, \\mathbf{Z} $. A path $ p $ between $ X \\in \\mathbf{X} $ and $ Y \\in \\mathbf{Y} $ in $ \\mathcal{G} $ is **blocked** by $ \\mathbf{Z} $ if and only if:\n",
    "\n",
    "1. $ p $ contains a chain $ A \\rightarrow B \\rightarrow C $ or a fork $ A \\leftarrow B \\rightarrow C $ such that the middle node $ B $ is in $ \\mathbf{Z} $, or\n",
    "\n",
    "2. $ p $ contains a collider $ A \\rightarrow B \\leftarrow C $ such that the collision node $ B $ or any of its descendants is not in $ \\mathbf{Z} $.\n",
    "\n",
    "If $ \\mathbf{Z} $ blocks every path between every $ X \\in \\mathbf{X} $ and $ Y \\in \\mathbf{Y} $ in $ \\mathcal{G} $, then the pair $ \\mathbf{X}, \\mathbf{Y} $ is said to be **d-separated** (or \"closed\") given $ \\mathbf{Z} $. This is written as $ (\\mathbf{X} \\perp\\!\\!\\!\\perp \\mathbf{Y} \\mid \\mathbf{Z})_{\\mathcal{G}} $. Otherwise, $ X \\in \\mathbf{X} $ and $ Y \\in \\mathbf{Y} $ are said to be **d-connected** (\"opened\").\n"
   ]
  },
  {
   "cell_type": "markdown",
   "metadata": {},
   "source": [
    "![Example Causal Diagrams](Fig-2-16.png)"
   ]
  },
  {
   "cell_type": "markdown",
   "metadata": {},
   "source": [
    "### Example 2.15 - d-separation"
   ]
  },
  {
   "cell_type": "code",
   "execution_count": 26,
   "metadata": {},
   "outputs": [],
   "source": [
    "V1 = ['C', 'S', 'R', 'W', 'L']\n",
    "\n",
    "directed_edges1 = [\n",
    "    ['C', 'S'],\n",
    "    ['C', 'R'],\n",
    "    ['S', 'W'],\n",
    "    ['R', 'W'],\n",
    "    ['W', 'L']\n",
    "]\n",
    "\n",
    "G1 = CausalDiagram(V1, directed_edges1)"
   ]
  },
  {
   "cell_type": "markdown",
   "metadata": {},
   "source": [
    "We can get all the paths from one variable to another using the `path` function."
   ]
  },
  {
   "cell_type": "code",
   "execution_count": 27,
   "metadata": {},
   "outputs": [
    {
     "data": {
      "text/plain": [
       "[['S', '->', 'W'], ['S', '<-', 'C', '->', 'R', '->', 'W']]"
      ]
     },
     "execution_count": 27,
     "metadata": {},
     "output_type": "execute_result"
    }
   ],
   "source": [
    "G1.path('S', 'W')"
   ]
  },
  {
   "cell_type": "markdown",
   "metadata": {},
   "source": [
    "### Example 2.16 - d-separation (2)\n",
    "\n",
    "For this example, we will examine the paths between $R$ and $L$ and check whether they are blocked by $W$."
   ]
  },
  {
   "cell_type": "code",
   "execution_count": 28,
   "metadata": {},
   "outputs": [
    {
     "data": {
      "text/plain": [
       "[['R', '->', 'W', '->', 'L'],\n",
       " ['R', '<-', 'C', '->', 'S', '->', 'W', '->', 'L']]"
      ]
     },
     "execution_count": 28,
     "metadata": {},
     "output_type": "execute_result"
    }
   ],
   "source": [
    "G1.path('R', 'L')"
   ]
  },
  {
   "cell_type": "markdown",
   "metadata": {},
   "source": [
    "We can visually see it as follows."
   ]
  },
  {
   "cell_type": "code",
   "execution_count": 29,
   "metadata": {},
   "outputs": [
    {
     "data": {
      "image/svg+xml": [
       "<?xml version=\"1.0\" encoding=\"UTF-8\" standalone=\"no\"?>\n",
       "<!DOCTYPE svg PUBLIC \"-//W3C//DTD SVG 1.1//EN\"\n",
       " \"http://www.w3.org/Graphics/SVG/1.1/DTD/svg11.dtd\">\n",
       "<!-- Generated by graphviz version 12.1.2 (20240928.0832)\n",
       " -->\n",
       "<!-- Title: G1 Pages: 1 -->\n",
       "<svg width=\"273pt\" height=\"102pt\"\n",
       " viewBox=\"0.00 0.00 273.33 101.83\" xmlns=\"http://www.w3.org/2000/svg\" xmlns:xlink=\"http://www.w3.org/1999/xlink\">\n",
       "<g id=\"graph0\" class=\"graph\" transform=\"scale(1 1) rotate(0) translate(4 97.83)\">\n",
       "<title>G1</title>\n",
       "<polygon fill=\"white\" stroke=\"none\" points=\"-4,4 -4,-97.83 269.33,-97.83 269.33,4 -4,4\"/>\n",
       "<!-- C -->\n",
       "<g id=\"node1\" class=\"node\">\n",
       "<title>C</title>\n",
       "<ellipse fill=\"white\" stroke=\"black\" cx=\"18.92\" cy=\"-46.92\" rx=\"18.92\" ry=\"18.92\"/>\n",
       "<text text-anchor=\"middle\" x=\"18.92\" y=\"-41.09\" font-family=\"Times,serif\" font-size=\"16.00\">C</text>\n",
       "</g>\n",
       "<!-- R -->\n",
       "<g id=\"node2\" class=\"node\">\n",
       "<title>R</title>\n",
       "<ellipse fill=\"white\" stroke=\"black\" cx=\"92.75\" cy=\"-74.92\" rx=\"18.92\" ry=\"18.92\"/>\n",
       "<text text-anchor=\"middle\" x=\"92.75\" y=\"-69.09\" font-family=\"Times,serif\" font-size=\"16.00\">R</text>\n",
       "</g>\n",
       "<!-- C&#45;&gt;R -->\n",
       "<g id=\"edge2\" class=\"edge\">\n",
       "<title>C&#45;&gt;R</title>\n",
       "<path fill=\"none\" stroke=\"black\" d=\"M36.94,-53.55C45.08,-56.72 55.03,-60.6 64.21,-64.18\"/>\n",
       "<polygon fill=\"black\" stroke=\"black\" points=\"62.85,-67.41 73.43,-67.78 65.39,-60.88 62.85,-67.41\"/>\n",
       "</g>\n",
       "<!-- S -->\n",
       "<g id=\"node3\" class=\"node\">\n",
       "<title>S</title>\n",
       "<ellipse fill=\"white\" stroke=\"black\" cx=\"92.75\" cy=\"-18.92\" rx=\"18.92\" ry=\"18.92\"/>\n",
       "<text text-anchor=\"middle\" x=\"92.75\" y=\"-13.09\" font-family=\"Times,serif\" font-size=\"16.00\">S</text>\n",
       "</g>\n",
       "<!-- C&#45;&gt;S -->\n",
       "<g id=\"edge1\" class=\"edge\">\n",
       "<title>C&#45;&gt;S</title>\n",
       "<path fill=\"none\" stroke=\"black\" d=\"M36.94,-40.28C45.08,-37.11 55.03,-33.23 64.21,-29.65\"/>\n",
       "<polygon fill=\"black\" stroke=\"black\" points=\"65.39,-32.95 73.43,-26.05 62.85,-26.42 65.39,-32.95\"/>\n",
       "</g>\n",
       "<!-- W -->\n",
       "<g id=\"node4\" class=\"node\">\n",
       "<title>W</title>\n",
       "<ellipse fill=\"#add8e6\" stroke=\"black\" cx=\"169.58\" cy=\"-46.92\" rx=\"21.92\" ry=\"21.92\"/>\n",
       "<text text-anchor=\"middle\" x=\"169.58\" y=\"-41.09\" font-family=\"Times,serif\" font-size=\"16.00\">W</text>\n",
       "</g>\n",
       "<!-- R&#45;&gt;W -->\n",
       "<g id=\"edge4\" class=\"edge\">\n",
       "<title>R&#45;&gt;W</title>\n",
       "<path fill=\"none\" stroke=\"black\" d=\"M110.73,-68.56C118.79,-65.55 128.67,-61.85 137.97,-58.37\"/>\n",
       "<polygon fill=\"black\" stroke=\"black\" points=\"138.92,-61.75 147.06,-54.97 136.47,-55.19 138.92,-61.75\"/>\n",
       "</g>\n",
       "<!-- S&#45;&gt;W -->\n",
       "<g id=\"edge3\" class=\"edge\">\n",
       "<title>S&#45;&gt;W</title>\n",
       "<path fill=\"none\" stroke=\"black\" d=\"M110.73,-25.27C118.79,-28.28 128.67,-31.98 137.97,-35.46\"/>\n",
       "<polygon fill=\"black\" stroke=\"black\" points=\"136.47,-38.64 147.06,-38.86 138.92,-32.08 136.47,-38.64\"/>\n",
       "</g>\n",
       "<!-- L -->\n",
       "<g id=\"node5\" class=\"node\">\n",
       "<title>L</title>\n",
       "<ellipse fill=\"white\" stroke=\"black\" cx=\"246.42\" cy=\"-46.92\" rx=\"18.92\" ry=\"18.92\"/>\n",
       "<text text-anchor=\"middle\" x=\"246.42\" y=\"-41.09\" font-family=\"Times,serif\" font-size=\"16.00\">L</text>\n",
       "</g>\n",
       "<!-- W&#45;&gt;L -->\n",
       "<g id=\"edge5\" class=\"edge\">\n",
       "<title>W&#45;&gt;L</title>\n",
       "<path fill=\"none\" stroke=\"black\" d=\"M191.83,-46.92C199.37,-46.92 208.01,-46.92 216.11,-46.92\"/>\n",
       "<polygon fill=\"black\" stroke=\"black\" points=\"215.9,-50.42 225.9,-46.92 215.9,-43.42 215.9,-50.42\"/>\n",
       "</g>\n",
       "</g>\n",
       "</svg>\n"
      ],
      "text/plain": [
       "<graphviz.sources.Source at 0x12e1774f0>"
      ]
     },
     "execution_count": 29,
     "metadata": {},
     "output_type": "execute_result"
    }
   ],
   "source": [
    "bp1, ubp1 = G1.d_separation_paths(set(['R']), set(['L']), set(['W']))\n",
    "\n",
    "graph = plot_causal_diagram(G1, 'G1', set(['W']))\n",
    "graph"
   ]
  },
  {
   "cell_type": "markdown",
   "metadata": {},
   "source": [
    "### Example 2.17 - d-separation in non-Markovian models\n",
    "\n",
    "Here we will check the paths between $S$ and $L$ for the non-Markovian graph in Fig. 2.16."
   ]
  },
  {
   "cell_type": "code",
   "execution_count": 30,
   "metadata": {},
   "outputs": [],
   "source": [
    "V2 = ['S', 'R', 'W', 'L']\n",
    "\n",
    "directed_edges2 = [\n",
    "    ['S', 'W'],\n",
    "    ['R', 'W'],\n",
    "    ['W', 'L']\n",
    "]\n",
    "\n",
    "bidirected_edges2 = [ ['S', 'R'] ]\n",
    "\n",
    "G2 = CausalDiagram(V2, directed_edges2, bidirected_edges2)"
   ]
  },
  {
   "cell_type": "code",
   "execution_count": 31,
   "metadata": {},
   "outputs": [
    {
     "data": {
      "text/plain": [
       "[['S', '->', 'W', '->', 'L'], ['S', '<->', 'R', '->', 'W', '->', 'L']]"
      ]
     },
     "execution_count": 31,
     "metadata": {},
     "output_type": "execute_result"
    }
   ],
   "source": [
    "G2.path('S', 'L')"
   ]
  },
  {
   "cell_type": "code",
   "execution_count": 32,
   "metadata": {},
   "outputs": [
    {
     "data": {
      "image/svg+xml": [
       "<?xml version=\"1.0\" encoding=\"UTF-8\" standalone=\"no\"?>\n",
       "<!DOCTYPE svg PUBLIC \"-//W3C//DTD SVG 1.1//EN\"\n",
       " \"http://www.w3.org/Graphics/SVG/1.1/DTD/svg11.dtd\">\n",
       "<!-- Generated by graphviz version 12.1.2 (20240928.0832)\n",
       " -->\n",
       "<!-- Title: G2 Pages: 1 -->\n",
       "<svg width=\"273pt\" height=\"73pt\"\n",
       " viewBox=\"0.00 0.00 273.33 72.84\" xmlns=\"http://www.w3.org/2000/svg\" xmlns:xlink=\"http://www.w3.org/1999/xlink\">\n",
       "<g id=\"graph0\" class=\"graph\" transform=\"scale(1 1) rotate(0) translate(4 68.84)\">\n",
       "<title>G2</title>\n",
       "<polygon fill=\"white\" stroke=\"none\" points=\"-4,4 -4,-68.84 269.33,-68.84 269.33,4 -4,4\"/>\n",
       "<!-- S -->\n",
       "<g id=\"node1\" class=\"node\">\n",
       "<title>S</title>\n",
       "<ellipse fill=\"white\" stroke=\"black\" cx=\"18.92\" cy=\"-21.92\" rx=\"18.92\" ry=\"18.92\"/>\n",
       "<text text-anchor=\"middle\" x=\"18.92\" y=\"-16.1\" font-family=\"Times,serif\" font-size=\"16.00\">S</text>\n",
       "</g>\n",
       "<!-- R -->\n",
       "<g id=\"node2\" class=\"node\">\n",
       "<title>R</title>\n",
       "<ellipse fill=\"white\" stroke=\"black\" cx=\"92.75\" cy=\"-45.92\" rx=\"18.92\" ry=\"18.92\"/>\n",
       "<text text-anchor=\"middle\" x=\"92.75\" y=\"-40.1\" font-family=\"Times,serif\" font-size=\"16.00\">R</text>\n",
       "</g>\n",
       "<!-- S&#45;&gt;R -->\n",
       "<g id=\"edge4\" class=\"edge\">\n",
       "<title>S&#45;&gt;R</title>\n",
       "<path fill=\"none\" stroke=\"black\" stroke-dasharray=\"5,2\" d=\"M47.99,-31.3C53.11,-33.01 58.46,-34.8 63.58,-36.51\"/>\n",
       "<polygon fill=\"black\" stroke=\"black\" points=\"49.33,-28.06 38.74,-28.21 47.11,-34.7 49.33,-28.06\"/>\n",
       "<polygon fill=\"black\" stroke=\"black\" points=\"62.24,-39.75 72.83,-39.6 64.46,-33.11 62.24,-39.75\"/>\n",
       "</g>\n",
       "<!-- W -->\n",
       "<g id=\"node3\" class=\"node\">\n",
       "<title>W</title>\n",
       "<ellipse fill=\"white\" stroke=\"black\" cx=\"169.58\" cy=\"-21.92\" rx=\"21.92\" ry=\"21.92\"/>\n",
       "<text text-anchor=\"middle\" x=\"169.58\" y=\"-16.1\" font-family=\"Times,serif\" font-size=\"16.00\">W</text>\n",
       "</g>\n",
       "<!-- S&#45;&gt;W -->\n",
       "<g id=\"edge1\" class=\"edge\">\n",
       "<title>S&#45;&gt;W</title>\n",
       "<path fill=\"none\" stroke=\"black\" d=\"M37.87,-20.25C48.35,-19.37 61.82,-18.37 73.83,-17.92 90.63,-17.3 94.86,-17.33 111.66,-17.92 119.48,-18.19 127.9,-18.68 135.8,-19.22\"/>\n",
       "<polygon fill=\"black\" stroke=\"black\" points=\"135.51,-22.71 145.74,-19.95 136.02,-15.73 135.51,-22.71\"/>\n",
       "</g>\n",
       "<!-- R&#45;&gt;W -->\n",
       "<g id=\"edge2\" class=\"edge\">\n",
       "<title>R&#45;&gt;W</title>\n",
       "<path fill=\"none\" stroke=\"black\" d=\"M111.1,-40.35C119.02,-37.81 128.64,-34.73 137.73,-31.81\"/>\n",
       "<polygon fill=\"black\" stroke=\"black\" points=\"138.51,-35.24 146.96,-28.85 136.37,-28.57 138.51,-35.24\"/>\n",
       "</g>\n",
       "<!-- L -->\n",
       "<g id=\"node4\" class=\"node\">\n",
       "<title>L</title>\n",
       "<ellipse fill=\"white\" stroke=\"black\" cx=\"246.42\" cy=\"-21.92\" rx=\"18.92\" ry=\"18.92\"/>\n",
       "<text text-anchor=\"middle\" x=\"246.42\" y=\"-16.1\" font-family=\"Times,serif\" font-size=\"16.00\">L</text>\n",
       "</g>\n",
       "<!-- W&#45;&gt;L -->\n",
       "<g id=\"edge3\" class=\"edge\">\n",
       "<title>W&#45;&gt;L</title>\n",
       "<path fill=\"none\" stroke=\"black\" d=\"M191.83,-21.92C199.37,-21.92 208.01,-21.92 216.11,-21.92\"/>\n",
       "<polygon fill=\"black\" stroke=\"black\" points=\"215.9,-25.42 225.9,-21.92 215.9,-18.42 215.9,-25.42\"/>\n",
       "</g>\n",
       "</g>\n",
       "</svg>\n"
      ],
      "text/plain": [
       "<graphviz.sources.Source at 0x12e177100>"
      ]
     },
     "execution_count": 32,
     "metadata": {},
     "output_type": "execute_result"
    }
   ],
   "source": [
    "graph = plot_causal_diagram(G2, 'G2')\n",
    "graph"
   ]
  },
  {
   "cell_type": "markdown",
   "metadata": {},
   "source": [
    "### Example 2.18 - d-separation in non-Markovian Models (2)\n",
    "\n",
    "Here we will look at the graph in Fig. 2.17 and try to find a set that blocks all paths between $X$ and $Y$."
   ]
  },
  {
   "cell_type": "code",
   "execution_count": 33,
   "metadata": {},
   "outputs": [],
   "source": [
    "V3 = ['X', 'T', 'W', 'Z', 'R', 'Y', 'S']\n",
    "\n",
    "directed_edges3 = [\n",
    "    ['X', 'W'],\n",
    "    ['T', 'X'],\n",
    "    ['T', 'Z'],\n",
    "    ['W', 'Z'],\n",
    "    ['Z', 'Y'],\n",
    "    ['R', 'Y'],\n",
    "    ['Y', 'S']\n",
    "]\n",
    "\n",
    "bidirected_edges3 = [['W', 'Y']]\n",
    "\n",
    "G3 = CausalDiagram(V3, directed_edges3, bidirected_edges3)"
   ]
  },
  {
   "cell_type": "code",
   "execution_count": 34,
   "metadata": {},
   "outputs": [
    {
     "data": {
      "text/plain": [
       "[['X', '->', 'W', '->', 'Z', '->', 'Y'],\n",
       " ['X', '->', 'W', '<->', 'Y'],\n",
       " ['X', '<-', 'T', '->', 'Z', '->', 'Y'],\n",
       " ['X', '<-', 'T', '->', 'Z', '<-', 'W', '<->', 'Y']]"
      ]
     },
     "execution_count": 34,
     "metadata": {},
     "output_type": "execute_result"
    }
   ],
   "source": [
    "G3.path('X', 'Y')"
   ]
  },
  {
   "cell_type": "markdown",
   "metadata": {},
   "source": [
    "Note, $Z = {T}$ will block paths except $X \\to W \\to Z \\to Y$. Blocking it requires $W$ or $Z$ to be in $\\mathbf{Z}$, but $X \\leftarrow T \\to Z \\leftarrow W <-> Y$ will be unblocked in both cases. After all, there is no set $\\mathbf{Z}$ that d-separates X and Y in this diagram."
   ]
  },
  {
   "cell_type": "markdown",
   "metadata": {},
   "source": [
    "### Example 2.20 - Check D-separation algorithm\n",
    "\n",
    "Algorithm 1 is implemented in `d_separation_check` of `CausalDiagram`. "
   ]
  },
  {
   "cell_type": "code",
   "execution_count": 35,
   "metadata": {},
   "outputs": [
    {
     "name": "stdout",
     "output_type": "stream",
     "text": [
      "Ancestors of X, Y, Z: {'T', 'Z', 'W', 'Y', 'R', 'X'}\n",
      "Subgraph: {'T': {'X', 'W'}, 'Z': set(), 'W': {'Y', 'T', 'X'}, 'Y': {'X', 'R', 'W'}, 'R': {'Y'}, 'X': {'Y', 'T', 'W'}}\n"
     ]
    }
   ],
   "source": [
    "is_d_separaated, path, subgraph = G3.d_separation_check(set(['X']), set(['Y']), set(['Z']), verbose=True)"
   ]
  },
  {
   "cell_type": "code",
   "execution_count": 36,
   "metadata": {},
   "outputs": [
    {
     "name": "stdout",
     "output_type": "stream",
     "text": [
      "Blocked paths: [['X', '->', 'W', '->', 'Z', '->', 'Y'], ['X', '<-', 'T', '->', 'Z', '->', 'Y']]\n",
      "Unblocked paths: [['X', '->', 'W', '<->', 'Y'], ['X', '<-', 'T', '->', 'Z', '<-', 'W', '<->', 'Y']]\n"
     ]
    }
   ],
   "source": [
    "blocked_paths, unblocked_paths = G3.d_separation_paths(set(['X']), set(['Y']), set(['Z']))\n",
    "print('Blocked paths:', blocked_paths)\n",
    "print('Unblocked paths:', unblocked_paths)"
   ]
  },
  {
   "cell_type": "markdown",
   "metadata": {},
   "source": [
    "A great way to visualize these paths is to use the `plot_causal_diagram` function."
   ]
  },
  {
   "cell_type": "code",
   "execution_count": 37,
   "metadata": {},
   "outputs": [
    {
     "data": {
      "image/svg+xml": [
       "<?xml version=\"1.0\" encoding=\"UTF-8\" standalone=\"no\"?>\n",
       "<!DOCTYPE svg PUBLIC \"-//W3C//DTD SVG 1.1//EN\"\n",
       " \"http://www.w3.org/Graphics/SVG/1.1/DTD/svg11.dtd\">\n",
       "<!-- Generated by graphviz version 12.1.2 (20240928.0832)\n",
       " -->\n",
       "<!-- Title: G3 Pages: 1 -->\n",
       "<svg width=\"422pt\" height=\"152pt\"\n",
       " viewBox=\"0.00 0.00 422.41 151.84\" xmlns=\"http://www.w3.org/2000/svg\" xmlns:xlink=\"http://www.w3.org/1999/xlink\">\n",
       "<g id=\"graph0\" class=\"graph\" transform=\"scale(1 1) rotate(0) translate(4 147.84)\">\n",
       "<title>G3</title>\n",
       "<polygon fill=\"white\" stroke=\"none\" points=\"-4,4 -4,-147.84 418.41,-147.84 418.41,4 -4,4\"/>\n",
       "<!-- T -->\n",
       "<g id=\"node1\" class=\"node\">\n",
       "<title>T</title>\n",
       "<ellipse fill=\"white\" stroke=\"black\" cx=\"18.92\" cy=\"-94.92\" rx=\"18.92\" ry=\"18.92\"/>\n",
       "<text text-anchor=\"middle\" x=\"18.92\" y=\"-89.09\" font-family=\"Times,serif\" font-size=\"16.00\">T</text>\n",
       "</g>\n",
       "<!-- X -->\n",
       "<g id=\"node3\" class=\"node\">\n",
       "<title>X</title>\n",
       "<ellipse fill=\"white\" stroke=\"black\" cx=\"93.1\" cy=\"-119.92\" rx=\"19.27\" ry=\"19.27\"/>\n",
       "<text text-anchor=\"middle\" x=\"93.1\" y=\"-114.09\" font-family=\"Times,serif\" font-size=\"16.00\">X</text>\n",
       "</g>\n",
       "<!-- T&#45;&gt;X -->\n",
       "<g id=\"edge2\" class=\"edge\">\n",
       "<title>T&#45;&gt;X</title>\n",
       "<path fill=\"none\" stroke=\"red\" d=\"M37.02,-100.84C44.94,-103.58 54.55,-106.91 63.52,-110.02\"/>\n",
       "<polygon fill=\"red\" stroke=\"red\" points=\"62.34,-113.31 72.93,-113.28 64.63,-106.7 62.34,-113.31\"/>\n",
       "</g>\n",
       "<!-- Z -->\n",
       "<g id=\"node5\" class=\"node\">\n",
       "<title>Z</title>\n",
       "<ellipse fill=\"#add8e6\" stroke=\"black\" cx=\"247.12\" cy=\"-74.92\" rx=\"18.92\" ry=\"18.92\"/>\n",
       "<text text-anchor=\"middle\" x=\"247.12\" y=\"-69.09\" font-family=\"Times,serif\" font-size=\"16.00\">Z</text>\n",
       "</g>\n",
       "<!-- T&#45;&gt;Z -->\n",
       "<g id=\"edge3\" class=\"edge\">\n",
       "<title>T&#45;&gt;Z</title>\n",
       "<path fill=\"none\" stroke=\"red\" d=\"M38.04,-93.31C77.01,-89.87 169.04,-81.73 216.57,-77.53\"/>\n",
       "<polygon fill=\"red\" stroke=\"red\" points=\"216.75,-81.03 226.4,-76.66 216.13,-74.05 216.75,-81.03\"/>\n",
       "</g>\n",
       "<!-- R -->\n",
       "<g id=\"node2\" class=\"node\">\n",
       "<title>R</title>\n",
       "<ellipse fill=\"white\" stroke=\"black\" cx=\"247.12\" cy=\"-18.92\" rx=\"18.92\" ry=\"18.92\"/>\n",
       "<text text-anchor=\"middle\" x=\"247.12\" y=\"-13.09\" font-family=\"Times,serif\" font-size=\"16.00\">R</text>\n",
       "</g>\n",
       "<!-- Y -->\n",
       "<g id=\"node6\" class=\"node\">\n",
       "<title>Y</title>\n",
       "<ellipse fill=\"white\" stroke=\"black\" cx=\"321.31\" cy=\"-74.92\" rx=\"19.27\" ry=\"19.27\"/>\n",
       "<text text-anchor=\"middle\" x=\"321.31\" y=\"-69.09\" font-family=\"Times,serif\" font-size=\"16.00\">Y</text>\n",
       "</g>\n",
       "<!-- R&#45;&gt;Y -->\n",
       "<g id=\"edge6\" class=\"edge\">\n",
       "<title>R&#45;&gt;Y</title>\n",
       "<path fill=\"none\" stroke=\"black\" d=\"M262.73,-30.25C272.45,-37.79 285.44,-47.86 296.62,-56.54\"/>\n",
       "<polygon fill=\"black\" stroke=\"black\" points=\"294.23,-59.12 304.28,-62.48 298.52,-53.58 294.23,-59.12\"/>\n",
       "</g>\n",
       "<!-- W -->\n",
       "<g id=\"node4\" class=\"node\">\n",
       "<title>W</title>\n",
       "<ellipse fill=\"white\" stroke=\"black\" cx=\"170.29\" cy=\"-121.92\" rx=\"21.92\" ry=\"21.92\"/>\n",
       "<text text-anchor=\"middle\" x=\"170.29\" y=\"-116.09\" font-family=\"Times,serif\" font-size=\"16.00\">W</text>\n",
       "</g>\n",
       "<!-- X&#45;&gt;W -->\n",
       "<g id=\"edge1\" class=\"edge\">\n",
       "<title>X&#45;&gt;W</title>\n",
       "<path fill=\"none\" stroke=\"black\" d=\"M112.68,-120.41C119.96,-120.6 128.51,-120.83 136.74,-121.05\"/>\n",
       "<polygon fill=\"black\" stroke=\"black\" points=\"136.39,-124.54 146.48,-121.31 136.58,-117.54 136.39,-124.54\"/>\n",
       "</g>\n",
       "<!-- W&#45;&gt;Z -->\n",
       "<g id=\"edge4\" class=\"edge\">\n",
       "<title>W&#45;&gt;Z</title>\n",
       "<path fill=\"none\" stroke=\"red\" d=\"M189.4,-110.54C198.88,-104.59 210.62,-97.21 220.97,-90.72\"/>\n",
       "<polygon fill=\"red\" stroke=\"red\" points=\"222.81,-93.69 229.42,-85.41 219.09,-87.76 222.81,-93.69\"/>\n",
       "</g>\n",
       "<!-- W&#45;&gt;Y -->\n",
       "<g id=\"edge8\" class=\"edge\">\n",
       "<title>W&#45;&gt;Y</title>\n",
       "<path fill=\"none\" stroke=\"red\" stroke-dasharray=\"5,2\" d=\"M203.57,-117.73C222.18,-114.75 245.81,-110 266.04,-102.92 275.57,-99.57 285.52,-94.84 294.26,-90.22\"/>\n",
       "<polygon fill=\"red\" stroke=\"red\" points=\"203.3,-114.23 193.93,-119.17 204.34,-121.15 203.3,-114.23\"/>\n",
       "<polygon fill=\"red\" stroke=\"red\" points=\"295.82,-93.35 302.89,-85.46 292.44,-87.23 295.82,-93.35\"/>\n",
       "</g>\n",
       "<!-- Z&#45;&gt;Y -->\n",
       "<g id=\"edge5\" class=\"edge\">\n",
       "<title>Z&#45;&gt;Y</title>\n",
       "<path fill=\"none\" stroke=\"black\" d=\"M266.34,-74.92C273.58,-74.92 282.1,-74.92 290.21,-74.92\"/>\n",
       "<polygon fill=\"black\" stroke=\"black\" points=\"290.08,-78.42 300.08,-74.92 290.08,-71.42 290.08,-78.42\"/>\n",
       "</g>\n",
       "<!-- S -->\n",
       "<g id=\"node7\" class=\"node\">\n",
       "<title>S</title>\n",
       "<ellipse fill=\"white\" stroke=\"black\" cx=\"395.49\" cy=\"-74.92\" rx=\"18.92\" ry=\"18.92\"/>\n",
       "<text text-anchor=\"middle\" x=\"395.49\" y=\"-69.09\" font-family=\"Times,serif\" font-size=\"16.00\">S</text>\n",
       "</g>\n",
       "<!-- Y&#45;&gt;S -->\n",
       "<g id=\"edge7\" class=\"edge\">\n",
       "<title>Y&#45;&gt;S</title>\n",
       "<path fill=\"none\" stroke=\"black\" d=\"M340.9,-74.92C348.19,-74.92 356.75,-74.92 364.86,-74.92\"/>\n",
       "<polygon fill=\"black\" stroke=\"black\" points=\"364.7,-78.42 374.7,-74.92 364.7,-71.42 364.7,-78.42\"/>\n",
       "</g>\n",
       "</g>\n",
       "</svg>\n"
      ],
      "text/plain": [
       "<graphviz.sources.Source at 0x12e1779a0>"
      ]
     },
     "execution_count": 37,
     "metadata": {},
     "output_type": "execute_result"
    }
   ],
   "source": [
    "graph = plot_causal_diagram(G3, 'G3', Z = set(['Z']), paths=[unblocked_paths[1]])\n",
    "graph"
   ]
  },
  {
   "cell_type": "markdown",
   "metadata": {},
   "source": [
    "We can also visualize the undirected subgraph in the Algorithm using the `plot_undirected_graph` function."
   ]
  },
  {
   "cell_type": "code",
   "execution_count": 38,
   "metadata": {},
   "outputs": [
    {
     "data": {
      "image/svg+xml": [
       "<?xml version=\"1.0\" encoding=\"UTF-8\" standalone=\"no\"?>\n",
       "<!DOCTYPE svg PUBLIC \"-//W3C//DTD SVG 1.1//EN\"\n",
       " \"http://www.w3.org/Graphics/SVG/1.1/DTD/svg11.dtd\">\n",
       "<!-- Generated by graphviz version 12.1.2 (20240928.0832)\n",
       " -->\n",
       "<!-- Title: G3 Pages: 1 -->\n",
       "<svg width=\"275pt\" height=\"110pt\"\n",
       " viewBox=\"0.00 0.00 274.75 109.83\" xmlns=\"http://www.w3.org/2000/svg\" xmlns:xlink=\"http://www.w3.org/1999/xlink\">\n",
       "<g id=\"graph0\" class=\"graph\" transform=\"scale(1 1) rotate(0) translate(4 105.83)\">\n",
       "<title>G3</title>\n",
       "<polygon fill=\"white\" stroke=\"none\" points=\"-4,4 -4,-105.83 270.75,-105.83 270.75,4 -4,4\"/>\n",
       "<!-- T -->\n",
       "<g id=\"node1\" class=\"node\">\n",
       "<title>T</title>\n",
       "<ellipse fill=\"white\" stroke=\"black\" cx=\"18.92\" cy=\"-82.92\" rx=\"18.92\" ry=\"18.92\"/>\n",
       "<text text-anchor=\"middle\" x=\"18.92\" y=\"-77.09\" font-family=\"Times,serif\" font-size=\"16.00\">T</text>\n",
       "</g>\n",
       "<!-- X -->\n",
       "<g id=\"node2\" class=\"node\">\n",
       "<title>X</title>\n",
       "<ellipse fill=\"white\" stroke=\"black\" cx=\"247.48\" cy=\"-74.92\" rx=\"19.27\" ry=\"19.27\"/>\n",
       "<text text-anchor=\"middle\" x=\"247.48\" y=\"-69.09\" font-family=\"Times,serif\" font-size=\"16.00\">X</text>\n",
       "</g>\n",
       "<!-- T&#45;&#45;X -->\n",
       "<g id=\"edge1\" class=\"edge\">\n",
       "<title>T&#45;&#45;X</title>\n",
       "<path fill=\"none\" stroke=\"black\" d=\"M37.85,-85.41C48.31,-86.75 61.79,-88.25 73.83,-88.92 130.13,-92.04 196.57,-83.08 228.1,-78.06\"/>\n",
       "</g>\n",
       "<!-- W -->\n",
       "<g id=\"node3\" class=\"node\">\n",
       "<title>W</title>\n",
       "<ellipse fill=\"white\" stroke=\"black\" cx=\"95.75\" cy=\"-57.92\" rx=\"21.92\" ry=\"21.92\"/>\n",
       "<text text-anchor=\"middle\" x=\"95.75\" y=\"-52.09\" font-family=\"Times,serif\" font-size=\"16.00\">W</text>\n",
       "</g>\n",
       "<!-- T&#45;&#45;W -->\n",
       "<g id=\"edge2\" class=\"edge\">\n",
       "<title>T&#45;&#45;W</title>\n",
       "<path fill=\"none\" stroke=\"black\" d=\"M37.27,-77.12C48.41,-73.4 62.92,-68.55 74.57,-64.66\"/>\n",
       "</g>\n",
       "<!-- W&#45;&#45;X -->\n",
       "<g id=\"edge4\" class=\"edge\">\n",
       "<title>W&#45;&#45;X</title>\n",
       "<path fill=\"none\" stroke=\"black\" d=\"M117.89,-60.31C147.39,-63.66 200.42,-69.69 228.27,-72.85\"/>\n",
       "</g>\n",
       "<!-- Y -->\n",
       "<g id=\"node4\" class=\"node\">\n",
       "<title>Y</title>\n",
       "<ellipse fill=\"white\" stroke=\"black\" cx=\"172.94\" cy=\"-22.92\" rx=\"19.27\" ry=\"19.27\"/>\n",
       "<text text-anchor=\"middle\" x=\"172.94\" y=\"-17.09\" font-family=\"Times,serif\" font-size=\"16.00\">Y</text>\n",
       "</g>\n",
       "<!-- W&#45;&#45;Y -->\n",
       "<g id=\"edge3\" class=\"edge\">\n",
       "<title>W&#45;&#45;Y</title>\n",
       "<path fill=\"none\" stroke=\"black\" d=\"M116.11,-48.9C128.12,-43.31 143.41,-36.2 154.95,-30.83\"/>\n",
       "</g>\n",
       "<!-- Y&#45;&#45;X -->\n",
       "<g id=\"edge5\" class=\"edge\">\n",
       "<title>Y&#45;&#45;X</title>\n",
       "<path fill=\"none\" stroke=\"red\" d=\"M189.32,-33.94C201.63,-42.77 218.81,-55.08 231.12,-63.9\"/>\n",
       "</g>\n",
       "<!-- R -->\n",
       "<g id=\"node5\" class=\"node\">\n",
       "<title>R</title>\n",
       "<ellipse fill=\"white\" stroke=\"black\" cx=\"247.48\" cy=\"-18.92\" rx=\"18.92\" ry=\"18.92\"/>\n",
       "<text text-anchor=\"middle\" x=\"247.48\" y=\"-13.09\" font-family=\"Times,serif\" font-size=\"16.00\">R</text>\n",
       "</g>\n",
       "<!-- Y&#45;&#45;R -->\n",
       "<g id=\"edge6\" class=\"edge\">\n",
       "<title>Y&#45;&#45;R</title>\n",
       "<path fill=\"none\" stroke=\"black\" d=\"M192.62,-21.89C203.53,-21.28 217.25,-20.53 228.11,-19.93\"/>\n",
       "</g>\n",
       "</g>\n",
       "</svg>\n"
      ],
      "text/plain": [
       "<graphviz.sources.Source at 0x12e171a00>"
      ]
     },
     "execution_count": 38,
     "metadata": {},
     "output_type": "execute_result"
    }
   ],
   "source": [
    "graph = plot_undirected_graph(subgraph, 'G3', path=path)\n",
    "graph"
   ]
  }
 ],
 "metadata": {
  "kernelspec": {
   "display_name": "ctf-kevin",
   "language": "python",
   "name": "python3"
  },
  "language_info": {
   "codemirror_mode": {
    "name": "ipython",
    "version": 3
   },
   "file_extension": ".py",
   "mimetype": "text/x-python",
   "name": "python",
   "nbconvert_exporter": "python",
   "pygments_lexer": "ipython3",
   "version": "3.8.19"
  }
 },
 "nbformat": 4,
 "nbformat_minor": 2
}
