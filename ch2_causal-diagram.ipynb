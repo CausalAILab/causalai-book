{
 "cells": [
  {
   "cell_type": "markdown",
   "metadata": {},
   "source": [
    "## Chapter 2 - Causal Diagram and Conditional Independence"
   ]
  },
  {
   "cell_type": "markdown",
   "metadata": {},
   "source": [
    "<a target=\"_blank\" href=\"https://colab.research.google.com/github/CausalAILab/causalai-book/blob/main/ch2_causal-diagram.ipynb\">\n",
    "  <img src=\"https://colab.research.google.com/assets/colab-badge.svg\" alt=\"Open In Colab\"/>\n",
    "</a>"
   ]
  },
  {
   "cell_type": "markdown",
   "metadata": {},
   "source": [
    "Recall the definition of Causal Diagram from Section 2.4.1.\n",
    "\n",
    "### Definition 2.4.1 — Causal Diagram\n",
    "Consider an SCM $\\mathbf{M} = \\langle \\mathbf{U}, \\mathbf{V}, \\mathcal{F}, P(\\mathbf{U}) \\rangle$. Then, $\\mathbf{G}$ is said to be a **causal diagram** (of $\\mathbf{M}$) if constructed as follows:\n",
    "\n",
    "1. Add a vertex for every endogenous variable in the set $\\mathbf{V}$.\n",
    "2. Add a directed edge $(V_j \\to V_i)$ for every $V_i, V_j \\in \\mathbf{V}$ if $V_j$ appears as an argument of $f_i \\in \\mathcal{F}$.\n",
    "3. Add a bidirected edge $(V_j \\leftrightarrow V_i)$ for every $V_i, V_j \\in \\mathbf{V}$ if the corresponding $U_i, U_j \\subseteq \\mathbf{U}$ are correlated or the corresponding functions $f_i, f_j$ share some $U \\in \\mathbf{U}$ as an argument."
   ]
  },
  {
   "cell_type": "code",
   "execution_count": 1,
   "metadata": {},
   "outputs": [],
   "source": [
    "from sympy import symbols\n",
    "\n",
    "from scm import SymbolicSCM\n",
    "from causal_diagram import CausalDiagram"
   ]
  },
  {
   "cell_type": "markdown",
   "metadata": {},
   "source": [
    "#### Theorem 2.4.1 — Bayesian Factorization (Markov-Observational case)\n",
    "\n",
    "Every Markovian structural causal model $\\mathbf{M}$ (recursive, with independent disturbances) induces an observational distribution over the endogenous variables $\\mathbf{V}$ that can be factorized as:\n",
    "\n",
    "$$\n",
    "P(\\mathbf{v}) = \\prod_i P(v_i \\mid \\text{pa}_i),\n",
    "\\tag{2.45}\n",
    "$$\n",
    "\n",
    "where $\\text{pa}_i$ are the values of the endogenous parents of $v_i$ in the causal diagram \\( \\mathcal{G} \\)."
   ]
  },
  {
   "cell_type": "code",
   "execution_count": 2,
   "metadata": {},
   "outputs": [
    {
     "data": {
      "text/plain": [
       "'P(V) = P(X) P(Y | X) P(Z | X)'"
      ]
     },
     "execution_count": 2,
     "metadata": {},
     "output_type": "execute_result"
    }
   ],
   "source": [
    "m1 = CausalDiagram(V = ['X', 'Y', 'Z'], directed_edges = [('X', 'Y'), ('X', 'Z')])\n",
    "m1.bayesian_factorization()"
   ]
  },
  {
   "cell_type": "markdown",
   "metadata": {},
   "source": [
    "#### Definition 2.4.2 — Conditional independence relation\n",
    "\n",
    "A set of variables $\\mathbf{Y}$ is said to be *conditionally independent* of another set of variables $\\mathbf{X}$, given a third set $\\mathbf{Z}$, if knowing the values of $\\mathbf{X}$ does not change the likelihood of $\\mathbf{Y}$ given $\\mathbf{Z}$. Formally, this statement is written as:\n",
    "\n",
    "$$\n",
    "P(\\mathbf{Y} = \\mathbf{y} \\mid \\mathbf{X} = \\mathbf{x}, \\mathbf{Z} = \\mathbf{z}) = P(\\mathbf{Y} = \\mathbf{y} \\mid \\mathbf{Z} = \\mathbf{z}),\n",
    "\\tag{2.53}\n",
    "$$\n",
    "\n",
    "for all $\\mathbf{x}, \\mathbf{y}, \\mathbf{z}$. For simplicity, the equation above is also written as $\\mathbf{Y} \\perp\\!\\!\\!\\perp \\mathbf{X} \\mid \\mathbf{Z}$."
   ]
  },
  {
   "cell_type": "markdown",
   "metadata": {},
   "source": [
    "#### Example 2.10 - Causal Chain\n",
    "\n",
    "Consider the following SCM from Example 2.10\n",
    "\n",
    "$$\n",
    "M^1 = \\begin{cases}\n",
    "    \\mathbf V &= \\{X, Y, Z\\}\\\\\n",
    "    \\mathbf U &= \\{U_x, U_y, U_z\\}\\\\\n",
    "    F &= \\begin{cases}\n",
    "        X := U_x \\\\\n",
    "        Y := X \\lor \\lnot U_z \\\\\n",
    "        Z := Z \\land U_y \\\\\n",
    "    \\end{cases}\\\\\n",
    "    P(\\mathbf U) &= \\begin{cases}\n",
    "       U_z &\\sim \\mathrm{Bern}(0.5) \\\\\n",
    "       U_x &\\sim \\mathrm{Bern}(0.5) \\\\\n",
    "       U_y &\\sim \\mathrm{Bern}(0.5) \\\\\n",
    "    \\end{cases}\n",
    "\\end{cases}\n",
    "$$\n",
    "\n",
    "We may implement this SCM as follows:"
   ]
  },
  {
   "cell_type": "code",
   "execution_count": 3,
   "metadata": {},
   "outputs": [
    {
     "data": {
      "text/latex": [
       "$\\begin{cases}\\mathbf V &= \\{x,z,y\\} \\\\\\mathbf U &= \\{uz,ux,uy\\} \\\\F &= \\begin{cases}x &= ux\\\\z &= x \\wedge \\neg uz\\\\y &= uy \\wedge z\\end{cases} \\\\P(\\mathbf U) &= \\begin{cases}uz &\\sim \\mathrm{Bern}(0.5)\\\\ux &\\sim \\mathrm{Bern}(0.5)\\\\uy &\\sim \\mathrm{Bern}(0.5)\\end{cases}\\end{cases}$"
      ],
      "text/plain": [
       "SCM([x, z, y], [uz, ux, uy])"
      ]
     },
     "execution_count": 3,
     "metadata": {},
     "output_type": "execute_result"
    }
   ],
   "source": [
    "z, x, y, uz, ux, uy = symbols('z x y uz ux uy')\n",
    "\n",
    "m1 = SymbolicSCM(\n",
    "    f={\n",
    "        x : ux,\n",
    "        z : x & ~uz,\n",
    "        y : z & uy\n",
    "    },\n",
    "    pu={\n",
    "        uz: 0.5,\n",
    "        ux: 0.5,\n",
    "        uy: 0.5,\n",
    "    }\n",
    ")\n",
    "\n",
    "m1"
   ]
  },
  {
   "cell_type": "code",
   "execution_count": 4,
   "metadata": {},
   "outputs": [
    {
     "data": {
      "text/latex": [
       "$P(x = 1,y = 1) \\approx 0.125$"
      ],
      "text/plain": [
       "<IPython.core.display.Latex object>"
      ]
     },
     "execution_count": 4,
     "metadata": {},
     "output_type": "execute_result"
    }
   ],
   "source": [
    "m1.query({x:1, y:1}, latex=True)"
   ]
  },
  {
   "cell_type": "code",
   "execution_count": 5,
   "metadata": {},
   "outputs": [
    {
     "data": {
      "text/latex": [
       "$P(x = 1) \\approx 0.5$"
      ],
      "text/plain": [
       "<IPython.core.display.Latex object>"
      ]
     },
     "execution_count": 5,
     "metadata": {},
     "output_type": "execute_result"
    }
   ],
   "source": [
    "m1.query({x:1}, latex=True)"
   ]
  },
  {
   "cell_type": "code",
   "execution_count": 6,
   "metadata": {},
   "outputs": [
    {
     "data": {
      "text/latex": [
       "$P(y = 1) \\approx 0.125$"
      ],
      "text/plain": [
       "<IPython.core.display.Latex object>"
      ]
     },
     "execution_count": 6,
     "metadata": {},
     "output_type": "execute_result"
    }
   ],
   "source": [
    "m1.query({y:1}, latex=True)"
   ]
  },
  {
   "cell_type": "markdown",
   "metadata": {},
   "source": [
    "Hence, we see that $P(X = 1, Y = 1) \\neq P(X = 1) P(Y = 1)$. Feel free to play around with the values of $P(U_x), P(U_y), P(U_z)$ and the variables to see what happens."
   ]
  },
  {
   "cell_type": "markdown",
   "metadata": {},
   "source": [
    "#### Example 2.11 - Common Cause\n",
    "\n",
    "Consider the following SCM from Example 2.10\n",
    "\n",
    "$$\n",
    "M^2 = \\begin{cases}\n",
    "    \\mathbf V &= \\{X, Y, Z\\}\\\\\n",
    "    \\mathbf U &= \\{U_x, U_y, U_z\\}\\\\\n",
    "    F &= \\begin{cases}\n",
    "        Z := U_z \\\\\n",
    "        X := Z \\lor \\lnot U_x \\\\\n",
    "        Y := Z \\lor U_y \\\\\n",
    "    \\end{cases}\\\\\n",
    "    P(\\mathbf U) &= \\begin{cases}\n",
    "       U_z &\\sim \\mathrm{Bern}(0.5) \\\\\n",
    "       U_x &\\sim \\mathrm{Bern}(0.5) \\\\\n",
    "       U_y &\\sim \\mathrm{Bern}(0.5) \\\\\n",
    "    \\end{cases}\n",
    "\\end{cases}\n",
    "$$\n",
    "\n",
    "We may implement this SCM as follows:"
   ]
  },
  {
   "cell_type": "code",
   "execution_count": 7,
   "metadata": {},
   "outputs": [
    {
     "data": {
      "text/latex": [
       "$\\begin{cases}\\mathbf V &= \\{z,x,y\\} \\\\\\mathbf U &= \\{uz,ux,uy\\} \\\\F &= \\begin{cases}z &= uz\\\\x &= z \\wedge \\neg ux\\\\y &= uy \\wedge z\\end{cases} \\\\P(\\mathbf U) &= \\begin{cases}uz &\\sim \\mathrm{Bern}(0.5)\\\\ux &\\sim \\mathrm{Bern}(0.5)\\\\uy &\\sim \\mathrm{Bern}(0.5)\\end{cases}\\end{cases}$"
      ],
      "text/plain": [
       "SCM([z, x, y], [uz, ux, uy])"
      ]
     },
     "execution_count": 7,
     "metadata": {},
     "output_type": "execute_result"
    }
   ],
   "source": [
    "z, x, y, uz, ux, uy = symbols('z x y uz ux uy')\n",
    "\n",
    "m2 = SymbolicSCM(\n",
    "    f={\n",
    "        z : uz,\n",
    "        x : z & ~ux,\n",
    "        y : z & uy\n",
    "    },\n",
    "    pu={\n",
    "        uz: 0.5,\n",
    "        ux: 0.5,\n",
    "        uy: 0.5,\n",
    "    }\n",
    ")\n",
    "\n",
    "m2"
   ]
  },
  {
   "cell_type": "code",
   "execution_count": 8,
   "metadata": {},
   "outputs": [
    {
     "data": {
      "text/latex": [
       "$P(x = 1,y = 1|z = 1) \\approx 0.25$"
      ],
      "text/plain": [
       "<IPython.core.display.Latex object>"
      ]
     },
     "execution_count": 8,
     "metadata": {},
     "output_type": "execute_result"
    }
   ],
   "source": [
    "m2.query({x:1, y:1}, given={z:1}, latex=True)"
   ]
  },
  {
   "cell_type": "code",
   "execution_count": 9,
   "metadata": {},
   "outputs": [
    {
     "data": {
      "text/latex": [
       "$P(x = 1|z = 1) \\approx 0.5$"
      ],
      "text/plain": [
       "<IPython.core.display.Latex object>"
      ]
     },
     "execution_count": 9,
     "metadata": {},
     "output_type": "execute_result"
    }
   ],
   "source": [
    "m2.query({x:1}, given={z:1}, latex=True)"
   ]
  },
  {
   "cell_type": "code",
   "execution_count": 10,
   "metadata": {},
   "outputs": [
    {
     "data": {
      "text/latex": [
       "$P(y = 1|z = 1) \\approx 0.5$"
      ],
      "text/plain": [
       "<IPython.core.display.Latex object>"
      ]
     },
     "execution_count": 10,
     "metadata": {},
     "output_type": "execute_result"
    }
   ],
   "source": [
    "m2.query({y:1}, given={z:1}, latex=True)"
   ]
  },
  {
   "cell_type": "markdown",
   "metadata": {},
   "source": [
    "Note that $P(X = 1, Y = 1 \\mid Z = 1) = P(X = 1 \\mid Z = 1) P(Y = 1 \\mid Z = 1)$. Feel free to play around with the values of $P(U_x), P(U_y), P(U_z)$ and the the variables to see what happens."
   ]
  },
  {
   "cell_type": "markdown",
   "metadata": {},
   "source": [
    "#### Example 2.12 - Common Effect\n",
    "\n",
    "Consider the following SCM from Example 2.10\n",
    "\n",
    "$$\n",
    "M^3 = \\begin{cases}\n",
    "    \\mathbf V &= \\{X, Y, Z\\}\\\\\n",
    "    \\mathbf U &= \\{U_x, U_y, U_z\\}\\\\\n",
    "    F &= \\begin{cases}\n",
    "        X := U_x, \\\\\n",
    "        Y := U_y, \\\\\n",
    "        Z := \\lnot Y \\land (\\lnot X \\lor U_z) \\\\\n",
    "    \\end{cases}\\\\\n",
    "    P(\\mathbf U) &= \\begin{cases}\n",
    "       U_z &\\sim \\mathrm{Bern}(0.5) \\\\\n",
    "       U_x &\\sim \\mathrm{Bern}(0.5) \\\\\n",
    "       U_y &\\sim \\mathrm{Bern}(0.5) \\\\\n",
    "    \\end{cases}\n",
    "\\end{cases}\n",
    "$$\n",
    "\n",
    "We may implement this SCM as follows:"
   ]
  },
  {
   "cell_type": "code",
   "execution_count": 11,
   "metadata": {},
   "outputs": [
    {
     "data": {
      "text/latex": [
       "$\\begin{cases}\\mathbf V &= \\{x,y,z\\} \\\\\\mathbf U &= \\{uz,ux,uy\\} \\\\F &= \\begin{cases}x &= ux\\\\y &= uy\\\\z &= \\neg y \\wedge \\left(uz \\vee \\neg x\\right)\\end{cases} \\\\P(\\mathbf U) &= \\begin{cases}uz &\\sim \\mathrm{Bern}(0.5)\\\\ux &\\sim \\mathrm{Bern}(0.5)\\\\uy &\\sim \\mathrm{Bern}(0.5)\\end{cases}\\end{cases}$"
      ],
      "text/plain": [
       "SCM([x, y, z], [uz, ux, uy])"
      ]
     },
     "execution_count": 11,
     "metadata": {},
     "output_type": "execute_result"
    }
   ],
   "source": [
    "z, x, y, uz, ux, uy = symbols('z x y uz ux uy')\n",
    "\n",
    "m3 = SymbolicSCM(\n",
    "    f={\n",
    "        x : ux,\n",
    "        y : uy,\n",
    "        z : ~y & (~x | uz)\n",
    "    },\n",
    "    pu={\n",
    "        uz: 0.5,\n",
    "        ux: 0.5,\n",
    "        uy: 0.5,\n",
    "    }\n",
    ")\n",
    "\n",
    "m3"
   ]
  },
  {
   "cell_type": "code",
   "execution_count": 12,
   "metadata": {},
   "outputs": [
    {
     "data": {
      "text/latex": [
       "$P(x = 1,y = 1) \\approx 0.25$"
      ],
      "text/plain": [
       "<IPython.core.display.Latex object>"
      ]
     },
     "execution_count": 12,
     "metadata": {},
     "output_type": "execute_result"
    }
   ],
   "source": [
    "m3.query({x:1, y:1}, latex=True)"
   ]
  },
  {
   "cell_type": "code",
   "execution_count": 13,
   "metadata": {},
   "outputs": [
    {
     "data": {
      "text/latex": [
       "$P(x = 1) \\approx 0.5$"
      ],
      "text/plain": [
       "<IPython.core.display.Latex object>"
      ]
     },
     "execution_count": 13,
     "metadata": {},
     "output_type": "execute_result"
    }
   ],
   "source": [
    "m3.query({x:1}, latex=True)"
   ]
  },
  {
   "cell_type": "code",
   "execution_count": 14,
   "metadata": {},
   "outputs": [
    {
     "data": {
      "text/latex": [
       "$P(y = 1) \\approx 0.5$"
      ],
      "text/plain": [
       "<IPython.core.display.Latex object>"
      ]
     },
     "execution_count": 14,
     "metadata": {},
     "output_type": "execute_result"
    }
   ],
   "source": [
    "m3.query({y:1}, latex=True)"
   ]
  },
  {
   "cell_type": "markdown",
   "metadata": {},
   "source": [
    "We see that $P(X = 1, Y = 1) = P(X = 1) P(Y = 1)$. Let's condition on $Z$ and see what happens. "
   ]
  },
  {
   "cell_type": "code",
   "execution_count": 15,
   "metadata": {},
   "outputs": [
    {
     "data": {
      "text/latex": [
       "$P(x = 1,y = 1|z = 0) \\approx 0.4$"
      ],
      "text/plain": [
       "<IPython.core.display.Latex object>"
      ]
     },
     "execution_count": 15,
     "metadata": {},
     "output_type": "execute_result"
    }
   ],
   "source": [
    "m3.query({x:1, y:1}, given={z:0}, latex=True)"
   ]
  },
  {
   "cell_type": "code",
   "execution_count": 16,
   "metadata": {},
   "outputs": [
    {
     "data": {
      "text/latex": [
       "$P(x = 1|z = 0) \\approx 0.6$"
      ],
      "text/plain": [
       "<IPython.core.display.Latex object>"
      ]
     },
     "execution_count": 16,
     "metadata": {},
     "output_type": "execute_result"
    }
   ],
   "source": [
    "m3.query({x:1}, given={z:0}, latex=True)"
   ]
  },
  {
   "cell_type": "code",
   "execution_count": 17,
   "metadata": {},
   "outputs": [
    {
     "data": {
      "text/latex": [
       "$P(y = 1|z = 0) \\approx 0.8$"
      ],
      "text/plain": [
       "<IPython.core.display.Latex object>"
      ]
     },
     "execution_count": 17,
     "metadata": {},
     "output_type": "execute_result"
    }
   ],
   "source": [
    "m3.query({y:1}, given={z:0}, latex=True)"
   ]
  },
  {
   "cell_type": "markdown",
   "metadata": {},
   "source": [
    "Note that, $P(X = 1, Y = 1 \\mid Z = 0) \\neq P(X = 1 \\mid Z = 1) P(Y = 1 \\mid Z = 0)$. Feel free to play around with the values of $P(U_x), P(U_y), P(U_z)$ and the the variables to see what happens."
   ]
  },
  {
   "cell_type": "markdown",
   "metadata": {},
   "source": [
    "#### Example 2.13 - Common Effect (Extended)\n",
    "\n",
    "Consider the following SCM from Example 2.10\n",
    "\n",
    "$$\n",
    "M^4 = \\begin{cases}\n",
    "    \\mathbf V &= \\{X, Y, Z, W\\}\\\\\n",
    "    \\mathbf U &= \\{U_x, U_y, U_z, U_w\\}\\\\\n",
    "    F &= \\begin{cases}\n",
    "        X := U_x, \\\\\n",
    "        Y := U_y, \\\\\n",
    "        Z := \\lnot Y \\land (\\lnot X \\lor U_z) \\\\\n",
    "        W := Z \\oplus U_w\n",
    "    \\end{cases}\\\\\n",
    "    P(\\mathbf U) &= \\begin{cases}\n",
    "       U_z &\\sim \\mathrm{Bern}(0.5) \\\\\n",
    "       U_x &\\sim \\mathrm{Bern}(0.5) \\\\\n",
    "       U_y &\\sim \\mathrm{Bern}(0.5) \\\\\n",
    "       U_w &\\sim \\mathrm{Bern}(0.1) \n",
    "    \\end{cases}\n",
    "\\end{cases}\n",
    "$$\n",
    "\n",
    "We may implement this SCM as follows:"
   ]
  },
  {
   "cell_type": "code",
   "execution_count": 18,
   "metadata": {},
   "outputs": [
    {
     "data": {
      "text/latex": [
       "$\\begin{cases}\\mathbf V &= \\{x,y,z,w\\} \\\\\\mathbf U &= \\{uz,ux,uy,uw\\} \\\\F &= \\begin{cases}x &= ux\\\\y &= uy\\\\z &= \\neg y \\wedge \\left(uz \\vee \\neg x\\right)\\\\w &= \\left(uw \\wedge \\neg z\\right) \\vee \\left(z \\wedge \\neg uw\\right)\\end{cases} \\\\P(\\mathbf U) &= \\begin{cases}uz &\\sim \\mathrm{Bern}(0.5)\\\\ux &\\sim \\mathrm{Bern}(0.5)\\\\uy &\\sim \\mathrm{Bern}(0.5)\\\\uw &\\sim \\mathrm{Bern}(0.1)\\end{cases}\\end{cases}$"
      ],
      "text/plain": [
       "SCM([x, y, z, w], [uz, ux, uy, uw])"
      ]
     },
     "execution_count": 18,
     "metadata": {},
     "output_type": "execute_result"
    }
   ],
   "source": [
    "z, x, y, w, uz, ux, uy, uw = symbols('z x y w uz ux uy uw')\n",
    "\n",
    "m4 = SymbolicSCM(\n",
    "    f={\n",
    "        x : ux,\n",
    "        y : uy,\n",
    "        z : ~y & (~x | uz),\n",
    "        w : (uw & ~z) | (~uw & z)\n",
    "    },\n",
    "    pu={\n",
    "        uz: 0.5,\n",
    "        ux: 0.5,\n",
    "        uy: 0.5,\n",
    "        uw: 0.1\n",
    "    }\n",
    ")\n",
    "\n",
    "m4"
   ]
  },
  {
   "cell_type": "code",
   "execution_count": 19,
   "metadata": {},
   "outputs": [
    {
     "data": {
      "text/latex": [
       "$P(x = 1,y = 1|w = 1) \\approx 0.0625$"
      ],
      "text/plain": [
       "<IPython.core.display.Latex object>"
      ]
     },
     "execution_count": 19,
     "metadata": {},
     "output_type": "execute_result"
    }
   ],
   "source": [
    "m4.query({x:1, y:1}, given={w:1}, latex=True)"
   ]
  },
  {
   "cell_type": "code",
   "execution_count": 20,
   "metadata": {},
   "outputs": [
    {
     "data": {
      "text/latex": [
       "$P(x = 1|w = 1) \\approx 0.375$"
      ],
      "text/plain": [
       "<IPython.core.display.Latex object>"
      ]
     },
     "execution_count": 20,
     "metadata": {},
     "output_type": "execute_result"
    }
   ],
   "source": [
    "m4.query({x:1}, given={w:1}, latex=True)"
   ]
  },
  {
   "cell_type": "code",
   "execution_count": 21,
   "metadata": {},
   "outputs": [
    {
     "data": {
      "text/latex": [
       "$P(y = 1|w = 1) \\approx 0.125$"
      ],
      "text/plain": [
       "<IPython.core.display.Latex object>"
      ]
     },
     "execution_count": 21,
     "metadata": {},
     "output_type": "execute_result"
    }
   ],
   "source": [
    "m4.query({y:1}, given={w:1}, latex=True)"
   ]
  },
  {
   "cell_type": "markdown",
   "metadata": {},
   "source": [
    "Note that, $P(X = 1, Y = 1 \\mid Z = 0) \\neq P(X = 1 \\mid Z = 1) P(Y = 1 \\mid Z = 0)$. Feel free to play around with the values of $P(U_x), P(U_y), P(U_z)$ and the the variables to see what happens."
   ]
  },
  {
   "cell_type": "markdown",
   "metadata": {},
   "source": [
    "#### Example 2.13 - Common Effect (Extended)\n",
    "\n",
    "Consider the following SCM from Example 2.10\n",
    "\n",
    "$$\n",
    "M^5 = \\begin{cases}\n",
    "    \\mathbf V &= \\{X, Y, Z\\}\\\\\n",
    "    \\mathbf U &= \\{U_x, U_y, U_z, U_w\\}\\\\\n",
    "    F &= \\begin{cases}\n",
    "        X := U_x, \\\\\n",
    "        Y := U_y, \\\\\n",
    "        Z := \\lnot (X \\oplus Y)\n",
    "    \\end{cases}\\\\\n",
    "    P(\\mathbf U) &= \\begin{cases}\n",
    "       U_x &\\sim \\mathrm{Bern}(0.5) \\\\\n",
    "       U_y &\\sim \\mathrm{Bern}(0.5) \\\\\n",
    "    \\end{cases}\n",
    "\\end{cases}\n",
    "$$\n",
    "\n",
    "We may implement this SCM as follows:"
   ]
  },
  {
   "cell_type": "code",
   "execution_count": 22,
   "metadata": {},
   "outputs": [
    {
     "data": {
      "text/latex": [
       "$\\begin{cases}\\mathbf V &= \\{x,y,z\\} \\\\\\mathbf U &= \\{ux,uy\\} \\\\F &= \\begin{cases}x &= ux\\\\y &= uy\\\\z &= \\neg \\left(\\left(x \\wedge \\neg y\\right) \\vee \\left(y \\wedge \\neg x\\right)\\right)\\end{cases} \\\\P(\\mathbf U) &= \\begin{cases}ux &\\sim \\mathrm{Bern}(0.5)\\\\uy &\\sim \\mathrm{Bern}(0.5)\\end{cases}\\end{cases}$"
      ],
      "text/plain": [
       "SCM([x, y, z], [ux, uy])"
      ]
     },
     "execution_count": 22,
     "metadata": {},
     "output_type": "execute_result"
    }
   ],
   "source": [
    "z, x, y, ux, uy = symbols('z x y ux uy')\n",
    "\n",
    "m5 = SymbolicSCM(\n",
    "    f={\n",
    "        x : ux,\n",
    "        y : uy,\n",
    "        z : ~((x & ~y) | (~x & y))\n",
    "    },\n",
    "    pu={\n",
    "        ux: 0.5,\n",
    "        uy: 0.5\n",
    "    }\n",
    ")\n",
    "\n",
    "m5"
   ]
  },
  {
   "cell_type": "code",
   "execution_count": 23,
   "metadata": {},
   "outputs": [
    {
     "data": {
      "text/latex": [
       "$P(y = 1|x = 1,z = 1) \\approx 1$"
      ],
      "text/plain": [
       "<IPython.core.display.Latex object>"
      ]
     },
     "execution_count": 23,
     "metadata": {},
     "output_type": "execute_result"
    }
   ],
   "source": [
    "m5.query({y:1}, given={x:1, z:1}, latex=True)"
   ]
  },
  {
   "cell_type": "code",
   "execution_count": 24,
   "metadata": {},
   "outputs": [
    {
     "data": {
      "text/latex": [
       "$P(y = 1|z = 1) \\approx 0.5$"
      ],
      "text/plain": [
       "<IPython.core.display.Latex object>"
      ]
     },
     "execution_count": 24,
     "metadata": {},
     "output_type": "execute_result"
    }
   ],
   "source": [
    "m5.query({y:1}, given={z:1}, latex=True)"
   ]
  },
  {
   "cell_type": "markdown",
   "metadata": {},
   "source": [
    "We see that $P(Y = 1 \\mid X = 1, Z = 1) \\neq P(Y = 1 \\mid Z = 1)$. "
   ]
  },
  {
   "cell_type": "markdown",
   "metadata": {},
   "source": [
    "#### Definition 2.4.3 — d-separation\n",
    "\n",
    "Consider a causal diagram $ \\mathcal{G} $ and disjoint sets of endogenous variables $ \\mathbf{X}, \\mathbf{Y}, \\mathbf{Z} $. A path $ p $ between $ X \\in \\mathbf{X} $ and $ Y \\in \\mathbf{Y} $ in $ \\mathcal{G} $ is **blocked** by $ \\mathbf{Z} $ if and only if:\n",
    "\n",
    "1. $ p $ contains a chain $ A \\rightarrow B \\rightarrow C $ or a fork $ A \\leftarrow B \\rightarrow C $ such that the middle node $ B $ is in $ \\mathbf{Z} $, or\n",
    "\n",
    "2. $ p $ contains a collider $ A \\rightarrow B \\leftarrow C $ such that the collision node $ B $ or any of its descendants is not in $ \\mathbf{Z} $.\n",
    "\n",
    "If $ \\mathbf{Z} $ blocks every path between every $ X \\in \\mathbf{X} $ and $ Y \\in \\mathbf{Y} $ in $ \\mathcal{G} $, then the pair $ \\mathbf{X}, \\mathbf{Y} $ is said to be **d-separated** (or \"closed\") given $ \\mathbf{Z} $. This is written as $ (\\mathbf{X} \\perp\\!\\!\\!\\perp \\mathbf{Y} \\mid \\mathbf{Z})_{\\mathcal{G}} $. Otherwise, $ X \\in \\mathbf{X} $ and $ Y \\in \\mathbf{Y} $ are said to be **d-connected** (\"opened\").\n"
   ]
  },
  {
   "cell_type": "markdown",
   "metadata": {},
   "source": [
    "![Example Causal Diagrams](Fig-2-16.png)"
   ]
  },
  {
   "cell_type": "markdown",
   "metadata": {},
   "source": [
    "### Example 2.15 - d-separation"
   ]
  },
  {
   "cell_type": "code",
   "execution_count": 25,
   "metadata": {},
   "outputs": [],
   "source": [
    "V1 = ['C', 'S', 'R', 'W', 'L']\n",
    "\n",
    "directed_edges1 = [\n",
    "    ['C', 'S'],\n",
    "    ['C', 'R'],\n",
    "    ['S', 'W'],\n",
    "    ['R', 'W'],\n",
    "    ['W', 'L']\n",
    "]\n",
    "\n",
    "G1 = CausalDiagram(V1, directed_edges1)"
   ]
  },
  {
   "cell_type": "markdown",
   "metadata": {},
   "source": [
    "We can get all the paths from one variable to another using the `path` function."
   ]
  },
  {
   "cell_type": "code",
   "execution_count": 26,
   "metadata": {},
   "outputs": [
    {
     "name": "stdout",
     "output_type": "stream",
     "text": [
      "S -> W\n",
      "S <- C -> R -> W\n"
     ]
    }
   ],
   "source": [
    "G1.path('S', 'W')"
   ]
  },
  {
   "cell_type": "markdown",
   "metadata": {},
   "source": [
    "### Example 2.16 - d-separation (2)\n",
    "\n",
    "For this example, we will examine the paths between $R$ and $L$ and check whether they are blocked by $W$."
   ]
  },
  {
   "cell_type": "code",
   "execution_count": 27,
   "metadata": {},
   "outputs": [
    {
     "name": "stdout",
     "output_type": "stream",
     "text": [
      "R -> W -> L\n",
      "R <- C -> S -> W -> L\n"
     ]
    }
   ],
   "source": [
    "G1.path('R', 'L')"
   ]
  },
  {
   "cell_type": "markdown",
   "metadata": {},
   "source": [
    "### Example 2.17 - d-separation in non-Markovian models\n",
    "\n",
    "Here we will check the paths between $S$ and $L$ for the non-Markovian graph in Fig. 2.16."
   ]
  },
  {
   "cell_type": "code",
   "execution_count": 28,
   "metadata": {},
   "outputs": [],
   "source": [
    "V2 = ['S', 'R', 'W', 'L']\n",
    "\n",
    "directed_edges2 = [\n",
    "    ['S', 'W'],\n",
    "    ['R', 'W'],\n",
    "    ['W', 'L']\n",
    "]\n",
    "\n",
    "bidirected_edges2 = [ ['S', 'R'] ]\n",
    "\n",
    "G2 = CausalDiagram(V2, directed_edges2, bidirected_edges2)"
   ]
  },
  {
   "cell_type": "code",
   "execution_count": 29,
   "metadata": {},
   "outputs": [
    {
     "name": "stdout",
     "output_type": "stream",
     "text": [
      "S -> W -> L\n",
      "S <-> R -> W -> L\n"
     ]
    }
   ],
   "source": [
    "G2.path('S', 'L')"
   ]
  },
  {
   "cell_type": "markdown",
   "metadata": {},
   "source": [
    "### Example 2.18 - d-separation in non-Markovian Models (2)\n",
    "\n",
    "Here we will look at the graph in Fig. 2.17 and try to find a set that blocks all paths between $X$ and $Y$."
   ]
  },
  {
   "cell_type": "code",
   "execution_count": 30,
   "metadata": {},
   "outputs": [],
   "source": [
    "V3 = ['X', 'T', 'W', 'Z', 'R', 'Y', 'S']\n",
    "\n",
    "directed_edges3 = [\n",
    "    ['X', 'W'],\n",
    "    ['T', 'X'],\n",
    "    ['T', 'Z'],\n",
    "    ['W', 'Z'],\n",
    "    ['Z', 'Y'],\n",
    "    ['R', 'Y'],\n",
    "    ['Y', 'S']\n",
    "]\n",
    "\n",
    "bidirected_edges3 = [['W', 'Y']]\n",
    "\n",
    "G3 = CausalDiagram(V3, directed_edges3, bidirected_edges3)"
   ]
  },
  {
   "cell_type": "code",
   "execution_count": 31,
   "metadata": {},
   "outputs": [
    {
     "name": "stdout",
     "output_type": "stream",
     "text": [
      "X -> W -> Z -> Y\n",
      "X -> W <-> Y\n",
      "X <- T -> Z -> Y\n",
      "X <- T -> Z <- W <-> Y\n"
     ]
    }
   ],
   "source": [
    "G3.path('X', 'Y')"
   ]
  },
  {
   "cell_type": "markdown",
   "metadata": {},
   "source": [
    "Note, $Z = {T}$ will block paths except $X \\to W \\to Z \\to Y$. Blocking it requires $W$ or $Z$ to be in $\\mathbf{Z}$, but $X \\leftarrow T \\to Z \\leftarrow W <-> Y$ will be unblocked in both cases. After all, there is no set $\\mathbf{Z}$ that d-separates X and Y in this diagram."
   ]
  },
  {
   "cell_type": "markdown",
   "metadata": {},
   "source": [
    "### Example 2.20 - Check D-separation algorithm\n",
    "\n",
    "Algorithm 1 is implemented in `d_separation_check` of `CausalDiagram`. "
   ]
  },
  {
   "cell_type": "code",
   "execution_count": 32,
   "metadata": {},
   "outputs": [
    {
     "name": "stdout",
     "output_type": "stream",
     "text": [
      "Ancestors of X, Y, Z: {'X', 'W', 'Y', 'R', 'T', 'Z'}\n",
      "Subgraph: {'X': {'W', 'Y', 'T'}, 'W': {'Y', 'X', 'T'}, 'Y': {'W', 'R', 'X'}, 'R': {'Y'}, 'T': {'W', 'X'}, 'Z': set()}\n"
     ]
    },
    {
     "data": {
      "text/plain": [
       "False"
      ]
     },
     "execution_count": 32,
     "metadata": {},
     "output_type": "execute_result"
    }
   ],
   "source": [
    "G3.d_separation_check(set(['X']), set(['Y']), set(['Z']), verbose=True)"
   ]
  },
  {
   "cell_type": "code",
   "execution_count": null,
   "metadata": {},
   "outputs": [],
   "source": []
  }
 ],
 "metadata": {
  "kernelspec": {
   "display_name": "ctf-kevin",
   "language": "python",
   "name": "python3"
  },
  "language_info": {
   "codemirror_mode": {
    "name": "ipython",
    "version": 3
   },
   "file_extension": ".py",
   "mimetype": "text/x-python",
   "name": "python",
   "nbconvert_exporter": "python",
   "pygments_lexer": "ipython3",
   "version": "3.8.19"
  }
 },
 "nbformat": 4,
 "nbformat_minor": 2
}
