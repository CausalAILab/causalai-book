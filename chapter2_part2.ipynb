{
 "cells": [
  {
   "cell_type": "markdown",
   "metadata": {},
   "source": [
    "## Chapter 2 - Causal Diagram and Conditional Independence"
   ]
  },
  {
   "cell_type": "markdown",
   "metadata": {},
   "source": [
    "<a target=\"_blank\" href=\"https://colab.research.google.com/github/CausalAILab/causalai-book/blob/main/ch2 (part 2).ipynb\">\n",
    "  <img src=\"https://colab.research.google.com/assets/colab-badge.svg\" alt=\"Open In Colab\"/>\n",
    "</a>"
   ]
  },
  {
   "cell_type": "code",
   "execution_count": 1,
   "metadata": {},
   "outputs": [],
   "source": [
    "import os\n",
    "import sys\n",
    "\n",
    "if 'google.colab' in sys.modules:\n",
    "    os.system(\"git clone https://github.com/CausalAILab/causalai-book.git\")\n",
    "    os.system(\"mv causalai-book/* ./\")\n",
    "    os.system(\"rm -rf causalai-book\")"
   ]
  },
  {
   "cell_type": "markdown",
   "metadata": {},
   "source": [
    "Recall the definition of Causal Diagram from Section 2.4.1.\n",
    "\n",
    "### Definition 2.4.1 — Causal Diagram\n",
    "Consider an SCM $\\mathbf{M} = \\langle \\mathbf{U}, \\mathbf{V}, \\mathcal{F}, P(\\mathbf{U}) \\rangle$. Then, $\\mathbf{G}$ is said to be a **causal diagram** (of $\\mathbf{M}$) if constructed as follows:\n",
    "\n",
    "1. Add a vertex for every endogenous variable in the set $\\mathbf{V}$.\n",
    "2. Add a directed edge $(V_j \\to V_i)$ for every $V_i, V_j \\in \\mathbf{V}$ if $V_j$ appears as an argument of $f_i \\in \\mathcal{F}$.\n",
    "3. Add a bidirected edge $(V_j \\leftrightarrow V_i)$ for every $V_i, V_j \\in \\mathbf{V}$ if the corresponding $U_i, U_j \\subseteq \\mathbf{U}$ are correlated or the corresponding functions $f_i, f_j$ share some $U \\in \\mathbf{U}$ as an argument."
   ]
  },
  {
   "cell_type": "code",
   "execution_count": 2,
   "metadata": {},
   "outputs": [],
   "source": [
    "from sympy import symbols\n",
    "from scm import SymbolicSCM\n",
    "\n",
    "from src.fusion import listDSeparationPaths\n",
    "from src.utils import plot_causal_diagram"
   ]
  },
  {
   "cell_type": "markdown",
   "metadata": {},
   "source": [
    "#### Definition 2.4.2 — Conditional independence relation\n",
    "\n",
    "A set of variables $\\mathbf{Y}$ is said to be *conditionally independent* of another set of variables $\\mathbf{X}$, given a third set $\\mathbf{Z}$, if knowing the values of $\\mathbf{X}$ does not change the likelihood of $\\mathbf{Y}$ given $\\mathbf{Z}$. Formally, this statement is written as:\n",
    "\n",
    "$$\n",
    "P(\\mathbf{Y} = \\mathbf{y} \\mid \\mathbf{X} = \\mathbf{x}, \\mathbf{Z} = \\mathbf{z}) = P(\\mathbf{Y} = \\mathbf{y} \\mid \\mathbf{Z} = \\mathbf{z}),\n",
    "\\tag{2.53}\n",
    "$$\n",
    "\n",
    "for all $\\mathbf{x}, \\mathbf{y}, \\mathbf{z}$. For simplicity, the equation above is also written as $\\mathbf{Y} \\perp\\!\\!\\!\\perp \\mathbf{X} \\mid \\mathbf{Z}$."
   ]
  },
  {
   "cell_type": "markdown",
   "metadata": {},
   "source": [
    "#### Example 2.10 - Causal Chain\n",
    "\n",
    "Consider the following SCM from Example 2.10\n",
    "\n",
    "$$\n",
    "M^1 = \\begin{cases}\n",
    "    \\mathbf V &= \\{X, Y, Z\\}\\\\\n",
    "    \\mathbf U &= \\{U_x, U_y, U_z\\}\\\\\n",
    "    F &= \\begin{cases}\n",
    "        X := U_x \\\\\n",
    "        Y := X \\lor \\lnot U_z \\\\\n",
    "        Z := Z \\land U_y \\\\\n",
    "    \\end{cases}\\\\\n",
    "    P(\\mathbf U) &= \\begin{cases}\n",
    "       U_z &\\sim \\mathrm{Bern}(0.5) \\\\\n",
    "       U_x &\\sim \\mathrm{Bern}(0.5) \\\\\n",
    "       U_y &\\sim \\mathrm{Bern}(0.5) \\\\\n",
    "    \\end{cases}\n",
    "\\end{cases}\n",
    "$$\n",
    "\n",
    "We may implement this SCM as follows:"
   ]
  },
  {
   "cell_type": "code",
   "execution_count": 3,
   "metadata": {},
   "outputs": [
    {
     "data": {
      "text/latex": [
       "$\\begin{cases}\\mathbf V &= \\{x,z,y\\} \\\\\\mathbf U &= \\{uz,ux,uy\\} \\\\F &= \\begin{cases}x &= ux\\\\z &= x \\wedge \\neg uz\\\\y &= uy \\wedge z\\end{cases} \\\\P(\\mathbf U) &= \\begin{cases}uz &\\sim \\mathrm{Bern}(0.5)\\\\ux &\\sim \\mathrm{Bern}(0.5)\\\\uy &\\sim \\mathrm{Bern}(0.5)\\end{cases}\\end{cases}$"
      ],
      "text/plain": [
       "SCM([x, z, y], [uz, ux, uy])"
      ]
     },
     "execution_count": 3,
     "metadata": {},
     "output_type": "execute_result"
    }
   ],
   "source": [
    "z, x, y, uz, ux, uy = symbols('z x y uz ux uy')\n",
    "\n",
    "m1 = SymbolicSCM(\n",
    "    f={\n",
    "        x : ux,\n",
    "        z : x & ~uz,\n",
    "        y : z & uy\n",
    "    },\n",
    "    pu={\n",
    "        uz: 0.5,\n",
    "        ux: 0.5,\n",
    "        uy: 0.5,\n",
    "    }\n",
    ")\n",
    "\n",
    "m1"
   ]
  },
  {
   "cell_type": "code",
   "execution_count": 4,
   "metadata": {},
   "outputs": [
    {
     "data": {
      "text/latex": [
       "$P(x = 1,y = 1) \\approx 0.125$"
      ],
      "text/plain": [
       "<IPython.core.display.Latex object>"
      ]
     },
     "execution_count": 4,
     "metadata": {},
     "output_type": "execute_result"
    }
   ],
   "source": [
    "m1.query({x:1, y:1}, latex=True)"
   ]
  },
  {
   "cell_type": "code",
   "execution_count": 5,
   "metadata": {},
   "outputs": [
    {
     "data": {
      "text/latex": [
       "$P(x = 1) \\approx 0.5$"
      ],
      "text/plain": [
       "<IPython.core.display.Latex object>"
      ]
     },
     "execution_count": 5,
     "metadata": {},
     "output_type": "execute_result"
    }
   ],
   "source": [
    "m1.query({x:1}, latex=True)"
   ]
  },
  {
   "cell_type": "code",
   "execution_count": 6,
   "metadata": {},
   "outputs": [
    {
     "data": {
      "text/latex": [
       "$P(y = 1) \\approx 0.125$"
      ],
      "text/plain": [
       "<IPython.core.display.Latex object>"
      ]
     },
     "execution_count": 6,
     "metadata": {},
     "output_type": "execute_result"
    }
   ],
   "source": [
    "m1.query({y:1}, latex=True)"
   ]
  },
  {
   "cell_type": "markdown",
   "metadata": {},
   "source": [
    "Hence, we see that $P(X = 1, Y = 1) \\neq P(X = 1) P(Y = 1)$. Feel free to play around with the values of $P(U_x), P(U_y), P(U_z)$ and the variables to see what happens."
   ]
  },
  {
   "cell_type": "markdown",
   "metadata": {},
   "source": [
    "#### Example 2.11 - Common Cause\n",
    "\n",
    "Consider the following SCM from Example 2.10\n",
    "\n",
    "$$\n",
    "M^2 = \\begin{cases}\n",
    "    \\mathbf V &= \\{X, Y, Z\\}\\\\\n",
    "    \\mathbf U &= \\{U_x, U_y, U_z\\}\\\\\n",
    "    F &= \\begin{cases}\n",
    "        Z := U_z \\\\\n",
    "        X := Z \\lor \\lnot U_x \\\\\n",
    "        Y := Z \\lor U_y \\\\\n",
    "    \\end{cases}\\\\\n",
    "    P(\\mathbf U) &= \\begin{cases}\n",
    "       U_z &\\sim \\mathrm{Bern}(0.5) \\\\\n",
    "       U_x &\\sim \\mathrm{Bern}(0.5) \\\\\n",
    "       U_y &\\sim \\mathrm{Bern}(0.5) \\\\\n",
    "    \\end{cases}\n",
    "\\end{cases}\n",
    "$$\n",
    "\n",
    "We may implement this SCM as follows:"
   ]
  },
  {
   "cell_type": "code",
   "execution_count": 7,
   "metadata": {},
   "outputs": [
    {
     "data": {
      "text/latex": [
       "$\\begin{cases}\\mathbf V &= \\{z,x,y\\} \\\\\\mathbf U &= \\{uz,ux,uy\\} \\\\F &= \\begin{cases}z &= uz\\\\x &= z \\wedge \\neg ux\\\\y &= uy \\wedge z\\end{cases} \\\\P(\\mathbf U) &= \\begin{cases}uz &\\sim \\mathrm{Bern}(0.5)\\\\ux &\\sim \\mathrm{Bern}(0.5)\\\\uy &\\sim \\mathrm{Bern}(0.5)\\end{cases}\\end{cases}$"
      ],
      "text/plain": [
       "SCM([z, x, y], [uz, ux, uy])"
      ]
     },
     "execution_count": 7,
     "metadata": {},
     "output_type": "execute_result"
    }
   ],
   "source": [
    "z, x, y, uz, ux, uy = symbols('z x y uz ux uy')\n",
    "\n",
    "m2 = SymbolicSCM(\n",
    "    f={\n",
    "        z : uz,\n",
    "        x : z & ~ux,\n",
    "        y : z & uy\n",
    "    },\n",
    "    pu={\n",
    "        uz: 0.5,\n",
    "        ux: 0.5,\n",
    "        uy: 0.5,\n",
    "    }\n",
    ")\n",
    "\n",
    "m2"
   ]
  },
  {
   "cell_type": "code",
   "execution_count": 8,
   "metadata": {},
   "outputs": [
    {
     "data": {
      "text/latex": [
       "$P(x = 1,y = 1|z = 1) \\approx 0.25$"
      ],
      "text/plain": [
       "<IPython.core.display.Latex object>"
      ]
     },
     "execution_count": 8,
     "metadata": {},
     "output_type": "execute_result"
    }
   ],
   "source": [
    "m2.query({x:1, y:1}, given={z:1}, latex=True)"
   ]
  },
  {
   "cell_type": "code",
   "execution_count": 9,
   "metadata": {},
   "outputs": [
    {
     "data": {
      "text/latex": [
       "$P(x = 1|z = 1) \\approx 0.5$"
      ],
      "text/plain": [
       "<IPython.core.display.Latex object>"
      ]
     },
     "execution_count": 9,
     "metadata": {},
     "output_type": "execute_result"
    }
   ],
   "source": [
    "m2.query({x:1}, given={z:1}, latex=True)"
   ]
  },
  {
   "cell_type": "code",
   "execution_count": 10,
   "metadata": {},
   "outputs": [
    {
     "data": {
      "text/latex": [
       "$P(y = 1|z = 1) \\approx 0.5$"
      ],
      "text/plain": [
       "<IPython.core.display.Latex object>"
      ]
     },
     "execution_count": 10,
     "metadata": {},
     "output_type": "execute_result"
    }
   ],
   "source": [
    "m2.query({y:1}, given={z:1}, latex=True)"
   ]
  },
  {
   "cell_type": "markdown",
   "metadata": {},
   "source": [
    "Note that $P(X = 1, Y = 1 \\mid Z = 1) = P(X = 1 \\mid Z = 1) P(Y = 1 \\mid Z = 1)$. Feel free to play around with the values of $P(U_x), P(U_y), P(U_z)$ and the the variables to see what happens."
   ]
  },
  {
   "cell_type": "markdown",
   "metadata": {},
   "source": [
    "#### Example 2.12 - Common Effect\n",
    "\n",
    "Consider the following SCM from Example 2.10\n",
    "\n",
    "$$\n",
    "M^3 = \\begin{cases}\n",
    "    \\mathbf V &= \\{X, Y, Z\\}\\\\\n",
    "    \\mathbf U &= \\{U_x, U_y, U_z\\}\\\\\n",
    "    F &= \\begin{cases}\n",
    "        X := U_x, \\\\\n",
    "        Y := U_y, \\\\\n",
    "        Z := \\lnot Y \\land (\\lnot X \\lor U_z) \\\\\n",
    "    \\end{cases}\\\\\n",
    "    P(\\mathbf U) &= \\begin{cases}\n",
    "       U_z &\\sim \\mathrm{Bern}(0.5) \\\\\n",
    "       U_x &\\sim \\mathrm{Bern}(0.5) \\\\\n",
    "       U_y &\\sim \\mathrm{Bern}(0.5) \\\\\n",
    "    \\end{cases}\n",
    "\\end{cases}\n",
    "$$\n",
    "\n",
    "We may implement this SCM as follows:"
   ]
  },
  {
   "cell_type": "code",
   "execution_count": 11,
   "metadata": {},
   "outputs": [
    {
     "data": {
      "text/latex": [
       "$\\begin{cases}\\mathbf V &= \\{x,y,z\\} \\\\\\mathbf U &= \\{uz,ux,uy\\} \\\\F &= \\begin{cases}x &= ux\\\\y &= uy\\\\z &= \\neg y \\wedge \\left(uz \\vee \\neg x\\right)\\end{cases} \\\\P(\\mathbf U) &= \\begin{cases}uz &\\sim \\mathrm{Bern}(0.5)\\\\ux &\\sim \\mathrm{Bern}(0.5)\\\\uy &\\sim \\mathrm{Bern}(0.5)\\end{cases}\\end{cases}$"
      ],
      "text/plain": [
       "SCM([x, y, z], [uz, ux, uy])"
      ]
     },
     "execution_count": 11,
     "metadata": {},
     "output_type": "execute_result"
    }
   ],
   "source": [
    "z, x, y, uz, ux, uy = symbols('z x y uz ux uy')\n",
    "\n",
    "m3 = SymbolicSCM(\n",
    "    f={\n",
    "        x : ux,\n",
    "        y : uy,\n",
    "        z : ~y & (~x | uz)\n",
    "    },\n",
    "    pu={\n",
    "        uz: 0.5,\n",
    "        ux: 0.5,\n",
    "        uy: 0.5,\n",
    "    }\n",
    ")\n",
    "\n",
    "m3"
   ]
  },
  {
   "cell_type": "code",
   "execution_count": 12,
   "metadata": {},
   "outputs": [
    {
     "data": {
      "text/latex": [
       "$P(x = 1,y = 1) \\approx 0.25$"
      ],
      "text/plain": [
       "<IPython.core.display.Latex object>"
      ]
     },
     "execution_count": 12,
     "metadata": {},
     "output_type": "execute_result"
    }
   ],
   "source": [
    "m3.query({x:1, y:1}, latex=True)"
   ]
  },
  {
   "cell_type": "code",
   "execution_count": 13,
   "metadata": {},
   "outputs": [
    {
     "data": {
      "text/latex": [
       "$P(x = 1) \\approx 0.5$"
      ],
      "text/plain": [
       "<IPython.core.display.Latex object>"
      ]
     },
     "execution_count": 13,
     "metadata": {},
     "output_type": "execute_result"
    }
   ],
   "source": [
    "m3.query({x:1}, latex=True)"
   ]
  },
  {
   "cell_type": "code",
   "execution_count": 14,
   "metadata": {},
   "outputs": [
    {
     "data": {
      "text/latex": [
       "$P(y = 1) \\approx 0.5$"
      ],
      "text/plain": [
       "<IPython.core.display.Latex object>"
      ]
     },
     "execution_count": 14,
     "metadata": {},
     "output_type": "execute_result"
    }
   ],
   "source": [
    "m3.query({y:1}, latex=True)"
   ]
  },
  {
   "cell_type": "markdown",
   "metadata": {},
   "source": [
    "We see that $P(X = 1, Y = 1) = P(X = 1) P(Y = 1)$. Let's condition on $Z$ and see what happens. "
   ]
  },
  {
   "cell_type": "code",
   "execution_count": 15,
   "metadata": {},
   "outputs": [
    {
     "data": {
      "text/latex": [
       "$P(x = 1,y = 1|z = 0) \\approx 0.4$"
      ],
      "text/plain": [
       "<IPython.core.display.Latex object>"
      ]
     },
     "execution_count": 15,
     "metadata": {},
     "output_type": "execute_result"
    }
   ],
   "source": [
    "m3.query({x:1, y:1}, given={z:0}, latex=True)"
   ]
  },
  {
   "cell_type": "code",
   "execution_count": 16,
   "metadata": {},
   "outputs": [
    {
     "data": {
      "text/latex": [
       "$P(x = 1|z = 0) \\approx 0.6$"
      ],
      "text/plain": [
       "<IPython.core.display.Latex object>"
      ]
     },
     "execution_count": 16,
     "metadata": {},
     "output_type": "execute_result"
    }
   ],
   "source": [
    "m3.query({x:1}, given={z:0}, latex=True)"
   ]
  },
  {
   "cell_type": "code",
   "execution_count": 17,
   "metadata": {},
   "outputs": [
    {
     "data": {
      "text/latex": [
       "$P(y = 1|z = 0) \\approx 0.8$"
      ],
      "text/plain": [
       "<IPython.core.display.Latex object>"
      ]
     },
     "execution_count": 17,
     "metadata": {},
     "output_type": "execute_result"
    }
   ],
   "source": [
    "m3.query({y:1}, given={z:0}, latex=True)"
   ]
  },
  {
   "cell_type": "markdown",
   "metadata": {},
   "source": [
    "Note that, $P(X = 1, Y = 1 \\mid Z = 0) \\neq P(X = 1 \\mid Z = 1) P(Y = 1 \\mid Z = 0)$. Feel free to play around with the values of $P(U_x), P(U_y), P(U_z)$ and the the variables to see what happens."
   ]
  },
  {
   "cell_type": "markdown",
   "metadata": {},
   "source": [
    "#### Example 2.13 - Common Effect (Extended)\n",
    "\n",
    "Consider the following SCM from Example 2.10\n",
    "\n",
    "$$\n",
    "M^4 = \\begin{cases}\n",
    "    \\mathbf V &= \\{X, Y, Z, W\\}\\\\\n",
    "    \\mathbf U &= \\{U_x, U_y, U_z, U_w\\}\\\\\n",
    "    F &= \\begin{cases}\n",
    "        X := U_x, \\\\\n",
    "        Y := U_y, \\\\\n",
    "        Z := \\lnot Y \\land (\\lnot X \\lor U_z) \\\\\n",
    "        W := Z \\oplus U_w\n",
    "    \\end{cases}\\\\\n",
    "    P(\\mathbf U) &= \\begin{cases}\n",
    "       U_z &\\sim \\mathrm{Bern}(0.5) \\\\\n",
    "       U_x &\\sim \\mathrm{Bern}(0.5) \\\\\n",
    "       U_y &\\sim \\mathrm{Bern}(0.5) \\\\\n",
    "       U_w &\\sim \\mathrm{Bern}(0.1) \n",
    "    \\end{cases}\n",
    "\\end{cases}\n",
    "$$\n",
    "\n",
    "We may implement this SCM as follows:"
   ]
  },
  {
   "cell_type": "code",
   "execution_count": 18,
   "metadata": {},
   "outputs": [
    {
     "data": {
      "text/latex": [
       "$\\begin{cases}\\mathbf V &= \\{x,y,z,w\\} \\\\\\mathbf U &= \\{uz,ux,uy,uw\\} \\\\F &= \\begin{cases}x &= ux\\\\y &= uy\\\\z &= \\neg y \\wedge \\left(uz \\vee \\neg x\\right)\\\\w &= \\left(uw \\wedge \\neg z\\right) \\vee \\left(z \\wedge \\neg uw\\right)\\end{cases} \\\\P(\\mathbf U) &= \\begin{cases}uz &\\sim \\mathrm{Bern}(0.5)\\\\ux &\\sim \\mathrm{Bern}(0.5)\\\\uy &\\sim \\mathrm{Bern}(0.5)\\\\uw &\\sim \\mathrm{Bern}(0.1)\\end{cases}\\end{cases}$"
      ],
      "text/plain": [
       "SCM([x, y, z, w], [uz, ux, uy, uw])"
      ]
     },
     "execution_count": 18,
     "metadata": {},
     "output_type": "execute_result"
    }
   ],
   "source": [
    "z, x, y, w, uz, ux, uy, uw = symbols('z x y w uz ux uy uw')\n",
    "\n",
    "m4 = SymbolicSCM(\n",
    "    f={\n",
    "        x : ux,\n",
    "        y : uy,\n",
    "        z : ~y & (~x | uz),\n",
    "        w : (uw & ~z) | (~uw & z)\n",
    "    },\n",
    "    pu={\n",
    "        uz: 0.5,\n",
    "        ux: 0.5,\n",
    "        uy: 0.5,\n",
    "        uw: 0.1\n",
    "    }\n",
    ")\n",
    "\n",
    "m4"
   ]
  },
  {
   "cell_type": "code",
   "execution_count": 19,
   "metadata": {},
   "outputs": [
    {
     "data": {
      "text/latex": [
       "$P(x = 1,y = 1|w = 1) \\approx 0.0625$"
      ],
      "text/plain": [
       "<IPython.core.display.Latex object>"
      ]
     },
     "execution_count": 19,
     "metadata": {},
     "output_type": "execute_result"
    }
   ],
   "source": [
    "m4.query({x:1, y:1}, given={w:1}, latex=True)"
   ]
  },
  {
   "cell_type": "code",
   "execution_count": 20,
   "metadata": {},
   "outputs": [
    {
     "data": {
      "text/latex": [
       "$P(x = 1|w = 1) \\approx 0.375$"
      ],
      "text/plain": [
       "<IPython.core.display.Latex object>"
      ]
     },
     "execution_count": 20,
     "metadata": {},
     "output_type": "execute_result"
    }
   ],
   "source": [
    "m4.query({x:1}, given={w:1}, latex=True)"
   ]
  },
  {
   "cell_type": "code",
   "execution_count": 21,
   "metadata": {},
   "outputs": [
    {
     "data": {
      "text/latex": [
       "$P(y = 1|w = 1) \\approx 0.125$"
      ],
      "text/plain": [
       "<IPython.core.display.Latex object>"
      ]
     },
     "execution_count": 21,
     "metadata": {},
     "output_type": "execute_result"
    }
   ],
   "source": [
    "m4.query({y:1}, given={w:1}, latex=True)"
   ]
  },
  {
   "cell_type": "markdown",
   "metadata": {},
   "source": [
    "Note that, $P(X = 1, Y = 1 \\mid Z = 0) \\neq P(X = 1 \\mid Z = 1) P(Y = 1 \\mid Z = 0)$. Feel free to play around with the values of $P(U_x), P(U_y), P(U_z)$ and the the variables to see what happens."
   ]
  },
  {
   "cell_type": "markdown",
   "metadata": {},
   "source": [
    "#### Example 2.13 - Common Effect (Extended)\n",
    "\n",
    "Consider the following SCM from Example 2.10\n",
    "\n",
    "$$\n",
    "M^5 = \\begin{cases}\n",
    "    \\mathbf V &= \\{X, Y, Z\\}\\\\\n",
    "    \\mathbf U &= \\{U_x, U_y, U_z, U_w\\}\\\\\n",
    "    F &= \\begin{cases}\n",
    "        X := U_x, \\\\\n",
    "        Y := U_y, \\\\\n",
    "        Z := \\lnot (X \\oplus Y)\n",
    "    \\end{cases}\\\\\n",
    "    P(\\mathbf U) &= \\begin{cases}\n",
    "       U_x &\\sim \\mathrm{Bern}(0.5) \\\\\n",
    "       U_y &\\sim \\mathrm{Bern}(0.5) \\\\\n",
    "    \\end{cases}\n",
    "\\end{cases}\n",
    "$$\n",
    "\n",
    "We may implement this SCM as follows:"
   ]
  },
  {
   "cell_type": "code",
   "execution_count": 22,
   "metadata": {},
   "outputs": [
    {
     "data": {
      "text/latex": [
       "$\\begin{cases}\\mathbf V &= \\{x,y,z\\} \\\\\\mathbf U &= \\{ux,uy\\} \\\\F &= \\begin{cases}x &= ux\\\\y &= uy\\\\z &= \\neg \\left(\\left(x \\wedge \\neg y\\right) \\vee \\left(y \\wedge \\neg x\\right)\\right)\\end{cases} \\\\P(\\mathbf U) &= \\begin{cases}ux &\\sim \\mathrm{Bern}(0.5)\\\\uy &\\sim \\mathrm{Bern}(0.5)\\end{cases}\\end{cases}$"
      ],
      "text/plain": [
       "SCM([x, y, z], [ux, uy])"
      ]
     },
     "execution_count": 22,
     "metadata": {},
     "output_type": "execute_result"
    }
   ],
   "source": [
    "z, x, y, ux, uy = symbols('z x y ux uy')\n",
    "\n",
    "m5 = SymbolicSCM(\n",
    "    f={\n",
    "        x : ux,\n",
    "        y : uy,\n",
    "        z : ~((x & ~y) | (~x & y))\n",
    "    },\n",
    "    pu={\n",
    "        ux: 0.5,\n",
    "        uy: 0.5\n",
    "    }\n",
    ")\n",
    "\n",
    "m5"
   ]
  },
  {
   "cell_type": "code",
   "execution_count": 23,
   "metadata": {},
   "outputs": [
    {
     "data": {
      "text/latex": [
       "$P(y = 1|x = 1,z = 1) \\approx 1$"
      ],
      "text/plain": [
       "<IPython.core.display.Latex object>"
      ]
     },
     "execution_count": 23,
     "metadata": {},
     "output_type": "execute_result"
    }
   ],
   "source": [
    "m5.query({y:1}, given={x:1, z:1}, latex=True)"
   ]
  },
  {
   "cell_type": "code",
   "execution_count": 24,
   "metadata": {},
   "outputs": [
    {
     "data": {
      "text/latex": [
       "$P(y = 1|z = 1) \\approx 0.5$"
      ],
      "text/plain": [
       "<IPython.core.display.Latex object>"
      ]
     },
     "execution_count": 24,
     "metadata": {},
     "output_type": "execute_result"
    }
   ],
   "source": [
    "m5.query({y:1}, given={z:1}, latex=True)"
   ]
  },
  {
   "cell_type": "markdown",
   "metadata": {},
   "source": [
    "We see that $P(Y = 1 \\mid X = 1, Z = 1) \\neq P(Y = 1 \\mid Z = 1)$. "
   ]
  },
  {
   "cell_type": "markdown",
   "metadata": {},
   "source": [
    "#### Definition 2.4.3 — d-separation\n",
    "\n",
    "Consider a causal diagram $ \\mathcal{G} $ and disjoint sets of endogenous variables $ \\mathbf{X}, \\mathbf{Y}, \\mathbf{Z} $. A path $ p $ between $ X \\in \\mathbf{X} $ and $ Y \\in \\mathbf{Y} $ in $ \\mathcal{G} $ is **blocked** by $ \\mathbf{Z} $ if and only if:\n",
    "\n",
    "1. $ p $ contains a chain $ A \\rightarrow B \\rightarrow C $ or a fork $ A \\leftarrow B \\rightarrow C $ such that the middle node $ B $ is in $ \\mathbf{Z} $, or\n",
    "\n",
    "2. $ p $ contains a collider $ A \\rightarrow B \\leftarrow C $ such that the collision node $ B $ or any of its descendants is not in $ \\mathbf{Z} $.\n",
    "\n",
    "If $ \\mathbf{Z} $ blocks every path between every $ X \\in \\mathbf{X} $ and $ Y \\in \\mathbf{Y} $ in $ \\mathcal{G} $, then the pair $ \\mathbf{X}, \\mathbf{Y} $ is said to be **d-separated** (or \"closed\") given $ \\mathbf{Z} $. This is written as $ (\\mathbf{X} \\perp\\!\\!\\!\\perp \\mathbf{Y} \\mid \\mathbf{Z})_{\\mathcal{G}} $. Otherwise, $ X \\in \\mathbf{X} $ and $ Y \\in \\mathbf{Y} $ are said to be **d-connected** (\"opened\").\n"
   ]
  },
  {
   "cell_type": "markdown",
   "metadata": {},
   "source": [
    "![Example Causal Diagrams](Fig-2-16.png)"
   ]
  },
  {
   "cell_type": "markdown",
   "metadata": {},
   "source": [
    "In the following examples we would input the graph in the form of `<NODES>`, `<EDGES>` and `<TASKS>` and study the d-separation between two sets of nodes."
   ]
  },
  {
   "cell_type": "markdown",
   "metadata": {},
   "source": [
    "### Example 2.15 - d-separation"
   ]
  },
  {
   "cell_type": "code",
   "execution_count": 25,
   "metadata": {},
   "outputs": [],
   "source": [
    "G1_task = '''\n",
    "<NODES>\n",
    "C\n",
    "S\n",
    "R\n",
    "W\n",
    "L\n",
    "\n",
    "<EDGES>\n",
    "C -> S\n",
    "C -> R\n",
    "S -> W\n",
    "R -> W\n",
    "W -> L\n",
    "\n",
    "<TASK>\n",
    "treatment: S\n",
    "outcome: W\n",
    "adjusted: \n",
    "'''"
   ]
  },
  {
   "cell_type": "markdown",
   "metadata": {},
   "source": [
    "Alternatively the contents can be read from a file as well. Now, we can get the connected and d-seprated paths between `S` and `W` using `listDSeparationPaths`. It returns a dictionary with the following items:\n",
    "- `G`: The graph object\n",
    "- `connectedPaths`: A list of paths that are not blocked\n",
    "- `separatedPaths`: A list of paths that are blocked"
   ]
  },
  {
   "cell_type": "code",
   "execution_count": 26,
   "metadata": {},
   "outputs": [],
   "source": [
    "result = listDSeparationPaths(G1_task)"
   ]
  },
  {
   "cell_type": "markdown",
   "metadata": {},
   "source": [
    "The graph can now be visualized using `plot_causal_diagram` which takes the graph, a list of unblocked paths, a list of blocked paths, adjusted variables and positions of the nodes. Except the graph, all other arguments are optional."
   ]
  },
  {
   "cell_type": "code",
   "execution_count": 35,
   "metadata": {},
   "outputs": [],
   "source": [
    "graph = plot_causal_diagram(result['G'], result['connectedPaths'], result['separatedPaths'])"
   ]
  },
  {
   "cell_type": "markdown",
   "metadata": {},
   "source": [
    "Note: If the graph visualization command below fails to run, you may need to run 'conda install -c conda-forge graphviz' inside your conda environment"
   ]
  },
  {
   "cell_type": "code",
   "execution_count": 37,
   "metadata": {},
   "outputs": [
    {
     "data": {
      "image/svg+xml": [
       "<?xml version=\"1.0\" encoding=\"UTF-8\" standalone=\"no\"?>\n",
       "<!DOCTYPE svg PUBLIC \"-//W3C//DTD SVG 1.1//EN\"\n",
       " \"http://www.w3.org/Graphics/SVG/1.1/DTD/svg11.dtd\">\n",
       "<!-- Generated by graphviz version 13.1.1 (0)\n",
       " -->\n",
       "<!-- Title: G Pages: 1 -->\n",
       "<svg width=\"188pt\" height=\"192pt\"\n",
       " viewBox=\"0.00 0.00 188.00 192.00\" xmlns=\"http://www.w3.org/2000/svg\" xmlns:xlink=\"http://www.w3.org/1999/xlink\">\n",
       "<g id=\"graph0\" class=\"graph\" transform=\"scale(1 1) rotate(0) translate(4 187.6)\">\n",
       "<title>G</title>\n",
       "<polygon fill=\"white\" stroke=\"none\" points=\"-4,4 -4,-187.6 183.5,-187.6 183.5,4 -4,4\"/>\n",
       "<!-- C -->\n",
       "<g id=\"node1\" class=\"node\">\n",
       "<title>C</title>\n",
       "<ellipse fill=\"none\" stroke=\"black\" cx=\"31.42\" cy=\"-18\" rx=\"27\" ry=\"18\"/>\n",
       "<text xml:space=\"preserve\" text-anchor=\"middle\" x=\"31.42\" y=\"-12.95\" font-family=\"Times,serif\" font-size=\"14.00\">C</text>\n",
       "</g>\n",
       "<!-- S -->\n",
       "<g id=\"node2\" class=\"node\">\n",
       "<title>S</title>\n",
       "<ellipse fill=\"none\" stroke=\"black\" cx=\"109.45\" cy=\"-28.53\" rx=\"27\" ry=\"18\"/>\n",
       "<text xml:space=\"preserve\" text-anchor=\"middle\" x=\"109.45\" y=\"-23.48\" font-family=\"Times,serif\" font-size=\"14.00\">S</text>\n",
       "</g>\n",
       "<!-- C&#45;&gt;S -->\n",
       "<g id=\"edge1\" class=\"edge\">\n",
       "<title>C&#45;&gt;S</title>\n",
       "<path fill=\"none\" stroke=\"lightgreen\" stroke-width=\"2\" d=\"M58.27,-21.63C61.95,-22.12 65.79,-22.64 69.64,-23.16\"/>\n",
       "<polygon fill=\"lightgreen\" stroke=\"lightgreen\" stroke-width=\"2\" points=\"69.17,-26.63 79.55,-24.5 70.11,-19.69 69.17,-26.63\"/>\n",
       "</g>\n",
       "<!-- R -->\n",
       "<g id=\"node3\" class=\"node\">\n",
       "<title>R</title>\n",
       "<ellipse fill=\"none\" stroke=\"black\" cx=\"27\" cy=\"-96.6\" rx=\"27\" ry=\"18\"/>\n",
       "<text xml:space=\"preserve\" text-anchor=\"middle\" x=\"27\" y=\"-91.55\" font-family=\"Times,serif\" font-size=\"14.00\">R</text>\n",
       "</g>\n",
       "<!-- C&#45;&gt;R -->\n",
       "<g id=\"edge2\" class=\"edge\">\n",
       "<title>C&#45;&gt;R</title>\n",
       "<path fill=\"none\" stroke=\"lightgreen\" stroke-width=\"2\" d=\"M30.39,-36.23C29.91,-44.9 29.31,-55.51 28.75,-65.4\"/>\n",
       "<polygon fill=\"lightgreen\" stroke=\"lightgreen\" stroke-width=\"2\" points=\"25.27,-64.99 28.2,-75.17 32.26,-65.39 25.27,-64.99\"/>\n",
       "</g>\n",
       "<!-- W -->\n",
       "<g id=\"node4\" class=\"node\">\n",
       "<title>W</title>\n",
       "<ellipse fill=\"none\" stroke=\"black\" cx=\"105.2\" cy=\"-107.31\" rx=\"27\" ry=\"18\"/>\n",
       "<text xml:space=\"preserve\" text-anchor=\"middle\" x=\"105.2\" y=\"-102.26\" font-family=\"Times,serif\" font-size=\"14.00\">W</text>\n",
       "</g>\n",
       "<!-- S&#45;&gt;W -->\n",
       "<g id=\"edge3\" class=\"edge\">\n",
       "<title>S&#45;&gt;W</title>\n",
       "<path fill=\"none\" stroke=\"lightgreen\" stroke-width=\"2\" d=\"M108.47,-46.8C108,-55.49 107.42,-66.12 106.89,-76.04\"/>\n",
       "<polygon fill=\"lightgreen\" stroke=\"lightgreen\" stroke-width=\"2\" points=\"103.4,-75.67 106.36,-85.84 110.39,-76.05 103.4,-75.67\"/>\n",
       "</g>\n",
       "<!-- R&#45;&gt;W -->\n",
       "<g id=\"edge4\" class=\"edge\">\n",
       "<title>R&#45;&gt;W</title>\n",
       "<path fill=\"none\" stroke=\"lightgreen\" stroke-width=\"2\" d=\"M53.91,-100.29C57.76,-100.81 61.79,-101.36 65.82,-101.92\"/>\n",
       "<polygon fill=\"lightgreen\" stroke=\"lightgreen\" stroke-width=\"2\" points=\"65.12,-105.35 75.5,-103.24 66.07,-98.42 65.12,-105.35\"/>\n",
       "</g>\n",
       "<!-- L -->\n",
       "<g id=\"node5\" class=\"node\">\n",
       "<title>L</title>\n",
       "<ellipse fill=\"none\" stroke=\"black\" cx=\"152.5\" cy=\"-165.6\" rx=\"27\" ry=\"18\"/>\n",
       "<text xml:space=\"preserve\" text-anchor=\"middle\" x=\"152.5\" y=\"-160.55\" font-family=\"Times,serif\" font-size=\"14.00\">L</text>\n",
       "</g>\n",
       "<!-- W&#45;&gt;L -->\n",
       "<g id=\"edge5\" class=\"edge\">\n",
       "<title>W&#45;&gt;L</title>\n",
       "<path fill=\"none\" stroke=\"lightgreen\" stroke-width=\"2\" d=\"M118.37,-123.55C122.37,-128.47 126.87,-134.02 131.26,-139.42\"/>\n",
       "<polygon fill=\"lightgreen\" stroke=\"lightgreen\" stroke-width=\"2\" points=\"128.47,-141.54 137.49,-147.1 133.91,-137.13 128.47,-141.54\"/>\n",
       "</g>\n",
       "</g>\n",
       "</svg>\n"
      ],
      "text/plain": [
       "<graphviz.sources.Source at 0x12a0c69b0>"
      ]
     },
     "execution_count": 37,
     "metadata": {},
     "output_type": "execute_result"
    }
   ],
   "source": [
    "graph"
   ]
  },
  {
   "cell_type": "markdown",
   "metadata": {},
   "source": [
    "### Example 2.16 - d-separation (2)\n",
    "\n",
    "For this example, we will examine the paths between $R$ and $L$ and check whether they are blocked by $W$."
   ]
  },
  {
   "cell_type": "code",
   "execution_count": 38,
   "metadata": {},
   "outputs": [],
   "source": [
    "G2_task = '''\n",
    "<NODES>\n",
    "C\n",
    "S\n",
    "R\n",
    "W\n",
    "L\n",
    "\n",
    "<EDGES>\n",
    "C -> S\n",
    "C -> R\n",
    "S -> W\n",
    "R -> W\n",
    "W -> L\n",
    "\n",
    "<TASK>\n",
    "treatment: R\n",
    "outcome: L\n",
    "adjusted: W\n",
    "'''"
   ]
  },
  {
   "cell_type": "code",
   "execution_count": 39,
   "metadata": {},
   "outputs": [],
   "source": [
    "result = listDSeparationPaths(G2_task)"
   ]
  },
  {
   "cell_type": "code",
   "execution_count": 40,
   "metadata": {},
   "outputs": [
    {
     "data": {
      "image/svg+xml": [
       "<?xml version=\"1.0\" encoding=\"UTF-8\" standalone=\"no\"?>\n",
       "<!DOCTYPE svg PUBLIC \"-//W3C//DTD SVG 1.1//EN\"\n",
       " \"http://www.w3.org/Graphics/SVG/1.1/DTD/svg11.dtd\">\n",
       "<!-- Generated by graphviz version 13.1.1 (0)\n",
       " -->\n",
       "<!-- Title: G Pages: 1 -->\n",
       "<svg width=\"188pt\" height=\"192pt\"\n",
       " viewBox=\"0.00 0.00 188.00 192.00\" xmlns=\"http://www.w3.org/2000/svg\" xmlns:xlink=\"http://www.w3.org/1999/xlink\">\n",
       "<g id=\"graph0\" class=\"graph\" transform=\"scale(1 1) rotate(0) translate(4 187.6)\">\n",
       "<title>G</title>\n",
       "<polygon fill=\"white\" stroke=\"none\" points=\"-4,4 -4,-187.6 183.5,-187.6 183.5,4 -4,4\"/>\n",
       "<!-- C -->\n",
       "<g id=\"node1\" class=\"node\">\n",
       "<title>C</title>\n",
       "<ellipse fill=\"none\" stroke=\"black\" cx=\"31.42\" cy=\"-18\" rx=\"27\" ry=\"18\"/>\n",
       "<text xml:space=\"preserve\" text-anchor=\"middle\" x=\"31.42\" y=\"-12.95\" font-family=\"Times,serif\" font-size=\"14.00\">C</text>\n",
       "</g>\n",
       "<!-- S -->\n",
       "<g id=\"node2\" class=\"node\">\n",
       "<title>S</title>\n",
       "<ellipse fill=\"none\" stroke=\"black\" cx=\"109.45\" cy=\"-28.53\" rx=\"27\" ry=\"18\"/>\n",
       "<text xml:space=\"preserve\" text-anchor=\"middle\" x=\"109.45\" y=\"-23.48\" font-family=\"Times,serif\" font-size=\"14.00\">S</text>\n",
       "</g>\n",
       "<!-- C&#45;&gt;S -->\n",
       "<g id=\"edge1\" class=\"edge\">\n",
       "<title>C&#45;&gt;S</title>\n",
       "<path fill=\"none\" stroke=\"lightgreen\" stroke-width=\"2\" d=\"M58.27,-21.63C61.95,-22.12 65.79,-22.64 69.64,-23.16\"/>\n",
       "<polygon fill=\"lightgreen\" stroke=\"lightgreen\" stroke-width=\"2\" points=\"69.17,-26.63 79.55,-24.5 70.11,-19.69 69.17,-26.63\"/>\n",
       "</g>\n",
       "<!-- R -->\n",
       "<g id=\"node3\" class=\"node\">\n",
       "<title>R</title>\n",
       "<ellipse fill=\"none\" stroke=\"black\" cx=\"27\" cy=\"-96.6\" rx=\"27\" ry=\"18\"/>\n",
       "<text xml:space=\"preserve\" text-anchor=\"middle\" x=\"27\" y=\"-91.55\" font-family=\"Times,serif\" font-size=\"14.00\">R</text>\n",
       "</g>\n",
       "<!-- C&#45;&gt;R -->\n",
       "<g id=\"edge2\" class=\"edge\">\n",
       "<title>C&#45;&gt;R</title>\n",
       "<path fill=\"none\" stroke=\"lightgreen\" stroke-width=\"2\" d=\"M30.39,-36.23C29.91,-44.9 29.31,-55.51 28.75,-65.4\"/>\n",
       "<polygon fill=\"lightgreen\" stroke=\"lightgreen\" stroke-width=\"2\" points=\"25.27,-64.99 28.2,-75.17 32.26,-65.39 25.27,-64.99\"/>\n",
       "</g>\n",
       "<!-- W -->\n",
       "<g id=\"node4\" class=\"node\">\n",
       "<title>W</title>\n",
       "<ellipse fill=\"lightblue\" stroke=\"black\" cx=\"105.2\" cy=\"-107.31\" rx=\"27\" ry=\"18\"/>\n",
       "<text xml:space=\"preserve\" text-anchor=\"middle\" x=\"105.2\" y=\"-102.26\" font-family=\"Times,serif\" font-size=\"14.00\">W</text>\n",
       "</g>\n",
       "<!-- S&#45;&gt;W -->\n",
       "<g id=\"edge3\" class=\"edge\">\n",
       "<title>S&#45;&gt;W</title>\n",
       "<path fill=\"none\" stroke=\"lightgreen\" stroke-width=\"2\" d=\"M108.47,-46.8C108,-55.49 107.42,-66.12 106.89,-76.04\"/>\n",
       "<polygon fill=\"lightgreen\" stroke=\"lightgreen\" stroke-width=\"2\" points=\"103.4,-75.67 106.36,-85.84 110.39,-76.05 103.4,-75.67\"/>\n",
       "</g>\n",
       "<!-- R&#45;&gt;W -->\n",
       "<g id=\"edge4\" class=\"edge\">\n",
       "<title>R&#45;&gt;W</title>\n",
       "<path fill=\"none\" stroke=\"lightgreen\" stroke-width=\"2\" d=\"M53.91,-100.29C57.76,-100.81 61.79,-101.36 65.82,-101.92\"/>\n",
       "<polygon fill=\"lightgreen\" stroke=\"lightgreen\" stroke-width=\"2\" points=\"65.12,-105.35 75.5,-103.24 66.07,-98.42 65.12,-105.35\"/>\n",
       "</g>\n",
       "<!-- L -->\n",
       "<g id=\"node5\" class=\"node\">\n",
       "<title>L</title>\n",
       "<ellipse fill=\"none\" stroke=\"black\" cx=\"152.5\" cy=\"-165.6\" rx=\"27\" ry=\"18\"/>\n",
       "<text xml:space=\"preserve\" text-anchor=\"middle\" x=\"152.5\" y=\"-160.55\" font-family=\"Times,serif\" font-size=\"14.00\">L</text>\n",
       "</g>\n",
       "<!-- W&#45;&gt;L -->\n",
       "<g id=\"edge5\" class=\"edge\">\n",
       "<title>W&#45;&gt;L</title>\n",
       "<path fill=\"none\" stroke=\"lightgreen\" stroke-width=\"2\" d=\"M118.37,-123.55C122.37,-128.47 126.87,-134.02 131.26,-139.42\"/>\n",
       "<polygon fill=\"lightgreen\" stroke=\"lightgreen\" stroke-width=\"2\" points=\"128.47,-141.54 137.49,-147.1 133.91,-137.13 128.47,-141.54\"/>\n",
       "</g>\n",
       "</g>\n",
       "</svg>\n"
      ],
      "text/plain": [
       "<graphviz.sources.Source at 0x12a0c70d0>"
      ]
     },
     "execution_count": 40,
     "metadata": {},
     "output_type": "execute_result"
    }
   ],
   "source": [
    "graph = plot_causal_diagram(result['G'], result['connectedPaths'], result['separatedPaths'], nodes = ['W'])\n",
    "graph"
   ]
  },
  {
   "cell_type": "markdown",
   "metadata": {},
   "source": [
    "### Example 2.17 - d-separation in non-Markovian models\n",
    "\n",
    "Here we will check the paths between $S$ and $L$ for the non-Markovian graph in Fig. 2.16."
   ]
  },
  {
   "cell_type": "code",
   "execution_count": 41,
   "metadata": {},
   "outputs": [],
   "source": [
    "G3_task = '''\n",
    "<NODES>\n",
    "S\n",
    "R\n",
    "W\n",
    "L\n",
    "\n",
    "<EDGES>\n",
    "S -- R\n",
    "S -> W\n",
    "R -> W\n",
    "W -> L\n",
    "\n",
    "<TASK>\n",
    "treatment: S\n",
    "outcome: L\n",
    "adjusted: \n",
    "'''"
   ]
  },
  {
   "cell_type": "code",
   "execution_count": 42,
   "metadata": {},
   "outputs": [],
   "source": [
    "result = listDSeparationPaths(G3_task)"
   ]
  },
  {
   "cell_type": "code",
   "execution_count": 43,
   "metadata": {},
   "outputs": [
    {
     "data": {
      "image/svg+xml": [
       "<?xml version=\"1.0\" encoding=\"UTF-8\" standalone=\"no\"?>\n",
       "<!DOCTYPE svg PUBLIC \"-//W3C//DTD SVG 1.1//EN\"\n",
       " \"http://www.w3.org/Graphics/SVG/1.1/DTD/svg11.dtd\">\n",
       "<!-- Generated by graphviz version 13.1.1 (0)\n",
       " -->\n",
       "<!-- Title: G Pages: 1 -->\n",
       "<svg width=\"242pt\" height=\"188pt\"\n",
       " viewBox=\"0.00 0.00 242.00 188.00\" xmlns=\"http://www.w3.org/2000/svg\" xmlns:xlink=\"http://www.w3.org/1999/xlink\">\n",
       "<g id=\"graph0\" class=\"graph\" transform=\"scale(1 1) rotate(0) translate(4 184)\">\n",
       "<title>G</title>\n",
       "<polygon fill=\"white\" stroke=\"none\" points=\"-4,4 -4,-184 238,-184 238,4 -4,4\"/>\n",
       "<!-- S -->\n",
       "<g id=\"node1\" class=\"node\">\n",
       "<title>S</title>\n",
       "<ellipse fill=\"none\" stroke=\"black\" cx=\"27\" cy=\"-162\" rx=\"27\" ry=\"18\"/>\n",
       "<text xml:space=\"preserve\" text-anchor=\"middle\" x=\"27\" y=\"-156.95\" font-family=\"Times,serif\" font-size=\"14.00\">S</text>\n",
       "</g>\n",
       "<!-- R -->\n",
       "<g id=\"node2\" class=\"node\">\n",
       "<title>R</title>\n",
       "<ellipse fill=\"none\" stroke=\"black\" cx=\"27\" cy=\"-18\" rx=\"27\" ry=\"18\"/>\n",
       "<text xml:space=\"preserve\" text-anchor=\"middle\" x=\"27\" y=\"-12.95\" font-family=\"Times,serif\" font-size=\"14.00\">R</text>\n",
       "</g>\n",
       "<!-- S&#45;&gt;R -->\n",
       "<g id=\"edge1\" class=\"edge\">\n",
       "<title>S&#45;&gt;R</title>\n",
       "<path fill=\"none\" stroke=\"red\" stroke-width=\"2\" stroke-dasharray=\"5,2\" d=\"M27,-130.75C27,-106.57 27,-73.25 27,-49.11\"/>\n",
       "<polygon fill=\"red\" stroke=\"red\" stroke-width=\"2\" points=\"23.5,-130.74 27,-140.74 30.5,-130.74 23.5,-130.74\"/>\n",
       "<polygon fill=\"red\" stroke=\"red\" stroke-width=\"2\" points=\"30.5,-49.12 27,-39.12 23.5,-49.12 30.5,-49.12\"/>\n",
       "</g>\n",
       "<!-- W -->\n",
       "<g id=\"node3\" class=\"node\">\n",
       "<title>W</title>\n",
       "<ellipse fill=\"none\" stroke=\"black\" cx=\"99\" cy=\"-90\" rx=\"27\" ry=\"18\"/>\n",
       "<text xml:space=\"preserve\" text-anchor=\"middle\" x=\"99\" y=\"-84.95\" font-family=\"Times,serif\" font-size=\"14.00\">W</text>\n",
       "</g>\n",
       "<!-- S&#45;&gt;W -->\n",
       "<g id=\"edge2\" class=\"edge\">\n",
       "<title>S&#45;&gt;W</title>\n",
       "<path fill=\"none\" stroke=\"red\" stroke-width=\"2\" d=\"M42.27,-146.73C51.72,-137.28 64.06,-124.94 74.82,-114.18\"/>\n",
       "<polygon fill=\"red\" stroke=\"red\" stroke-width=\"2\" points=\"77.02,-116.93 81.61,-107.39 72.07,-111.98 77.02,-116.93\"/>\n",
       "</g>\n",
       "<!-- R&#45;&gt;W -->\n",
       "<g id=\"edge3\" class=\"edge\">\n",
       "<title>R&#45;&gt;W</title>\n",
       "<path fill=\"none\" stroke=\"red\" stroke-width=\"2\" d=\"M42.27,-33.27C51.72,-42.72 64.06,-55.06 74.82,-65.82\"/>\n",
       "<polygon fill=\"red\" stroke=\"red\" stroke-width=\"2\" points=\"72.07,-68.02 81.61,-72.61 77.02,-63.07 72.07,-68.02\"/>\n",
       "</g>\n",
       "<!-- L -->\n",
       "<g id=\"node4\" class=\"node\">\n",
       "<title>L</title>\n",
       "<ellipse fill=\"none\" stroke=\"black\" cx=\"207\" cy=\"-90\" rx=\"27\" ry=\"18\"/>\n",
       "<text xml:space=\"preserve\" text-anchor=\"middle\" x=\"207\" y=\"-84.95\" font-family=\"Times,serif\" font-size=\"14.00\">L</text>\n",
       "</g>\n",
       "<!-- W&#45;&gt;L -->\n",
       "<g id=\"edge4\" class=\"edge\">\n",
       "<title>W&#45;&gt;L</title>\n",
       "<path fill=\"none\" stroke=\"red\" stroke-width=\"2\" d=\"M126.25,-90C138.53,-90 153.28,-90 166.79,-90\"/>\n",
       "<polygon fill=\"red\" stroke=\"red\" stroke-width=\"2\" points=\"166.73,-93.5 176.73,-90 166.73,-86.5 166.73,-93.5\"/>\n",
       "</g>\n",
       "</g>\n",
       "</svg>\n"
      ],
      "text/plain": [
       "<graphviz.sources.Source at 0x12a0c6ad0>"
      ]
     },
     "execution_count": 43,
     "metadata": {},
     "output_type": "execute_result"
    }
   ],
   "source": [
    "graph = plot_causal_diagram(result['G'], result['connectedPaths'], result['separatedPaths'], node_positions={'S': (0, 2), 'R': (0, 0), 'W': (1, 1), 'L': (2.5, 1)})\n",
    "graph"
   ]
  },
  {
   "cell_type": "markdown",
   "metadata": {},
   "source": [
    "### Example 2.18 - d-separation in non-Markovian Models (2)\n",
    "\n",
    "Here we will look at the graph in Fig. 2.17 and try to find a set that blocks all paths between $X$ and $Y$."
   ]
  },
  {
   "cell_type": "code",
   "execution_count": 44,
   "metadata": {},
   "outputs": [],
   "source": [
    "G4_task = '''\n",
    "<NODES>\n",
    "X\n",
    "T\n",
    "W\n",
    "Z\n",
    "R\n",
    "Y\n",
    "S\n",
    "\n",
    "<EDGES>\n",
    "X -> W\n",
    "T -> X\n",
    "T -> Z\n",
    "W -> Z\n",
    "Z -> Y\n",
    "R -> Y\n",
    "Y -> S\n",
    "W -- Y\n",
    "\n",
    "<TASK>\n",
    "treatment: X\n",
    "outcome: Y\n",
    "adjusted: \n",
    "'''"
   ]
  },
  {
   "cell_type": "code",
   "execution_count": 45,
   "metadata": {},
   "outputs": [],
   "source": [
    "result = listDSeparationPaths(G4_task)"
   ]
  },
  {
   "cell_type": "code",
   "execution_count": 46,
   "metadata": {},
   "outputs": [],
   "source": [
    "graph = plot_causal_diagram(result['G'], result['connectedPaths'], result['separatedPaths'])"
   ]
  },
  {
   "cell_type": "code",
   "execution_count": 47,
   "metadata": {},
   "outputs": [
    {
     "data": {
      "image/svg+xml": [
       "<?xml version=\"1.0\" encoding=\"UTF-8\" standalone=\"no\"?>\n",
       "<!DOCTYPE svg PUBLIC \"-//W3C//DTD SVG 1.1//EN\"\n",
       " \"http://www.w3.org/Graphics/SVG/1.1/DTD/svg11.dtd\">\n",
       "<!-- Generated by graphviz version 13.1.1 (0)\n",
       " -->\n",
       "<!-- Title: G Pages: 1 -->\n",
       "<svg width=\"243pt\" height=\"265pt\"\n",
       " viewBox=\"0.00 0.00 243.00 265.00\" xmlns=\"http://www.w3.org/2000/svg\" xmlns:xlink=\"http://www.w3.org/1999/xlink\">\n",
       "<g id=\"graph0\" class=\"graph\" transform=\"scale(1 1) rotate(0) translate(4 260.94)\">\n",
       "<title>G</title>\n",
       "<polygon fill=\"white\" stroke=\"none\" points=\"-4,4 -4,-260.94 238.68,-260.94 238.68,4 -4,4\"/>\n",
       "<!-- X -->\n",
       "<g id=\"node1\" class=\"node\">\n",
       "<title>X</title>\n",
       "<ellipse fill=\"none\" stroke=\"black\" cx=\"27\" cy=\"-202.28\" rx=\"27\" ry=\"18\"/>\n",
       "<text xml:space=\"preserve\" text-anchor=\"middle\" x=\"27\" y=\"-197.23\" font-family=\"Times,serif\" font-size=\"14.00\">X</text>\n",
       "</g>\n",
       "<!-- W -->\n",
       "<g id=\"node3\" class=\"node\">\n",
       "<title>W</title>\n",
       "<ellipse fill=\"none\" stroke=\"black\" cx=\"65.32\" cy=\"-133.86\" rx=\"27\" ry=\"18\"/>\n",
       "<text xml:space=\"preserve\" text-anchor=\"middle\" x=\"65.32\" y=\"-128.81\" font-family=\"Times,serif\" font-size=\"14.00\">W</text>\n",
       "</g>\n",
       "<!-- X&#45;&gt;W -->\n",
       "<g id=\"edge1\" class=\"edge\">\n",
       "<title>X&#45;&gt;W</title>\n",
       "<path fill=\"none\" stroke=\"red\" stroke-width=\"2\" d=\"M36.67,-185.02C40.56,-178.08 45.14,-169.89 49.49,-162.13\"/>\n",
       "<polygon fill=\"red\" stroke=\"red\" stroke-width=\"2\" points=\"52.47,-163.96 54.3,-153.53 46.36,-160.54 52.47,-163.96\"/>\n",
       "</g>\n",
       "<!-- T -->\n",
       "<g id=\"node2\" class=\"node\">\n",
       "<title>T</title>\n",
       "<ellipse fill=\"none\" stroke=\"black\" cx=\"94.9\" cy=\"-238.94\" rx=\"27\" ry=\"18\"/>\n",
       "<text xml:space=\"preserve\" text-anchor=\"middle\" x=\"94.9\" y=\"-233.89\" font-family=\"Times,serif\" font-size=\"14.00\">T</text>\n",
       "</g>\n",
       "<!-- T&#45;&gt;X -->\n",
       "<g id=\"edge2\" class=\"edge\">\n",
       "<title>T&#45;&gt;X</title>\n",
       "<path fill=\"none\" stroke=\"red\" stroke-width=\"2\" d=\"M73.79,-227.54C69.24,-225.08 64.32,-222.43 59.44,-219.8\"/>\n",
       "<polygon fill=\"red\" stroke=\"red\" stroke-width=\"2\" points=\"61.46,-216.91 51,-215.24 58.14,-223.07 61.46,-216.91\"/>\n",
       "</g>\n",
       "<!-- Z -->\n",
       "<g id=\"node4\" class=\"node\">\n",
       "<title>Z</title>\n",
       "<ellipse fill=\"none\" stroke=\"black\" cx=\"130.07\" cy=\"-169.07\" rx=\"27\" ry=\"18\"/>\n",
       "<text xml:space=\"preserve\" text-anchor=\"middle\" x=\"130.07\" y=\"-164.02\" font-family=\"Times,serif\" font-size=\"14.00\">Z</text>\n",
       "</g>\n",
       "<!-- T&#45;&gt;Z -->\n",
       "<g id=\"edge3\" class=\"edge\">\n",
       "<title>T&#45;&gt;Z</title>\n",
       "<path fill=\"none\" stroke=\"red\" stroke-width=\"2\" d=\"M103.6,-221.67C107.26,-214.39 111.62,-205.73 115.73,-197.55\"/>\n",
       "<polygon fill=\"red\" stroke=\"red\" stroke-width=\"2\" points=\"118.74,-199.35 120.11,-188.85 112.49,-196.21 118.74,-199.35\"/>\n",
       "</g>\n",
       "<!-- W&#45;&gt;Z -->\n",
       "<g id=\"edge4\" class=\"edge\">\n",
       "<title>W&#45;&gt;Z</title>\n",
       "<path fill=\"none\" stroke=\"red\" stroke-width=\"2\" d=\"M86.52,-145.39C90.13,-147.36 93.96,-149.44 97.78,-151.52\"/>\n",
       "<polygon fill=\"red\" stroke=\"red\" stroke-width=\"2\" points=\"95.92,-154.49 106.38,-156.19 99.27,-148.34 95.92,-154.49\"/>\n",
       "</g>\n",
       "<!-- Y -->\n",
       "<g id=\"node6\" class=\"node\">\n",
       "<title>Y</title>\n",
       "<ellipse fill=\"none\" stroke=\"black\" cx=\"129.8\" cy=\"-93.09\" rx=\"27\" ry=\"18\"/>\n",
       "<text xml:space=\"preserve\" text-anchor=\"middle\" x=\"129.8\" y=\"-88.04\" font-family=\"Times,serif\" font-size=\"14.00\">Y</text>\n",
       "</g>\n",
       "<!-- W&#45;&gt;Y -->\n",
       "<g id=\"edge5\" class=\"edge\">\n",
       "<title>W&#45;&gt;Y</title>\n",
       "<path fill=\"none\" stroke=\"lightgreen\" stroke-width=\"2\" stroke-dasharray=\"5,2\" d=\"M95.8,-114.59C96.84,-113.93 97.88,-113.27 98.92,-112.61\"/>\n",
       "<polygon fill=\"lightgreen\" stroke=\"lightgreen\" stroke-width=\"2\" points=\"94.15,-111.49 87.57,-119.79 97.89,-117.4 94.15,-111.49\"/>\n",
       "<polygon fill=\"lightgreen\" stroke=\"lightgreen\" stroke-width=\"2\" points=\"100.64,-115.67 107.22,-107.37 96.9,-109.75 100.64,-115.67\"/>\n",
       "</g>\n",
       "<!-- Z&#45;&gt;Y -->\n",
       "<g id=\"edge6\" class=\"edge\">\n",
       "<title>Z&#45;&gt;Y</title>\n",
       "<path fill=\"none\" stroke=\"red\" stroke-width=\"2\" d=\"M130,-150.68C129.98,-142.8 129.94,-133.38 129.91,-124.46\"/>\n",
       "<polygon fill=\"red\" stroke=\"red\" stroke-width=\"2\" points=\"133.41,-124.59 129.88,-114.6 126.41,-124.61 133.41,-124.59\"/>\n",
       "</g>\n",
       "<!-- R -->\n",
       "<g id=\"node5\" class=\"node\">\n",
       "<title>R</title>\n",
       "<ellipse fill=\"none\" stroke=\"black\" cx=\"207.68\" cy=\"-75.99\" rx=\"27\" ry=\"18\"/>\n",
       "<text xml:space=\"preserve\" text-anchor=\"middle\" x=\"207.68\" y=\"-70.94\" font-family=\"Times,serif\" font-size=\"14.00\">R</text>\n",
       "</g>\n",
       "<!-- R&#45;&gt;Y -->\n",
       "<g id=\"edge7\" class=\"edge\">\n",
       "<title>R&#45;&gt;Y</title>\n",
       "<path fill=\"none\" stroke=\"black\" d=\"M181.75,-81.68C176.94,-82.74 171.83,-83.86 166.77,-84.97\"/>\n",
       "<polygon fill=\"black\" stroke=\"black\" points=\"166.38,-81.47 157.36,-87.04 167.88,-88.31 166.38,-81.47\"/>\n",
       "</g>\n",
       "<!-- S -->\n",
       "<g id=\"node7\" class=\"node\">\n",
       "<title>S</title>\n",
       "<ellipse fill=\"none\" stroke=\"black\" cx=\"103.55\" cy=\"-18\" rx=\"27\" ry=\"18\"/>\n",
       "<text xml:space=\"preserve\" text-anchor=\"middle\" x=\"103.55\" y=\"-12.95\" font-family=\"Times,serif\" font-size=\"14.00\">S</text>\n",
       "</g>\n",
       "<!-- Y&#45;&gt;S -->\n",
       "<g id=\"edge8\" class=\"edge\">\n",
       "<title>Y&#45;&gt;S</title>\n",
       "<path fill=\"none\" stroke=\"black\" d=\"M123.58,-75.29C120.59,-66.75 116.94,-56.31 113.58,-46.68\"/>\n",
       "<polygon fill=\"black\" stroke=\"black\" points=\"116.92,-45.64 110.32,-37.36 110.31,-47.95 116.92,-45.64\"/>\n",
       "</g>\n",
       "</g>\n",
       "</svg>\n"
      ],
      "text/plain": [
       "<graphviz.sources.Source at 0x12a0c7070>"
      ]
     },
     "execution_count": 47,
     "metadata": {},
     "output_type": "execute_result"
    }
   ],
   "source": [
    "graph"
   ]
  },
  {
   "cell_type": "markdown",
   "metadata": {},
   "source": [
    "Note, $Z = {T}$ will block paths except $X \\to W \\to Z \\to Y$. Blocking it requires $W$ or $Z$ to be in $\\mathbf{Z}$, but $X \\leftarrow T \\to Z \\leftarrow W <-> Y$ will be unblocked in both cases. After all, there is no set $\\mathbf{Z}$ that d-separates X and Y in this diagram."
   ]
  }
 ],
 "metadata": {
  "kernelspec": {
   "display_name": "book",
   "language": "python",
   "name": "python3"
  },
  "language_info": {
   "codemirror_mode": {
    "name": "ipython",
    "version": 3
   },
   "file_extension": ".py",
   "mimetype": "text/x-python",
   "name": "python",
   "nbconvert_exporter": "python",
   "pygments_lexer": "ipython3",
   "version": "3.10.18"
  }
 },
 "nbformat": 4,
 "nbformat_minor": 2
}
