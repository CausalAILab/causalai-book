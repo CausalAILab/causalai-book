{
 "cells": [
  {
   "cell_type": "code",
   "execution_count": 14,
   "id": "934750c8",
   "metadata": {},
   "outputs": [],
   "source": [
    "import scm\n",
    "import sympy as sp"
   ]
  },
  {
   "cell_type": "code",
   "execution_count": 15,
   "id": "6f222bb7",
   "metadata": {},
   "outputs": [],
   "source": [
    "s,s0, x,x0, y, u1, u2, u3, u01, u02 = sp.symbols('s s0 x x0 y u1 u2 u3 u01 u03')"
   ]
  },
  {
   "cell_type": "code",
   "execution_count": 24,
   "id": "7577731a",
   "metadata": {},
   "outputs": [],
   "source": [
    "cv = (0,0)"
   ]
  },
  {
   "cell_type": "markdown",
   "id": "830b91b6",
   "metadata": {},
   "source": []
  },
  {
   "cell_type": "code",
   "execution_count": 25,
   "id": "a16cf30c",
   "metadata": {},
   "outputs": [],
   "source": [
    "model = scm.SymbolicSCM(\n",
    "    f = {\n",
    "        s0: cv[0],\n",
    "        x0: cv[1],\n",
    "        s: (x0 & s0) ^ u01 ^ u02,\n",
    "        x: (s) ^ u1,\n",
    "        y: s ^ x ^ u1 ^ u3\n",
    "    },\n",
    "    pu={\n",
    "        u1: .9,\n",
    "        u2: .1,\n",
    "        u3: .1,\n",
    "        u01: .9,\n",
    "        u02: .1\n",
    "    }\n",
    ")"
   ]
  },
  {
   "cell_type": "code",
   "execution_count": 26,
   "id": "f1a67725",
   "metadata": {},
   "outputs": [
    {
     "data": {
      "text/plain": [
       "0.9"
      ]
     },
     "execution_count": 26,
     "metadata": {},
     "output_type": "execute_result"
    }
   ],
   "source": [
    "model.query({y:0},given={x:1,s:1})"
   ]
  },
  {
   "cell_type": "code",
   "execution_count": null,
   "id": "9e484aa9",
   "metadata": {},
   "outputs": [],
   "source": []
  }
 ],
 "metadata": {
  "kernelspec": {
   "display_name": "pyML",
   "language": "python",
   "name": "python3"
  },
  "language_info": {
   "codemirror_mode": {
    "name": "ipython",
    "version": 3
   },
   "file_extension": ".py",
   "mimetype": "text/x-python",
   "name": "python",
   "nbconvert_exporter": "python",
   "pygments_lexer": "ipython3",
   "version": "3.11.8"
  }
 },
 "nbformat": 4,
 "nbformat_minor": 5
}
