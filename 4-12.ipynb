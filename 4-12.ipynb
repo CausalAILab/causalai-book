{
 "cells": [
  {
   "cell_type": "code",
   "execution_count": 1,
   "metadata": {},
   "outputs": [],
   "source": [
    "# Importing the necessary libraries and modules for causal inference\n",
    "from src.fusion import *\n",
    "\n",
    "from src.graph.classes.graph import Graph\n",
    "from src.inference.utils.graph_utils import GraphUtils as gu\n",
    "\n",
    "from src.inference.classes.causal_query import CausalQuery\n",
    "\n",
    "from src.inference.engines.backdoor_engine import BackdoorEngine\n",
    "from src.adjustment.backdoor_adjustment import BackdoorAdjustment as BD\n",
    "\n",
    "from src.utils import plot_causal_diagram\n",
    "\n",
    "from src.inference.utils.expression_utils import ExpressionUtils as eu\n",
    "from IPython.display import display, Latex"
   ]
  },
  {
   "cell_type": "code",
   "execution_count": 4,
   "metadata": {},
   "outputs": [],
   "source": [
    "G = '''\n",
    "<NODES>\n",
    "X\n",
    "Y\n",
    "Z1\n",
    "Z2\n",
    "Z3\n",
    "Z4\n",
    "Z5\n",
    "Z6\n",
    "Z7\n",
    "\n",
    "<EDGES>\n",
    "X -> Z1\n",
    "X -> Z4\n",
    "Z1 -> Y\n",
    "Z2 -> X\n",
    "Z2 -> Z5\n",
    "Z3 -> Y\n",
    "Z4 -> Z3\n",
    "Z5 -> Y\n",
    "Z6 -> Z2\n",
    "Z6 -> Z5\n",
    "Z7 -> Z5\n",
    "Z7 -> Y\n",
    "X -- Z6\n",
    "Z6 -- Z7\n",
    "'''"
   ]
  },
  {
   "cell_type": "code",
   "execution_count": 5,
   "metadata": {},
   "outputs": [],
   "source": [
    "G = parseGraph(G)"
   ]
  },
  {
   "cell_type": "code",
   "execution_count": 8,
   "metadata": {},
   "outputs": [
    {
     "data": {
      "text/plain": [
       "14"
      ]
     },
     "execution_count": 8,
     "metadata": {},
     "output_type": "execute_result"
    }
   ],
   "source": [
    "len(G.edges)"
   ]
  },
  {
   "cell_type": "code",
   "execution_count": 9,
   "metadata": {},
   "outputs": [],
   "source": [
    "X = gu.getNodesByName(['X'], G)\n",
    "Y = gu.getNodesByName(['Y'], G)"
   ]
  },
  {
   "cell_type": "code",
   "execution_count": 10,
   "metadata": {},
   "outputs": [],
   "source": [
    "bd_sets = BD.listAdmissibleSets(G, X, Y)"
   ]
  },
  {
   "cell_type": "code",
   "execution_count": 11,
   "metadata": {},
   "outputs": [
    {
     "data": {
      "text/plain": [
       "[['Z5', 'Z7']]"
      ]
     },
     "execution_count": 11,
     "metadata": {},
     "output_type": "execute_result"
    }
   ],
   "source": [
    "bd_sets"
   ]
  },
  {
   "cell_type": "code",
   "execution_count": null,
   "metadata": {},
   "outputs": [],
   "source": []
  }
 ],
 "metadata": {
  "kernelspec": {
   "display_name": "ctf-kevin",
   "language": "python",
   "name": "python3"
  },
  "language_info": {
   "codemirror_mode": {
    "name": "ipython",
    "version": 3
   },
   "file_extension": ".py",
   "mimetype": "text/x-python",
   "name": "python",
   "nbconvert_exporter": "python",
   "pygments_lexer": "ipython3",
   "version": "3.8.19"
  }
 },
 "nbformat": 4,
 "nbformat_minor": 2
}
